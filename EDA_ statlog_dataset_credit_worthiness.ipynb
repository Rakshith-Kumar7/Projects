{
  "nbformat": 4,
  "nbformat_minor": 0,
  "metadata": {
    "colab": {
      "name": "Rakshith_EDA_Project.ipynb",
      "provenance": [],
      "collapsed_sections": []
    },
    "kernelspec": {
      "name": "python3",
      "display_name": "Python 3"
    },
    "language_info": {
      "name": "python"
    }
  },
  "cells": [
    {
      "cell_type": "markdown",
      "source": [
        "#**Context**"
      ],
      "metadata": {
        "id": "M4ZekrzAE9g3"
      }
    },
    {
      "cell_type": "markdown",
      "source": [
        "The dataset is based on the “Statlog Dataset” from the UCI Machine Learning Repository\n",
        "\n",
        "\n",
        "In this dataset, each entry represents a person who takes a credit by a bank.\n",
        "\n",
        " Each person is classified as good or bad credit risks according to the set of attributes.\n",
        "\n",
        " When a bank receives a loan application, based on the applicant’s profile the bank has to make a decision regarding whether to go ahead with the loan approval or not.\n",
        " \n",
        "  Two types of risks are associated with the bank’s decision –\n",
        "\n",
        "If the applicant is a good credit risk, i.e. is likely to repay the loan, then not approving the loan to the person results in a loss of business to the bank\n",
        "\n",
        "\n",
        "If the applicant is a bad credit risk, i.e. is not likely to repay the loan, then approving the loan to the person results in a financial loss to the bank\n",
        "\n",
        "To minimize loss from the bank’s perspective, the bank needs a decision rule regarding who to give approval of the loan and who not to.\n",
        "\n",
        " An applicant’s demographic and socio-economic profiles are considered by loan managers before a decision is taken regarding his/her loan application."
      ],
      "metadata": {
        "id": "mc0g-tEvFmQU"
      }
    },
    {
      "cell_type": "markdown",
      "source": [
        "##**Dataset Description:**\n",
        "\n",
        "Columns of the dataset and their meaning are as follows;\n",
        "\n",
        "* Age (numeric)\n",
        "* Sex (text: male, female)\n",
        "\n",
        "* Job (numeric: 0 - unskilled and non-resident, 1 - unskilled and resident, 2 - skilled, 3 - highly skilled)\n",
        "\n",
        "* Housing (text: own, rent, or free)\n",
        "\n",
        "* Saving accounts (text - little, moderate, quite rich, rich)\n",
        "\n",
        "* Checking account (text - little, moderate, rich)\n",
        "\n",
        "* Credit amount (numeric, in Deutsche Mark)\n",
        "\n",
        "* Duration (numeric, in month)\n",
        "\n",
        "* Purpose (text: car, furniture/equipment, radio/TV, domestic appliances, repairs, education, business, vacation/others\n",
        "\n",
        "\n"
      ],
      "metadata": {
        "id": "BKeM49fxGxaI"
      }
    },
    {
      "cell_type": "code",
      "execution_count": 261,
      "metadata": {
        "id": "wcBF3U2IPuaW"
      },
      "outputs": [],
      "source": [
        "import pandas as pd # importing required librery\n",
        "import numpy as np\n",
        "import matplotlib.pyplot as plt\n",
        "import seaborn as sns\n",
        "from scipy import stats"
      ]
    },
    {
      "cell_type": "code",
      "source": [
        "df = pd.read_csv(\"EDA_week_1_mandatory_german_Credit.csv\") # reading file"
      ],
      "metadata": {
        "id": "iQ3Vj3n0QO1k"
      },
      "execution_count": 262,
      "outputs": []
    },
    {
      "cell_type": "code",
      "source": [
        "df.shape # checking size of the data set"
      ],
      "metadata": {
        "colab": {
          "base_uri": "https://localhost:8080/"
        },
        "id": "BZS_mcDKRfZM",
        "outputId": "838fdcb1-f969-4d04-d843-856f39260e5f"
      },
      "execution_count": 263,
      "outputs": [
        {
          "output_type": "execute_result",
          "data": {
            "text/plain": [
              "(1000, 10)"
            ]
          },
          "metadata": {},
          "execution_count": 263
        }
      ]
    },
    {
      "cell_type": "code",
      "source": [
        "df.head(10) # showing 1st 10 rows"
      ],
      "metadata": {
        "colab": {
          "base_uri": "https://localhost:8080/",
          "height": 363
        },
        "id": "LHUSts_IQhiq",
        "outputId": "325fb9bd-dca4-4b79-8b27-31eafb3e60bd"
      },
      "execution_count": 264,
      "outputs": [
        {
          "output_type": "execute_result",
          "data": {
            "text/plain": [
              "   Unnamed: 0  Age     Sex  Job Housing Saving accounts Checking account  \\\n",
              "0           0   67    male    2     own             NaN           little   \n",
              "1           1   22  female    2     own          little         moderate   \n",
              "2           2   49    male    1     own          little              NaN   \n",
              "3           3   45    male    2    free          little           little   \n",
              "4           4   53    male    2    free          little           little   \n",
              "5           5   35    male    1    free             NaN              NaN   \n",
              "6           6   53    male    2     own      quite rich              NaN   \n",
              "7           7   35    male    3    rent          little         moderate   \n",
              "8           8   61    male    1     own            rich              NaN   \n",
              "9           9   28    male    3     own          little         moderate   \n",
              "\n",
              "   Credit amount  Duration              Purpose  \n",
              "0           1169         6             radio/TV  \n",
              "1           5951        48             radio/TV  \n",
              "2           2096        12            education  \n",
              "3           7882        42  furniture/equipment  \n",
              "4           4870        24                  car  \n",
              "5           9055        36            education  \n",
              "6           2835        24  furniture/equipment  \n",
              "7           6948        36                  car  \n",
              "8           3059        12             radio/TV  \n",
              "9           5234        30                  car  "
            ],
            "text/html": [
              "\n",
              "  <div id=\"df-449f62a2-ae42-4ad8-b698-f9bfe41bb4dc\">\n",
              "    <div class=\"colab-df-container\">\n",
              "      <div>\n",
              "<style scoped>\n",
              "    .dataframe tbody tr th:only-of-type {\n",
              "        vertical-align: middle;\n",
              "    }\n",
              "\n",
              "    .dataframe tbody tr th {\n",
              "        vertical-align: top;\n",
              "    }\n",
              "\n",
              "    .dataframe thead th {\n",
              "        text-align: right;\n",
              "    }\n",
              "</style>\n",
              "<table border=\"1\" class=\"dataframe\">\n",
              "  <thead>\n",
              "    <tr style=\"text-align: right;\">\n",
              "      <th></th>\n",
              "      <th>Unnamed: 0</th>\n",
              "      <th>Age</th>\n",
              "      <th>Sex</th>\n",
              "      <th>Job</th>\n",
              "      <th>Housing</th>\n",
              "      <th>Saving accounts</th>\n",
              "      <th>Checking account</th>\n",
              "      <th>Credit amount</th>\n",
              "      <th>Duration</th>\n",
              "      <th>Purpose</th>\n",
              "    </tr>\n",
              "  </thead>\n",
              "  <tbody>\n",
              "    <tr>\n",
              "      <th>0</th>\n",
              "      <td>0</td>\n",
              "      <td>67</td>\n",
              "      <td>male</td>\n",
              "      <td>2</td>\n",
              "      <td>own</td>\n",
              "      <td>NaN</td>\n",
              "      <td>little</td>\n",
              "      <td>1169</td>\n",
              "      <td>6</td>\n",
              "      <td>radio/TV</td>\n",
              "    </tr>\n",
              "    <tr>\n",
              "      <th>1</th>\n",
              "      <td>1</td>\n",
              "      <td>22</td>\n",
              "      <td>female</td>\n",
              "      <td>2</td>\n",
              "      <td>own</td>\n",
              "      <td>little</td>\n",
              "      <td>moderate</td>\n",
              "      <td>5951</td>\n",
              "      <td>48</td>\n",
              "      <td>radio/TV</td>\n",
              "    </tr>\n",
              "    <tr>\n",
              "      <th>2</th>\n",
              "      <td>2</td>\n",
              "      <td>49</td>\n",
              "      <td>male</td>\n",
              "      <td>1</td>\n",
              "      <td>own</td>\n",
              "      <td>little</td>\n",
              "      <td>NaN</td>\n",
              "      <td>2096</td>\n",
              "      <td>12</td>\n",
              "      <td>education</td>\n",
              "    </tr>\n",
              "    <tr>\n",
              "      <th>3</th>\n",
              "      <td>3</td>\n",
              "      <td>45</td>\n",
              "      <td>male</td>\n",
              "      <td>2</td>\n",
              "      <td>free</td>\n",
              "      <td>little</td>\n",
              "      <td>little</td>\n",
              "      <td>7882</td>\n",
              "      <td>42</td>\n",
              "      <td>furniture/equipment</td>\n",
              "    </tr>\n",
              "    <tr>\n",
              "      <th>4</th>\n",
              "      <td>4</td>\n",
              "      <td>53</td>\n",
              "      <td>male</td>\n",
              "      <td>2</td>\n",
              "      <td>free</td>\n",
              "      <td>little</td>\n",
              "      <td>little</td>\n",
              "      <td>4870</td>\n",
              "      <td>24</td>\n",
              "      <td>car</td>\n",
              "    </tr>\n",
              "    <tr>\n",
              "      <th>5</th>\n",
              "      <td>5</td>\n",
              "      <td>35</td>\n",
              "      <td>male</td>\n",
              "      <td>1</td>\n",
              "      <td>free</td>\n",
              "      <td>NaN</td>\n",
              "      <td>NaN</td>\n",
              "      <td>9055</td>\n",
              "      <td>36</td>\n",
              "      <td>education</td>\n",
              "    </tr>\n",
              "    <tr>\n",
              "      <th>6</th>\n",
              "      <td>6</td>\n",
              "      <td>53</td>\n",
              "      <td>male</td>\n",
              "      <td>2</td>\n",
              "      <td>own</td>\n",
              "      <td>quite rich</td>\n",
              "      <td>NaN</td>\n",
              "      <td>2835</td>\n",
              "      <td>24</td>\n",
              "      <td>furniture/equipment</td>\n",
              "    </tr>\n",
              "    <tr>\n",
              "      <th>7</th>\n",
              "      <td>7</td>\n",
              "      <td>35</td>\n",
              "      <td>male</td>\n",
              "      <td>3</td>\n",
              "      <td>rent</td>\n",
              "      <td>little</td>\n",
              "      <td>moderate</td>\n",
              "      <td>6948</td>\n",
              "      <td>36</td>\n",
              "      <td>car</td>\n",
              "    </tr>\n",
              "    <tr>\n",
              "      <th>8</th>\n",
              "      <td>8</td>\n",
              "      <td>61</td>\n",
              "      <td>male</td>\n",
              "      <td>1</td>\n",
              "      <td>own</td>\n",
              "      <td>rich</td>\n",
              "      <td>NaN</td>\n",
              "      <td>3059</td>\n",
              "      <td>12</td>\n",
              "      <td>radio/TV</td>\n",
              "    </tr>\n",
              "    <tr>\n",
              "      <th>9</th>\n",
              "      <td>9</td>\n",
              "      <td>28</td>\n",
              "      <td>male</td>\n",
              "      <td>3</td>\n",
              "      <td>own</td>\n",
              "      <td>little</td>\n",
              "      <td>moderate</td>\n",
              "      <td>5234</td>\n",
              "      <td>30</td>\n",
              "      <td>car</td>\n",
              "    </tr>\n",
              "  </tbody>\n",
              "</table>\n",
              "</div>\n",
              "      <button class=\"colab-df-convert\" onclick=\"convertToInteractive('df-449f62a2-ae42-4ad8-b698-f9bfe41bb4dc')\"\n",
              "              title=\"Convert this dataframe to an interactive table.\"\n",
              "              style=\"display:none;\">\n",
              "        \n",
              "  <svg xmlns=\"http://www.w3.org/2000/svg\" height=\"24px\"viewBox=\"0 0 24 24\"\n",
              "       width=\"24px\">\n",
              "    <path d=\"M0 0h24v24H0V0z\" fill=\"none\"/>\n",
              "    <path d=\"M18.56 5.44l.94 2.06.94-2.06 2.06-.94-2.06-.94-.94-2.06-.94 2.06-2.06.94zm-11 1L8.5 8.5l.94-2.06 2.06-.94-2.06-.94L8.5 2.5l-.94 2.06-2.06.94zm10 10l.94 2.06.94-2.06 2.06-.94-2.06-.94-.94-2.06-.94 2.06-2.06.94z\"/><path d=\"M17.41 7.96l-1.37-1.37c-.4-.4-.92-.59-1.43-.59-.52 0-1.04.2-1.43.59L10.3 9.45l-7.72 7.72c-.78.78-.78 2.05 0 2.83L4 21.41c.39.39.9.59 1.41.59.51 0 1.02-.2 1.41-.59l7.78-7.78 2.81-2.81c.8-.78.8-2.07 0-2.86zM5.41 20L4 18.59l7.72-7.72 1.47 1.35L5.41 20z\"/>\n",
              "  </svg>\n",
              "      </button>\n",
              "      \n",
              "  <style>\n",
              "    .colab-df-container {\n",
              "      display:flex;\n",
              "      flex-wrap:wrap;\n",
              "      gap: 12px;\n",
              "    }\n",
              "\n",
              "    .colab-df-convert {\n",
              "      background-color: #E8F0FE;\n",
              "      border: none;\n",
              "      border-radius: 50%;\n",
              "      cursor: pointer;\n",
              "      display: none;\n",
              "      fill: #1967D2;\n",
              "      height: 32px;\n",
              "      padding: 0 0 0 0;\n",
              "      width: 32px;\n",
              "    }\n",
              "\n",
              "    .colab-df-convert:hover {\n",
              "      background-color: #E2EBFA;\n",
              "      box-shadow: 0px 1px 2px rgba(60, 64, 67, 0.3), 0px 1px 3px 1px rgba(60, 64, 67, 0.15);\n",
              "      fill: #174EA6;\n",
              "    }\n",
              "\n",
              "    [theme=dark] .colab-df-convert {\n",
              "      background-color: #3B4455;\n",
              "      fill: #D2E3FC;\n",
              "    }\n",
              "\n",
              "    [theme=dark] .colab-df-convert:hover {\n",
              "      background-color: #434B5C;\n",
              "      box-shadow: 0px 1px 3px 1px rgba(0, 0, 0, 0.15);\n",
              "      filter: drop-shadow(0px 1px 2px rgba(0, 0, 0, 0.3));\n",
              "      fill: #FFFFFF;\n",
              "    }\n",
              "  </style>\n",
              "\n",
              "      <script>\n",
              "        const buttonEl =\n",
              "          document.querySelector('#df-449f62a2-ae42-4ad8-b698-f9bfe41bb4dc button.colab-df-convert');\n",
              "        buttonEl.style.display =\n",
              "          google.colab.kernel.accessAllowed ? 'block' : 'none';\n",
              "\n",
              "        async function convertToInteractive(key) {\n",
              "          const element = document.querySelector('#df-449f62a2-ae42-4ad8-b698-f9bfe41bb4dc');\n",
              "          const dataTable =\n",
              "            await google.colab.kernel.invokeFunction('convertToInteractive',\n",
              "                                                     [key], {});\n",
              "          if (!dataTable) return;\n",
              "\n",
              "          const docLinkHtml = 'Like what you see? Visit the ' +\n",
              "            '<a target=\"_blank\" href=https://colab.research.google.com/notebooks/data_table.ipynb>data table notebook</a>'\n",
              "            + ' to learn more about interactive tables.';\n",
              "          element.innerHTML = '';\n",
              "          dataTable['output_type'] = 'display_data';\n",
              "          await google.colab.output.renderOutput(dataTable, element);\n",
              "          const docLink = document.createElement('div');\n",
              "          docLink.innerHTML = docLinkHtml;\n",
              "          element.appendChild(docLink);\n",
              "        }\n",
              "      </script>\n",
              "    </div>\n",
              "  </div>\n",
              "  "
            ]
          },
          "metadata": {},
          "execution_count": 264
        }
      ]
    },
    {
      "cell_type": "code",
      "source": [
        "df.tail()"
      ],
      "metadata": {
        "colab": {
          "base_uri": "https://localhost:8080/",
          "height": 206
        },
        "id": "RH54jyJ6RaRm",
        "outputId": "feb7d49d-739a-4f65-da75-e381955c26a3"
      },
      "execution_count": 265,
      "outputs": [
        {
          "output_type": "execute_result",
          "data": {
            "text/plain": [
              "     Unnamed: 0  Age     Sex  Job Housing Saving accounts Checking account  \\\n",
              "995         995   31  female    1     own          little              NaN   \n",
              "996         996   40    male    3     own          little           little   \n",
              "997         997   38    male    2     own          little              NaN   \n",
              "998         998   23    male    2    free          little           little   \n",
              "999         999   27    male    2     own        moderate         moderate   \n",
              "\n",
              "     Credit amount  Duration              Purpose  \n",
              "995           1736        12  furniture/equipment  \n",
              "996           3857        30                  car  \n",
              "997            804        12             radio/TV  \n",
              "998           1845        45             radio/TV  \n",
              "999           4576        45                  car  "
            ],
            "text/html": [
              "\n",
              "  <div id=\"df-b5348c6f-6d2b-4ba0-bb97-befac4ce5f23\">\n",
              "    <div class=\"colab-df-container\">\n",
              "      <div>\n",
              "<style scoped>\n",
              "    .dataframe tbody tr th:only-of-type {\n",
              "        vertical-align: middle;\n",
              "    }\n",
              "\n",
              "    .dataframe tbody tr th {\n",
              "        vertical-align: top;\n",
              "    }\n",
              "\n",
              "    .dataframe thead th {\n",
              "        text-align: right;\n",
              "    }\n",
              "</style>\n",
              "<table border=\"1\" class=\"dataframe\">\n",
              "  <thead>\n",
              "    <tr style=\"text-align: right;\">\n",
              "      <th></th>\n",
              "      <th>Unnamed: 0</th>\n",
              "      <th>Age</th>\n",
              "      <th>Sex</th>\n",
              "      <th>Job</th>\n",
              "      <th>Housing</th>\n",
              "      <th>Saving accounts</th>\n",
              "      <th>Checking account</th>\n",
              "      <th>Credit amount</th>\n",
              "      <th>Duration</th>\n",
              "      <th>Purpose</th>\n",
              "    </tr>\n",
              "  </thead>\n",
              "  <tbody>\n",
              "    <tr>\n",
              "      <th>995</th>\n",
              "      <td>995</td>\n",
              "      <td>31</td>\n",
              "      <td>female</td>\n",
              "      <td>1</td>\n",
              "      <td>own</td>\n",
              "      <td>little</td>\n",
              "      <td>NaN</td>\n",
              "      <td>1736</td>\n",
              "      <td>12</td>\n",
              "      <td>furniture/equipment</td>\n",
              "    </tr>\n",
              "    <tr>\n",
              "      <th>996</th>\n",
              "      <td>996</td>\n",
              "      <td>40</td>\n",
              "      <td>male</td>\n",
              "      <td>3</td>\n",
              "      <td>own</td>\n",
              "      <td>little</td>\n",
              "      <td>little</td>\n",
              "      <td>3857</td>\n",
              "      <td>30</td>\n",
              "      <td>car</td>\n",
              "    </tr>\n",
              "    <tr>\n",
              "      <th>997</th>\n",
              "      <td>997</td>\n",
              "      <td>38</td>\n",
              "      <td>male</td>\n",
              "      <td>2</td>\n",
              "      <td>own</td>\n",
              "      <td>little</td>\n",
              "      <td>NaN</td>\n",
              "      <td>804</td>\n",
              "      <td>12</td>\n",
              "      <td>radio/TV</td>\n",
              "    </tr>\n",
              "    <tr>\n",
              "      <th>998</th>\n",
              "      <td>998</td>\n",
              "      <td>23</td>\n",
              "      <td>male</td>\n",
              "      <td>2</td>\n",
              "      <td>free</td>\n",
              "      <td>little</td>\n",
              "      <td>little</td>\n",
              "      <td>1845</td>\n",
              "      <td>45</td>\n",
              "      <td>radio/TV</td>\n",
              "    </tr>\n",
              "    <tr>\n",
              "      <th>999</th>\n",
              "      <td>999</td>\n",
              "      <td>27</td>\n",
              "      <td>male</td>\n",
              "      <td>2</td>\n",
              "      <td>own</td>\n",
              "      <td>moderate</td>\n",
              "      <td>moderate</td>\n",
              "      <td>4576</td>\n",
              "      <td>45</td>\n",
              "      <td>car</td>\n",
              "    </tr>\n",
              "  </tbody>\n",
              "</table>\n",
              "</div>\n",
              "      <button class=\"colab-df-convert\" onclick=\"convertToInteractive('df-b5348c6f-6d2b-4ba0-bb97-befac4ce5f23')\"\n",
              "              title=\"Convert this dataframe to an interactive table.\"\n",
              "              style=\"display:none;\">\n",
              "        \n",
              "  <svg xmlns=\"http://www.w3.org/2000/svg\" height=\"24px\"viewBox=\"0 0 24 24\"\n",
              "       width=\"24px\">\n",
              "    <path d=\"M0 0h24v24H0V0z\" fill=\"none\"/>\n",
              "    <path d=\"M18.56 5.44l.94 2.06.94-2.06 2.06-.94-2.06-.94-.94-2.06-.94 2.06-2.06.94zm-11 1L8.5 8.5l.94-2.06 2.06-.94-2.06-.94L8.5 2.5l-.94 2.06-2.06.94zm10 10l.94 2.06.94-2.06 2.06-.94-2.06-.94-.94-2.06-.94 2.06-2.06.94z\"/><path d=\"M17.41 7.96l-1.37-1.37c-.4-.4-.92-.59-1.43-.59-.52 0-1.04.2-1.43.59L10.3 9.45l-7.72 7.72c-.78.78-.78 2.05 0 2.83L4 21.41c.39.39.9.59 1.41.59.51 0 1.02-.2 1.41-.59l7.78-7.78 2.81-2.81c.8-.78.8-2.07 0-2.86zM5.41 20L4 18.59l7.72-7.72 1.47 1.35L5.41 20z\"/>\n",
              "  </svg>\n",
              "      </button>\n",
              "      \n",
              "  <style>\n",
              "    .colab-df-container {\n",
              "      display:flex;\n",
              "      flex-wrap:wrap;\n",
              "      gap: 12px;\n",
              "    }\n",
              "\n",
              "    .colab-df-convert {\n",
              "      background-color: #E8F0FE;\n",
              "      border: none;\n",
              "      border-radius: 50%;\n",
              "      cursor: pointer;\n",
              "      display: none;\n",
              "      fill: #1967D2;\n",
              "      height: 32px;\n",
              "      padding: 0 0 0 0;\n",
              "      width: 32px;\n",
              "    }\n",
              "\n",
              "    .colab-df-convert:hover {\n",
              "      background-color: #E2EBFA;\n",
              "      box-shadow: 0px 1px 2px rgba(60, 64, 67, 0.3), 0px 1px 3px 1px rgba(60, 64, 67, 0.15);\n",
              "      fill: #174EA6;\n",
              "    }\n",
              "\n",
              "    [theme=dark] .colab-df-convert {\n",
              "      background-color: #3B4455;\n",
              "      fill: #D2E3FC;\n",
              "    }\n",
              "\n",
              "    [theme=dark] .colab-df-convert:hover {\n",
              "      background-color: #434B5C;\n",
              "      box-shadow: 0px 1px 3px 1px rgba(0, 0, 0, 0.15);\n",
              "      filter: drop-shadow(0px 1px 2px rgba(0, 0, 0, 0.3));\n",
              "      fill: #FFFFFF;\n",
              "    }\n",
              "  </style>\n",
              "\n",
              "      <script>\n",
              "        const buttonEl =\n",
              "          document.querySelector('#df-b5348c6f-6d2b-4ba0-bb97-befac4ce5f23 button.colab-df-convert');\n",
              "        buttonEl.style.display =\n",
              "          google.colab.kernel.accessAllowed ? 'block' : 'none';\n",
              "\n",
              "        async function convertToInteractive(key) {\n",
              "          const element = document.querySelector('#df-b5348c6f-6d2b-4ba0-bb97-befac4ce5f23');\n",
              "          const dataTable =\n",
              "            await google.colab.kernel.invokeFunction('convertToInteractive',\n",
              "                                                     [key], {});\n",
              "          if (!dataTable) return;\n",
              "\n",
              "          const docLinkHtml = 'Like what you see? Visit the ' +\n",
              "            '<a target=\"_blank\" href=https://colab.research.google.com/notebooks/data_table.ipynb>data table notebook</a>'\n",
              "            + ' to learn more about interactive tables.';\n",
              "          element.innerHTML = '';\n",
              "          dataTable['output_type'] = 'display_data';\n",
              "          await google.colab.output.renderOutput(dataTable, element);\n",
              "          const docLink = document.createElement('div');\n",
              "          docLink.innerHTML = docLinkHtml;\n",
              "          element.appendChild(docLink);\n",
              "        }\n",
              "      </script>\n",
              "    </div>\n",
              "  </div>\n",
              "  "
            ]
          },
          "metadata": {},
          "execution_count": 265
        }
      ]
    },
    {
      "cell_type": "code",
      "source": [
        "df.columns # checking columns"
      ],
      "metadata": {
        "colab": {
          "base_uri": "https://localhost:8080/"
        },
        "id": "v9oyvGX0Sad1",
        "outputId": "260ddba4-168a-4399-d935-b201a60c05ae"
      },
      "execution_count": 268,
      "outputs": [
        {
          "output_type": "execute_result",
          "data": {
            "text/plain": [
              "Index(['Sl_No', 'Age', 'Sex', 'Job', 'Housing', 'Saving_accounts',\n",
              "       'Checking_account', 'Credit_amount', 'Duration_month', 'Purpose'],\n",
              "      dtype='object')"
            ]
          },
          "metadata": {},
          "execution_count": 268
        }
      ]
    },
    {
      "cell_type": "markdown",
      "source": [
        "Renaming column"
      ],
      "metadata": {
        "id": "s6IX0_gQ_77H"
      }
    },
    {
      "cell_type": "code",
      "source": [
        "df = df.rename(columns = {'Unnamed: 0':'Sl_No', 'Saving accounts':'Saving_accounts','Checking account':'Checking_account','Credit amount':'Credit_amount','Duration': 'Duration_month'})"
      ],
      "metadata": {
        "id": "nJe469LtSsAw"
      },
      "execution_count": 267,
      "outputs": []
    },
    {
      "cell_type": "code",
      "source": [
        "df.columns # Column names are changed "
      ],
      "metadata": {
        "colab": {
          "base_uri": "https://localhost:8080/"
        },
        "id": "pALuhJXNVkEd",
        "outputId": "e2b7dc8e-ea2d-4a02-b978-6b33edc3e4bb"
      },
      "execution_count": 269,
      "outputs": [
        {
          "output_type": "execute_result",
          "data": {
            "text/plain": [
              "Index(['Sl_No', 'Age', 'Sex', 'Job', 'Housing', 'Saving_accounts',\n",
              "       'Checking_account', 'Credit_amount', 'Duration_month', 'Purpose'],\n",
              "      dtype='object')"
            ]
          },
          "metadata": {},
          "execution_count": 269
        }
      ]
    },
    {
      "cell_type": "code",
      "source": [
        "df.head(10)"
      ],
      "metadata": {
        "colab": {
          "base_uri": "https://localhost:8080/",
          "height": 363
        },
        "id": "F8GJi7IuWyJt",
        "outputId": "2a773398-eb8d-430d-f841-38f07d116441"
      },
      "execution_count": 270,
      "outputs": [
        {
          "output_type": "execute_result",
          "data": {
            "text/plain": [
              "   Sl_No  Age     Sex  Job Housing Saving_accounts Checking_account  \\\n",
              "0      0   67    male    2     own             NaN           little   \n",
              "1      1   22  female    2     own          little         moderate   \n",
              "2      2   49    male    1     own          little              NaN   \n",
              "3      3   45    male    2    free          little           little   \n",
              "4      4   53    male    2    free          little           little   \n",
              "5      5   35    male    1    free             NaN              NaN   \n",
              "6      6   53    male    2     own      quite rich              NaN   \n",
              "7      7   35    male    3    rent          little         moderate   \n",
              "8      8   61    male    1     own            rich              NaN   \n",
              "9      9   28    male    3     own          little         moderate   \n",
              "\n",
              "   Credit_amount  Duration_month              Purpose  \n",
              "0           1169               6             radio/TV  \n",
              "1           5951              48             radio/TV  \n",
              "2           2096              12            education  \n",
              "3           7882              42  furniture/equipment  \n",
              "4           4870              24                  car  \n",
              "5           9055              36            education  \n",
              "6           2835              24  furniture/equipment  \n",
              "7           6948              36                  car  \n",
              "8           3059              12             radio/TV  \n",
              "9           5234              30                  car  "
            ],
            "text/html": [
              "\n",
              "  <div id=\"df-f089e55f-3278-48d8-9986-3b37c0f6846d\">\n",
              "    <div class=\"colab-df-container\">\n",
              "      <div>\n",
              "<style scoped>\n",
              "    .dataframe tbody tr th:only-of-type {\n",
              "        vertical-align: middle;\n",
              "    }\n",
              "\n",
              "    .dataframe tbody tr th {\n",
              "        vertical-align: top;\n",
              "    }\n",
              "\n",
              "    .dataframe thead th {\n",
              "        text-align: right;\n",
              "    }\n",
              "</style>\n",
              "<table border=\"1\" class=\"dataframe\">\n",
              "  <thead>\n",
              "    <tr style=\"text-align: right;\">\n",
              "      <th></th>\n",
              "      <th>Sl_No</th>\n",
              "      <th>Age</th>\n",
              "      <th>Sex</th>\n",
              "      <th>Job</th>\n",
              "      <th>Housing</th>\n",
              "      <th>Saving_accounts</th>\n",
              "      <th>Checking_account</th>\n",
              "      <th>Credit_amount</th>\n",
              "      <th>Duration_month</th>\n",
              "      <th>Purpose</th>\n",
              "    </tr>\n",
              "  </thead>\n",
              "  <tbody>\n",
              "    <tr>\n",
              "      <th>0</th>\n",
              "      <td>0</td>\n",
              "      <td>67</td>\n",
              "      <td>male</td>\n",
              "      <td>2</td>\n",
              "      <td>own</td>\n",
              "      <td>NaN</td>\n",
              "      <td>little</td>\n",
              "      <td>1169</td>\n",
              "      <td>6</td>\n",
              "      <td>radio/TV</td>\n",
              "    </tr>\n",
              "    <tr>\n",
              "      <th>1</th>\n",
              "      <td>1</td>\n",
              "      <td>22</td>\n",
              "      <td>female</td>\n",
              "      <td>2</td>\n",
              "      <td>own</td>\n",
              "      <td>little</td>\n",
              "      <td>moderate</td>\n",
              "      <td>5951</td>\n",
              "      <td>48</td>\n",
              "      <td>radio/TV</td>\n",
              "    </tr>\n",
              "    <tr>\n",
              "      <th>2</th>\n",
              "      <td>2</td>\n",
              "      <td>49</td>\n",
              "      <td>male</td>\n",
              "      <td>1</td>\n",
              "      <td>own</td>\n",
              "      <td>little</td>\n",
              "      <td>NaN</td>\n",
              "      <td>2096</td>\n",
              "      <td>12</td>\n",
              "      <td>education</td>\n",
              "    </tr>\n",
              "    <tr>\n",
              "      <th>3</th>\n",
              "      <td>3</td>\n",
              "      <td>45</td>\n",
              "      <td>male</td>\n",
              "      <td>2</td>\n",
              "      <td>free</td>\n",
              "      <td>little</td>\n",
              "      <td>little</td>\n",
              "      <td>7882</td>\n",
              "      <td>42</td>\n",
              "      <td>furniture/equipment</td>\n",
              "    </tr>\n",
              "    <tr>\n",
              "      <th>4</th>\n",
              "      <td>4</td>\n",
              "      <td>53</td>\n",
              "      <td>male</td>\n",
              "      <td>2</td>\n",
              "      <td>free</td>\n",
              "      <td>little</td>\n",
              "      <td>little</td>\n",
              "      <td>4870</td>\n",
              "      <td>24</td>\n",
              "      <td>car</td>\n",
              "    </tr>\n",
              "    <tr>\n",
              "      <th>5</th>\n",
              "      <td>5</td>\n",
              "      <td>35</td>\n",
              "      <td>male</td>\n",
              "      <td>1</td>\n",
              "      <td>free</td>\n",
              "      <td>NaN</td>\n",
              "      <td>NaN</td>\n",
              "      <td>9055</td>\n",
              "      <td>36</td>\n",
              "      <td>education</td>\n",
              "    </tr>\n",
              "    <tr>\n",
              "      <th>6</th>\n",
              "      <td>6</td>\n",
              "      <td>53</td>\n",
              "      <td>male</td>\n",
              "      <td>2</td>\n",
              "      <td>own</td>\n",
              "      <td>quite rich</td>\n",
              "      <td>NaN</td>\n",
              "      <td>2835</td>\n",
              "      <td>24</td>\n",
              "      <td>furniture/equipment</td>\n",
              "    </tr>\n",
              "    <tr>\n",
              "      <th>7</th>\n",
              "      <td>7</td>\n",
              "      <td>35</td>\n",
              "      <td>male</td>\n",
              "      <td>3</td>\n",
              "      <td>rent</td>\n",
              "      <td>little</td>\n",
              "      <td>moderate</td>\n",
              "      <td>6948</td>\n",
              "      <td>36</td>\n",
              "      <td>car</td>\n",
              "    </tr>\n",
              "    <tr>\n",
              "      <th>8</th>\n",
              "      <td>8</td>\n",
              "      <td>61</td>\n",
              "      <td>male</td>\n",
              "      <td>1</td>\n",
              "      <td>own</td>\n",
              "      <td>rich</td>\n",
              "      <td>NaN</td>\n",
              "      <td>3059</td>\n",
              "      <td>12</td>\n",
              "      <td>radio/TV</td>\n",
              "    </tr>\n",
              "    <tr>\n",
              "      <th>9</th>\n",
              "      <td>9</td>\n",
              "      <td>28</td>\n",
              "      <td>male</td>\n",
              "      <td>3</td>\n",
              "      <td>own</td>\n",
              "      <td>little</td>\n",
              "      <td>moderate</td>\n",
              "      <td>5234</td>\n",
              "      <td>30</td>\n",
              "      <td>car</td>\n",
              "    </tr>\n",
              "  </tbody>\n",
              "</table>\n",
              "</div>\n",
              "      <button class=\"colab-df-convert\" onclick=\"convertToInteractive('df-f089e55f-3278-48d8-9986-3b37c0f6846d')\"\n",
              "              title=\"Convert this dataframe to an interactive table.\"\n",
              "              style=\"display:none;\">\n",
              "        \n",
              "  <svg xmlns=\"http://www.w3.org/2000/svg\" height=\"24px\"viewBox=\"0 0 24 24\"\n",
              "       width=\"24px\">\n",
              "    <path d=\"M0 0h24v24H0V0z\" fill=\"none\"/>\n",
              "    <path d=\"M18.56 5.44l.94 2.06.94-2.06 2.06-.94-2.06-.94-.94-2.06-.94 2.06-2.06.94zm-11 1L8.5 8.5l.94-2.06 2.06-.94-2.06-.94L8.5 2.5l-.94 2.06-2.06.94zm10 10l.94 2.06.94-2.06 2.06-.94-2.06-.94-.94-2.06-.94 2.06-2.06.94z\"/><path d=\"M17.41 7.96l-1.37-1.37c-.4-.4-.92-.59-1.43-.59-.52 0-1.04.2-1.43.59L10.3 9.45l-7.72 7.72c-.78.78-.78 2.05 0 2.83L4 21.41c.39.39.9.59 1.41.59.51 0 1.02-.2 1.41-.59l7.78-7.78 2.81-2.81c.8-.78.8-2.07 0-2.86zM5.41 20L4 18.59l7.72-7.72 1.47 1.35L5.41 20z\"/>\n",
              "  </svg>\n",
              "      </button>\n",
              "      \n",
              "  <style>\n",
              "    .colab-df-container {\n",
              "      display:flex;\n",
              "      flex-wrap:wrap;\n",
              "      gap: 12px;\n",
              "    }\n",
              "\n",
              "    .colab-df-convert {\n",
              "      background-color: #E8F0FE;\n",
              "      border: none;\n",
              "      border-radius: 50%;\n",
              "      cursor: pointer;\n",
              "      display: none;\n",
              "      fill: #1967D2;\n",
              "      height: 32px;\n",
              "      padding: 0 0 0 0;\n",
              "      width: 32px;\n",
              "    }\n",
              "\n",
              "    .colab-df-convert:hover {\n",
              "      background-color: #E2EBFA;\n",
              "      box-shadow: 0px 1px 2px rgba(60, 64, 67, 0.3), 0px 1px 3px 1px rgba(60, 64, 67, 0.15);\n",
              "      fill: #174EA6;\n",
              "    }\n",
              "\n",
              "    [theme=dark] .colab-df-convert {\n",
              "      background-color: #3B4455;\n",
              "      fill: #D2E3FC;\n",
              "    }\n",
              "\n",
              "    [theme=dark] .colab-df-convert:hover {\n",
              "      background-color: #434B5C;\n",
              "      box-shadow: 0px 1px 3px 1px rgba(0, 0, 0, 0.15);\n",
              "      filter: drop-shadow(0px 1px 2px rgba(0, 0, 0, 0.3));\n",
              "      fill: #FFFFFF;\n",
              "    }\n",
              "  </style>\n",
              "\n",
              "      <script>\n",
              "        const buttonEl =\n",
              "          document.querySelector('#df-f089e55f-3278-48d8-9986-3b37c0f6846d button.colab-df-convert');\n",
              "        buttonEl.style.display =\n",
              "          google.colab.kernel.accessAllowed ? 'block' : 'none';\n",
              "\n",
              "        async function convertToInteractive(key) {\n",
              "          const element = document.querySelector('#df-f089e55f-3278-48d8-9986-3b37c0f6846d');\n",
              "          const dataTable =\n",
              "            await google.colab.kernel.invokeFunction('convertToInteractive',\n",
              "                                                     [key], {});\n",
              "          if (!dataTable) return;\n",
              "\n",
              "          const docLinkHtml = 'Like what you see? Visit the ' +\n",
              "            '<a target=\"_blank\" href=https://colab.research.google.com/notebooks/data_table.ipynb>data table notebook</a>'\n",
              "            + ' to learn more about interactive tables.';\n",
              "          element.innerHTML = '';\n",
              "          dataTable['output_type'] = 'display_data';\n",
              "          await google.colab.output.renderOutput(dataTable, element);\n",
              "          const docLink = document.createElement('div');\n",
              "          docLink.innerHTML = docLinkHtml;\n",
              "          element.appendChild(docLink);\n",
              "        }\n",
              "      </script>\n",
              "    </div>\n",
              "  </div>\n",
              "  "
            ]
          },
          "metadata": {},
          "execution_count": 270
        }
      ]
    },
    {
      "cell_type": "code",
      "source": [
        "df.info()"
      ],
      "metadata": {
        "colab": {
          "base_uri": "https://localhost:8080/"
        },
        "id": "IsAA6D4LXKjj",
        "outputId": "5da35260-ba15-47f3-d367-64f32ce6236a"
      },
      "execution_count": 271,
      "outputs": [
        {
          "output_type": "stream",
          "name": "stdout",
          "text": [
            "<class 'pandas.core.frame.DataFrame'>\n",
            "RangeIndex: 1000 entries, 0 to 999\n",
            "Data columns (total 10 columns):\n",
            " #   Column            Non-Null Count  Dtype \n",
            "---  ------            --------------  ----- \n",
            " 0   Sl_No             1000 non-null   int64 \n",
            " 1   Age               1000 non-null   int64 \n",
            " 2   Sex               1000 non-null   object\n",
            " 3   Job               1000 non-null   int64 \n",
            " 4   Housing           1000 non-null   object\n",
            " 5   Saving_accounts   817 non-null    object\n",
            " 6   Checking_account  606 non-null    object\n",
            " 7   Credit_amount     1000 non-null   int64 \n",
            " 8   Duration_month    1000 non-null   int64 \n",
            " 9   Purpose           1000 non-null   object\n",
            "dtypes: int64(5), object(5)\n",
            "memory usage: 78.2+ KB\n"
          ]
        }
      ]
    },
    {
      "cell_type": "code",
      "source": [
        "df = df.astype({\"Job\" : str}) # converting job to string, since it's categorical data"
      ],
      "metadata": {
        "id": "GUI0yhHdYhx1"
      },
      "execution_count": 272,
      "outputs": []
    },
    {
      "cell_type": "code",
      "source": [
        "df[\"Job\"].replace(['0','1','2','3'],[\"unskilled_non_resident\",\"unskilled_resident\",\"skilled\", \"highly_skilled\"], inplace = True) # Replacing number to string"
      ],
      "metadata": {
        "id": "BeXJ7nM_Iv3w"
      },
      "execution_count": 273,
      "outputs": []
    },
    {
      "cell_type": "code",
      "source": [
        "df.describe( include = \"all\")"
      ],
      "metadata": {
        "colab": {
          "base_uri": "https://localhost:8080/",
          "height": 394
        },
        "id": "5-YVzkjQYOM1",
        "outputId": "ed6ae426-447f-4f4c-e0bf-bfc54d724285"
      },
      "execution_count": 274,
      "outputs": [
        {
          "output_type": "execute_result",
          "data": {
            "text/plain": [
              "              Sl_No          Age   Sex      Job Housing Saving_accounts  \\\n",
              "count   1000.000000  1000.000000  1000     1000    1000             817   \n",
              "unique          NaN          NaN     2        4       3               4   \n",
              "top             NaN          NaN  male  skilled     own          little   \n",
              "freq            NaN          NaN   690      630     713             603   \n",
              "mean     499.500000    35.546000   NaN      NaN     NaN             NaN   \n",
              "std      288.819436    11.375469   NaN      NaN     NaN             NaN   \n",
              "min        0.000000    19.000000   NaN      NaN     NaN             NaN   \n",
              "25%      249.750000    27.000000   NaN      NaN     NaN             NaN   \n",
              "50%      499.500000    33.000000   NaN      NaN     NaN             NaN   \n",
              "75%      749.250000    42.000000   NaN      NaN     NaN             NaN   \n",
              "max      999.000000    75.000000   NaN      NaN     NaN             NaN   \n",
              "\n",
              "       Checking_account  Credit_amount  Duration_month Purpose  \n",
              "count               606    1000.000000     1000.000000    1000  \n",
              "unique                3            NaN             NaN       8  \n",
              "top              little            NaN             NaN     car  \n",
              "freq                274            NaN             NaN     337  \n",
              "mean                NaN    3271.258000       20.903000     NaN  \n",
              "std                 NaN    2822.736876       12.058814     NaN  \n",
              "min                 NaN     250.000000        4.000000     NaN  \n",
              "25%                 NaN    1365.500000       12.000000     NaN  \n",
              "50%                 NaN    2319.500000       18.000000     NaN  \n",
              "75%                 NaN    3972.250000       24.000000     NaN  \n",
              "max                 NaN   18424.000000       72.000000     NaN  "
            ],
            "text/html": [
              "\n",
              "  <div id=\"df-3d1965f6-874e-4d84-ac2e-cbf900223eaa\">\n",
              "    <div class=\"colab-df-container\">\n",
              "      <div>\n",
              "<style scoped>\n",
              "    .dataframe tbody tr th:only-of-type {\n",
              "        vertical-align: middle;\n",
              "    }\n",
              "\n",
              "    .dataframe tbody tr th {\n",
              "        vertical-align: top;\n",
              "    }\n",
              "\n",
              "    .dataframe thead th {\n",
              "        text-align: right;\n",
              "    }\n",
              "</style>\n",
              "<table border=\"1\" class=\"dataframe\">\n",
              "  <thead>\n",
              "    <tr style=\"text-align: right;\">\n",
              "      <th></th>\n",
              "      <th>Sl_No</th>\n",
              "      <th>Age</th>\n",
              "      <th>Sex</th>\n",
              "      <th>Job</th>\n",
              "      <th>Housing</th>\n",
              "      <th>Saving_accounts</th>\n",
              "      <th>Checking_account</th>\n",
              "      <th>Credit_amount</th>\n",
              "      <th>Duration_month</th>\n",
              "      <th>Purpose</th>\n",
              "    </tr>\n",
              "  </thead>\n",
              "  <tbody>\n",
              "    <tr>\n",
              "      <th>count</th>\n",
              "      <td>1000.000000</td>\n",
              "      <td>1000.000000</td>\n",
              "      <td>1000</td>\n",
              "      <td>1000</td>\n",
              "      <td>1000</td>\n",
              "      <td>817</td>\n",
              "      <td>606</td>\n",
              "      <td>1000.000000</td>\n",
              "      <td>1000.000000</td>\n",
              "      <td>1000</td>\n",
              "    </tr>\n",
              "    <tr>\n",
              "      <th>unique</th>\n",
              "      <td>NaN</td>\n",
              "      <td>NaN</td>\n",
              "      <td>2</td>\n",
              "      <td>4</td>\n",
              "      <td>3</td>\n",
              "      <td>4</td>\n",
              "      <td>3</td>\n",
              "      <td>NaN</td>\n",
              "      <td>NaN</td>\n",
              "      <td>8</td>\n",
              "    </tr>\n",
              "    <tr>\n",
              "      <th>top</th>\n",
              "      <td>NaN</td>\n",
              "      <td>NaN</td>\n",
              "      <td>male</td>\n",
              "      <td>skilled</td>\n",
              "      <td>own</td>\n",
              "      <td>little</td>\n",
              "      <td>little</td>\n",
              "      <td>NaN</td>\n",
              "      <td>NaN</td>\n",
              "      <td>car</td>\n",
              "    </tr>\n",
              "    <tr>\n",
              "      <th>freq</th>\n",
              "      <td>NaN</td>\n",
              "      <td>NaN</td>\n",
              "      <td>690</td>\n",
              "      <td>630</td>\n",
              "      <td>713</td>\n",
              "      <td>603</td>\n",
              "      <td>274</td>\n",
              "      <td>NaN</td>\n",
              "      <td>NaN</td>\n",
              "      <td>337</td>\n",
              "    </tr>\n",
              "    <tr>\n",
              "      <th>mean</th>\n",
              "      <td>499.500000</td>\n",
              "      <td>35.546000</td>\n",
              "      <td>NaN</td>\n",
              "      <td>NaN</td>\n",
              "      <td>NaN</td>\n",
              "      <td>NaN</td>\n",
              "      <td>NaN</td>\n",
              "      <td>3271.258000</td>\n",
              "      <td>20.903000</td>\n",
              "      <td>NaN</td>\n",
              "    </tr>\n",
              "    <tr>\n",
              "      <th>std</th>\n",
              "      <td>288.819436</td>\n",
              "      <td>11.375469</td>\n",
              "      <td>NaN</td>\n",
              "      <td>NaN</td>\n",
              "      <td>NaN</td>\n",
              "      <td>NaN</td>\n",
              "      <td>NaN</td>\n",
              "      <td>2822.736876</td>\n",
              "      <td>12.058814</td>\n",
              "      <td>NaN</td>\n",
              "    </tr>\n",
              "    <tr>\n",
              "      <th>min</th>\n",
              "      <td>0.000000</td>\n",
              "      <td>19.000000</td>\n",
              "      <td>NaN</td>\n",
              "      <td>NaN</td>\n",
              "      <td>NaN</td>\n",
              "      <td>NaN</td>\n",
              "      <td>NaN</td>\n",
              "      <td>250.000000</td>\n",
              "      <td>4.000000</td>\n",
              "      <td>NaN</td>\n",
              "    </tr>\n",
              "    <tr>\n",
              "      <th>25%</th>\n",
              "      <td>249.750000</td>\n",
              "      <td>27.000000</td>\n",
              "      <td>NaN</td>\n",
              "      <td>NaN</td>\n",
              "      <td>NaN</td>\n",
              "      <td>NaN</td>\n",
              "      <td>NaN</td>\n",
              "      <td>1365.500000</td>\n",
              "      <td>12.000000</td>\n",
              "      <td>NaN</td>\n",
              "    </tr>\n",
              "    <tr>\n",
              "      <th>50%</th>\n",
              "      <td>499.500000</td>\n",
              "      <td>33.000000</td>\n",
              "      <td>NaN</td>\n",
              "      <td>NaN</td>\n",
              "      <td>NaN</td>\n",
              "      <td>NaN</td>\n",
              "      <td>NaN</td>\n",
              "      <td>2319.500000</td>\n",
              "      <td>18.000000</td>\n",
              "      <td>NaN</td>\n",
              "    </tr>\n",
              "    <tr>\n",
              "      <th>75%</th>\n",
              "      <td>749.250000</td>\n",
              "      <td>42.000000</td>\n",
              "      <td>NaN</td>\n",
              "      <td>NaN</td>\n",
              "      <td>NaN</td>\n",
              "      <td>NaN</td>\n",
              "      <td>NaN</td>\n",
              "      <td>3972.250000</td>\n",
              "      <td>24.000000</td>\n",
              "      <td>NaN</td>\n",
              "    </tr>\n",
              "    <tr>\n",
              "      <th>max</th>\n",
              "      <td>999.000000</td>\n",
              "      <td>75.000000</td>\n",
              "      <td>NaN</td>\n",
              "      <td>NaN</td>\n",
              "      <td>NaN</td>\n",
              "      <td>NaN</td>\n",
              "      <td>NaN</td>\n",
              "      <td>18424.000000</td>\n",
              "      <td>72.000000</td>\n",
              "      <td>NaN</td>\n",
              "    </tr>\n",
              "  </tbody>\n",
              "</table>\n",
              "</div>\n",
              "      <button class=\"colab-df-convert\" onclick=\"convertToInteractive('df-3d1965f6-874e-4d84-ac2e-cbf900223eaa')\"\n",
              "              title=\"Convert this dataframe to an interactive table.\"\n",
              "              style=\"display:none;\">\n",
              "        \n",
              "  <svg xmlns=\"http://www.w3.org/2000/svg\" height=\"24px\"viewBox=\"0 0 24 24\"\n",
              "       width=\"24px\">\n",
              "    <path d=\"M0 0h24v24H0V0z\" fill=\"none\"/>\n",
              "    <path d=\"M18.56 5.44l.94 2.06.94-2.06 2.06-.94-2.06-.94-.94-2.06-.94 2.06-2.06.94zm-11 1L8.5 8.5l.94-2.06 2.06-.94-2.06-.94L8.5 2.5l-.94 2.06-2.06.94zm10 10l.94 2.06.94-2.06 2.06-.94-2.06-.94-.94-2.06-.94 2.06-2.06.94z\"/><path d=\"M17.41 7.96l-1.37-1.37c-.4-.4-.92-.59-1.43-.59-.52 0-1.04.2-1.43.59L10.3 9.45l-7.72 7.72c-.78.78-.78 2.05 0 2.83L4 21.41c.39.39.9.59 1.41.59.51 0 1.02-.2 1.41-.59l7.78-7.78 2.81-2.81c.8-.78.8-2.07 0-2.86zM5.41 20L4 18.59l7.72-7.72 1.47 1.35L5.41 20z\"/>\n",
              "  </svg>\n",
              "      </button>\n",
              "      \n",
              "  <style>\n",
              "    .colab-df-container {\n",
              "      display:flex;\n",
              "      flex-wrap:wrap;\n",
              "      gap: 12px;\n",
              "    }\n",
              "\n",
              "    .colab-df-convert {\n",
              "      background-color: #E8F0FE;\n",
              "      border: none;\n",
              "      border-radius: 50%;\n",
              "      cursor: pointer;\n",
              "      display: none;\n",
              "      fill: #1967D2;\n",
              "      height: 32px;\n",
              "      padding: 0 0 0 0;\n",
              "      width: 32px;\n",
              "    }\n",
              "\n",
              "    .colab-df-convert:hover {\n",
              "      background-color: #E2EBFA;\n",
              "      box-shadow: 0px 1px 2px rgba(60, 64, 67, 0.3), 0px 1px 3px 1px rgba(60, 64, 67, 0.15);\n",
              "      fill: #174EA6;\n",
              "    }\n",
              "\n",
              "    [theme=dark] .colab-df-convert {\n",
              "      background-color: #3B4455;\n",
              "      fill: #D2E3FC;\n",
              "    }\n",
              "\n",
              "    [theme=dark] .colab-df-convert:hover {\n",
              "      background-color: #434B5C;\n",
              "      box-shadow: 0px 1px 3px 1px rgba(0, 0, 0, 0.15);\n",
              "      filter: drop-shadow(0px 1px 2px rgba(0, 0, 0, 0.3));\n",
              "      fill: #FFFFFF;\n",
              "    }\n",
              "  </style>\n",
              "\n",
              "      <script>\n",
              "        const buttonEl =\n",
              "          document.querySelector('#df-3d1965f6-874e-4d84-ac2e-cbf900223eaa button.colab-df-convert');\n",
              "        buttonEl.style.display =\n",
              "          google.colab.kernel.accessAllowed ? 'block' : 'none';\n",
              "\n",
              "        async function convertToInteractive(key) {\n",
              "          const element = document.querySelector('#df-3d1965f6-874e-4d84-ac2e-cbf900223eaa');\n",
              "          const dataTable =\n",
              "            await google.colab.kernel.invokeFunction('convertToInteractive',\n",
              "                                                     [key], {});\n",
              "          if (!dataTable) return;\n",
              "\n",
              "          const docLinkHtml = 'Like what you see? Visit the ' +\n",
              "            '<a target=\"_blank\" href=https://colab.research.google.com/notebooks/data_table.ipynb>data table notebook</a>'\n",
              "            + ' to learn more about interactive tables.';\n",
              "          element.innerHTML = '';\n",
              "          dataTable['output_type'] = 'display_data';\n",
              "          await google.colab.output.renderOutput(dataTable, element);\n",
              "          const docLink = document.createElement('div');\n",
              "          docLink.innerHTML = docLinkHtml;\n",
              "          element.appendChild(docLink);\n",
              "        }\n",
              "      </script>\n",
              "    </div>\n",
              "  </div>\n",
              "  "
            ]
          },
          "metadata": {},
          "execution_count": 274
        }
      ]
    },
    {
      "cell_type": "code",
      "source": [
        "df.isnull().sum() # counting null"
      ],
      "metadata": {
        "colab": {
          "base_uri": "https://localhost:8080/"
        },
        "id": "1nmTw-uoa-u6",
        "outputId": "0537243f-7222-44e6-f8e6-43b455a57800"
      },
      "execution_count": 275,
      "outputs": [
        {
          "output_type": "execute_result",
          "data": {
            "text/plain": [
              "Sl_No                 0\n",
              "Age                   0\n",
              "Sex                   0\n",
              "Job                   0\n",
              "Housing               0\n",
              "Saving_accounts     183\n",
              "Checking_account    394\n",
              "Credit_amount         0\n",
              "Duration_month        0\n",
              "Purpose               0\n",
              "dtype: int64"
            ]
          },
          "metadata": {},
          "execution_count": 275
        }
      ]
    },
    {
      "cell_type": "code",
      "source": [
        "df.nunique() # checking unique number"
      ],
      "metadata": {
        "colab": {
          "base_uri": "https://localhost:8080/"
        },
        "id": "VQRiOgVsbOEC",
        "outputId": "2b1e07a6-fbc1-4e94-efa1-7825d2e53475"
      },
      "execution_count": 276,
      "outputs": [
        {
          "output_type": "execute_result",
          "data": {
            "text/plain": [
              "Sl_No               1000\n",
              "Age                   53\n",
              "Sex                    2\n",
              "Job                    4\n",
              "Housing                3\n",
              "Saving_accounts        4\n",
              "Checking_account       3\n",
              "Credit_amount        921\n",
              "Duration_month        33\n",
              "Purpose                8\n",
              "dtype: int64"
            ]
          },
          "metadata": {},
          "execution_count": 276
        }
      ]
    },
    {
      "cell_type": "code",
      "source": [
        "df.Checking_account.unique() # checking unique in perticular column"
      ],
      "metadata": {
        "colab": {
          "base_uri": "https://localhost:8080/"
        },
        "id": "pdoAZDf5eBki",
        "outputId": "6a6beeb2-5a18-4027-9859-2a5b1a040945"
      },
      "execution_count": 277,
      "outputs": [
        {
          "output_type": "execute_result",
          "data": {
            "text/plain": [
              "array(['little', 'moderate', nan, 'rich'], dtype=object)"
            ]
          },
          "metadata": {},
          "execution_count": 277
        }
      ]
    },
    {
      "cell_type": "code",
      "source": [
        "df.Job.unique()"
      ],
      "metadata": {
        "colab": {
          "base_uri": "https://localhost:8080/"
        },
        "id": "oq7ZdwkNJyVx",
        "outputId": "07a45630-e83e-4088-8ff7-a215f1bfce8b"
      },
      "execution_count": 278,
      "outputs": [
        {
          "output_type": "execute_result",
          "data": {
            "text/plain": [
              "array(['skilled', 'unskilled_resident', 'highly_skilled',\n",
              "       'unskilled_non_resident'], dtype=object)"
            ]
          },
          "metadata": {},
          "execution_count": 278
        }
      ]
    },
    {
      "cell_type": "code",
      "source": [
        "df[\"Checking_account\"].value_counts()"
      ],
      "metadata": {
        "colab": {
          "base_uri": "https://localhost:8080/"
        },
        "id": "vTQ8QZH0XG9o",
        "outputId": "b8613e37-38a3-4aa8-8db5-4eadb9694c37"
      },
      "execution_count": 279,
      "outputs": [
        {
          "output_type": "execute_result",
          "data": {
            "text/plain": [
              "little      274\n",
              "moderate    269\n",
              "rich         63\n",
              "Name: Checking_account, dtype: int64"
            ]
          },
          "metadata": {},
          "execution_count": 279
        }
      ]
    },
    {
      "cell_type": "code",
      "source": [
        "df[\"Purpose\"].value_counts()"
      ],
      "metadata": {
        "colab": {
          "base_uri": "https://localhost:8080/"
        },
        "id": "MFagoGp8pl5y",
        "outputId": "a60d5919-7f9c-4706-c992-9441a972b8df"
      },
      "execution_count": 280,
      "outputs": [
        {
          "output_type": "execute_result",
          "data": {
            "text/plain": [
              "car                    337\n",
              "radio/TV               280\n",
              "furniture/equipment    181\n",
              "business                97\n",
              "education               59\n",
              "repairs                 22\n",
              "domestic appliances     12\n",
              "vacation/others         12\n",
              "Name: Purpose, dtype: int64"
            ]
          },
          "metadata": {},
          "execution_count": 280
        }
      ]
    },
    {
      "cell_type": "code",
      "source": [
        "sns.countplot(x=\"Checking_account\", data = df) # checking distribution of missing value column"
      ],
      "metadata": {
        "colab": {
          "base_uri": "https://localhost:8080/",
          "height": 298
        },
        "id": "4UJYM-JTcBE4",
        "outputId": "e720461a-70ec-4e89-ec10-18a4f94e28be"
      },
      "execution_count": 281,
      "outputs": [
        {
          "output_type": "execute_result",
          "data": {
            "text/plain": [
              "<matplotlib.axes._subplots.AxesSubplot at 0x7f6eb5118c90>"
            ]
          },
          "metadata": {},
          "execution_count": 281
        },
        {
          "output_type": "display_data",
          "data": {
            "text/plain": [
              "<Figure size 432x288 with 1 Axes>"
            ],
            "image/png": "[encoded data removed]"
          },
          "metadata": {
            "needs_background": "light"
          }
        }
      ]
    },
    {
      "cell_type": "code",
      "source": [
        "import missingno as msno # Graphical representation of missing values\n",
        "msno.bar(df)"
      ],
      "metadata": {
        "colab": {
          "base_uri": "https://localhost:8080/",
          "height": 661
        },
        "id": "vy7S8wWndHjw",
        "outputId": "da5dd7ce-7526-47ff-bed7-c26e12fa4366"
      },
      "execution_count": 282,
      "outputs": [
        {
          "output_type": "execute_result",
          "data": {
            "text/plain": [
              "<matplotlib.axes._subplots.AxesSubplot at 0x7f6eb5109a90>"
            ]
          },
          "metadata": {},
          "execution_count": 282
        },
        {
          "output_type": "display_data",
          "data": {
            "text/plain": [
              "<Figure size 1800x720 with 3 Axes>"
            ],
            "image/png": "[encoded data removed]"
          },
          "metadata": {
            "needs_background": "light"
          }
        }
      ]
    },
    {
      "cell_type": "markdown",
      "source": [
        "above graph we can observe that in column saving account & checking account, missing values are there"
      ],
      "metadata": {
        "id": "5_thAYKOII-q"
      }
    },
    {
      "cell_type": "code",
      "source": [
        "sorted_matrix = df.sort_values(['Checking_account','Saving_accounts']) # matrix view of missing values\n",
        "msno.matrix(sorted_matrix)\n",
        "plt.show()"
      ],
      "metadata": {
        "colab": {
          "base_uri": "https://localhost:8080/",
          "height": 614
        },
        "id": "TtNDXqBgeXt9",
        "outputId": "9ca1cff5-6d5a-4c8c-ea06-5abfea96d669"
      },
      "execution_count": 284,
      "outputs": [
        {
          "output_type": "display_data",
          "data": {
            "text/plain": [
              "<Figure size 1800x720 with 2 Axes>"
            ],
            "image/png": "[encoded data removed]"
          },
          "metadata": {
            "needs_background": "light"
          }
        }
      ]
    },
    {
      "cell_type": "markdown",
      "source": [
        "these missing values in column are missing not at random. "
      ],
      "metadata": {
        "id": "MnQDAjIPIYmu"
      }
    },
    {
      "cell_type": "code",
      "source": [
        "df['Checking_account'].isnull().sum()/len(df['Checking_account'])*100 # perecentage of missing values in column Checking_account"
      ],
      "metadata": {
        "colab": {
          "base_uri": "https://localhost:8080/"
        },
        "id": "UPPCPaWme8tb",
        "outputId": "457a5c10-c367-4abd-cd5c-c58f4f7d4bfa"
      },
      "execution_count": 136,
      "outputs": [
        {
          "output_type": "execute_result",
          "data": {
            "text/plain": [
              "39.4"
            ]
          },
          "metadata": {},
          "execution_count": 136
        }
      ]
    },
    {
      "cell_type": "code",
      "source": [
        "df['Saving_accounts'].isnull().sum()/len(df['Saving_accounts'])*100 #  perecentage of missing values in column Saving_account"
      ],
      "metadata": {
        "colab": {
          "base_uri": "https://localhost:8080/"
        },
        "id": "sOKBckiEfc51",
        "outputId": "e3594ee9-d5f0-40f1-9726-462d7508535b"
      },
      "execution_count": 137,
      "outputs": [
        {
          "output_type": "execute_result",
          "data": {
            "text/plain": [
              "18.3"
            ]
          },
          "metadata": {},
          "execution_count": 137
        }
      ]
    },
    {
      "cell_type": "code",
      "source": [
        "from sklearn.impute import SimpleImputer # since missing value is in categorical data, so replacing null values with mode\n",
        "df_mode = df.copy( deep = True)\n",
        "mode_imputer = SimpleImputer(strategy = \"most_frequent\")\n",
        "df_mode.iloc[:, :] = mode_imputer.fit_transform(df_mode)"
      ],
      "metadata": {
        "id": "JlursfGkloVv"
      },
      "execution_count": 285,
      "outputs": []
    },
    {
      "cell_type": "code",
      "source": [
        "df_mode.info()"
      ],
      "metadata": {
        "colab": {
          "base_uri": "https://localhost:8080/"
        },
        "id": "2w5w5E6Aa78Y",
        "outputId": "7e4a04ce-a9ec-4b17-e2fd-2f48140d639f"
      },
      "execution_count": null,
      "outputs": [
        {
          "output_type": "stream",
          "name": "stdout",
          "text": [
            "<class 'pandas.core.frame.DataFrame'>\n",
            "RangeIndex: 1000 entries, 0 to 999\n",
            "Data columns (total 10 columns):\n",
            " #   Column            Non-Null Count  Dtype \n",
            "---  ------            --------------  ----- \n",
            " 0   Sl_No             1000 non-null   int64 \n",
            " 1   Age               1000 non-null   int64 \n",
            " 2   Sex               1000 non-null   object\n",
            " 3   Job               1000 non-null   object\n",
            " 4   Housing           1000 non-null   object\n",
            " 5   Saving_accounts   1000 non-null   object\n",
            " 6   Checking_account  1000 non-null   object\n",
            " 7   Credit_amount     1000 non-null   int64 \n",
            " 8   Duration_month    1000 non-null   int64 \n",
            " 9   Purpose           1000 non-null   object\n",
            "dtypes: int64(4), object(6)\n",
            "memory usage: 78.2+ KB\n"
          ]
        }
      ]
    },
    {
      "cell_type": "code",
      "source": [
        "sns.countplot(x=\"Checking_account\", data = df_mode) # checking out put"
      ],
      "metadata": {
        "id": "Q63_-ykJcYjs",
        "colab": {
          "base_uri": "https://localhost:8080/",
          "height": 302
        },
        "outputId": "a25441a8-c50a-41d3-d9f1-7570ff12ce94"
      },
      "execution_count": 286,
      "outputs": [
        {
          "output_type": "execute_result",
          "data": {
            "text/plain": [
              "<matplotlib.axes._subplots.AxesSubplot at 0x7f6eb4e8da90>"
            ]
          },
          "metadata": {},
          "execution_count": 286
        },
        {
          "output_type": "display_data",
          "data": {
            "text/plain": [
              "<Figure size 432x288 with 1 Axes>"
            ],
            "image/png": "[encoded data removed]"
          },
          "metadata": {
            "needs_background": "light"
          }
        }
      ]
    },
    {
      "cell_type": "code",
      "source": [
        "pip install fancyimpute"
      ],
      "metadata": {
        "id": "WklWmEF2eGca",
        "colab": {
          "base_uri": "https://localhost:8080/"
        },
        "outputId": "00163b61-dfa2-4fbe-85b5-7bb69a4add32"
      },
      "execution_count": 287,
      "outputs": [
        {
          "output_type": "stream",
          "name": "stdout",
          "text": [
            "Looking in indexes: https://pypi.org/simple, https://us-python.pkg.dev/colab-wheels/public/simple/\n",
            "Requirement already satisfied: fancyimpute in /usr/local/lib/python3.7/dist-packages (0.7.0)\n",
            "Requirement already satisfied: scikit-learn>=0.24.2 in /usr/local/lib/python3.7/dist-packages (from fancyimpute) (1.0.2)\n",
            "Requirement already satisfied: cvxpy in /usr/local/lib/python3.7/dist-packages (from fancyimpute) (1.0.31)\n",
            "Requirement already satisfied: knnimpute>=0.1.0 in /usr/local/lib/python3.7/dist-packages (from fancyimpute) (0.1.0)\n",
            "Requirement already satisfied: nose in /usr/local/lib/python3.7/dist-packages (from fancyimpute) (1.3.7)\n",
            "Requirement already satisfied: cvxopt in /usr/local/lib/python3.7/dist-packages (from fancyimpute) (1.2.7)\n",
            "Requirement already satisfied: pytest in /usr/local/lib/python3.7/dist-packages (from fancyimpute) (3.6.4)\n",
            "Requirement already satisfied: six in /usr/local/lib/python3.7/dist-packages (from knnimpute>=0.1.0->fancyimpute) (1.15.0)\n",
            "Requirement already satisfied: numpy>=1.10 in /usr/local/lib/python3.7/dist-packages (from knnimpute>=0.1.0->fancyimpute) (1.21.6)\n",
            "Requirement already satisfied: joblib>=0.11 in /usr/local/lib/python3.7/dist-packages (from scikit-learn>=0.24.2->fancyimpute) (1.1.0)\n",
            "Requirement already satisfied: scipy>=1.1.0 in /usr/local/lib/python3.7/dist-packages (from scikit-learn>=0.24.2->fancyimpute) (1.7.3)\n",
            "Requirement already satisfied: threadpoolctl>=2.0.0 in /usr/local/lib/python3.7/dist-packages (from scikit-learn>=0.24.2->fancyimpute) (3.1.0)\n",
            "Requirement already satisfied: scs>=1.1.3 in /usr/local/lib/python3.7/dist-packages (from cvxpy->fancyimpute) (3.2.0)\n",
            "Requirement already satisfied: ecos>=2 in /usr/local/lib/python3.7/dist-packages (from cvxpy->fancyimpute) (2.0.10)\n",
            "Requirement already satisfied: osqp>=0.4.1 in /usr/local/lib/python3.7/dist-packages (from cvxpy->fancyimpute) (0.6.2.post0)\n",
            "Requirement already satisfied: multiprocess in /usr/local/lib/python3.7/dist-packages (from cvxpy->fancyimpute) (0.70.13)\n",
            "Requirement already satisfied: qdldl in /usr/local/lib/python3.7/dist-packages (from osqp>=0.4.1->cvxpy->fancyimpute) (0.1.5.post2)\n",
            "Requirement already satisfied: dill>=0.3.5.1 in /usr/local/lib/python3.7/dist-packages (from multiprocess->cvxpy->fancyimpute) (0.3.5.1)\n",
            "Requirement already satisfied: pluggy<0.8,>=0.5 in /usr/local/lib/python3.7/dist-packages (from pytest->fancyimpute) (0.7.1)\n",
            "Requirement already satisfied: more-itertools>=4.0.0 in /usr/local/lib/python3.7/dist-packages (from pytest->fancyimpute) (8.13.0)\n",
            "Requirement already satisfied: attrs>=17.4.0 in /usr/local/lib/python3.7/dist-packages (from pytest->fancyimpute) (21.4.0)\n",
            "Requirement already satisfied: atomicwrites>=1.0 in /usr/local/lib/python3.7/dist-packages (from pytest->fancyimpute) (1.4.1)\n",
            "Requirement already satisfied: py>=1.5.0 in /usr/local/lib/python3.7/dist-packages (from pytest->fancyimpute) (1.11.0)\n",
            "Requirement already satisfied: setuptools in /usr/local/lib/python3.7/dist-packages (from pytest->fancyimpute) (57.4.0)\n"
          ]
        }
      ]
    },
    {
      "cell_type": "code",
      "source": [
        "#from fancyimpute import  # knn implimenation for missing values\n",
        "from fancyimpute import KNN\n",
        "knn_imputer = KNN()\n",
        "df_knn = df.copy( deep = True)\n",
        "df_knn.iloc[:, :] = mode_imputer.fit_transform(df_knn)\n",
        "\n",
        "\n"
      ],
      "metadata": {
        "id": "fVPHP-ONcuRT"
      },
      "execution_count": 140,
      "outputs": []
    },
    {
      "cell_type": "code",
      "source": [
        "df_knn.head(10)"
      ],
      "metadata": {
        "colab": {
          "base_uri": "https://localhost:8080/",
          "height": 363
        },
        "id": "iZMGfwbDekKR",
        "outputId": "ac68a143-7a2f-4dbc-a44a-753a663b1fdf"
      },
      "execution_count": 288,
      "outputs": [
        {
          "output_type": "execute_result",
          "data": {
            "text/plain": [
              "   Sl_No  Age     Sex                 Job Housing Saving_accounts  \\\n",
              "0      0   67    male             skilled     own          little   \n",
              "1      1   22  female             skilled     own          little   \n",
              "2      2   49    male  unskilled_resident     own          little   \n",
              "3      3   45    male             skilled    free          little   \n",
              "4      4   53    male             skilled    free          little   \n",
              "5      5   35    male  unskilled_resident    free          little   \n",
              "6      6   53    male             skilled     own      quite rich   \n",
              "7      7   35    male      highly_skilled    rent          little   \n",
              "8      8   61    male  unskilled_resident     own            rich   \n",
              "9      9   28    male      highly_skilled     own          little   \n",
              "\n",
              "  Checking_account  Credit_amount  Duration_month              Purpose  \n",
              "0           little           1169               6             radio/TV  \n",
              "1         moderate           5951              48             radio/TV  \n",
              "2           little           2096              12            education  \n",
              "3           little           7882              42  furniture/equipment  \n",
              "4           little           4870              24                  car  \n",
              "5           little           9055              36            education  \n",
              "6           little           2835              24  furniture/equipment  \n",
              "7         moderate           6948              36                  car  \n",
              "8           little           3059              12             radio/TV  \n",
              "9         moderate           5234              30                  car  "
            ],
            "text/html": [
              "\n",
              "  <div id=\"df-b7971539-55b0-425c-9b9e-22b187c70f74\">\n",
              "    <div class=\"colab-df-container\">\n",
              "      <div>\n",
              "<style scoped>\n",
              "    .dataframe tbody tr th:only-of-type {\n",
              "        vertical-align: middle;\n",
              "    }\n",
              "\n",
              "    .dataframe tbody tr th {\n",
              "        vertical-align: top;\n",
              "    }\n",
              "\n",
              "    .dataframe thead th {\n",
              "        text-align: right;\n",
              "    }\n",
              "</style>\n",
              "<table border=\"1\" class=\"dataframe\">\n",
              "  <thead>\n",
              "    <tr style=\"text-align: right;\">\n",
              "      <th></th>\n",
              "      <th>Sl_No</th>\n",
              "      <th>Age</th>\n",
              "      <th>Sex</th>\n",
              "      <th>Job</th>\n",
              "      <th>Housing</th>\n",
              "      <th>Saving_accounts</th>\n",
              "      <th>Checking_account</th>\n",
              "      <th>Credit_amount</th>\n",
              "      <th>Duration_month</th>\n",
              "      <th>Purpose</th>\n",
              "    </tr>\n",
              "  </thead>\n",
              "  <tbody>\n",
              "    <tr>\n",
              "      <th>0</th>\n",
              "      <td>0</td>\n",
              "      <td>67</td>\n",
              "      <td>male</td>\n",
              "      <td>skilled</td>\n",
              "      <td>own</td>\n",
              "      <td>little</td>\n",
              "      <td>little</td>\n",
              "      <td>1169</td>\n",
              "      <td>6</td>\n",
              "      <td>radio/TV</td>\n",
              "    </tr>\n",
              "    <tr>\n",
              "      <th>1</th>\n",
              "      <td>1</td>\n",
              "      <td>22</td>\n",
              "      <td>female</td>\n",
              "      <td>skilled</td>\n",
              "      <td>own</td>\n",
              "      <td>little</td>\n",
              "      <td>moderate</td>\n",
              "      <td>5951</td>\n",
              "      <td>48</td>\n",
              "      <td>radio/TV</td>\n",
              "    </tr>\n",
              "    <tr>\n",
              "      <th>2</th>\n",
              "      <td>2</td>\n",
              "      <td>49</td>\n",
              "      <td>male</td>\n",
              "      <td>unskilled_resident</td>\n",
              "      <td>own</td>\n",
              "      <td>little</td>\n",
              "      <td>little</td>\n",
              "      <td>2096</td>\n",
              "      <td>12</td>\n",
              "      <td>education</td>\n",
              "    </tr>\n",
              "    <tr>\n",
              "      <th>3</th>\n",
              "      <td>3</td>\n",
              "      <td>45</td>\n",
              "      <td>male</td>\n",
              "      <td>skilled</td>\n",
              "      <td>free</td>\n",
              "      <td>little</td>\n",
              "      <td>little</td>\n",
              "      <td>7882</td>\n",
              "      <td>42</td>\n",
              "      <td>furniture/equipment</td>\n",
              "    </tr>\n",
              "    <tr>\n",
              "      <th>4</th>\n",
              "      <td>4</td>\n",
              "      <td>53</td>\n",
              "      <td>male</td>\n",
              "      <td>skilled</td>\n",
              "      <td>free</td>\n",
              "      <td>little</td>\n",
              "      <td>little</td>\n",
              "      <td>4870</td>\n",
              "      <td>24</td>\n",
              "      <td>car</td>\n",
              "    </tr>\n",
              "    <tr>\n",
              "      <th>5</th>\n",
              "      <td>5</td>\n",
              "      <td>35</td>\n",
              "      <td>male</td>\n",
              "      <td>unskilled_resident</td>\n",
              "      <td>free</td>\n",
              "      <td>little</td>\n",
              "      <td>little</td>\n",
              "      <td>9055</td>\n",
              "      <td>36</td>\n",
              "      <td>education</td>\n",
              "    </tr>\n",
              "    <tr>\n",
              "      <th>6</th>\n",
              "      <td>6</td>\n",
              "      <td>53</td>\n",
              "      <td>male</td>\n",
              "      <td>skilled</td>\n",
              "      <td>own</td>\n",
              "      <td>quite rich</td>\n",
              "      <td>little</td>\n",
              "      <td>2835</td>\n",
              "      <td>24</td>\n",
              "      <td>furniture/equipment</td>\n",
              "    </tr>\n",
              "    <tr>\n",
              "      <th>7</th>\n",
              "      <td>7</td>\n",
              "      <td>35</td>\n",
              "      <td>male</td>\n",
              "      <td>highly_skilled</td>\n",
              "      <td>rent</td>\n",
              "      <td>little</td>\n",
              "      <td>moderate</td>\n",
              "      <td>6948</td>\n",
              "      <td>36</td>\n",
              "      <td>car</td>\n",
              "    </tr>\n",
              "    <tr>\n",
              "      <th>8</th>\n",
              "      <td>8</td>\n",
              "      <td>61</td>\n",
              "      <td>male</td>\n",
              "      <td>unskilled_resident</td>\n",
              "      <td>own</td>\n",
              "      <td>rich</td>\n",
              "      <td>little</td>\n",
              "      <td>3059</td>\n",
              "      <td>12</td>\n",
              "      <td>radio/TV</td>\n",
              "    </tr>\n",
              "    <tr>\n",
              "      <th>9</th>\n",
              "      <td>9</td>\n",
              "      <td>28</td>\n",
              "      <td>male</td>\n",
              "      <td>highly_skilled</td>\n",
              "      <td>own</td>\n",
              "      <td>little</td>\n",
              "      <td>moderate</td>\n",
              "      <td>5234</td>\n",
              "      <td>30</td>\n",
              "      <td>car</td>\n",
              "    </tr>\n",
              "  </tbody>\n",
              "</table>\n",
              "</div>\n",
              "      <button class=\"colab-df-convert\" onclick=\"convertToInteractive('df-b7971539-55b0-425c-9b9e-22b187c70f74')\"\n",
              "              title=\"Convert this dataframe to an interactive table.\"\n",
              "              style=\"display:none;\">\n",
              "        \n",
              "  <svg xmlns=\"http://www.w3.org/2000/svg\" height=\"24px\"viewBox=\"0 0 24 24\"\n",
              "       width=\"24px\">\n",
              "    <path d=\"M0 0h24v24H0V0z\" fill=\"none\"/>\n",
              "    <path d=\"M18.56 5.44l.94 2.06.94-2.06 2.06-.94-2.06-.94-.94-2.06-.94 2.06-2.06.94zm-11 1L8.5 8.5l.94-2.06 2.06-.94-2.06-.94L8.5 2.5l-.94 2.06-2.06.94zm10 10l.94 2.06.94-2.06 2.06-.94-2.06-.94-.94-2.06-.94 2.06-2.06.94z\"/><path d=\"M17.41 7.96l-1.37-1.37c-.4-.4-.92-.59-1.43-.59-.52 0-1.04.2-1.43.59L10.3 9.45l-7.72 7.72c-.78.78-.78 2.05 0 2.83L4 21.41c.39.39.9.59 1.41.59.51 0 1.02-.2 1.41-.59l7.78-7.78 2.81-2.81c.8-.78.8-2.07 0-2.86zM5.41 20L4 18.59l7.72-7.72 1.47 1.35L5.41 20z\"/>\n",
              "  </svg>\n",
              "      </button>\n",
              "      \n",
              "  <style>\n",
              "    .colab-df-container {\n",
              "      display:flex;\n",
              "      flex-wrap:wrap;\n",
              "      gap: 12px;\n",
              "    }\n",
              "\n",
              "    .colab-df-convert {\n",
              "      background-color: #E8F0FE;\n",
              "      border: none;\n",
              "      border-radius: 50%;\n",
              "      cursor: pointer;\n",
              "      display: none;\n",
              "      fill: #1967D2;\n",
              "      height: 32px;\n",
              "      padding: 0 0 0 0;\n",
              "      width: 32px;\n",
              "    }\n",
              "\n",
              "    .colab-df-convert:hover {\n",
              "      background-color: #E2EBFA;\n",
              "      box-shadow: 0px 1px 2px rgba(60, 64, 67, 0.3), 0px 1px 3px 1px rgba(60, 64, 67, 0.15);\n",
              "      fill: #174EA6;\n",
              "    }\n",
              "\n",
              "    [theme=dark] .colab-df-convert {\n",
              "      background-color: #3B4455;\n",
              "      fill: #D2E3FC;\n",
              "    }\n",
              "\n",
              "    [theme=dark] .colab-df-convert:hover {\n",
              "      background-color: #434B5C;\n",
              "      box-shadow: 0px 1px 3px 1px rgba(0, 0, 0, 0.15);\n",
              "      filter: drop-shadow(0px 1px 2px rgba(0, 0, 0, 0.3));\n",
              "      fill: #FFFFFF;\n",
              "    }\n",
              "  </style>\n",
              "\n",
              "      <script>\n",
              "        const buttonEl =\n",
              "          document.querySelector('#df-b7971539-55b0-425c-9b9e-22b187c70f74 button.colab-df-convert');\n",
              "        buttonEl.style.display =\n",
              "          google.colab.kernel.accessAllowed ? 'block' : 'none';\n",
              "\n",
              "        async function convertToInteractive(key) {\n",
              "          const element = document.querySelector('#df-b7971539-55b0-425c-9b9e-22b187c70f74');\n",
              "          const dataTable =\n",
              "            await google.colab.kernel.invokeFunction('convertToInteractive',\n",
              "                                                     [key], {});\n",
              "          if (!dataTable) return;\n",
              "\n",
              "          const docLinkHtml = 'Like what you see? Visit the ' +\n",
              "            '<a target=\"_blank\" href=https://colab.research.google.com/notebooks/data_table.ipynb>data table notebook</a>'\n",
              "            + ' to learn more about interactive tables.';\n",
              "          element.innerHTML = '';\n",
              "          dataTable['output_type'] = 'display_data';\n",
              "          await google.colab.output.renderOutput(dataTable, element);\n",
              "          const docLink = document.createElement('div');\n",
              "          docLink.innerHTML = docLinkHtml;\n",
              "          element.appendChild(docLink);\n",
              "        }\n",
              "      </script>\n",
              "    </div>\n",
              "  </div>\n",
              "  "
            ]
          },
          "metadata": {},
          "execution_count": 288
        }
      ]
    },
    {
      "cell_type": "code",
      "source": [
        "fig,axes = plt.subplots(nrows = 1, ncols = 3, figsize = (10,5)) # comparing implimenation of missing vales\n",
        "sns.countplot( x= 'Saving_accounts', data = df,  ax=axes[0])\n",
        "sns.countplot( x= 'Saving_accounts', data = df_mode,  ax=axes[1])\n",
        "sns.countplot( x= 'Saving_accounts', data = df_knn,  ax=axes[2])"
      ],
      "metadata": {
        "colab": {
          "base_uri": "https://localhost:8080/",
          "height": 353
        },
        "id": "eigP5irbjran",
        "outputId": "1d772dd8-c9de-4380-dd1a-56aeb3fdab94"
      },
      "execution_count": 289,
      "outputs": [
        {
          "output_type": "execute_result",
          "data": {
            "text/plain": [
              "<matplotlib.axes._subplots.AxesSubplot at 0x7f6eb4d17210>"
            ]
          },
          "metadata": {},
          "execution_count": 289
        },
        {
          "output_type": "display_data",
          "data": {
            "text/plain": [
              "<Figure size 720x360 with 3 Axes>"
            ],
            "image/png": "[encoded data removed]"
          },
          "metadata": {
            "needs_background": "light"
          }
        }
      ]
    },
    {
      "cell_type": "code",
      "source": [
        "fig,axes = plt.subplots(nrows = 1, ncols = 3, figsize = (10,5))  ## comparing implimenation of missing vales\n",
        "sns.countplot( x= 'Checking_account', data = df,  ax=axes[0]).set(title='original data set')\n",
        "sns.countplot( x= 'Checking_account', data = df_mode,  ax=axes[1]).set(title='mode imputation')\n",
        "sns.countplot( x= 'Checking_account', data = df_knn,  ax=axes[2]).set(title='KNN imputation')"
      ],
      "metadata": {
        "colab": {
          "base_uri": "https://localhost:8080/",
          "height": 369
        },
        "id": "XRAU-WNHl0Ac",
        "outputId": "5425c2de-7c73-412b-f757-1a70d8a998fa"
      },
      "execution_count": 290,
      "outputs": [
        {
          "output_type": "execute_result",
          "data": {
            "text/plain": [
              "[Text(0.5, 1.0, 'KNN imputation')]"
            ]
          },
          "metadata": {},
          "execution_count": 290
        },
        {
          "output_type": "display_data",
          "data": {
            "text/plain": [
              "<Figure size 720x360 with 3 Axes>"
            ],
            "image/png": "[encoded data removed]"
          },
          "metadata": {
            "needs_background": "light"
          }
        }
      ]
    },
    {
      "cell_type": "markdown",
      "source": [
        "------------------------------------------------------------------------"
      ],
      "metadata": {
        "id": "xPKo5mLfOsE0"
      }
    },
    {
      "cell_type": "code",
      "source": [
        "sns.countplot( x= 'Sex', data = df).set(title= \"Fig 1\") # Checking data distrubution in the column Sex\n"
      ],
      "metadata": {
        "colab": {
          "base_uri": "https://localhost:8080/",
          "height": 313
        },
        "id": "HOR83IcQhEez",
        "outputId": "1a452b32-b9f1-4078-fe5c-6c24616d939b"
      },
      "execution_count": 291,
      "outputs": [
        {
          "output_type": "execute_result",
          "data": {
            "text/plain": [
              "[Text(0.5, 1.0, 'Fig 1')]"
            ]
          },
          "metadata": {},
          "execution_count": 291
        },
        {
          "output_type": "display_data",
          "data": {
            "text/plain": [
              "<Figure size 432x288 with 1 Axes>"
            ],
            "image/png": "[encoded data removed]"
          },
          "metadata": {
            "needs_background": "light"
          }
        }
      ]
    },
    {
      "cell_type": "code",
      "source": [
        "df.Sex.value_counts()"
      ],
      "metadata": {
        "colab": {
          "base_uri": "https://localhost:8080/"
        },
        "id": "Z9BGDrfcGmTr",
        "outputId": "0fa17dd1-ef89-4717-b1e2-6e80b2822c88"
      },
      "execution_count": 292,
      "outputs": [
        {
          "output_type": "execute_result",
          "data": {
            "text/plain": [
              "male      690\n",
              "female    310\n",
              "Name: Sex, dtype: int64"
            ]
          },
          "metadata": {},
          "execution_count": 292
        }
      ]
    },
    {
      "cell_type": "markdown",
      "source": [
        "**from above fig 1 , we can observed that the column \"Sex\" contains more number of Male data, than female data.**\n",
        "\n",
        "male     =  690\n",
        "\n",
        "\n",
        "female  =  310\n",
        "\n"
      ],
      "metadata": {
        "id": "TWweSfokHzNl"
      }
    },
    {
      "cell_type": "markdown",
      "source": [
        "------------------------------------------------------------------------"
      ],
      "metadata": {
        "id": "1dOFaaw5Ojwc"
      }
    },
    {
      "cell_type": "code",
      "source": [
        "sns.countplot( x= 'Job', data = df).set(title= \"Fig 1\") # Checking data distrubution in the column Job\n"
      ],
      "metadata": {
        "colab": {
          "base_uri": "https://localhost:8080/",
          "height": 314
        },
        "id": "1_6-LKGAKebX",
        "outputId": "5b314c63-0cde-4c4c-b696-de68ef977e5b"
      },
      "execution_count": 293,
      "outputs": [
        {
          "output_type": "execute_result",
          "data": {
            "text/plain": [
              "[Text(0.5, 1.0, 'Fig 1')]"
            ]
          },
          "metadata": {},
          "execution_count": 293
        },
        {
          "output_type": "display_data",
          "data": {
            "text/plain": [
              "<Figure size 432x288 with 1 Axes>"
            ],
            "image/png": "[encoded data removed]"
          },
          "metadata": {
            "needs_background": "light"
          }
        }
      ]
    },
    {
      "cell_type": "code",
      "source": [
        "df.Job.value_counts()"
      ],
      "metadata": {
        "colab": {
          "base_uri": "https://localhost:8080/"
        },
        "id": "njsp-n0DLfHR",
        "outputId": "7d2ed9c0-81a9-492c-c0a3-1912bdc889e5"
      },
      "execution_count": 294,
      "outputs": [
        {
          "output_type": "execute_result",
          "data": {
            "text/plain": [
              "skilled                   630\n",
              "unskilled_resident        200\n",
              "highly_skilled            148\n",
              "unskilled_non_resident     22\n",
              "Name: Job, dtype: int64"
            ]
          },
          "metadata": {},
          "execution_count": 294
        }
      ]
    },
    {
      "cell_type": "markdown",
      "source": [
        "**From above fig 1 , we can observe that, the column job  contains more data about skilled people, and less about non_resident people**\n",
        "\n",
        "the couns are as below\n",
        "\n",
        "skilled           =        630\n",
        "\n",
        "\n",
        "unskilled_resident      =  200\n",
        "\n",
        "\n",
        "highly_skilled       =     148\n",
        "\n",
        "\n",
        "unskilled_non_resident  =   22"
      ],
      "metadata": {
        "id": "E3hht745LoCt"
      }
    },
    {
      "cell_type": "markdown",
      "source": [
        "------------------------------------------------------------------------"
      ],
      "metadata": {
        "id": "AivIC-_nOe7i"
      }
    },
    {
      "cell_type": "code",
      "source": [
        "sns.countplot( x= 'Housing', data = df).set(title= \"Fig 1\") # Checking data distrubution in the column Housing"
      ],
      "metadata": {
        "colab": {
          "base_uri": "https://localhost:8080/",
          "height": 313
        },
        "id": "ns4bq-6WNVE-",
        "outputId": "76817f5a-518b-4dbd-d1b7-1fff562cb71b"
      },
      "execution_count": 295,
      "outputs": [
        {
          "output_type": "execute_result",
          "data": {
            "text/plain": [
              "[Text(0.5, 1.0, 'Fig 1')]"
            ]
          },
          "metadata": {},
          "execution_count": 295
        },
        {
          "output_type": "display_data",
          "data": {
            "text/plain": [
              "<Figure size 432x288 with 1 Axes>"
            ],
            "image/png": "[encoded data removed]"
          },
          "metadata": {
            "needs_background": "light"
          }
        }
      ]
    },
    {
      "cell_type": "code",
      "source": [
        "df.Housing.value_counts()"
      ],
      "metadata": {
        "colab": {
          "base_uri": "https://localhost:8080/"
        },
        "id": "_JM0i3toNlrJ",
        "outputId": "4acc27b4-b029-4932-91f1-c898cc510c3a"
      },
      "execution_count": 296,
      "outputs": [
        {
          "output_type": "execute_result",
          "data": {
            "text/plain": [
              "own     713\n",
              "rent    179\n",
              "free    108\n",
              "Name: Housing, dtype: int64"
            ]
          },
          "metadata": {},
          "execution_count": 296
        }
      ]
    },
    {
      "cell_type": "markdown",
      "source": [
        "From above fig 1 we can observe that, the column Housing contains more number data about own housing , and less about free housing\n",
        "\n",
        "Count are as below\n",
        "\n",
        "own     713\n",
        "\n",
        "\n",
        "rent    179\n",
        "\n",
        "\n",
        "free    108"
      ],
      "metadata": {
        "id": "aeJFJam6N4i-"
      }
    },
    {
      "cell_type": "code",
      "source": [
        "sns.countplot( x= 'Saving_accounts', data = df_mode).set(title= \"Fig 1\") # Checking data distrubution in the column Saving Account\n"
      ],
      "metadata": {
        "colab": {
          "base_uri": "https://localhost:8080/",
          "height": 314
        },
        "id": "XAajRRw4QZIZ",
        "outputId": "7cae94a4-0641-453a-bbfb-b2dfa59bd7a8"
      },
      "execution_count": 297,
      "outputs": [
        {
          "output_type": "execute_result",
          "data": {
            "text/plain": [
              "[Text(0.5, 1.0, 'Fig 1')]"
            ]
          },
          "metadata": {},
          "execution_count": 297
        },
        {
          "output_type": "display_data",
          "data": {
            "text/plain": [
              "<Figure size 432x288 with 1 Axes>"
            ],
            "image/png": "[encoded data removed]"
          },
          "metadata": {
            "needs_background": "light"
          }
        }
      ]
    },
    {
      "cell_type": "code",
      "source": [
        "df_mode.Saving_accounts.value_counts()"
      ],
      "metadata": {
        "colab": {
          "base_uri": "https://localhost:8080/"
        },
        "id": "lEYwxMrHRfbj",
        "outputId": "2605f3e4-b8ea-4cee-f8d0-dbc99a5eafb5"
      },
      "execution_count": 298,
      "outputs": [
        {
          "output_type": "execute_result",
          "data": {
            "text/plain": [
              "little        786\n",
              "moderate      103\n",
              "quite rich     63\n",
              "rich           48\n",
              "Name: Saving_accounts, dtype: int64"
            ]
          },
          "metadata": {},
          "execution_count": 298
        }
      ]
    },
    {
      "cell_type": "markdown",
      "source": [
        "Above fig 1 shows the distribution of column \"saving account' after filling miising values with mode\n",
        "\n",
        "we can observe that the column contains more data about little category.\n",
        "\n",
        "the count is as below\n",
        "\n",
        "little    =    786\n",
        "\n",
        "\n",
        "moderate     =  103\n",
        "\n",
        "\n",
        "quite rich   =  63\n",
        "\n",
        "\n",
        "rich     =      48"
      ],
      "metadata": {
        "id": "SiptQiVqQbUR"
      }
    },
    {
      "cell_type": "markdown",
      "source": [
        "--------------------------------------------------------------------------------\n"
      ],
      "metadata": {
        "id": "qb7BMT8NRzl_"
      }
    },
    {
      "cell_type": "code",
      "source": [
        "sns.countplot( x= 'Checking_account', data = df_mode).set(title= \"Fig 1\") # Checking data distrubution in the column Checking_account "
      ],
      "metadata": {
        "colab": {
          "base_uri": "https://localhost:8080/",
          "height": 314
        },
        "id": "xpfKft5kR2hI",
        "outputId": "d9516810-78f9-4ee9-dae6-941f6969683e"
      },
      "execution_count": 299,
      "outputs": [
        {
          "output_type": "execute_result",
          "data": {
            "text/plain": [
              "[Text(0.5, 1.0, 'Fig 1')]"
            ]
          },
          "metadata": {},
          "execution_count": 299
        },
        {
          "output_type": "display_data",
          "data": {
            "text/plain": [
              "<Figure size 432x288 with 1 Axes>"
            ],
            "image/png": "[encoded data removed]"
          },
          "metadata": {
            "needs_background": "light"
          }
        }
      ]
    },
    {
      "cell_type": "code",
      "source": [
        "df_mode.Checking_account.value_counts()"
      ],
      "metadata": {
        "colab": {
          "base_uri": "https://localhost:8080/"
        },
        "id": "2tWYhYnUSH0F",
        "outputId": "f0d6e8d8-a185-40c4-b80f-669eb8976ef6"
      },
      "execution_count": 300,
      "outputs": [
        {
          "output_type": "execute_result",
          "data": {
            "text/plain": [
              "little      668\n",
              "moderate    269\n",
              "rich         63\n",
              "Name: Checking_account, dtype: int64"
            ]
          },
          "metadata": {},
          "execution_count": 300
        }
      ]
    },
    {
      "cell_type": "markdown",
      "source": [
        "From aove fig, we can observe that the column checking account contains more data about liitle category, after replacing missing values with mode\n",
        "\n",
        "also the count is\n",
        "\n",
        "little      668\n",
        "\n",
        "\n",
        "moderate    269\n",
        "\n",
        "\n",
        "rich         63"
      ],
      "metadata": {
        "id": "iVMtoXUnSKu-"
      }
    },
    {
      "cell_type": "markdown",
      "source": [
        "-------------------------------------------------------------------------------"
      ],
      "metadata": {
        "id": "NcoMxrvBT3QH"
      }
    },
    {
      "cell_type": "code",
      "source": [
        "fig,axes = plt.subplots(nrows = 1, ncols = 2, figsize = (10,5))  # Checking data distrubution in the column Credit amount \n",
        "sns.histplot(x =\"Credit_amount\", data = df, kde = True,ax=axes[0]).set(title = \"fig 1\")\n",
        "sns.boxplot(x= \"Credit_amount\",ax=axes[1], data = df).set(title = \"fig 2\")"
      ],
      "metadata": {
        "colab": {
          "base_uri": "https://localhost:8080/",
          "height": 369
        },
        "id": "ow-DUdIGT5o1",
        "outputId": "4d28f409-71ac-4d82-b537-d82c7ad87d01"
      },
      "execution_count": 301,
      "outputs": [
        {
          "output_type": "execute_result",
          "data": {
            "text/plain": [
              "[Text(0.5, 1.0, 'fig 2')]"
            ]
          },
          "metadata": {},
          "execution_count": 301
        },
        {
          "output_type": "display_data",
          "data": {
            "text/plain": [
              "<Figure size 720x360 with 2 Axes>"
            ],
            "image/png": "[encoded data removed]"
          },
          "metadata": {
            "needs_background": "light"
          }
        }
      ]
    },
    {
      "cell_type": "code",
      "source": [
        "df_mode.Credit_amount.skew().round(2)"
      ],
      "metadata": {
        "colab": {
          "base_uri": "https://localhost:8080/"
        },
        "id": "w3r8l8MunyB2",
        "outputId": "912b89c5-3603-42dc-efc6-597463d101b1"
      },
      "execution_count": 302,
      "outputs": [
        {
          "output_type": "execute_result",
          "data": {
            "text/plain": [
              "1.95"
            ]
          },
          "metadata": {},
          "execution_count": 302
        }
      ]
    },
    {
      "cell_type": "markdown",
      "source": [
        "from above fig1, we can observe that the column credit amount is right skewed data, \n",
        "\n",
        "from fig 2 we can observe that the column contains Outliers\n",
        "\n",
        "the skewness of column is **1.95** i.e Highly skewd data"
      ],
      "metadata": {
        "id": "cw5RLIkNVYCZ"
      }
    },
    {
      "cell_type": "markdown",
      "source": [
        "-------------------------------------------------------------------------"
      ],
      "metadata": {
        "id": "EzRTxroxklTP"
      }
    },
    {
      "cell_type": "code",
      "source": [
        "fig,axes = plt.subplots(nrows = 1, ncols = 2, figsize = (10,5)) # Checking data distrubution in the column Duration \n",
        "sns.histplot(x =\"Duration_month\", data = df, kde = True,ax=axes[0]).set(title = \"fig 1\")\n",
        "sns.boxplot(x= \"Duration_month\",ax=axes[1], data = df).set(title = \"fig 2\")"
      ],
      "metadata": {
        "colab": {
          "base_uri": "https://localhost:8080/",
          "height": 369
        },
        "id": "JUdE6IXNknho",
        "outputId": "6dd93617-8885-41a9-b0ad-e9fdd28f4ae0"
      },
      "execution_count": 303,
      "outputs": [
        {
          "output_type": "execute_result",
          "data": {
            "text/plain": [
              "[Text(0.5, 1.0, 'fig 2')]"
            ]
          },
          "metadata": {},
          "execution_count": 303
        },
        {
          "output_type": "display_data",
          "data": {
            "text/plain": [
              "<Figure size 720x360 with 2 Axes>"
            ],
            "image/png": "[encoded data removed]"
          },
          "metadata": {
            "needs_background": "light"
          }
        }
      ]
    },
    {
      "cell_type": "code",
      "source": [
        "fig = plt.figure(figsize = (15,7))\n",
        "sns.countplot( x= 'Purpose', data = df).set(title= \"Fig 1\") # Checking data distrubution in the column Housing"
      ],
      "metadata": {
        "colab": {
          "base_uri": "https://localhost:8080/",
          "height": 476
        },
        "id": "qw75rMiap6mE",
        "outputId": "dc1ff9f6-766a-422c-d849-65a9df726e08"
      },
      "execution_count": 304,
      "outputs": [
        {
          "output_type": "execute_result",
          "data": {
            "text/plain": [
              "[Text(0.5, 1.0, 'Fig 1')]"
            ]
          },
          "metadata": {},
          "execution_count": 304
        },
        {
          "output_type": "display_data",
          "data": {
            "text/plain": [
              "<Figure size 1080x504 with 1 Axes>"
            ],
            "image/png": "[encoded data removed]"
          },
          "metadata": {
            "needs_background": "light"
          }
        }
      ]
    },
    {
      "cell_type": "markdown",
      "source": [
        "above figur shows that, most of the people used to take car in credit"
      ],
      "metadata": {
        "id": "z1Y5W_ueqqGt"
      }
    },
    {
      "cell_type": "markdown",
      "source": [
        "#taking log for column having skewed data"
      ],
      "metadata": {
        "id": "nHeE8EzmYbT8"
      }
    },
    {
      "cell_type": "code",
      "source": [
        "\n",
        "df['Credit_amount_log'] = np.log(df['Credit_amount']) # taking log of the column"
      ],
      "metadata": {
        "id": "xwsTIbTgY6qu"
      },
      "execution_count": 319,
      "outputs": []
    },
    {
      "cell_type": "code",
      "source": [
        "df_mode['Credit_amount_log'] = np.log(df['Credit_amount'])"
      ],
      "metadata": {
        "id": "R_Bku0bjyLaW"
      },
      "execution_count": 320,
      "outputs": []
    },
    {
      "cell_type": "code",
      "source": [
        "fig,axes = plt.subplots(nrows = 1, ncols = 2, figsize = (10,5))\n",
        "sns.histplot(x =\"Credit_amount_log\", data = df, kde = True,ax=axes[0]).set(title = \"fig 1\")\n",
        "sns.boxplot(x= \"Credit_amount_log\",ax=axes[1], data = df).set(title = \"fig 2\")"
      ],
      "metadata": {
        "colab": {
          "base_uri": "https://localhost:8080/",
          "height": 369
        },
        "id": "miM_XDpia2KU",
        "outputId": "55eb0785-b7eb-4f31-9499-9925cacec244"
      },
      "execution_count": 306,
      "outputs": [
        {
          "output_type": "execute_result",
          "data": {
            "text/plain": [
              "[Text(0.5, 1.0, 'fig 2')]"
            ]
          },
          "metadata": {},
          "execution_count": 306
        },
        {
          "output_type": "display_data",
          "data": {
            "text/plain": [
              "<Figure size 720x360 with 2 Axes>"
            ],
            "image/png": "[encoded data removed]"
          },
          "metadata": {
            "needs_background": "light"
          }
        }
      ]
    },
    {
      "cell_type": "code",
      "source": [
        "df.Credit_amount_log.skew().round(2)"
      ],
      "metadata": {
        "colab": {
          "base_uri": "https://localhost:8080/"
        },
        "id": "mGit2U2hbJFv",
        "outputId": "22270175-ba34-49ca-d4f4-2b134dcde761"
      },
      "execution_count": 90,
      "outputs": [
        {
          "output_type": "execute_result",
          "data": {
            "text/plain": [
              "0.13"
            ]
          },
          "metadata": {},
          "execution_count": 90
        }
      ]
    },
    {
      "cell_type": "markdown",
      "source": [
        "After taking log of tyhe table , we can obse4rve that, the Fig 1 became almost normaly distributed, and also outliers are decreased. \n",
        "\n",
        "also skewness became **0.12** i.e almost symetric"
      ],
      "metadata": {
        "id": "wQ9iAs5JbG73"
      }
    },
    {
      "cell_type": "code",
      "source": [
        "df['Age_log'] = np.log(df['Age']) # Taking log for Age column"
      ],
      "metadata": {
        "id": "pD7pbTfJb4iA"
      },
      "execution_count": 315,
      "outputs": []
    },
    {
      "cell_type": "code",
      "source": [
        "df_mode['Age_log'] = np.log(df['Age'])"
      ],
      "metadata": {
        "id": "h8H4n8Lwz6D2"
      },
      "execution_count": 316,
      "outputs": []
    },
    {
      "cell_type": "code",
      "source": [
        "fig,axes = plt.subplots(nrows = 1, ncols = 2, figsize = (10,5))\n",
        "sns.histplot(x =\"Age_log\", data = df, kde = True,ax=axes[0]).set(title = \"fig 1\")\n",
        "sns.boxplot(x= \"Age_log\",ax=axes[1], data = df).set(title = \"fig 2\")"
      ],
      "metadata": {
        "colab": {
          "base_uri": "https://localhost:8080/",
          "height": 369
        },
        "id": "6mjAQBZUcFKX",
        "outputId": "b51ce7f7-b1c6-4ec4-b912-3e9552cf28b3"
      },
      "execution_count": 87,
      "outputs": [
        {
          "output_type": "execute_result",
          "data": {
            "text/plain": [
              "[Text(0.5, 1.0, 'fig 2')]"
            ]
          },
          "metadata": {},
          "execution_count": 87
        },
        {
          "output_type": "display_data",
          "data": {
            "text/plain": [
              "<Figure size 720x360 with 2 Axes>"
            ],
            "image/png": "[encoded data removed]"
          },
          "metadata": {
            "needs_background": "light"
          }
        }
      ]
    },
    {
      "cell_type": "code",
      "source": [
        "df.Age_log.skew().round(2)"
      ],
      "metadata": {
        "colab": {
          "base_uri": "https://localhost:8080/"
        },
        "id": "KpgyPBoHcVK8",
        "outputId": "87456372-9cbd-4a9f-c1e8-ddc0dd05222c"
      },
      "execution_count": 91,
      "outputs": [
        {
          "output_type": "execute_result",
          "data": {
            "text/plain": [
              "0.42"
            ]
          },
          "metadata": {},
          "execution_count": 91
        }
      ]
    },
    {
      "cell_type": "markdown",
      "source": [
        "After taking log for the Graph became almost symetric. \n",
        "\n",
        "also outlier reduced"
      ],
      "metadata": {
        "id": "0-8Hz2R2cQZn"
      }
    },
    {
      "cell_type": "code",
      "source": [
        "df['Duration_month_log'] = np.log(df['Duration_month']) # Taking log for Age column"
      ],
      "metadata": {
        "id": "gwHNyqI_k7k4"
      },
      "execution_count": 309,
      "outputs": []
    },
    {
      "cell_type": "code",
      "source": [
        "df_mode['Duration_month_log'] = np.log(df['Duration_month'])"
      ],
      "metadata": {
        "id": "b21_Dvv5z11d"
      },
      "execution_count": 310,
      "outputs": []
    },
    {
      "cell_type": "code",
      "source": [
        "fig,axes = plt.subplots(nrows = 1, ncols = 2, figsize = (10,5))\n",
        "sns.histplot(x =\"Duration_month_log\", data = df, kde = True,ax=axes[0]).set(title = \"fig 1\")\n",
        "sns.boxplot(x= \"Duration_month_log\",ax=axes[1], data = df).set(title = \"fig 2\")"
      ],
      "metadata": {
        "colab": {
          "base_uri": "https://localhost:8080/",
          "height": 369
        },
        "id": "RBsDX_IdlDk3",
        "outputId": "e2e1f76f-cb63-4558-ff38-154af8f0109c"
      },
      "execution_count": 311,
      "outputs": [
        {
          "output_type": "execute_result",
          "data": {
            "text/plain": [
              "[Text(0.5, 1.0, 'fig 2')]"
            ]
          },
          "metadata": {},
          "execution_count": 311
        },
        {
          "output_type": "display_data",
          "data": {
            "text/plain": [
              "<Figure size 720x360 with 2 Axes>"
            ],
            "image/png": "[encoded data removed]"
          },
          "metadata": {
            "needs_background": "light"
          }
        }
      ]
    },
    {
      "cell_type": "markdown",
      "source": [
        "-----------------------------------------------------------------------\n"
      ],
      "metadata": {
        "id": "rfygIJEpdP2k"
      }
    },
    {
      "cell_type": "code",
      "source": [
        "fig = plt.figure(figsize = (15,7))\n",
        "sns.boxplot(x= \"Purpose\", y = \"Age_log\",hue = \"Sex\", data = df)"
      ],
      "metadata": {
        "colab": {
          "base_uri": "https://localhost:8080/",
          "height": 460
        },
        "id": "1DG6yvgKs4j1",
        "outputId": "df95a4af-5c34-4afa-a99f-2f843c1f9731"
      },
      "execution_count": 312,
      "outputs": [
        {
          "output_type": "execute_result",
          "data": {
            "text/plain": [
              "<matplotlib.axes._subplots.AxesSubplot at 0x7f6eb4459910>"
            ]
          },
          "metadata": {},
          "execution_count": 312
        },
        {
          "output_type": "display_data",
          "data": {
            "text/plain": [
              "<Figure size 1080x504 with 1 Axes>"
            ],
            "image/png": "[encoded data removed]"
          },
          "metadata": {
            "needs_background": "light"
          }
        }
      ]
    },
    {
      "cell_type": "markdown",
      "source": [
        "From above plot we can observe that, Higher aged female are taking credit for vaction and other,\n",
        "\n",
        "lower aged female are using credit for Domastic appliences\n",
        "\n",
        "Higher aged male are taking credit for Domastic appliences\n",
        "\n",
        "\n",
        "Lower aged male are taking credit for business & furniture/equipment, radio/TV"
      ],
      "metadata": {
        "id": "DrmlqMWIt5-D"
      }
    },
    {
      "cell_type": "code",
      "source": [
        "fig = plt.figure(figsize = (10,7))\n",
        "sns.boxplot( x= \"Housing\", y = \"Credit_amount_log\", data = df )"
      ],
      "metadata": {
        "colab": {
          "base_uri": "https://localhost:8080/",
          "height": 461
        },
        "id": "i68G14WVvGHY",
        "outputId": "4794de02-7a40-4d0d-e41b-7d1320a440ec"
      },
      "execution_count": 313,
      "outputs": [
        {
          "output_type": "execute_result",
          "data": {
            "text/plain": [
              "<matplotlib.axes._subplots.AxesSubplot at 0x7f6eb43bf3d0>"
            ]
          },
          "metadata": {},
          "execution_count": 313
        },
        {
          "output_type": "display_data",
          "data": {
            "text/plain": [
              "<Figure size 720x504 with 1 Axes>"
            ],
            "image/png": "[encoded data removed]"
          },
          "metadata": {
            "needs_background": "light"
          }
        }
      ]
    },
    {
      "cell_type": "markdown",
      "source": [
        "From above graph we can observe that free house category people are taking more credit amount"
      ],
      "metadata": {
        "id": "oeo83Hw2vq1y"
      }
    },
    {
      "cell_type": "code",
      "source": [
        "fig = plt.figure(figsize = (10,7))\n",
        "sns.boxplot( x= \"Saving_accounts\", y = \"Credit_amount_log\", hue = \"Sex\" , data = df_mode )"
      ],
      "metadata": {
        "colab": {
          "base_uri": "https://localhost:8080/",
          "height": 462
        },
        "id": "ooAkPPWpxgv8",
        "outputId": "cc1d099c-1f18-4df0-bcb3-3707fa4d7384"
      },
      "execution_count": 321,
      "outputs": [
        {
          "output_type": "execute_result",
          "data": {
            "text/plain": [
              "<matplotlib.axes._subplots.AxesSubplot at 0x7f6eb4d9f650>"
            ]
          },
          "metadata": {},
          "execution_count": 321
        },
        {
          "output_type": "display_data",
          "data": {
            "text/plain": [
              "<Figure size 720x504 with 1 Axes>"
            ],
            "image/png": "[encoded data removed]"
          },
          "metadata": {
            "needs_background": "light"
          }
        }
      ]
    },
    {
      "cell_type": "markdown",
      "source": [
        "above graph show rich females are taking very ow credit\n",
        "\n",
        "moderate male, & little male are taking high amount of credit"
      ],
      "metadata": {
        "id": "QmIfFJ48yXXo"
      }
    },
    {
      "cell_type": "code",
      "source": [
        "fig = plt.figure(figsize = (10,7))\n",
        "sns.scatterplot( x= \"Credit_amount\", y= \"Duration_month\", hue = \"Checking_account\" , data = df_mode)"
      ],
      "metadata": {
        "colab": {
          "base_uri": "https://localhost:8080/",
          "height": 461
        },
        "id": "3B5leul8y7GA",
        "outputId": "b7410083-fd97-44c7-ede9-1aed770e4bd8"
      },
      "execution_count": 322,
      "outputs": [
        {
          "output_type": "execute_result",
          "data": {
            "text/plain": [
              "<matplotlib.axes._subplots.AxesSubplot at 0x7f6eb3fd95d0>"
            ]
          },
          "metadata": {},
          "execution_count": 322
        },
        {
          "output_type": "display_data",
          "data": {
            "text/plain": [
              "<Figure size 720x504 with 1 Axes>"
            ],
            "image/png": "[encoded data removed]"
          },
          "metadata": {
            "needs_background": "light"
          }
        }
      ]
    },
    {
      "cell_type": "markdown",
      "source": [
        "above graph shows that, when credit amount is less, duation will be low. \n",
        "\n",
        "for higher credit, duration will be high"
      ],
      "metadata": {
        "id": "I9J-TLs90hMg"
      }
    },
    {
      "cell_type": "code",
      "source": [
        "fig = plt.figure(figsize = (10,7))\n",
        "sns.boxplot( x= \"Job\", y = \"Credit_amount_log\", hue = \"Sex\" , data = df_mode )"
      ],
      "metadata": {
        "colab": {
          "base_uri": "https://localhost:8080/",
          "height": 462
        },
        "id": "dkEVasd91czE",
        "outputId": "48d2aa17-8c8b-4a4c-ac19-1859bca25819"
      },
      "execution_count": 323,
      "outputs": [
        {
          "output_type": "execute_result",
          "data": {
            "text/plain": [
              "<matplotlib.axes._subplots.AxesSubplot at 0x7f6eb3f62990>"
            ]
          },
          "metadata": {},
          "execution_count": 323
        },
        {
          "output_type": "display_data",
          "data": {
            "text/plain": [
              "<Figure size 720x504 with 1 Axes>"
            ],
            "image/png": "[encoded data removed]"
          },
          "metadata": {
            "needs_background": "light"
          }
        }
      ]
    },
    {
      "cell_type": "markdown",
      "source": [
        "above grap shoows that Highly skilled male are taking high ammount of credit\n",
        "\n",
        "unskilled non resident people are taking less credit ammount"
      ],
      "metadata": {
        "id": "K-p9EgMV1zo2"
      }
    },
    {
      "cell_type": "code",
      "source": [
        "fig = plt.figure(figsize = (10,7))\n",
        "sns.boxplot( x= \"Checking_account\", y = \"Duration_month_log\" ,  data = df_mode )"
      ],
      "metadata": {
        "colab": {
          "base_uri": "https://localhost:8080/",
          "height": 461
        },
        "id": "TeXJ2uvZB4Fk",
        "outputId": "f9c06e9e-edc5-4c2f-f5df-8c03667350fe"
      },
      "execution_count": 324,
      "outputs": [
        {
          "output_type": "execute_result",
          "data": {
            "text/plain": [
              "<matplotlib.axes._subplots.AxesSubplot at 0x7f6eb3f62810>"
            ]
          },
          "metadata": {},
          "execution_count": 324
        },
        {
          "output_type": "display_data",
          "data": {
            "text/plain": [
              "<Figure size 720x504 with 1 Axes>"
            ],
            "image/png": "[encoded data removed]"
          },
          "metadata": {
            "needs_background": "light"
          }
        }
      ]
    },
    {
      "cell_type": "markdown",
      "source": [
        "Duration to repay the credit is less for rich , and it is more for moderate people"
      ],
      "metadata": {
        "id": "zQBubgJ4Cg2S"
      }
    },
    {
      "cell_type": "code",
      "source": [
        "fig = plt.figure(figsize = (10,7))\n",
        "sns.boxplot( x= \"Housing\", y = \"Duration_month_log\" , hue =\"Sex\", data = df_mode )"
      ],
      "metadata": {
        "colab": {
          "base_uri": "https://localhost:8080/",
          "height": 460
        },
        "id": "uYCXmEeCDHdZ",
        "outputId": "5aec101d-f66d-40df-b7ce-3528745ecbf8"
      },
      "execution_count": 325,
      "outputs": [
        {
          "output_type": "execute_result",
          "data": {
            "text/plain": [
              "<matplotlib.axes._subplots.AxesSubplot at 0x7f6eb5626250>"
            ]
          },
          "metadata": {},
          "execution_count": 325
        },
        {
          "output_type": "display_data",
          "data": {
            "text/plain": [
              "<Figure size 720x504 with 1 Axes>"
            ],
            "image/png": "[encoded data removed]"
          },
          "metadata": {
            "needs_background": "light"
          }
        }
      ]
    },
    {
      "cell_type": "markdown",
      "source": [
        "Free housing male are taking more time to repay the credit, compared to other two category"
      ],
      "metadata": {
        "id": "YPCzcLjEDNnm"
      }
    },
    {
      "cell_type": "code",
      "source": [
        "fig = plt.figure(figsize = (15,7))\n",
        "sns.boxplot( x= \"Purpose\", y = \"Duration_month_log\" , data = df_mode )"
      ],
      "metadata": {
        "colab": {
          "base_uri": "https://localhost:8080/",
          "height": 460
        },
        "id": "54JNxRunD7_S",
        "outputId": "b0f28f69-0510-4e7c-dc01-9120b4d7a777"
      },
      "execution_count": 326,
      "outputs": [
        {
          "output_type": "execute_result",
          "data": {
            "text/plain": [
              "<matplotlib.axes._subplots.AxesSubplot at 0x7f6eb4579510>"
            ]
          },
          "metadata": {},
          "execution_count": 326
        },
        {
          "output_type": "display_data",
          "data": {
            "text/plain": [
              "<Figure size 1080x504 with 1 Axes>"
            ],
            "image/png": "[encoded data removed]"
          },
          "metadata": {
            "needs_background": "light"
          }
        }
      ]
    },
    {
      "cell_type": "markdown",
      "source": [
        "Credit given for vacation/other, taking more time to repay.\n",
        "\n",
        "credit given for domestic appliences are taking comparitively very short time to repay"
      ],
      "metadata": {
        "id": "LqVYHfoREUzh"
      }
    },
    {
      "cell_type": "markdown",
      "source": [
        "##**Q4 How many highly skilled men (below 35 years) are staying in their own house?**"
      ],
      "metadata": {
        "id": "_wKvyNwjjTYp"
      }
    },
    {
      "cell_type": "code",
      "source": [
        "df_37 = df[df[\"Age\"] < 35] # filtering Age values to below 37\n",
        "df_37 = df_37[df[\"Job\"] == \"highly_skilled\" ] # Filterning Job skill to 'Highly skilled\n",
        "df_37.Sex.value_counts()\n",
        "\n",
        " "
      ],
      "metadata": {
        "colab": {
          "base_uri": "https://localhost:8080/"
        },
        "id": "-7wU6tl8dusw",
        "outputId": "be77e1f0-256a-4c2f-e272-f9067c11f570"
      },
      "execution_count": 327,
      "outputs": [
        {
          "output_type": "stream",
          "name": "stderr",
          "text": [
            "/usr/local/lib/python3.7/dist-packages/ipykernel_launcher.py:2: UserWarning: Boolean Series key will be reindexed to match DataFrame index.\n",
            "  \n"
          ]
        },
        {
          "output_type": "execute_result",
          "data": {
            "text/plain": [
              "male      43\n",
              "female    21\n",
              "Name: Sex, dtype: int64"
            ]
          },
          "metadata": {},
          "execution_count": 327
        }
      ]
    },
    {
      "cell_type": "code",
      "source": [
        "sns.barplot( x = \"Sex\", y = \"Age\", hue = \"Job\", data = df_37)"
      ],
      "metadata": {
        "colab": {
          "base_uri": "https://localhost:8080/",
          "height": 297
        },
        "id": "tUDP17Ic4sxu",
        "outputId": "60abad17-7368-46b1-c2b0-781d949698c3"
      },
      "execution_count": 328,
      "outputs": [
        {
          "output_type": "execute_result",
          "data": {
            "text/plain": [
              "<matplotlib.axes._subplots.AxesSubplot at 0x7f6eb5e7b950>"
            ]
          },
          "metadata": {},
          "execution_count": 328
        },
        {
          "output_type": "display_data",
          "data": {
            "text/plain": [
              "<Figure size 432x288 with 1 Axes>"
            ],
            "image/png": "[encoded data removed]"
          },
          "metadata": {
            "needs_background": "light"
          }
        }
      ]
    },
    {
      "cell_type": "markdown",
      "source": [
        ""
      ],
      "metadata": {
        "id": "Q_zlwnnu7UvG"
      }
    },
    {
      "cell_type": "markdown",
      "source": [
        "**Ans**\n",
        "\n",
        "\n",
        "  **43 Highly skilled men arebelow age 35 and have their own house**"
      ],
      "metadata": {
        "id": "2P3FX2dG453j"
      }
    },
    {
      "cell_type": "markdown",
      "source": [
        "--------------------------------------------------------------------------------"
      ],
      "metadata": {
        "id": "_qFoV8h87MFv"
      }
    },
    {
      "cell_type": "markdown",
      "source": [
        "##Visualize men and females separately for their social status."
      ],
      "metadata": {
        "id": "CwNykoE67Vpa"
      }
    },
    {
      "cell_type": "code",
      "source": [
        "df_m = df_mode[df_mode[\"Sex\"] == \"male\" ]\n",
        "df_f = df_mode[df_mode[\"Sex\"] == \"female\" ]\n"
      ],
      "metadata": {
        "id": "9jKHYU6r7TYt"
      },
      "execution_count": 329,
      "outputs": []
    },
    {
      "cell_type": "code",
      "source": [
        "ig,axes = plt.subplots(nrows = 1, ncols = 2, figsize = (15,7))\n",
        "sns.countplot(x= \"Saving_accounts\",  hue = \"Sex\", data = df_m,ax=axes[0]).set(title = \"fig 1\")\n",
        "sns.countplot(x= \"Saving_accounts\",  hue = \"Sex\", data = df_f,ax=axes[1]).set(title = \"fig 1\")"
      ],
      "metadata": {
        "colab": {
          "base_uri": "https://localhost:8080/",
          "height": 477
        },
        "id": "UAf9i-Cd82xx",
        "outputId": "d87344a3-fd8c-4dab-cc51-34a0d77c511e"
      },
      "execution_count": 245,
      "outputs": [
        {
          "output_type": "execute_result",
          "data": {
            "text/plain": [
              "[Text(0.5, 1.0, 'fig 1')]"
            ]
          },
          "metadata": {},
          "execution_count": 245
        },
        {
          "output_type": "display_data",
          "data": {
            "text/plain": [
              "<Figure size 1080x504 with 2 Axes>"
            ],
            "image/png": "[encoded data removed]"
          },
          "metadata": {
            "needs_background": "light"
          }
        }
      ]
    },
    {
      "cell_type": "code",
      "source": [
        "df_m.Saving_accounts.value_counts()"
      ],
      "metadata": {
        "colab": {
          "base_uri": "https://localhost:8080/"
        },
        "id": "F4LspB10_Oyq",
        "outputId": "2ac22e3e-1a28-4906-d797-54915ed21896"
      },
      "execution_count": 248,
      "outputs": [
        {
          "output_type": "execute_result",
          "data": {
            "text/plain": [
              "little        543\n",
              "moderate       71\n",
              "quite rich     47\n",
              "rich           29\n",
              "Name: Saving_accounts, dtype: int64"
            ]
          },
          "metadata": {},
          "execution_count": 248
        }
      ]
    },
    {
      "cell_type": "code",
      "source": [
        "df_f.Saving_accounts.value_counts()"
      ],
      "metadata": {
        "colab": {
          "base_uri": "https://localhost:8080/"
        },
        "id": "AldgDf-I_bEt",
        "outputId": "fcdbe4f6-05df-41a7-ffcf-8a33d1fcd9a7"
      },
      "execution_count": 249,
      "outputs": [
        {
          "output_type": "execute_result",
          "data": {
            "text/plain": [
              "little        243\n",
              "moderate       32\n",
              "rich           19\n",
              "quite rich     16\n",
              "Name: Saving_accounts, dtype: int64"
            ]
          },
          "metadata": {},
          "execution_count": 249
        }
      ]
    },
    {
      "cell_type": "markdown",
      "source": [
        "obove fig shows that, little(LOW) category people are more of male compared to female\n",
        "\n",
        "In Rich category, males are dominating female"
      ],
      "metadata": {
        "id": "fUtTnVT1-dPy"
      }
    }
  ]
}