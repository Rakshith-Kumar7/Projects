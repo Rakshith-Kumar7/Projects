{
  "nbformat": 4,
  "nbformat_minor": 0,
  "metadata": {
    "colab": {
      "name": "Rakshith_DescriptiveStatistics _MandatoryAssignment.ipynb",
      "provenance": [],
      "collapsed_sections": []
    },
    "kernelspec": {
      "name": "python3",
      "display_name": "Python 3"
    },
    "language_info": {
      "name": "python"
    }
  },
  "cells": [
    {
      "cell_type": "markdown",
      "source": [
        "## **Pima Indians Diabetes Database Descriptive Statistics Project**"
      ],
      "metadata": {
        "id": "tID1vv6IMC3o"
      }
    },
    {
      "cell_type": "markdown",
      "source": [
        "#**Introduction**\n",
        "\n",
        "**In India, diabetes is a major issue. Between 1971 and 2000, the incidence of diabetes rose ten times, from 1.2% to 12.1%. 61.3 million people 20–79 years of age in India are estimated living with diabetes (Expectations of 2011). It is expected that by 2030 this number will rise to 101,2 million. In India there are reportedly 77.2 million people with prediabetes. In 2012, nearly 1 million people in India died of diabetes. 1 out of 4 individuals living in Chennai’s urban slums suffer from diabetes, which is about 7 per cent by three times the national average. One third of the deaths in India involve people under non-communicable diseases Sixty years old. Indians get diabetes 10 years before their Western counterparts on average. Changes in lifestyle lead to physical decreases Increased fat, sugar and activities activity calories and higher insulin cortisol levels Obesity and vulnerability. In 2011, India cost around $38 billion annually as a result of diabetes.**"
      ],
      "metadata": {
        "id": "zcPNqXOY1O_6"
      }
    },
    {
      "cell_type": "markdown",
      "source": [
        "#**Context**\n",
        "**This dataset comes from the Diabetes and Digestive and Kidney Disease National Institutes. The purpose of this dataset is to diagnose whether or not a patient is diabetic, on the basis of certain diagnostic measures in the dataset. The selection of these instances from a larger database was subject to several restrictions. All patients are women from the Indian heritage of Pima, at least 21 years old**"
      ],
      "metadata": {
        "id": "sHQXYrj23lpQ"
      }
    },
    {
      "cell_type": "markdown",
      "source": [
        "#**Dataset:**\n",
        "**Pima Indians Diabetes Database (Predict the onset of diabetes based on diagnostic measures)**"
      ],
      "metadata": {
        "id": "TFqgnFEg393C"
      }
    },
    {
      "cell_type": "markdown",
      "source": [
        "#**Attribute Information:**\n",
        "\n",
        "**Pregnancies: Number of times pregnant**\n",
        "\n",
        "**Glucose: Plasma glucose concentration 2 hours in an oral glucose tolerance test**\n",
        "\n",
        "**Blood Pressure: Diastolic blood pressure (mm Hg)**\n",
        "\n",
        "**Skin Thickness: Triceps skin fold thickness (mm)**\n",
        "\n",
        "**Insulin: 2-Hour serum insulin (mu U/ml)**\n",
        "\n",
        "**BMI: Body mass index (weight in kg/(height in m)^2)**\n",
        "\n",
        "**Diabetes Pedigree Function: Diabetes pedigree function**\n",
        "\n",
        "**Age: Age (years)**\n",
        "\n",
        "**Outcome: Class variable (0 or 1) 0 mean non-diabetic and 1 means diabetic**"
      ],
      "metadata": {
        "id": "ZyEkO1iH4gPY"
      }
    },
    {
      "cell_type": "code",
      "execution_count": 140,
      "metadata": {
        "id": "-Dtk8WeGQPVD"
      },
      "outputs": [],
      "source": [
        "import pandas as pd# importing panda\n",
        "import numpy as np #importing numphy\n",
        "import matplotlib.pyplot as plt #importing matplot\n",
        "import seaborn as sns# importing seaborn"
      ]
    },
    {
      "cell_type": "code",
      "source": [
        "ds = pd.read_csv(\"mandatory_diabetes (1).csv\")#reading file"
      ],
      "metadata": {
        "id": "TskhB55oTU4H"
      },
      "execution_count": 151,
      "outputs": []
    },
    {
      "cell_type": "code",
      "source": [
        "ds.shape #checking shape"
      ],
      "metadata": {
        "colab": {
          "base_uri": "https://localhost:8080/"
        },
        "id": "GmCUuyXTlASE",
        "outputId": "0f37b886-d18b-4d84-a25e-b8e714606ce9"
      },
      "execution_count": 152,
      "outputs": [
        {
          "output_type": "execute_result",
          "data": {
            "text/plain": [
              "(768, 9)"
            ]
          },
          "metadata": {},
          "execution_count": 152
        }
      ]
    },
    {
      "cell_type": "code",
      "source": [
        "ds.columns#checking columns"
      ],
      "metadata": {
        "colab": {
          "base_uri": "https://localhost:8080/"
        },
        "id": "jBojI6Q1TbWV",
        "outputId": "a30fcb3f-72f0-4f36-a6bd-cb6386bacfa4"
      },
      "execution_count": 153,
      "outputs": [
        {
          "output_type": "execute_result",
          "data": {
            "text/plain": [
              "Index(['Pregnancies', 'Glucose', 'BloodPressure', 'SkinThickness', 'Insulin',\n",
              "       'BMI', 'DiabetesPedigreeFunction', 'Age', 'Outcome'],\n",
              "      dtype='object')"
            ]
          },
          "metadata": {},
          "execution_count": 153
        }
      ]
    },
    {
      "cell_type": "code",
      "source": [
        "ds.head()#checking first 5 rows"
      ],
      "metadata": {
        "colab": {
          "base_uri": "https://localhost:8080/",
          "height": 206
        },
        "id": "0nb6Va8ETe76",
        "outputId": "f265acd0-67cd-4bc6-aacc-614c894c7e3c"
      },
      "execution_count": 154,
      "outputs": [
        {
          "output_type": "execute_result",
          "data": {
            "text/plain": [
              "   Pregnancies  Glucose  BloodPressure  SkinThickness  Insulin   BMI  \\\n",
              "0            6      148             72             35        0  33.6   \n",
              "1            1       85             66             29        0  26.6   \n",
              "2            8      183             64              0        0  23.3   \n",
              "3            1       89             66             23       94  28.1   \n",
              "4            0      137             40             35      168  43.1   \n",
              "\n",
              "   DiabetesPedigreeFunction  Age  Outcome  \n",
              "0                     0.627   50        1  \n",
              "1                     0.351   31        0  \n",
              "2                     0.672   32        1  \n",
              "3                     0.167   21        0  \n",
              "4                     2.288   33        1  "
            ],
            "text/html": [
              "\n",
              "  <div id=\"df-fe50bf7d-b7fc-4c6f-b838-ddc19d42d456\">\n",
              "    <div class=\"colab-df-container\">\n",
              "      <div>\n",
              "<style scoped>\n",
              "    .dataframe tbody tr th:only-of-type {\n",
              "        vertical-align: middle;\n",
              "    }\n",
              "\n",
              "    .dataframe tbody tr th {\n",
              "        vertical-align: top;\n",
              "    }\n",
              "\n",
              "    .dataframe thead th {\n",
              "        text-align: right;\n",
              "    }\n",
              "</style>\n",
              "<table border=\"1\" class=\"dataframe\">\n",
              "  <thead>\n",
              "    <tr style=\"text-align: right;\">\n",
              "      <th></th>\n",
              "      <th>Pregnancies</th>\n",
              "      <th>Glucose</th>\n",
              "      <th>BloodPressure</th>\n",
              "      <th>SkinThickness</th>\n",
              "      <th>Insulin</th>\n",
              "      <th>BMI</th>\n",
              "      <th>DiabetesPedigreeFunction</th>\n",
              "      <th>Age</th>\n",
              "      <th>Outcome</th>\n",
              "    </tr>\n",
              "  </thead>\n",
              "  <tbody>\n",
              "    <tr>\n",
              "      <th>0</th>\n",
              "      <td>6</td>\n",
              "      <td>148</td>\n",
              "      <td>72</td>\n",
              "      <td>35</td>\n",
              "      <td>0</td>\n",
              "      <td>33.6</td>\n",
              "      <td>0.627</td>\n",
              "      <td>50</td>\n",
              "      <td>1</td>\n",
              "    </tr>\n",
              "    <tr>\n",
              "      <th>1</th>\n",
              "      <td>1</td>\n",
              "      <td>85</td>\n",
              "      <td>66</td>\n",
              "      <td>29</td>\n",
              "      <td>0</td>\n",
              "      <td>26.6</td>\n",
              "      <td>0.351</td>\n",
              "      <td>31</td>\n",
              "      <td>0</td>\n",
              "    </tr>\n",
              "    <tr>\n",
              "      <th>2</th>\n",
              "      <td>8</td>\n",
              "      <td>183</td>\n",
              "      <td>64</td>\n",
              "      <td>0</td>\n",
              "      <td>0</td>\n",
              "      <td>23.3</td>\n",
              "      <td>0.672</td>\n",
              "      <td>32</td>\n",
              "      <td>1</td>\n",
              "    </tr>\n",
              "    <tr>\n",
              "      <th>3</th>\n",
              "      <td>1</td>\n",
              "      <td>89</td>\n",
              "      <td>66</td>\n",
              "      <td>23</td>\n",
              "      <td>94</td>\n",
              "      <td>28.1</td>\n",
              "      <td>0.167</td>\n",
              "      <td>21</td>\n",
              "      <td>0</td>\n",
              "    </tr>\n",
              "    <tr>\n",
              "      <th>4</th>\n",
              "      <td>0</td>\n",
              "      <td>137</td>\n",
              "      <td>40</td>\n",
              "      <td>35</td>\n",
              "      <td>168</td>\n",
              "      <td>43.1</td>\n",
              "      <td>2.288</td>\n",
              "      <td>33</td>\n",
              "      <td>1</td>\n",
              "    </tr>\n",
              "  </tbody>\n",
              "</table>\n",
              "</div>\n",
              "      <button class=\"colab-df-convert\" onclick=\"convertToInteractive('df-fe50bf7d-b7fc-4c6f-b838-ddc19d42d456')\"\n",
              "              title=\"Convert this dataframe to an interactive table.\"\n",
              "              style=\"display:none;\">\n",
              "        \n",
              "  <svg xmlns=\"http://www.w3.org/2000/svg\" height=\"24px\"viewBox=\"0 0 24 24\"\n",
              "       width=\"24px\">\n",
              "    <path d=\"M0 0h24v24H0V0z\" fill=\"none\"/>\n",
              "    <path d=\"M18.56 5.44l.94 2.06.94-2.06 2.06-.94-2.06-.94-.94-2.06-.94 2.06-2.06.94zm-11 1L8.5 8.5l.94-2.06 2.06-.94-2.06-.94L8.5 2.5l-.94 2.06-2.06.94zm10 10l.94 2.06.94-2.06 2.06-.94-2.06-.94-.94-2.06-.94 2.06-2.06.94z\"/><path d=\"M17.41 7.96l-1.37-1.37c-.4-.4-.92-.59-1.43-.59-.52 0-1.04.2-1.43.59L10.3 9.45l-7.72 7.72c-.78.78-.78 2.05 0 2.83L4 21.41c.39.39.9.59 1.41.59.51 0 1.02-.2 1.41-.59l7.78-7.78 2.81-2.81c.8-.78.8-2.07 0-2.86zM5.41 20L4 18.59l7.72-7.72 1.47 1.35L5.41 20z\"/>\n",
              "  </svg>\n",
              "      </button>\n",
              "      \n",
              "  <style>\n",
              "    .colab-df-container {\n",
              "      display:flex;\n",
              "      flex-wrap:wrap;\n",
              "      gap: 12px;\n",
              "    }\n",
              "\n",
              "    .colab-df-convert {\n",
              "      background-color: #E8F0FE;\n",
              "      border: none;\n",
              "      border-radius: 50%;\n",
              "      cursor: pointer;\n",
              "      display: none;\n",
              "      fill: #1967D2;\n",
              "      height: 32px;\n",
              "      padding: 0 0 0 0;\n",
              "      width: 32px;\n",
              "    }\n",
              "\n",
              "    .colab-df-convert:hover {\n",
              "      background-color: #E2EBFA;\n",
              "      box-shadow: 0px 1px 2px rgba(60, 64, 67, 0.3), 0px 1px 3px 1px rgba(60, 64, 67, 0.15);\n",
              "      fill: #174EA6;\n",
              "    }\n",
              "\n",
              "    [theme=dark] .colab-df-convert {\n",
              "      background-color: #3B4455;\n",
              "      fill: #D2E3FC;\n",
              "    }\n",
              "\n",
              "    [theme=dark] .colab-df-convert:hover {\n",
              "      background-color: #434B5C;\n",
              "      box-shadow: 0px 1px 3px 1px rgba(0, 0, 0, 0.15);\n",
              "      filter: drop-shadow(0px 1px 2px rgba(0, 0, 0, 0.3));\n",
              "      fill: #FFFFFF;\n",
              "    }\n",
              "  </style>\n",
              "\n",
              "      <script>\n",
              "        const buttonEl =\n",
              "          document.querySelector('#df-fe50bf7d-b7fc-4c6f-b838-ddc19d42d456 button.colab-df-convert');\n",
              "        buttonEl.style.display =\n",
              "          google.colab.kernel.accessAllowed ? 'block' : 'none';\n",
              "\n",
              "        async function convertToInteractive(key) {\n",
              "          const element = document.querySelector('#df-fe50bf7d-b7fc-4c6f-b838-ddc19d42d456');\n",
              "          const dataTable =\n",
              "            await google.colab.kernel.invokeFunction('convertToInteractive',\n",
              "                                                     [key], {});\n",
              "          if (!dataTable) return;\n",
              "\n",
              "          const docLinkHtml = 'Like what you see? Visit the ' +\n",
              "            '<a target=\"_blank\" href=https://colab.research.google.com/notebooks/data_table.ipynb>data table notebook</a>'\n",
              "            + ' to learn more about interactive tables.';\n",
              "          element.innerHTML = '';\n",
              "          dataTable['output_type'] = 'display_data';\n",
              "          await google.colab.output.renderOutput(dataTable, element);\n",
              "          const docLink = document.createElement('div');\n",
              "          docLink.innerHTML = docLinkHtml;\n",
              "          element.appendChild(docLink);\n",
              "        }\n",
              "      </script>\n",
              "    </div>\n",
              "  </div>\n",
              "  "
            ]
          },
          "metadata": {},
          "execution_count": 154
        }
      ]
    },
    {
      "cell_type": "code",
      "source": [
        "ds.describe()#taking statistical data of datafram"
      ],
      "metadata": {
        "id": "vfTVlvjdVPo7",
        "colab": {
          "base_uri": "https://localhost:8080/",
          "height": 300
        },
        "outputId": "c612b304-91c6-4ec3-8b9c-fabf7b25033f"
      },
      "execution_count": 155,
      "outputs": [
        {
          "output_type": "execute_result",
          "data": {
            "text/plain": [
              "       Pregnancies     Glucose  BloodPressure  SkinThickness     Insulin  \\\n",
              "count   768.000000  768.000000     768.000000     768.000000  768.000000   \n",
              "mean      3.845052  120.894531      69.105469      20.536458   79.799479   \n",
              "std       3.369578   31.972618      19.355807      15.952218  115.244002   \n",
              "min       0.000000    0.000000       0.000000       0.000000    0.000000   \n",
              "25%       1.000000   99.000000      62.000000       0.000000    0.000000   \n",
              "50%       3.000000  117.000000      72.000000      23.000000   30.500000   \n",
              "75%       6.000000  140.250000      80.000000      32.000000  127.250000   \n",
              "max      17.000000  199.000000     122.000000      99.000000  846.000000   \n",
              "\n",
              "              BMI  DiabetesPedigreeFunction         Age     Outcome  \n",
              "count  768.000000                768.000000  768.000000  768.000000  \n",
              "mean    31.992578                  0.471876   33.240885    0.348958  \n",
              "std      7.884160                  0.331329   11.760232    0.476951  \n",
              "min      0.000000                  0.078000   21.000000    0.000000  \n",
              "25%     27.300000                  0.243750   24.000000    0.000000  \n",
              "50%     32.000000                  0.372500   29.000000    0.000000  \n",
              "75%     36.600000                  0.626250   41.000000    1.000000  \n",
              "max     67.100000                  2.420000   81.000000    1.000000  "
            ],
            "text/html": [
              "\n",
              "  <div id=\"df-e734af78-6eb2-4992-8c4f-7f6dcc1b7c34\">\n",
              "    <div class=\"colab-df-container\">\n",
              "      <div>\n",
              "<style scoped>\n",
              "    .dataframe tbody tr th:only-of-type {\n",
              "        vertical-align: middle;\n",
              "    }\n",
              "\n",
              "    .dataframe tbody tr th {\n",
              "        vertical-align: top;\n",
              "    }\n",
              "\n",
              "    .dataframe thead th {\n",
              "        text-align: right;\n",
              "    }\n",
              "</style>\n",
              "<table border=\"1\" class=\"dataframe\">\n",
              "  <thead>\n",
              "    <tr style=\"text-align: right;\">\n",
              "      <th></th>\n",
              "      <th>Pregnancies</th>\n",
              "      <th>Glucose</th>\n",
              "      <th>BloodPressure</th>\n",
              "      <th>SkinThickness</th>\n",
              "      <th>Insulin</th>\n",
              "      <th>BMI</th>\n",
              "      <th>DiabetesPedigreeFunction</th>\n",
              "      <th>Age</th>\n",
              "      <th>Outcome</th>\n",
              "    </tr>\n",
              "  </thead>\n",
              "  <tbody>\n",
              "    <tr>\n",
              "      <th>count</th>\n",
              "      <td>768.000000</td>\n",
              "      <td>768.000000</td>\n",
              "      <td>768.000000</td>\n",
              "      <td>768.000000</td>\n",
              "      <td>768.000000</td>\n",
              "      <td>768.000000</td>\n",
              "      <td>768.000000</td>\n",
              "      <td>768.000000</td>\n",
              "      <td>768.000000</td>\n",
              "    </tr>\n",
              "    <tr>\n",
              "      <th>mean</th>\n",
              "      <td>3.845052</td>\n",
              "      <td>120.894531</td>\n",
              "      <td>69.105469</td>\n",
              "      <td>20.536458</td>\n",
              "      <td>79.799479</td>\n",
              "      <td>31.992578</td>\n",
              "      <td>0.471876</td>\n",
              "      <td>33.240885</td>\n",
              "      <td>0.348958</td>\n",
              "    </tr>\n",
              "    <tr>\n",
              "      <th>std</th>\n",
              "      <td>3.369578</td>\n",
              "      <td>31.972618</td>\n",
              "      <td>19.355807</td>\n",
              "      <td>15.952218</td>\n",
              "      <td>115.244002</td>\n",
              "      <td>7.884160</td>\n",
              "      <td>0.331329</td>\n",
              "      <td>11.760232</td>\n",
              "      <td>0.476951</td>\n",
              "    </tr>\n",
              "    <tr>\n",
              "      <th>min</th>\n",
              "      <td>0.000000</td>\n",
              "      <td>0.000000</td>\n",
              "      <td>0.000000</td>\n",
              "      <td>0.000000</td>\n",
              "      <td>0.000000</td>\n",
              "      <td>0.000000</td>\n",
              "      <td>0.078000</td>\n",
              "      <td>21.000000</td>\n",
              "      <td>0.000000</td>\n",
              "    </tr>\n",
              "    <tr>\n",
              "      <th>25%</th>\n",
              "      <td>1.000000</td>\n",
              "      <td>99.000000</td>\n",
              "      <td>62.000000</td>\n",
              "      <td>0.000000</td>\n",
              "      <td>0.000000</td>\n",
              "      <td>27.300000</td>\n",
              "      <td>0.243750</td>\n",
              "      <td>24.000000</td>\n",
              "      <td>0.000000</td>\n",
              "    </tr>\n",
              "    <tr>\n",
              "      <th>50%</th>\n",
              "      <td>3.000000</td>\n",
              "      <td>117.000000</td>\n",
              "      <td>72.000000</td>\n",
              "      <td>23.000000</td>\n",
              "      <td>30.500000</td>\n",
              "      <td>32.000000</td>\n",
              "      <td>0.372500</td>\n",
              "      <td>29.000000</td>\n",
              "      <td>0.000000</td>\n",
              "    </tr>\n",
              "    <tr>\n",
              "      <th>75%</th>\n",
              "      <td>6.000000</td>\n",
              "      <td>140.250000</td>\n",
              "      <td>80.000000</td>\n",
              "      <td>32.000000</td>\n",
              "      <td>127.250000</td>\n",
              "      <td>36.600000</td>\n",
              "      <td>0.626250</td>\n",
              "      <td>41.000000</td>\n",
              "      <td>1.000000</td>\n",
              "    </tr>\n",
              "    <tr>\n",
              "      <th>max</th>\n",
              "      <td>17.000000</td>\n",
              "      <td>199.000000</td>\n",
              "      <td>122.000000</td>\n",
              "      <td>99.000000</td>\n",
              "      <td>846.000000</td>\n",
              "      <td>67.100000</td>\n",
              "      <td>2.420000</td>\n",
              "      <td>81.000000</td>\n",
              "      <td>1.000000</td>\n",
              "    </tr>\n",
              "  </tbody>\n",
              "</table>\n",
              "</div>\n",
              "      <button class=\"colab-df-convert\" onclick=\"convertToInteractive('df-e734af78-6eb2-4992-8c4f-7f6dcc1b7c34')\"\n",
              "              title=\"Convert this dataframe to an interactive table.\"\n",
              "              style=\"display:none;\">\n",
              "        \n",
              "  <svg xmlns=\"http://www.w3.org/2000/svg\" height=\"24px\"viewBox=\"0 0 24 24\"\n",
              "       width=\"24px\">\n",
              "    <path d=\"M0 0h24v24H0V0z\" fill=\"none\"/>\n",
              "    <path d=\"M18.56 5.44l.94 2.06.94-2.06 2.06-.94-2.06-.94-.94-2.06-.94 2.06-2.06.94zm-11 1L8.5 8.5l.94-2.06 2.06-.94-2.06-.94L8.5 2.5l-.94 2.06-2.06.94zm10 10l.94 2.06.94-2.06 2.06-.94-2.06-.94-.94-2.06-.94 2.06-2.06.94z\"/><path d=\"M17.41 7.96l-1.37-1.37c-.4-.4-.92-.59-1.43-.59-.52 0-1.04.2-1.43.59L10.3 9.45l-7.72 7.72c-.78.78-.78 2.05 0 2.83L4 21.41c.39.39.9.59 1.41.59.51 0 1.02-.2 1.41-.59l7.78-7.78 2.81-2.81c.8-.78.8-2.07 0-2.86zM5.41 20L4 18.59l7.72-7.72 1.47 1.35L5.41 20z\"/>\n",
              "  </svg>\n",
              "      </button>\n",
              "      \n",
              "  <style>\n",
              "    .colab-df-container {\n",
              "      display:flex;\n",
              "      flex-wrap:wrap;\n",
              "      gap: 12px;\n",
              "    }\n",
              "\n",
              "    .colab-df-convert {\n",
              "      background-color: #E8F0FE;\n",
              "      border: none;\n",
              "      border-radius: 50%;\n",
              "      cursor: pointer;\n",
              "      display: none;\n",
              "      fill: #1967D2;\n",
              "      height: 32px;\n",
              "      padding: 0 0 0 0;\n",
              "      width: 32px;\n",
              "    }\n",
              "\n",
              "    .colab-df-convert:hover {\n",
              "      background-color: #E2EBFA;\n",
              "      box-shadow: 0px 1px 2px rgba(60, 64, 67, 0.3), 0px 1px 3px 1px rgba(60, 64, 67, 0.15);\n",
              "      fill: #174EA6;\n",
              "    }\n",
              "\n",
              "    [theme=dark] .colab-df-convert {\n",
              "      background-color: #3B4455;\n",
              "      fill: #D2E3FC;\n",
              "    }\n",
              "\n",
              "    [theme=dark] .colab-df-convert:hover {\n",
              "      background-color: #434B5C;\n",
              "      box-shadow: 0px 1px 3px 1px rgba(0, 0, 0, 0.15);\n",
              "      filter: drop-shadow(0px 1px 2px rgba(0, 0, 0, 0.3));\n",
              "      fill: #FFFFFF;\n",
              "    }\n",
              "  </style>\n",
              "\n",
              "      <script>\n",
              "        const buttonEl =\n",
              "          document.querySelector('#df-e734af78-6eb2-4992-8c4f-7f6dcc1b7c34 button.colab-df-convert');\n",
              "        buttonEl.style.display =\n",
              "          google.colab.kernel.accessAllowed ? 'block' : 'none';\n",
              "\n",
              "        async function convertToInteractive(key) {\n",
              "          const element = document.querySelector('#df-e734af78-6eb2-4992-8c4f-7f6dcc1b7c34');\n",
              "          const dataTable =\n",
              "            await google.colab.kernel.invokeFunction('convertToInteractive',\n",
              "                                                     [key], {});\n",
              "          if (!dataTable) return;\n",
              "\n",
              "          const docLinkHtml = 'Like what you see? Visit the ' +\n",
              "            '<a target=\"_blank\" href=https://colab.research.google.com/notebooks/data_table.ipynb>data table notebook</a>'\n",
              "            + ' to learn more about interactive tables.';\n",
              "          element.innerHTML = '';\n",
              "          dataTable['output_type'] = 'display_data';\n",
              "          await google.colab.output.renderOutput(dataTable, element);\n",
              "          const docLink = document.createElement('div');\n",
              "          docLink.innerHTML = docLinkHtml;\n",
              "          element.appendChild(docLink);\n",
              "        }\n",
              "      </script>\n",
              "    </div>\n",
              "  </div>\n",
              "  "
            ]
          },
          "metadata": {},
          "execution_count": 155
        }
      ]
    },
    {
      "cell_type": "markdown",
      "source": [
        "**Above details shows that some of the verables  are filled with zeros.Practically it,s not posible to become zero,  this might effect our statistics functions.**\n",
        "\n",
        "**so let us count zeros and replace it with NAN for better result**"
      ],
      "metadata": {
        "id": "liB-ngjfVopB"
      }
    },
    {
      "cell_type": "code",
      "source": [
        "zeros =((ds.Glucose==0).sum(),(ds.BloodPressure==0).sum(),(ds.SkinThickness==0).sum(),(ds.Insulin==0).sum(),(ds.BMI==0).sum())\n",
        "print(\"Zeros in Glucose, Blood pressure, Skin thikness, Insulin, and BMI are : \",zeros) # counting zeros in cloumn Glucose\tBloodPressure\tSkinThickness\tInsulin\tBMI\t"
      ],
      "metadata": {
        "colab": {
          "base_uri": "https://localhost:8080/"
        },
        "id": "19OQWVQUWfdr",
        "outputId": "48db44ce-7cd8-4615-e0f0-fc827b15d454"
      },
      "execution_count": 156,
      "outputs": [
        {
          "output_type": "stream",
          "name": "stdout",
          "text": [
            "Zeros in Glucose, Blood pressure, Skin thikness, Insulin, and BMI are :  (5, 35, 227, 374, 11)\n"
          ]
        }
      ]
    },
    {
      "cell_type": "code",
      "source": [
        "ds['Glucose'] = ds['Glucose'].replace(0,np.NaN) #Replacing zeros with Nan\n",
        "ds['BloodPressure'] = ds['BloodPressure'].replace(0,np.NaN)\n",
        "ds['SkinThickness'] = ds['SkinThickness'].replace(0,np.NaN)\n",
        "ds['Insulin'] = ds['Insulin'].replace(0,np.NaN)\n",
        "ds['BMI'] = ds['BMI'].replace(0,np.NaN)"
      ],
      "metadata": {
        "id": "C7qQMQlbWwTq"
      },
      "execution_count": 157,
      "outputs": []
    },
    {
      "cell_type": "code",
      "source": [
        "ds.describe()#rechecking values, noe zeros are neglected in statistical summary"
      ],
      "metadata": {
        "colab": {
          "base_uri": "https://localhost:8080/",
          "height": 300
        },
        "id": "PU096Ohm6Nxq",
        "outputId": "f322fa62-3158-416d-c582-e3b002313137"
      },
      "execution_count": 158,
      "outputs": [
        {
          "output_type": "execute_result",
          "data": {
            "text/plain": [
              "       Pregnancies     Glucose  BloodPressure  SkinThickness     Insulin  \\\n",
              "count   768.000000  763.000000     733.000000     541.000000  394.000000   \n",
              "mean      3.845052  121.686763      72.405184      29.153420  155.548223   \n",
              "std       3.369578   30.535641      12.382158      10.476982  118.775855   \n",
              "min       0.000000   44.000000      24.000000       7.000000   14.000000   \n",
              "25%       1.000000   99.000000      64.000000      22.000000   76.250000   \n",
              "50%       3.000000  117.000000      72.000000      29.000000  125.000000   \n",
              "75%       6.000000  141.000000      80.000000      36.000000  190.000000   \n",
              "max      17.000000  199.000000     122.000000      99.000000  846.000000   \n",
              "\n",
              "              BMI  DiabetesPedigreeFunction         Age     Outcome  \n",
              "count  757.000000                768.000000  768.000000  768.000000  \n",
              "mean    32.457464                  0.471876   33.240885    0.348958  \n",
              "std      6.924988                  0.331329   11.760232    0.476951  \n",
              "min     18.200000                  0.078000   21.000000    0.000000  \n",
              "25%     27.500000                  0.243750   24.000000    0.000000  \n",
              "50%     32.300000                  0.372500   29.000000    0.000000  \n",
              "75%     36.600000                  0.626250   41.000000    1.000000  \n",
              "max     67.100000                  2.420000   81.000000    1.000000  "
            ],
            "text/html": [
              "\n",
              "  <div id=\"df-16ea39ef-c34a-42f3-9253-a8fd1b0e6617\">\n",
              "    <div class=\"colab-df-container\">\n",
              "      <div>\n",
              "<style scoped>\n",
              "    .dataframe tbody tr th:only-of-type {\n",
              "        vertical-align: middle;\n",
              "    }\n",
              "\n",
              "    .dataframe tbody tr th {\n",
              "        vertical-align: top;\n",
              "    }\n",
              "\n",
              "    .dataframe thead th {\n",
              "        text-align: right;\n",
              "    }\n",
              "</style>\n",
              "<table border=\"1\" class=\"dataframe\">\n",
              "  <thead>\n",
              "    <tr style=\"text-align: right;\">\n",
              "      <th></th>\n",
              "      <th>Pregnancies</th>\n",
              "      <th>Glucose</th>\n",
              "      <th>BloodPressure</th>\n",
              "      <th>SkinThickness</th>\n",
              "      <th>Insulin</th>\n",
              "      <th>BMI</th>\n",
              "      <th>DiabetesPedigreeFunction</th>\n",
              "      <th>Age</th>\n",
              "      <th>Outcome</th>\n",
              "    </tr>\n",
              "  </thead>\n",
              "  <tbody>\n",
              "    <tr>\n",
              "      <th>count</th>\n",
              "      <td>768.000000</td>\n",
              "      <td>763.000000</td>\n",
              "      <td>733.000000</td>\n",
              "      <td>541.000000</td>\n",
              "      <td>394.000000</td>\n",
              "      <td>757.000000</td>\n",
              "      <td>768.000000</td>\n",
              "      <td>768.000000</td>\n",
              "      <td>768.000000</td>\n",
              "    </tr>\n",
              "    <tr>\n",
              "      <th>mean</th>\n",
              "      <td>3.845052</td>\n",
              "      <td>121.686763</td>\n",
              "      <td>72.405184</td>\n",
              "      <td>29.153420</td>\n",
              "      <td>155.548223</td>\n",
              "      <td>32.457464</td>\n",
              "      <td>0.471876</td>\n",
              "      <td>33.240885</td>\n",
              "      <td>0.348958</td>\n",
              "    </tr>\n",
              "    <tr>\n",
              "      <th>std</th>\n",
              "      <td>3.369578</td>\n",
              "      <td>30.535641</td>\n",
              "      <td>12.382158</td>\n",
              "      <td>10.476982</td>\n",
              "      <td>118.775855</td>\n",
              "      <td>6.924988</td>\n",
              "      <td>0.331329</td>\n",
              "      <td>11.760232</td>\n",
              "      <td>0.476951</td>\n",
              "    </tr>\n",
              "    <tr>\n",
              "      <th>min</th>\n",
              "      <td>0.000000</td>\n",
              "      <td>44.000000</td>\n",
              "      <td>24.000000</td>\n",
              "      <td>7.000000</td>\n",
              "      <td>14.000000</td>\n",
              "      <td>18.200000</td>\n",
              "      <td>0.078000</td>\n",
              "      <td>21.000000</td>\n",
              "      <td>0.000000</td>\n",
              "    </tr>\n",
              "    <tr>\n",
              "      <th>25%</th>\n",
              "      <td>1.000000</td>\n",
              "      <td>99.000000</td>\n",
              "      <td>64.000000</td>\n",
              "      <td>22.000000</td>\n",
              "      <td>76.250000</td>\n",
              "      <td>27.500000</td>\n",
              "      <td>0.243750</td>\n",
              "      <td>24.000000</td>\n",
              "      <td>0.000000</td>\n",
              "    </tr>\n",
              "    <tr>\n",
              "      <th>50%</th>\n",
              "      <td>3.000000</td>\n",
              "      <td>117.000000</td>\n",
              "      <td>72.000000</td>\n",
              "      <td>29.000000</td>\n",
              "      <td>125.000000</td>\n",
              "      <td>32.300000</td>\n",
              "      <td>0.372500</td>\n",
              "      <td>29.000000</td>\n",
              "      <td>0.000000</td>\n",
              "    </tr>\n",
              "    <tr>\n",
              "      <th>75%</th>\n",
              "      <td>6.000000</td>\n",
              "      <td>141.000000</td>\n",
              "      <td>80.000000</td>\n",
              "      <td>36.000000</td>\n",
              "      <td>190.000000</td>\n",
              "      <td>36.600000</td>\n",
              "      <td>0.626250</td>\n",
              "      <td>41.000000</td>\n",
              "      <td>1.000000</td>\n",
              "    </tr>\n",
              "    <tr>\n",
              "      <th>max</th>\n",
              "      <td>17.000000</td>\n",
              "      <td>199.000000</td>\n",
              "      <td>122.000000</td>\n",
              "      <td>99.000000</td>\n",
              "      <td>846.000000</td>\n",
              "      <td>67.100000</td>\n",
              "      <td>2.420000</td>\n",
              "      <td>81.000000</td>\n",
              "      <td>1.000000</td>\n",
              "    </tr>\n",
              "  </tbody>\n",
              "</table>\n",
              "</div>\n",
              "      <button class=\"colab-df-convert\" onclick=\"convertToInteractive('df-16ea39ef-c34a-42f3-9253-a8fd1b0e6617')\"\n",
              "              title=\"Convert this dataframe to an interactive table.\"\n",
              "              style=\"display:none;\">\n",
              "        \n",
              "  <svg xmlns=\"http://www.w3.org/2000/svg\" height=\"24px\"viewBox=\"0 0 24 24\"\n",
              "       width=\"24px\">\n",
              "    <path d=\"M0 0h24v24H0V0z\" fill=\"none\"/>\n",
              "    <path d=\"M18.56 5.44l.94 2.06.94-2.06 2.06-.94-2.06-.94-.94-2.06-.94 2.06-2.06.94zm-11 1L8.5 8.5l.94-2.06 2.06-.94-2.06-.94L8.5 2.5l-.94 2.06-2.06.94zm10 10l.94 2.06.94-2.06 2.06-.94-2.06-.94-.94-2.06-.94 2.06-2.06.94z\"/><path d=\"M17.41 7.96l-1.37-1.37c-.4-.4-.92-.59-1.43-.59-.52 0-1.04.2-1.43.59L10.3 9.45l-7.72 7.72c-.78.78-.78 2.05 0 2.83L4 21.41c.39.39.9.59 1.41.59.51 0 1.02-.2 1.41-.59l7.78-7.78 2.81-2.81c.8-.78.8-2.07 0-2.86zM5.41 20L4 18.59l7.72-7.72 1.47 1.35L5.41 20z\"/>\n",
              "  </svg>\n",
              "      </button>\n",
              "      \n",
              "  <style>\n",
              "    .colab-df-container {\n",
              "      display:flex;\n",
              "      flex-wrap:wrap;\n",
              "      gap: 12px;\n",
              "    }\n",
              "\n",
              "    .colab-df-convert {\n",
              "      background-color: #E8F0FE;\n",
              "      border: none;\n",
              "      border-radius: 50%;\n",
              "      cursor: pointer;\n",
              "      display: none;\n",
              "      fill: #1967D2;\n",
              "      height: 32px;\n",
              "      padding: 0 0 0 0;\n",
              "      width: 32px;\n",
              "    }\n",
              "\n",
              "    .colab-df-convert:hover {\n",
              "      background-color: #E2EBFA;\n",
              "      box-shadow: 0px 1px 2px rgba(60, 64, 67, 0.3), 0px 1px 3px 1px rgba(60, 64, 67, 0.15);\n",
              "      fill: #174EA6;\n",
              "    }\n",
              "\n",
              "    [theme=dark] .colab-df-convert {\n",
              "      background-color: #3B4455;\n",
              "      fill: #D2E3FC;\n",
              "    }\n",
              "\n",
              "    [theme=dark] .colab-df-convert:hover {\n",
              "      background-color: #434B5C;\n",
              "      box-shadow: 0px 1px 3px 1px rgba(0, 0, 0, 0.15);\n",
              "      filter: drop-shadow(0px 1px 2px rgba(0, 0, 0, 0.3));\n",
              "      fill: #FFFFFF;\n",
              "    }\n",
              "  </style>\n",
              "\n",
              "      <script>\n",
              "        const buttonEl =\n",
              "          document.querySelector('#df-16ea39ef-c34a-42f3-9253-a8fd1b0e6617 button.colab-df-convert');\n",
              "        buttonEl.style.display =\n",
              "          google.colab.kernel.accessAllowed ? 'block' : 'none';\n",
              "\n",
              "        async function convertToInteractive(key) {\n",
              "          const element = document.querySelector('#df-16ea39ef-c34a-42f3-9253-a8fd1b0e6617');\n",
              "          const dataTable =\n",
              "            await google.colab.kernel.invokeFunction('convertToInteractive',\n",
              "                                                     [key], {});\n",
              "          if (!dataTable) return;\n",
              "\n",
              "          const docLinkHtml = 'Like what you see? Visit the ' +\n",
              "            '<a target=\"_blank\" href=https://colab.research.google.com/notebooks/data_table.ipynb>data table notebook</a>'\n",
              "            + ' to learn more about interactive tables.';\n",
              "          element.innerHTML = '';\n",
              "          dataTable['output_type'] = 'display_data';\n",
              "          await google.colab.output.renderOutput(dataTable, element);\n",
              "          const docLink = document.createElement('div');\n",
              "          docLink.innerHTML = docLinkHtml;\n",
              "          element.appendChild(docLink);\n",
              "        }\n",
              "      </script>\n",
              "    </div>\n",
              "  </div>\n",
              "  "
            ]
          },
          "metadata": {},
          "execution_count": 158
        }
      ]
    },
    {
      "cell_type": "code",
      "source": [
        "ds.info()"
      ],
      "metadata": {
        "id": "U79mBDH6TjtP",
        "colab": {
          "base_uri": "https://localhost:8080/"
        },
        "outputId": "0d4de6d1-d1c0-463d-c368-5144e9073230"
      },
      "execution_count": 159,
      "outputs": [
        {
          "output_type": "stream",
          "name": "stdout",
          "text": [
            "<class 'pandas.core.frame.DataFrame'>\n",
            "RangeIndex: 768 entries, 0 to 767\n",
            "Data columns (total 9 columns):\n",
            " #   Column                    Non-Null Count  Dtype  \n",
            "---  ------                    --------------  -----  \n",
            " 0   Pregnancies               768 non-null    int64  \n",
            " 1   Glucose                   763 non-null    float64\n",
            " 2   BloodPressure             733 non-null    float64\n",
            " 3   SkinThickness             541 non-null    float64\n",
            " 4   Insulin                   394 non-null    float64\n",
            " 5   BMI                       757 non-null    float64\n",
            " 6   DiabetesPedigreeFunction  768 non-null    float64\n",
            " 7   Age                       768 non-null    int64  \n",
            " 8   Outcome                   768 non-null    int64  \n",
            "dtypes: float64(6), int64(3)\n",
            "memory usage: 54.1 KB\n"
          ]
        }
      ]
    },
    {
      "cell_type": "markdown",
      "source": [
        "##Q1.Please do the basic exploration of data and explain all data types (nominal, ordinal, discrete or continuous)."
      ],
      "metadata": {
        "id": "-AUnqjnWrIQq"
      }
    },
    {
      "cell_type": "markdown",
      "source": [
        "**In the above data frame**\n",
        "\n",
        "**Nominal data are :- Outcome**\n",
        "\n",
        "**Ordinal data are :-**\n",
        "\n",
        "**Discrete data are :- Pregnancies,**\n",
        "\n",
        "**COntinous data are :- Glucose,BloodPressure,SkinThickness,Insulin,BMI,DiabetesPedigreeFunction,Age**\n",
        "\n",
        "Data are devided into two types\n",
        "\n",
        "# **1. Qualitative data** :-\n",
        " It describes quality of the data.\n",
        "\n",
        "they again devided into two types.\n",
        "* **Nominal data**\n",
        "“ No order and no  magnitude for data”\n",
        "\n",
        "ex:- Gender, list of country\n",
        "* **Ordinal data**\n",
        "“With order but no magnitude for data”\n",
        "\n",
        "ex:- Grade system ( A>B>C), Economic status(Low income, Middle income, High income)\n",
        "\n",
        "# **1. Quantitative Data** :-\n",
        "\"data that can be counted or measured in numerical values\"\n",
        "\n",
        "they are again devided into two types.\n",
        "* **discrete data**\n",
        "\"No intermediate values present for data. Also it's a counting\"\n",
        "\n",
        "ex:- Population of country, counting of cars\n",
        "* **Continuous data**\n",
        "“ data in which intermediate values are possible. It’s a measurement.\n",
        "\n",
        "ex: GDP of country. temperature in celsius."
      ],
      "metadata": {
        "id": "4kM8XDnbrTvC"
      }
    },
    {
      "cell_type": "markdown",
      "source": [
        "##Q2.Calculate appropriate measures of central tendency for Glucose and outcome column variable only? Do not give all results."
      ],
      "metadata": {
        "id": "P5PpqdddvgM3"
      }
    },
    {
      "cell_type": "code",
      "source": [
        "sns.histplot(data=ds, x=\"Glucose\", kde=True, color=\"brown\") # since Glucose is numerical data, using histogram to check distribution of outcome .\n",
        "print('Skewness of cloumn Glucose is : ',ds.Glucose.skew()) # checking sckewness in glucose\n",
        "plt.show()\n"
      ],
      "metadata": {
        "colab": {
          "base_uri": "https://localhost:8080/",
          "height": 297
        },
        "id": "qipm7qiOUCAn",
        "outputId": "20cabea7-a44a-4799-b04a-995d77d555de"
      },
      "execution_count": 160,
      "outputs": [
        {
          "output_type": "stream",
          "name": "stdout",
          "text": [
            "Skewness of cloumn Glucose is :  0.5309885349396285\n"
          ]
        },
        {
          "output_type": "display_data",
          "data": {
            "text/plain": [
              "<Figure size 432x288 with 1 Axes>"
            ],
            "image/png": "[encoded data removed]"
          },
          "metadata": {
            "needs_background": "light"
          }
        }
      ]
    },
    {
      "cell_type": "code",
      "source": [
        "plt.figure(figsize=(5,5))\n",
        "sns.countplot(x='Outcome', data=ds)# since outcome is categorical data, using barplot to check distribution of outcome .\n",
        "\n",
        "plt.show()"
      ],
      "metadata": {
        "colab": {
          "base_uri": "https://localhost:8080/",
          "height": 334
        },
        "id": "rAs66y3SEb9B",
        "outputId": "f9657503-f5df-40a1-f601-f321fd80605d"
      },
      "execution_count": 161,
      "outputs": [
        {
          "output_type": "display_data",
          "data": {
            "text/plain": [
              "<Figure size 360x360 with 1 Axes>"
            ],
            "image/png": "[encoded data removed]"
          },
          "metadata": {
            "needs_background": "light"
          }
        }
      ]
    },
    {
      "cell_type": "code",
      "source": [
        "print(\"Median value of Glucose is \",ds.Glucose.median())\n",
        "print(\" Mode value of outcome is : \",ds.Outcome.mode())"
      ],
      "metadata": {
        "colab": {
          "base_uri": "https://localhost:8080/"
        },
        "id": "NKjtuJxrXo8l",
        "outputId": "d4229175-fe2c-420b-e14f-fae920f126a9"
      },
      "execution_count": 162,
      "outputs": [
        {
          "output_type": "stream",
          "name": "stdout",
          "text": [
            "Median value of Glucose is  117.0\n",
            " Mode value of outcome is :  0    0\n",
            "dtype: int64\n"
          ]
        }
      ]
    },
    {
      "cell_type": "markdown",
      "source": [
        "**From the above graph and we can understand that skewness of glucose column is 0.53. so we can consider median value as center of tendency.**\n",
        "\n",
        "\n",
        "**Since outcome column is a Categorical data, we can use mode to check central tendency that is 0**\n",
        "\n",
        "\n",
        "**Above result shows that column Glocose has central tendency value of 117**\n",
        "\n",
        "**Column out come is more cetral towards 0 that is non-diabetic.**"
      ],
      "metadata": {
        "id": "0b6HENrzXIGS"
      }
    },
    {
      "cell_type": "markdown",
      "source": [
        "##Q3.Please provide 5 points data summaries for required columns?"
      ],
      "metadata": {
        "id": "zataMKRsYGaJ"
      }
    },
    {
      "cell_type": "code",
      "source": [
        "ds.describe()# to check statistical summary"
      ],
      "metadata": {
        "colab": {
          "base_uri": "https://localhost:8080/",
          "height": 300
        },
        "id": "Sqj5QMt9YN0G",
        "outputId": "c26772d1-27e1-4bae-94da-04ecbcf7e177"
      },
      "execution_count": 163,
      "outputs": [
        {
          "output_type": "execute_result",
          "data": {
            "text/plain": [
              "       Pregnancies     Glucose  BloodPressure  SkinThickness     Insulin  \\\n",
              "count   768.000000  763.000000     733.000000     541.000000  394.000000   \n",
              "mean      3.845052  121.686763      72.405184      29.153420  155.548223   \n",
              "std       3.369578   30.535641      12.382158      10.476982  118.775855   \n",
              "min       0.000000   44.000000      24.000000       7.000000   14.000000   \n",
              "25%       1.000000   99.000000      64.000000      22.000000   76.250000   \n",
              "50%       3.000000  117.000000      72.000000      29.000000  125.000000   \n",
              "75%       6.000000  141.000000      80.000000      36.000000  190.000000   \n",
              "max      17.000000  199.000000     122.000000      99.000000  846.000000   \n",
              "\n",
              "              BMI  DiabetesPedigreeFunction         Age     Outcome  \n",
              "count  757.000000                768.000000  768.000000  768.000000  \n",
              "mean    32.457464                  0.471876   33.240885    0.348958  \n",
              "std      6.924988                  0.331329   11.760232    0.476951  \n",
              "min     18.200000                  0.078000   21.000000    0.000000  \n",
              "25%     27.500000                  0.243750   24.000000    0.000000  \n",
              "50%     32.300000                  0.372500   29.000000    0.000000  \n",
              "75%     36.600000                  0.626250   41.000000    1.000000  \n",
              "max     67.100000                  2.420000   81.000000    1.000000  "
            ],
            "text/html": [
              "\n",
              "  <div id=\"df-ba2f9f56-4421-4409-ba8c-bf4a7e14728e\">\n",
              "    <div class=\"colab-df-container\">\n",
              "      <div>\n",
              "<style scoped>\n",
              "    .dataframe tbody tr th:only-of-type {\n",
              "        vertical-align: middle;\n",
              "    }\n",
              "\n",
              "    .dataframe tbody tr th {\n",
              "        vertical-align: top;\n",
              "    }\n",
              "\n",
              "    .dataframe thead th {\n",
              "        text-align: right;\n",
              "    }\n",
              "</style>\n",
              "<table border=\"1\" class=\"dataframe\">\n",
              "  <thead>\n",
              "    <tr style=\"text-align: right;\">\n",
              "      <th></th>\n",
              "      <th>Pregnancies</th>\n",
              "      <th>Glucose</th>\n",
              "      <th>BloodPressure</th>\n",
              "      <th>SkinThickness</th>\n",
              "      <th>Insulin</th>\n",
              "      <th>BMI</th>\n",
              "      <th>DiabetesPedigreeFunction</th>\n",
              "      <th>Age</th>\n",
              "      <th>Outcome</th>\n",
              "    </tr>\n",
              "  </thead>\n",
              "  <tbody>\n",
              "    <tr>\n",
              "      <th>count</th>\n",
              "      <td>768.000000</td>\n",
              "      <td>763.000000</td>\n",
              "      <td>733.000000</td>\n",
              "      <td>541.000000</td>\n",
              "      <td>394.000000</td>\n",
              "      <td>757.000000</td>\n",
              "      <td>768.000000</td>\n",
              "      <td>768.000000</td>\n",
              "      <td>768.000000</td>\n",
              "    </tr>\n",
              "    <tr>\n",
              "      <th>mean</th>\n",
              "      <td>3.845052</td>\n",
              "      <td>121.686763</td>\n",
              "      <td>72.405184</td>\n",
              "      <td>29.153420</td>\n",
              "      <td>155.548223</td>\n",
              "      <td>32.457464</td>\n",
              "      <td>0.471876</td>\n",
              "      <td>33.240885</td>\n",
              "      <td>0.348958</td>\n",
              "    </tr>\n",
              "    <tr>\n",
              "      <th>std</th>\n",
              "      <td>3.369578</td>\n",
              "      <td>30.535641</td>\n",
              "      <td>12.382158</td>\n",
              "      <td>10.476982</td>\n",
              "      <td>118.775855</td>\n",
              "      <td>6.924988</td>\n",
              "      <td>0.331329</td>\n",
              "      <td>11.760232</td>\n",
              "      <td>0.476951</td>\n",
              "    </tr>\n",
              "    <tr>\n",
              "      <th>min</th>\n",
              "      <td>0.000000</td>\n",
              "      <td>44.000000</td>\n",
              "      <td>24.000000</td>\n",
              "      <td>7.000000</td>\n",
              "      <td>14.000000</td>\n",
              "      <td>18.200000</td>\n",
              "      <td>0.078000</td>\n",
              "      <td>21.000000</td>\n",
              "      <td>0.000000</td>\n",
              "    </tr>\n",
              "    <tr>\n",
              "      <th>25%</th>\n",
              "      <td>1.000000</td>\n",
              "      <td>99.000000</td>\n",
              "      <td>64.000000</td>\n",
              "      <td>22.000000</td>\n",
              "      <td>76.250000</td>\n",
              "      <td>27.500000</td>\n",
              "      <td>0.243750</td>\n",
              "      <td>24.000000</td>\n",
              "      <td>0.000000</td>\n",
              "    </tr>\n",
              "    <tr>\n",
              "      <th>50%</th>\n",
              "      <td>3.000000</td>\n",
              "      <td>117.000000</td>\n",
              "      <td>72.000000</td>\n",
              "      <td>29.000000</td>\n",
              "      <td>125.000000</td>\n",
              "      <td>32.300000</td>\n",
              "      <td>0.372500</td>\n",
              "      <td>29.000000</td>\n",
              "      <td>0.000000</td>\n",
              "    </tr>\n",
              "    <tr>\n",
              "      <th>75%</th>\n",
              "      <td>6.000000</td>\n",
              "      <td>141.000000</td>\n",
              "      <td>80.000000</td>\n",
              "      <td>36.000000</td>\n",
              "      <td>190.000000</td>\n",
              "      <td>36.600000</td>\n",
              "      <td>0.626250</td>\n",
              "      <td>41.000000</td>\n",
              "      <td>1.000000</td>\n",
              "    </tr>\n",
              "    <tr>\n",
              "      <th>max</th>\n",
              "      <td>17.000000</td>\n",
              "      <td>199.000000</td>\n",
              "      <td>122.000000</td>\n",
              "      <td>99.000000</td>\n",
              "      <td>846.000000</td>\n",
              "      <td>67.100000</td>\n",
              "      <td>2.420000</td>\n",
              "      <td>81.000000</td>\n",
              "      <td>1.000000</td>\n",
              "    </tr>\n",
              "  </tbody>\n",
              "</table>\n",
              "</div>\n",
              "      <button class=\"colab-df-convert\" onclick=\"convertToInteractive('df-ba2f9f56-4421-4409-ba8c-bf4a7e14728e')\"\n",
              "              title=\"Convert this dataframe to an interactive table.\"\n",
              "              style=\"display:none;\">\n",
              "        \n",
              "  <svg xmlns=\"http://www.w3.org/2000/svg\" height=\"24px\"viewBox=\"0 0 24 24\"\n",
              "       width=\"24px\">\n",
              "    <path d=\"M0 0h24v24H0V0z\" fill=\"none\"/>\n",
              "    <path d=\"M18.56 5.44l.94 2.06.94-2.06 2.06-.94-2.06-.94-.94-2.06-.94 2.06-2.06.94zm-11 1L8.5 8.5l.94-2.06 2.06-.94-2.06-.94L8.5 2.5l-.94 2.06-2.06.94zm10 10l.94 2.06.94-2.06 2.06-.94-2.06-.94-.94-2.06-.94 2.06-2.06.94z\"/><path d=\"M17.41 7.96l-1.37-1.37c-.4-.4-.92-.59-1.43-.59-.52 0-1.04.2-1.43.59L10.3 9.45l-7.72 7.72c-.78.78-.78 2.05 0 2.83L4 21.41c.39.39.9.59 1.41.59.51 0 1.02-.2 1.41-.59l7.78-7.78 2.81-2.81c.8-.78.8-2.07 0-2.86zM5.41 20L4 18.59l7.72-7.72 1.47 1.35L5.41 20z\"/>\n",
              "  </svg>\n",
              "      </button>\n",
              "      \n",
              "  <style>\n",
              "    .colab-df-container {\n",
              "      display:flex;\n",
              "      flex-wrap:wrap;\n",
              "      gap: 12px;\n",
              "    }\n",
              "\n",
              "    .colab-df-convert {\n",
              "      background-color: #E8F0FE;\n",
              "      border: none;\n",
              "      border-radius: 50%;\n",
              "      cursor: pointer;\n",
              "      display: none;\n",
              "      fill: #1967D2;\n",
              "      height: 32px;\n",
              "      padding: 0 0 0 0;\n",
              "      width: 32px;\n",
              "    }\n",
              "\n",
              "    .colab-df-convert:hover {\n",
              "      background-color: #E2EBFA;\n",
              "      box-shadow: 0px 1px 2px rgba(60, 64, 67, 0.3), 0px 1px 3px 1px rgba(60, 64, 67, 0.15);\n",
              "      fill: #174EA6;\n",
              "    }\n",
              "\n",
              "    [theme=dark] .colab-df-convert {\n",
              "      background-color: #3B4455;\n",
              "      fill: #D2E3FC;\n",
              "    }\n",
              "\n",
              "    [theme=dark] .colab-df-convert:hover {\n",
              "      background-color: #434B5C;\n",
              "      box-shadow: 0px 1px 3px 1px rgba(0, 0, 0, 0.15);\n",
              "      filter: drop-shadow(0px 1px 2px rgba(0, 0, 0, 0.3));\n",
              "      fill: #FFFFFF;\n",
              "    }\n",
              "  </style>\n",
              "\n",
              "      <script>\n",
              "        const buttonEl =\n",
              "          document.querySelector('#df-ba2f9f56-4421-4409-ba8c-bf4a7e14728e button.colab-df-convert');\n",
              "        buttonEl.style.display =\n",
              "          google.colab.kernel.accessAllowed ? 'block' : 'none';\n",
              "\n",
              "        async function convertToInteractive(key) {\n",
              "          const element = document.querySelector('#df-ba2f9f56-4421-4409-ba8c-bf4a7e14728e');\n",
              "          const dataTable =\n",
              "            await google.colab.kernel.invokeFunction('convertToInteractive',\n",
              "                                                     [key], {});\n",
              "          if (!dataTable) return;\n",
              "\n",
              "          const docLinkHtml = 'Like what you see? Visit the ' +\n",
              "            '<a target=\"_blank\" href=https://colab.research.google.com/notebooks/data_table.ipynb>data table notebook</a>'\n",
              "            + ' to learn more about interactive tables.';\n",
              "          element.innerHTML = '';\n",
              "          dataTable['output_type'] = 'display_data';\n",
              "          await google.colab.output.renderOutput(dataTable, element);\n",
              "          const docLink = document.createElement('div');\n",
              "          docLink.innerHTML = docLinkHtml;\n",
              "          element.appendChild(docLink);\n",
              "        }\n",
              "      </script>\n",
              "    </div>\n",
              "  </div>\n",
              "  "
            ]
          },
          "metadata": {},
          "execution_count": 163
        }
      ]
    },
    {
      "cell_type": "markdown",
      "source": [
        "**5 points data summary for Pregnancies**\n",
        "\n",
        "* **minimun value = 0**\n",
        "* **Maximum value = 17**\n",
        "* **lower quartiles =1**\n",
        "* **upper quartiles = 6**\n",
        "* **medain value = 3**\n",
        "\n",
        "\n",
        "**5 points data summary for Glucose**\n",
        "* **minimun value = 44.0**\n",
        "* **Maximum value = 199.0**\n",
        "* **lower quartiles =76.25**\n",
        "* **upper quartiles = 141.0**\n",
        "* **medain value = 117**\n",
        "\n",
        "\n",
        "**5 points data summary for Blood pressure are**\n",
        "* **minimun value = 24.0**\n",
        "* **Maximum value = 122.0**\n",
        "* **lower quartiles = 64.0**\n",
        "* **upper quartiles = 80.0**\n",
        "* **medain value = 72**\n",
        "\n",
        "\n",
        "**5 points data summary for skin Thickness  are**\n",
        "* **minimun value = 7.0**\n",
        "* **Maximum value = 99.0**\n",
        "* **lower quartiles = 22.0**\n",
        "* **upper quartiles =36.0**\n",
        "* **medain value = 72**\n",
        "\n",
        "\n",
        "**5 points data summary for Insulin  are**\n",
        "* **minimun value = 14.0**\n",
        "* **Maximum value = 846.0**\n",
        "* **lower quartiles = 22.0**\n",
        "* **upper quartiles =190.0**\n",
        "* **medain value = 125**\n",
        "\n",
        "\n",
        "**5 points data summary for BMI are**\n",
        "* **minimun value = 18.2**\n",
        "* **Maximum value = 67.1**\n",
        "* **lower quartiles = 27.5**\n",
        "* **upper quartiles =36.6**\n",
        "* **medain value = 32.3**\n",
        "\n",
        "\n",
        "**5 points data summary for Diabetes PedigreeFunction are**\n",
        "* **minimun value = 0.078**\n",
        "* **Maximum value = 2.42**\n",
        "* **lower quartiles = 0.24375**\n",
        "* **upper quartiles =0.62625**\n",
        "* **medain value = 0.3725**\n",
        "\n",
        "\n",
        "**5 points data summary for Diabetes Age are**\n",
        "* **minimun value =\t21.0**\n",
        "* **Maximum value = 81.0**\n",
        "* **lower quartiles = 24.0**\n",
        "* **upper quartiles =41.0**\n",
        "* **medain value = 29.0**"
      ],
      "metadata": {
        "id": "xComVVMZYh47"
      }
    },
    {
      "cell_type": "markdown",
      "source": [
        ""
      ],
      "metadata": {
        "id": "IgGLxmUyonAa"
      }
    },
    {
      "cell_type": "markdown",
      "source": [
        "##Q4.Please create an appropriate plot to see the distribution of the Outcome variable?"
      ],
      "metadata": {
        "id": "mtvIuBCZChL7"
      }
    },
    {
      "cell_type": "code",
      "source": [
        "plt.figure(figsize=(5,5))\n",
        "sns.countplot(x='Outcome', data=ds) # since out come is a categorical data, we are using count plot\n",
        "plt.show()"
      ],
      "metadata": {
        "colab": {
          "base_uri": "https://localhost:8080/",
          "height": 334
        },
        "id": "_Ud12MUeorHn",
        "outputId": "bcc48dab-14b7-40f1-cc09-26809cfce67f"
      },
      "execution_count": 164,
      "outputs": [
        {
          "output_type": "display_data",
          "data": {
            "text/plain": [
              "<Figure size 360x360 with 1 Axes>"
            ],
            "image/png": "[encoded data removed]"
          },
          "metadata": {
            "needs_background": "light"
          }
        }
      ]
    },
    {
      "cell_type": "code",
      "source": [
        "count = ds['Outcome'].value_counts()\n",
        "print(\"count of outcome : \\n\",count)\n",
        "DB = ['non-diabetic', 'diabetic']# Creating categories based on numbers\n",
        "# Creating plot\n",
        "fig = plt.figure(figsize =(5,5))\n",
        "plt.pie(count, labels = DB,autopct='%1.1f%%',shadow=True, startangle=90) # also we can use pie chart to see distribution of categorical data\n",
        "plt.title(\"Distrubution of Out come\")\n",
        "plt.show()# Show plot"
      ],
      "metadata": {
        "colab": {
          "base_uri": "https://localhost:8080/",
          "height": 392
        },
        "id": "lDrnn2sXqbq2",
        "outputId": "56c05895-1f37-412f-f514-34d202274ceb"
      },
      "execution_count": 165,
      "outputs": [
        {
          "output_type": "stream",
          "name": "stdout",
          "text": [
            "count of outcome : \n",
            " 0    500\n",
            "1    268\n",
            "Name: Outcome, dtype: int64\n"
          ]
        },
        {
          "output_type": "display_data",
          "data": {
            "text/plain": [
              "<Figure size 360x360 with 1 Axes>"
            ],
            "image/png": "[encoded data removed]"
          },
          "metadata": {}
        }
      ]
    },
    {
      "cell_type": "markdown",
      "source": [
        "**From above graph shows that 65.1% of non-diabetic and 34.9% of diabetics are present in datasheet**"
      ],
      "metadata": {
        "id": "8MYbSGXGEHR3"
      }
    },
    {
      "cell_type": "markdown",
      "source": [
        "##Q5.Is there a difference in glucose level between diabetic and non-diabetic? Similarly for insulin and diabetic vs nondiabetic"
      ],
      "metadata": {
        "id": "HwLXnKofExob"
      }
    },
    {
      "cell_type": "code",
      "source": [
        "plt.figure(figsize=(10,7))\n",
        "sns.barplot(x=\"Outcome\",y='Glucose',data=ds,ci= None) # here bar plot is used to compare numarical data with categorical data\n",
        "plt.title(\"Glucose level of diabetic and non-diabetic\") # title for graph\n",
        "plt.show()"
      ],
      "metadata": {
        "colab": {
          "base_uri": "https://localhost:8080/",
          "height": 458
        },
        "id": "Xksq5JaOaOXj",
        "outputId": "b071d4e1-ac0e-43cd-8b27-fa48a4c54169"
      },
      "execution_count": 166,
      "outputs": [
        {
          "output_type": "display_data",
          "data": {
            "text/plain": [
              "<Figure size 720x504 with 1 Axes>"
            ],
            "image/png": "[encoded data removed]"
          },
          "metadata": {
            "needs_background": "light"
          }
        }
      ]
    },
    {
      "cell_type": "markdown",
      "source": [
        "**Above Graph shows that Glucose level of Diabetic are more than non-diabetic patient**"
      ],
      "metadata": {
        "id": "jyDGOPziGjLA"
      }
    },
    {
      "cell_type": "code",
      "source": [
        "plt.figure(figsize=(10,7))\n",
        "sns.barplot(x=\"Outcome\",y='Insulin',data=ds,ci= None) # here bar plot is used to compare numarical data with categorical data\n",
        "plt.title(\"Insulin level of diabetic and non-diabetic\")# title for graph\n",
        "plt.show()"
      ],
      "metadata": {
        "colab": {
          "base_uri": "https://localhost:8080/",
          "height": 458
        },
        "id": "E5Rz_dZdaY4B",
        "outputId": "ee00e70d-3eaa-4b52-86c5-478ed8d632c9"
      },
      "execution_count": 167,
      "outputs": [
        {
          "output_type": "display_data",
          "data": {
            "text/plain": [
              "<Figure size 720x504 with 1 Axes>"
            ],
            "image/png": "[encoded data removed]"
          },
          "metadata": {
            "needs_background": "light"
          }
        }
      ]
    },
    {
      "cell_type": "markdown",
      "source": [
        "**Above Graph shows that Insulin level of Diabetic are more than non-diabetic**"
      ],
      "metadata": {
        "id": "Y_ohHFhVH-1f"
      }
    },
    {
      "cell_type": "markdown",
      "source": [
        "##Q6.Please examine the relationship between insulin and glucose level using appropriate plots"
      ],
      "metadata": {
        "id": "S0oM-SPuICqm"
      }
    },
    {
      "cell_type": "code",
      "source": [
        "plt.figure(figsize=(10,7))\n",
        "sns.scatterplot(x= \"Insulin\", y= \"Glucose\", data = ds) # here scatterplot used for analysing, two numerical data\n",
        "plt.title(\"Relation between insulin and glucose\")# title for graph\n",
        "plt.show()"
      ],
      "metadata": {
        "colab": {
          "base_uri": "https://localhost:8080/",
          "height": 458
        },
        "id": "9taUBmd3ao3y",
        "outputId": "8de76408-f633-4024-b436-e4adc974986a"
      },
      "execution_count": 168,
      "outputs": [
        {
          "output_type": "display_data",
          "data": {
            "text/plain": [
              "<Figure size 720x504 with 1 Axes>"
            ],
            "image/png": "[encoded data removed]"
          },
          "metadata": {
            "needs_background": "light"
          }
        }
      ]
    },
    {
      "cell_type": "markdown",
      "source": [
        "**From above graph shows that there is a slightly positive relation between Insulin and Glucose. that is, As insulin level increases, Glucose level also increases**"
      ],
      "metadata": {
        "id": "wSYjfJO3LrGm"
      }
    },
    {
      "cell_type": "markdown",
      "source": [
        "##Q7.Please examine the distribution of numerical data and explain which variables normally distributed and which variables seem to be skewed. Please also tell the direction of skewness."
      ],
      "metadata": {
        "id": "L4MPxorOMIBF"
      }
    },
    {
      "cell_type": "code",
      "source": [
        "fig, axs = plt.subplots(3, 3, figsize=(20, 20)) # creating sub plot with grid of3*3 and also figure size of 20,20\n",
        "sns.histplot(data=ds, x=\"Pregnancies\", kde=True, color=\"brown\", ax=axs[0, 0,])#ploting hist graph at grid 0,0\n",
        "sns.histplot(data=ds, x=\"Glucose\", kde=True, color=\"skyblue\", ax=axs[0, 1,])#ploting hist graph at grid 0,1\n",
        "sns.histplot(data=ds, x=\"BloodPressure\", kde=True, color=\"olive\", ax=axs[0, 2])#ploting hist graph at grid 0,2\n",
        "sns.histplot(data=ds, x=\"SkinThickness\", kde=True, color=\"gold\", ax=axs[1, 0])#ploting hist graph at grid 1,0\n",
        "sns.histplot(data=ds, x=\"Insulin\", kde=True, color=\"teal\", ax=axs[1, 1])#ploting hist graph at grid 1,1\n",
        "sns.histplot(data=ds, x=\"BMI\", kde=True, color=\"red\", ax=axs[1, 2])#ploting hist graph at grid 1,2\n",
        "sns.histplot(data=ds, x=\"DiabetesPedigreeFunction\", kde=True, color=\"green\", ax=axs[2, 0])#ploting hist graph at grid 2,0\n",
        "sns.histplot(data=ds, x=\"Age\", kde=True, color=\"pink\", ax=axs[2, 1])#ploting hist graph at grid 2,1\n",
        "plt.show()"
      ],
      "metadata": {
        "colab": {
          "base_uri": "https://localhost:8080/",
          "height": 1000
        },
        "id": "DuavhzlvbFtx",
        "outputId": "6dc1e734-2160-4486-989a-24d4d3a7cd9f"
      },
      "execution_count": 178,
      "outputs": [
        {
          "output_type": "display_data",
          "data": {
            "text/plain": [
              "<Figure size 1440x1440 with 9 Axes>"
            ],
            "image/png": "[encoded data removed]"
          },
          "metadata": {
            "needs_background": "light"
          }
        }
      ]
    },
    {
      "cell_type": "markdown",
      "source": [
        "**From above graphs, Blood presure seems to be normally distributed because it is symetric, bell shaped curve observed.**\n",
        "\n",
        "\n",
        "**Other veriables that is Pregnancies, Glucose,\tSkinThickness,\tInsulin,\tBMI,\tDiabetes Pedigree Function,\tAge are right direction skewed. because tail of the graph streched towards right**"
      ],
      "metadata": {
        "id": "een5WQMRdpkt"
      }
    },
    {
      "cell_type": "markdown",
      "source": [
        "##Q8.Please calculate the skewness value and divide variables into symmetrical, moderately skewed and highly skewed."
      ],
      "metadata": {
        "id": "szl9Pz21rM8u"
      }
    },
    {
      "cell_type": "code",
      "source": [
        "print(\"Skewness of Pregnancies is : \",ds.Pregnancies.skew())# checking skewness of veriable using skew function, and printing the output\n",
        "print(\"Skewness of Glucose is : \",ds.Glucose.skew())\n",
        "print(\"Skewness of Insulin is : \",ds.Insulin.skew())\n",
        "print(\"Skewness of BloodPressure is : \",ds.BloodPressure.skew())\n",
        "print(\"Skewness of SkinThickness is : \",ds.SkinThickness.skew())\n",
        "print(\"Skewness of BMI is : \",ds.BMI.skew())\n",
        "print(\"Skewness of Diabetes Pedigree Function is : \",ds.DiabetesPedigreeFunction.skew())\n",
        "print(\"Skewness of Age Function is : \",ds.Age.skew())"
      ],
      "metadata": {
        "colab": {
          "base_uri": "https://localhost:8080/"
        },
        "id": "AWa8RWzTfaE5",
        "outputId": "a577390c-adcf-48e7-d7c1-2c66035c24d9"
      },
      "execution_count": 170,
      "outputs": [
        {
          "output_type": "stream",
          "name": "stdout",
          "text": [
            "Skewness of Pregnancies is :  0.9016739791518588\n",
            "Skewness of Glucose is :  0.5309885349396285\n",
            "Skewness of Insulin is :  2.166463843812443\n",
            "Skewness of BloodPressure is :  0.13415273171959252\n",
            "Skewness of SkinThickness is :  0.690619013984192\n",
            "Skewness of BMI is :  0.5939697505712673\n",
            "Skewness of Diabetes Pedigree Function is :  1.919911066307204\n",
            "Skewness of Age Function is :  1.1295967011444805\n"
          ]
        }
      ]
    },
    {
      "cell_type": "markdown",
      "source": [
        "**Symetrical veriables are ( Skewness is between -0.5 to 0.5)**\n",
        "* Blood pressure(0.13)\n",
        "\n",
        "**moderately skewed veriables are(Skewness is between (-1 to -0.5 & 0.5 to 1)**\n",
        "\n",
        "* Pregnancies(0.9)\n",
        "* Glucose(0.53)\n",
        "* Skin Thickness(0.69)\n",
        "* BMI(0.59)\n",
        "\n",
        "**Highly skewed veriables are ( Skewness is < -1 and > +1)**\n",
        "* Insulin(2.15)\n",
        "* Diabetes Pedigree Function(1.91)\n",
        "* Age(1.12)"
      ],
      "metadata": {
        "id": "XxyP4rWDtr64"
      }
    },
    {
      "cell_type": "markdown",
      "source": [
        "##Q9.Please create an appropriate plot to examine the outliers of these variables. Please name the variables which have outliers. "
      ],
      "metadata": {
        "id": "eQvyri6Oxu7h"
      }
    },
    {
      "cell_type": "code",
      "source": [
        "fig, axs = plt.subplots(3, 3, figsize=(20, 10))# creating sub plot with grid of3*3 and also figure size of 20,20\n",
        "sns.boxplot(data=ds, x=\"Pregnancies\", color=\"orange\", ax=axs[0, 0])#ploting hist graph at grid 0,0\n",
        "sns.boxplot(data=ds, x=\"Glucose\",  color=\"skyblue\", ax=axs[0, 1])#ploting hist graph at grid 0,1\n",
        "sns.boxplot(data=ds, x=\"BloodPressure\",  color=\"olive\", ax=axs[0, 2])#ploting hist graph at grid 0,2\n",
        "sns.boxplot(data=ds, x=\"SkinThickness\",  color=\"gold\", ax=axs[1, 0])#ploting hist graph at grid 1,0\n",
        "sns.boxplot(data=ds, x=\"Insulin\",  color=\"teal\", ax=axs[1, 1])#ploting hist graph at grid 1,1\n",
        "sns.boxplot(data=ds, x=\"BMI\",  color=\"red\", ax=axs[1, 2])#ploting hist graph at grid 1,2\n",
        "sns.boxplot(data=ds, x=\"DiabetesPedigreeFunction\",  color=\"green\", ax=axs[2, 0])#ploting hist graph at grid 2,0\n",
        "sns.boxplot(data=ds, x=\"Age\", color=\"pink\", ax=axs[2, 1])#ploting hist graph at grid 2,1\n",
        "sns.countplot(data=ds, x=\"Outcome\", color=\"blue\", ax=axs[2, 2])#ploting hist graph at grid 2,2\n",
        "plt.show()"
      ],
      "metadata": {
        "colab": {
          "base_uri": "https://localhost:8080/",
          "height": 606
        },
        "id": "O60XdYWegCWM",
        "outputId": "1460b9d3-04de-4db5-f592-bfbf05d2766d"
      },
      "execution_count": 171,
      "outputs": [
        {
          "output_type": "display_data",
          "data": {
            "text/plain": [
              "<Figure size 1440x720 with 9 Axes>"
            ],
            "image/png": "[encoded data removed]"
          },
          "metadata": {
            "needs_background": "light"
          }
        }
      ]
    },
    {
      "cell_type": "markdown",
      "source": [
        "**Boxplot is used for numerical data, it shows that veriable Glucose has no outlier.**\n",
        "\n",
        "\n",
        "**other all veriable contains outlier in data that are Pregnancies, Glucose, Blood pressure, Skin thikness, Insulin, and BMI**\n",
        "\n",
        "**barplot is used for categorical data to check outlier, it shows Outcome veriable doesnot contain any outlier** \n"
      ],
      "metadata": {
        "id": "9a62L8nMg7lC"
      }
    },
    {
      "cell_type": "markdown",
      "source": [
        "##Q10.What should be the measures of central tendency and dispersion for skewed data? "
      ],
      "metadata": {
        "id": "_gjFBV1r2eXJ"
      }
    },
    {
      "cell_type": "markdown",
      "source": [
        "**Measures of central tendency for a skewed data is Median**\n",
        "\n",
        "**Measures of Dispersion for a skewed data is IQR(Interquartile Range)** "
      ],
      "metadata": {
        "id": "SkcdK83d4nCr"
      }
    },
    {
      "cell_type": "markdown",
      "source": [
        "##Q11.If there are missing values, please try to fill those missing values and give appropriate reasons"
      ],
      "metadata": {
        "id": "aYjknQkr5jR_"
      }
    },
    {
      "cell_type": "code",
      "source": [
        "ds.isnull().sum() # counting number of missing values in each column"
      ],
      "metadata": {
        "colab": {
          "base_uri": "https://localhost:8080/"
        },
        "id": "gaXqx4VVkYfp",
        "outputId": "eefe3365-5a4a-4af0-92ff-ceec2b15bae8"
      },
      "execution_count": 106,
      "outputs": [
        {
          "output_type": "execute_result",
          "data": {
            "text/plain": [
              "Pregnancies                       0\n",
              "Glucose                           5\n",
              "BloodPressure                    35\n",
              "SkinThickness                   227\n",
              "Insulin                         374\n",
              "BMI                              11\n",
              "DiabetesPedigreeFunction          0\n",
              "Age                               0\n",
              "Outcome                           0\n",
              "Pregnancies_log                   0\n",
              "Glucose_log                       5\n",
              "SkinThickness_log               227\n",
              "Insulin_log                     374\n",
              "BMI_log                          11\n",
              "DiabetesPedigreeFunction_log      0\n",
              "Age_log                           0\n",
              "dtype: int64"
            ]
          },
          "metadata": {},
          "execution_count": 106
        }
      ]
    },
    {
      "cell_type": "code",
      "source": [
        "dsr=ds.copy()# creating copy of given dataframe\n",
        "dsr['BloodPressure'] = ds['BloodPressure'].fillna(ds['BloodPressure'].mean())# replacing NaN with mean in veriable Bloodpressure\n",
        "dsr['Glucose'] = ds['Glucose'].fillna(ds['Glucose'].median())# replacing NaN with median in veriable Bloodpressure\n",
        "dsr['SkinThickness'] = ds['SkinThickness'].fillna(ds['SkinThickness'].median())# replacing NaN with median in veriable Bloodpressure\n",
        "dsr['Insulin'] = ds['Insulin'].fillna(ds['Insulin'].median())# replacing NaN with median in veriable Bloodpressure\n",
        "dsr['BMI'] = ds['BMI'].fillna(ds['BMI'].median())# replacing NaN with median in veriable Bloodpressure"
      ],
      "metadata": {
        "id": "Bm8ZfrUqhkxX"
      },
      "execution_count": 172,
      "outputs": []
    },
    {
      "cell_type": "markdown",
      "source": [
        "**By reffering to above data, and histogram graph. missing value in normally distributted Veriables can be replaced with mean value and skwed veriables can be replaced with median values**\n",
        "\n",
        "**Veriable Blood presure is normally distributted, so it can be replaced with mean value**\n",
        "\n",
        "**The veriable Glucose,SkinThickness,Insulin,BMI can be replaced with median value because these are skwed data.**"
      ],
      "metadata": {
        "id": "gkisbJXUe9uD"
      }
    },
    {
      "cell_type": "code",
      "source": [
        "dsr.isnull().sum() # checking for missing value."
      ],
      "metadata": {
        "colab": {
          "base_uri": "https://localhost:8080/"
        },
        "id": "I1d11XJ3jyHn",
        "outputId": "827fdb0c-b3c7-46d2-9deb-d3504e8ec970"
      },
      "execution_count": 173,
      "outputs": [
        {
          "output_type": "execute_result",
          "data": {
            "text/plain": [
              "Pregnancies                 0\n",
              "Glucose                     0\n",
              "BloodPressure               0\n",
              "SkinThickness               0\n",
              "Insulin                     0\n",
              "BMI                         0\n",
              "DiabetesPedigreeFunction    0\n",
              "Age                         0\n",
              "Outcome                     0\n",
              "dtype: int64"
            ]
          },
          "metadata": {},
          "execution_count": 173
        }
      ]
    },
    {
      "cell_type": "code",
      "source": [
        "dsr.describe().T"
      ],
      "metadata": {
        "colab": {
          "base_uri": "https://localhost:8080/",
          "height": 331
        },
        "id": "kh947KmzkADt",
        "outputId": "b80727b8-181b-4632-aee9-dd840fc7a3a8"
      },
      "execution_count": 174,
      "outputs": [
        {
          "output_type": "execute_result",
          "data": {
            "text/plain": [
              "                          count        mean        std     min        25%  \\\n",
              "Pregnancies               768.0    3.845052   3.369578   0.000    1.00000   \n",
              "Glucose                   768.0  121.656250  30.438286  44.000   99.75000   \n",
              "BloodPressure             768.0   72.405184  12.096346  24.000   64.00000   \n",
              "SkinThickness             768.0   29.108073   8.791221   7.000   25.00000   \n",
              "Insulin                   768.0  140.671875  86.383060  14.000  121.50000   \n",
              "BMI                       768.0   32.455208   6.875177  18.200   27.50000   \n",
              "DiabetesPedigreeFunction  768.0    0.471876   0.331329   0.078    0.24375   \n",
              "Age                       768.0   33.240885  11.760232  21.000   24.00000   \n",
              "Outcome                   768.0    0.348958   0.476951   0.000    0.00000   \n",
              "\n",
              "                                 50%        75%     max  \n",
              "Pregnancies                 3.000000    6.00000   17.00  \n",
              "Glucose                   117.000000  140.25000  199.00  \n",
              "BloodPressure              72.202592   80.00000  122.00  \n",
              "SkinThickness              29.000000   32.00000   99.00  \n",
              "Insulin                   125.000000  127.25000  846.00  \n",
              "BMI                        32.300000   36.60000   67.10  \n",
              "DiabetesPedigreeFunction    0.372500    0.62625    2.42  \n",
              "Age                        29.000000   41.00000   81.00  \n",
              "Outcome                     0.000000    1.00000    1.00  "
            ],
            "text/html": [
              "\n",
              "  <div id=\"df-c33a568a-a86e-4027-83c1-beba52e1e3f3\">\n",
              "    <div class=\"colab-df-container\">\n",
              "      <div>\n",
              "<style scoped>\n",
              "    .dataframe tbody tr th:only-of-type {\n",
              "        vertical-align: middle;\n",
              "    }\n",
              "\n",
              "    .dataframe tbody tr th {\n",
              "        vertical-align: top;\n",
              "    }\n",
              "\n",
              "    .dataframe thead th {\n",
              "        text-align: right;\n",
              "    }\n",
              "</style>\n",
              "<table border=\"1\" class=\"dataframe\">\n",
              "  <thead>\n",
              "    <tr style=\"text-align: right;\">\n",
              "      <th></th>\n",
              "      <th>count</th>\n",
              "      <th>mean</th>\n",
              "      <th>std</th>\n",
              "      <th>min</th>\n",
              "      <th>25%</th>\n",
              "      <th>50%</th>\n",
              "      <th>75%</th>\n",
              "      <th>max</th>\n",
              "    </tr>\n",
              "  </thead>\n",
              "  <tbody>\n",
              "    <tr>\n",
              "      <th>Pregnancies</th>\n",
              "      <td>768.0</td>\n",
              "      <td>3.845052</td>\n",
              "      <td>3.369578</td>\n",
              "      <td>0.000</td>\n",
              "      <td>1.00000</td>\n",
              "      <td>3.000000</td>\n",
              "      <td>6.00000</td>\n",
              "      <td>17.00</td>\n",
              "    </tr>\n",
              "    <tr>\n",
              "      <th>Glucose</th>\n",
              "      <td>768.0</td>\n",
              "      <td>121.656250</td>\n",
              "      <td>30.438286</td>\n",
              "      <td>44.000</td>\n",
              "      <td>99.75000</td>\n",
              "      <td>117.000000</td>\n",
              "      <td>140.25000</td>\n",
              "      <td>199.00</td>\n",
              "    </tr>\n",
              "    <tr>\n",
              "      <th>BloodPressure</th>\n",
              "      <td>768.0</td>\n",
              "      <td>72.405184</td>\n",
              "      <td>12.096346</td>\n",
              "      <td>24.000</td>\n",
              "      <td>64.00000</td>\n",
              "      <td>72.202592</td>\n",
              "      <td>80.00000</td>\n",
              "      <td>122.00</td>\n",
              "    </tr>\n",
              "    <tr>\n",
              "      <th>SkinThickness</th>\n",
              "      <td>768.0</td>\n",
              "      <td>29.108073</td>\n",
              "      <td>8.791221</td>\n",
              "      <td>7.000</td>\n",
              "      <td>25.00000</td>\n",
              "      <td>29.000000</td>\n",
              "      <td>32.00000</td>\n",
              "      <td>99.00</td>\n",
              "    </tr>\n",
              "    <tr>\n",
              "      <th>Insulin</th>\n",
              "      <td>768.0</td>\n",
              "      <td>140.671875</td>\n",
              "      <td>86.383060</td>\n",
              "      <td>14.000</td>\n",
              "      <td>121.50000</td>\n",
              "      <td>125.000000</td>\n",
              "      <td>127.25000</td>\n",
              "      <td>846.00</td>\n",
              "    </tr>\n",
              "    <tr>\n",
              "      <th>BMI</th>\n",
              "      <td>768.0</td>\n",
              "      <td>32.455208</td>\n",
              "      <td>6.875177</td>\n",
              "      <td>18.200</td>\n",
              "      <td>27.50000</td>\n",
              "      <td>32.300000</td>\n",
              "      <td>36.60000</td>\n",
              "      <td>67.10</td>\n",
              "    </tr>\n",
              "    <tr>\n",
              "      <th>DiabetesPedigreeFunction</th>\n",
              "      <td>768.0</td>\n",
              "      <td>0.471876</td>\n",
              "      <td>0.331329</td>\n",
              "      <td>0.078</td>\n",
              "      <td>0.24375</td>\n",
              "      <td>0.372500</td>\n",
              "      <td>0.62625</td>\n",
              "      <td>2.42</td>\n",
              "    </tr>\n",
              "    <tr>\n",
              "      <th>Age</th>\n",
              "      <td>768.0</td>\n",
              "      <td>33.240885</td>\n",
              "      <td>11.760232</td>\n",
              "      <td>21.000</td>\n",
              "      <td>24.00000</td>\n",
              "      <td>29.000000</td>\n",
              "      <td>41.00000</td>\n",
              "      <td>81.00</td>\n",
              "    </tr>\n",
              "    <tr>\n",
              "      <th>Outcome</th>\n",
              "      <td>768.0</td>\n",
              "      <td>0.348958</td>\n",
              "      <td>0.476951</td>\n",
              "      <td>0.000</td>\n",
              "      <td>0.00000</td>\n",
              "      <td>0.000000</td>\n",
              "      <td>1.00000</td>\n",
              "      <td>1.00</td>\n",
              "    </tr>\n",
              "  </tbody>\n",
              "</table>\n",
              "</div>\n",
              "      <button class=\"colab-df-convert\" onclick=\"convertToInteractive('df-c33a568a-a86e-4027-83c1-beba52e1e3f3')\"\n",
              "              title=\"Convert this dataframe to an interactive table.\"\n",
              "              style=\"display:none;\">\n",
              "        \n",
              "  <svg xmlns=\"http://www.w3.org/2000/svg\" height=\"24px\"viewBox=\"0 0 24 24\"\n",
              "       width=\"24px\">\n",
              "    <path d=\"M0 0h24v24H0V0z\" fill=\"none\"/>\n",
              "    <path d=\"M18.56 5.44l.94 2.06.94-2.06 2.06-.94-2.06-.94-.94-2.06-.94 2.06-2.06.94zm-11 1L8.5 8.5l.94-2.06 2.06-.94-2.06-.94L8.5 2.5l-.94 2.06-2.06.94zm10 10l.94 2.06.94-2.06 2.06-.94-2.06-.94-.94-2.06-.94 2.06-2.06.94z\"/><path d=\"M17.41 7.96l-1.37-1.37c-.4-.4-.92-.59-1.43-.59-.52 0-1.04.2-1.43.59L10.3 9.45l-7.72 7.72c-.78.78-.78 2.05 0 2.83L4 21.41c.39.39.9.59 1.41.59.51 0 1.02-.2 1.41-.59l7.78-7.78 2.81-2.81c.8-.78.8-2.07 0-2.86zM5.41 20L4 18.59l7.72-7.72 1.47 1.35L5.41 20z\"/>\n",
              "  </svg>\n",
              "      </button>\n",
              "      \n",
              "  <style>\n",
              "    .colab-df-container {\n",
              "      display:flex;\n",
              "      flex-wrap:wrap;\n",
              "      gap: 12px;\n",
              "    }\n",
              "\n",
              "    .colab-df-convert {\n",
              "      background-color: #E8F0FE;\n",
              "      border: none;\n",
              "      border-radius: 50%;\n",
              "      cursor: pointer;\n",
              "      display: none;\n",
              "      fill: #1967D2;\n",
              "      height: 32px;\n",
              "      padding: 0 0 0 0;\n",
              "      width: 32px;\n",
              "    }\n",
              "\n",
              "    .colab-df-convert:hover {\n",
              "      background-color: #E2EBFA;\n",
              "      box-shadow: 0px 1px 2px rgba(60, 64, 67, 0.3), 0px 1px 3px 1px rgba(60, 64, 67, 0.15);\n",
              "      fill: #174EA6;\n",
              "    }\n",
              "\n",
              "    [theme=dark] .colab-df-convert {\n",
              "      background-color: #3B4455;\n",
              "      fill: #D2E3FC;\n",
              "    }\n",
              "\n",
              "    [theme=dark] .colab-df-convert:hover {\n",
              "      background-color: #434B5C;\n",
              "      box-shadow: 0px 1px 3px 1px rgba(0, 0, 0, 0.15);\n",
              "      filter: drop-shadow(0px 1px 2px rgba(0, 0, 0, 0.3));\n",
              "      fill: #FFFFFF;\n",
              "    }\n",
              "  </style>\n",
              "\n",
              "      <script>\n",
              "        const buttonEl =\n",
              "          document.querySelector('#df-c33a568a-a86e-4027-83c1-beba52e1e3f3 button.colab-df-convert');\n",
              "        buttonEl.style.display =\n",
              "          google.colab.kernel.accessAllowed ? 'block' : 'none';\n",
              "\n",
              "        async function convertToInteractive(key) {\n",
              "          const element = document.querySelector('#df-c33a568a-a86e-4027-83c1-beba52e1e3f3');\n",
              "          const dataTable =\n",
              "            await google.colab.kernel.invokeFunction('convertToInteractive',\n",
              "                                                     [key], {});\n",
              "          if (!dataTable) return;\n",
              "\n",
              "          const docLinkHtml = 'Like what you see? Visit the ' +\n",
              "            '<a target=\"_blank\" href=https://colab.research.google.com/notebooks/data_table.ipynb>data table notebook</a>'\n",
              "            + ' to learn more about interactive tables.';\n",
              "          element.innerHTML = '';\n",
              "          dataTable['output_type'] = 'display_data';\n",
              "          await google.colab.output.renderOutput(dataTable, element);\n",
              "          const docLink = document.createElement('div');\n",
              "          docLink.innerHTML = docLinkHtml;\n",
              "          element.appendChild(docLink);\n",
              "        }\n",
              "      </script>\n",
              "    </div>\n",
              "  </div>\n",
              "  "
            ]
          },
          "metadata": {},
          "execution_count": 174
        }
      ]
    },
    {
      "cell_type": "markdown",
      "source": [
        "##Q12.If skewness is present, try to perform transformation and explain the results."
      ],
      "metadata": {
        "id": "YfsfL-_6knCY"
      }
    },
    {
      "cell_type": "code",
      "source": [
        "dsr['Pregnancies_log'] = np.log(ds['Pregnancies']) # taking log of veriable pregnencies and saving as new column Pregnancies_log\n",
        "dsr['Glucose_log'] = np.log(ds['Glucose'])#taking log of veriable Glucose and saving as new column Glucose_log\n",
        "dsr['SkinThickness_log'] = np.log(ds['SkinThickness'])#taking log of veriable SkinThicknes and saving as new column SkinThickness_log\n",
        "dsr['Insulin_log'] = np.log(ds['Insulin'])#taking log of veriable Insulin and saving as new column Insulin_log\n",
        "dsr['BMI_log'] = np.log(ds['BMI'])#taking log of veriable BMI and saving as new column BMI_log\n",
        "dsr['DiabetesPedigreeFunction_log'] = np.log(ds['DiabetesPedigreeFunction'])#taking log of veriable DiabetesPedigreeFunctions and saving as new column DiabetesPedigreeFunction_log\n",
        "dsr['Age_log'] = np.log(ds['Age'])#taking log of veriable Age and saving as new column Age_log"
      ],
      "metadata": {
        "colab": {
          "base_uri": "https://localhost:8080/"
        },
        "id": "0V0VlBB2kukP",
        "outputId": "a99e8c8a-e9a3-4786-f8b3-311a6ed77321"
      },
      "execution_count": 175,
      "outputs": [
        {
          "output_type": "stream",
          "name": "stderr",
          "text": [
            "/usr/local/lib/python3.7/dist-packages/pandas/core/arraylike.py:364: RuntimeWarning: divide by zero encountered in log\n",
            "  result = getattr(ufunc, method)(*inputs, **kwargs)\n"
          ]
        }
      ]
    },
    {
      "cell_type": "code",
      "source": [
        "fig, axs = plt.subplots(3, 3, figsize=(20, 20))# creating sub plot with grid of3*3 and also figure size of 20,20\n",
        "sns.histplot(data=dsr, x=\"Pregnancies_log\", kde=True, color=\"skyblue\", ax=axs[0, 0,]) # crating histogram of log values for suitable veriables\n",
        "sns.histplot(data=dsr, x=\"Glucose_log\", kde=True, color=\"olive\", ax=axs[0, 1])\n",
        "sns.histplot(data=dsr, x=\"SkinThickness_log\", kde=True, color=\"gold\", ax=axs[0, 2])\n",
        "sns.histplot(data=dsr, x=\"Insulin_log\", kde=True, color=\"teal\", ax=axs[1, 0])\n",
        "sns.histplot(data=dsr, x=\"BMI_log\", kde=True, color=\"red\", ax=axs[1, 1])\n",
        "sns.histplot(data=dsr, x=\"DiabetesPedigreeFunction_log\", kde=True, color=\"green\", ax=axs[1, 2])\n",
        "sns.histplot(data=dsr, x=\"Age_log\", kde=True, color=\"pink\", ax=axs[2, 0])\n",
        "plt.show()"
      ],
      "metadata": {
        "colab": {
          "base_uri": "https://localhost:8080/",
          "height": 1000
        },
        "id": "_eK2MAzymJQF",
        "outputId": "dae90573-837e-4ad1-9171-072d3852c4db"
      },
      "execution_count": 179,
      "outputs": [
        {
          "output_type": "display_data",
          "data": {
            "text/plain": [
              "<Figure size 1440x1440 with 9 Axes>"
            ],
            "image/png": "[encoded data removed]"
          },
          "metadata": {
            "needs_background": "light"
          }
        }
      ]
    },
    {
      "cell_type": "code",
      "source": [
        "print(\"Skewness of Insulin_log is : \",dsr.Insulin_log.skew())#checking skewness for log value of veriable\n",
        "print(\"Skewness of SkinThickness_log is : \",dsr.SkinThickness_log.skew())\n",
        "print(\"Skewness of BMI_log is : \",dsr.BMI_log.skew())\n",
        "print(\"Skewness of Diabetes Pedigree_log Function is : \",dsr.DiabetesPedigreeFunction_log.skew())\n",
        "print(\"Skewness of Age_log Function is : \",dsr.Age_log.skew())"
      ],
      "metadata": {
        "colab": {
          "base_uri": "https://localhost:8080/"
        },
        "id": "rGIfZUpImzbc",
        "outputId": "90fcc538-80cd-4a0b-e5e5-64998f2e85ed"
      },
      "execution_count": 177,
      "outputs": [
        {
          "output_type": "stream",
          "name": "stdout",
          "text": [
            "Skewness of Insulin_log is :  -0.11440207814961834\n",
            "Skewness of SkinThickness_log is :  -0.6378372017144905\n",
            "Skewness of BMI_log is :  -0.052153272939463785\n",
            "Skewness of Diabetes Pedigree_log Function is :  0.11417768826564402\n",
            "Skewness of Age_log Function is :  0.6017461375371188\n"
          ]
        }
      ]
    },
    {
      "cell_type": "markdown",
      "source": [
        "**From above Graph and data, we can understand that , skewness of skewed veriable are reduced after  performing Log transformation and it became almost normlly distributed verable.** \n",
        "\n",
        "**It is suitable for highly skewed vaeriables**"
      ],
      "metadata": {
        "id": "15RurBDjnghD"
      }
    }
  ]
}