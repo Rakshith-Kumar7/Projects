{
  "nbformat": 4,
  "nbformat_minor": 0,
  "metadata": {
    "colab": {
      "name": "advanced_python_project.ipynb",
      "provenance": [],
      "collapsed_sections": []
    },
    "kernelspec": {
      "name": "python3",
      "display_name": "Python 3"
    },
    "language_info": {
      "name": "python"
    }
  },
  "cells": [
    {
      "cell_type": "markdown",
      "source": [
        "##**Countries in the world by population (2022)**"
      ],
      "metadata": {
        "id": "kL0YAafQgfxq"
      }
    },
    {
      "cell_type": "code",
      "source": [
        ""
      ],
      "metadata": {
        "id": "JyEV5NOfsCtg"
      },
      "execution_count": null,
      "outputs": []
    },
    {
      "cell_type": "markdown",
      "source": [
        "#**Introduction**\n",
        "\n",
        "**A population is a distinct group of individuals, whether that group comprises a nation or a group of people with a common characteristic. In statistics, a population is the pool of individuals from which a statistical sample is drawn for a study. In demographics, the world population is the total number of humans currently living, and was estimated to have reached 7,800,000,000 people as of March 2020. It took over 2 million years of human prehistory and history for the world's population to reach 1 billion, and only 200 years more to reach 7 billion.**"
      ],
      "metadata": {
        "id": "s0B2eD-3hy4d"
      }
    },
    {
      "cell_type": "markdown",
      "source": [
        "#**Context**\n",
        "**This dataset comes from the we site \"https://www.worldometers.info/world-population/population-by-country/' using web scrapping we etracted. that data has been used for our analysis. world population data frame gives the information about population each countries, area , maigrants, etc**"
      ],
      "metadata": {
        "id": "rfZQnagwiGcH"
      }
    },
    {
      "cell_type": "markdown",
      "source": [
        "#**Attribute Information:**\n",
        "\n",
        "**Year — Year detail in which population data is recorded**\n",
        "\n",
        "**Country — Name of Country**\n",
        "\n",
        "**Population — Population of Country in a given year**\n",
        "\n",
        "**Yearly % Change — Change in population since last year (in %)**\n",
        "\n",
        "**Yearly Change — Change in population since last year**\n",
        "\n",
        "**Migrants — Number of migrants**\n",
        "\n",
        "**Median Age — Median age of the population**\n",
        "\n",
        "**Fertility Rate — Fertility rate (in %)**\n",
        "\n",
        "**Density (P/Km²) — Density of country**\n",
        "\n",
        "**Urban Pop % — % of the population is living in an Urban area**\n",
        "\n",
        "**Urban Population — Net population living in Urban area**\n",
        "\n",
        "**Country’s Share of World Pop % — Country’s share in Total World Population**\n",
        "\n",
        "**World Population — World Population**\n",
        "\n",
        "**Country Global Rank — Global rank of country**"
      ],
      "metadata": {
        "id": "QIpl0eAGjUIo"
      }
    },
    {
      "cell_type": "code",
      "execution_count": 116,
      "metadata": {
        "id": "rrY8CPP3jJdX"
      },
      "outputs": [],
      "source": [
        "import pandas as pd; # importing required librery \n",
        "import numpy as np;\n",
        "import matplotlib.pyplot as plt;\n",
        "import seaborn as sns;\n",
        "import requests;\n"
      ]
    },
    {
      "cell_type": "code",
      "source": [
        "headers = {\"User-Agent\":\"mozilla/5.0\"}\n",
        "URL = \"https://www.worldometers.info/world-population/population-by-country/\" # scrapping data from given website\n",
        "page = requests.get(URL,headers = headers).text"
      ],
      "metadata": {
        "id": "w5FojYcnknAe"
      },
      "execution_count": 3,
      "outputs": []
    },
    {
      "cell_type": "code",
      "source": [
        "df = pd.read_html(page)[0] # storing data to df\n"
      ],
      "metadata": {
        "id": "IkrZVxXclqkv"
      },
      "execution_count": 4,
      "outputs": []
    },
    {
      "cell_type": "code",
      "source": [
        "df"
      ],
      "metadata": {
        "colab": {
          "base_uri": "https://localhost:8080/",
          "height": 424
        },
        "id": "fVejCp9m1Kar",
        "outputId": "a5a2f4eb-00f1-46e8-9ef2-a6ddbec0ba5d"
      },
      "execution_count": 5,
      "outputs": [
        {
          "output_type": "execute_result",
          "data": {
            "text/plain": [
              "       # Country (or dependency)  Population (2020) Yearly Change  Net Change  \\\n",
              "0      1                Honduras            9904607        1.63 %      158490   \n",
              "1      2    United Arab Emirates            9890402        1.23 %      119873   \n",
              "2      3                Djibouti             988000        1.48 %       14440   \n",
              "3      4        Saint Barthelemy               9877        0.30 %          30   \n",
              "4      5              Seychelles              98347        0.62 %         608   \n",
              "..   ...                     ...                ...           ...         ...   \n",
              "230  231                  Jordan           10203134        1.00 %      101440   \n",
              "231  232                Portugal           10196709       -0.29 %      -29478   \n",
              "232  233              Azerbaijan           10139177        0.91 %       91459   \n",
              "233  234                  Sweden           10099265        0.63 %       62886   \n",
              "234  235                   India                  0     -100.00 % -1366417754   \n",
              "\n",
              "     Density (P/Km²)  Land Area (Km²)  Migrants (net) Fert. Rate Med. Age  \\\n",
              "0                 89           111890         -6800.0        2.5       24   \n",
              "1                118            83600         40000.0        1.4       33   \n",
              "2                 43            23180           900.0        2.8       27   \n",
              "3                470               21             NaN       N.A.     N.A.   \n",
              "4                214              460          -200.0        2.5       34   \n",
              "..               ...              ...             ...        ...      ...   \n",
              "230              115            88780         10220.0        2.8       24   \n",
              "231              111            91590         -6000.0        1.3       46   \n",
              "232              123            82658          1200.0        2.1       32   \n",
              "233               25           410340         40000.0        1.9       41   \n",
              "234                0          2973190       -532687.0        2.2       28   \n",
              "\n",
              "    Urban Pop % World Share  \n",
              "0          57 %      0.13 %  \n",
              "1          86 %      0.13 %  \n",
              "2          79 %      0.01 %  \n",
              "3           0 %      0.00 %  \n",
              "4          56 %      0.00 %  \n",
              "..          ...         ...  \n",
              "230        91 %      0.13 %  \n",
              "231        66 %      0.13 %  \n",
              "232        56 %      0.13 %  \n",
              "233        88 %      0.13 %  \n",
              "234        N.A.      0.00 %  \n",
              "\n",
              "[235 rows x 12 columns]"
            ],
            "text/html": [
              "\n",
              "  <div id=\"df-fe6b9d3d-fd65-4865-a21d-9f48f1bc80c8\">\n",
              "    <div class=\"colab-df-container\">\n",
              "      <div>\n",
              "<style scoped>\n",
              "    .dataframe tbody tr th:only-of-type {\n",
              "        vertical-align: middle;\n",
              "    }\n",
              "\n",
              "    .dataframe tbody tr th {\n",
              "        vertical-align: top;\n",
              "    }\n",
              "\n",
              "    .dataframe thead th {\n",
              "        text-align: right;\n",
              "    }\n",
              "</style>\n",
              "<table border=\"1\" class=\"dataframe\">\n",
              "  <thead>\n",
              "    <tr style=\"text-align: right;\">\n",
              "      <th></th>\n",
              "      <th>#</th>\n",
              "      <th>Country (or dependency)</th>\n",
              "      <th>Population (2020)</th>\n",
              "      <th>Yearly Change</th>\n",
              "      <th>Net Change</th>\n",
              "      <th>Density (P/Km²)</th>\n",
              "      <th>Land Area (Km²)</th>\n",
              "      <th>Migrants (net)</th>\n",
              "      <th>Fert. Rate</th>\n",
              "      <th>Med. Age</th>\n",
              "      <th>Urban Pop %</th>\n",
              "      <th>World Share</th>\n",
              "    </tr>\n",
              "  </thead>\n",
              "  <tbody>\n",
              "    <tr>\n",
              "      <th>0</th>\n",
              "      <td>1</td>\n",
              "      <td>Honduras</td>\n",
              "      <td>9904607</td>\n",
              "      <td>1.63 %</td>\n",
              "      <td>158490</td>\n",
              "      <td>89</td>\n",
              "      <td>111890</td>\n",
              "      <td>-6800.0</td>\n",
              "      <td>2.5</td>\n",
              "      <td>24</td>\n",
              "      <td>57 %</td>\n",
              "      <td>0.13 %</td>\n",
              "    </tr>\n",
              "    <tr>\n",
              "      <th>1</th>\n",
              "      <td>2</td>\n",
              "      <td>United Arab Emirates</td>\n",
              "      <td>9890402</td>\n",
              "      <td>1.23 %</td>\n",
              "      <td>119873</td>\n",
              "      <td>118</td>\n",
              "      <td>83600</td>\n",
              "      <td>40000.0</td>\n",
              "      <td>1.4</td>\n",
              "      <td>33</td>\n",
              "      <td>86 %</td>\n",
              "      <td>0.13 %</td>\n",
              "    </tr>\n",
              "    <tr>\n",
              "      <th>2</th>\n",
              "      <td>3</td>\n",
              "      <td>Djibouti</td>\n",
              "      <td>988000</td>\n",
              "      <td>1.48 %</td>\n",
              "      <td>14440</td>\n",
              "      <td>43</td>\n",
              "      <td>23180</td>\n",
              "      <td>900.0</td>\n",
              "      <td>2.8</td>\n",
              "      <td>27</td>\n",
              "      <td>79 %</td>\n",
              "      <td>0.01 %</td>\n",
              "    </tr>\n",
              "    <tr>\n",
              "      <th>3</th>\n",
              "      <td>4</td>\n",
              "      <td>Saint Barthelemy</td>\n",
              "      <td>9877</td>\n",
              "      <td>0.30 %</td>\n",
              "      <td>30</td>\n",
              "      <td>470</td>\n",
              "      <td>21</td>\n",
              "      <td>NaN</td>\n",
              "      <td>N.A.</td>\n",
              "      <td>N.A.</td>\n",
              "      <td>0 %</td>\n",
              "      <td>0.00 %</td>\n",
              "    </tr>\n",
              "    <tr>\n",
              "      <th>4</th>\n",
              "      <td>5</td>\n",
              "      <td>Seychelles</td>\n",
              "      <td>98347</td>\n",
              "      <td>0.62 %</td>\n",
              "      <td>608</td>\n",
              "      <td>214</td>\n",
              "      <td>460</td>\n",
              "      <td>-200.0</td>\n",
              "      <td>2.5</td>\n",
              "      <td>34</td>\n",
              "      <td>56 %</td>\n",
              "      <td>0.00 %</td>\n",
              "    </tr>\n",
              "    <tr>\n",
              "      <th>...</th>\n",
              "      <td>...</td>\n",
              "      <td>...</td>\n",
              "      <td>...</td>\n",
              "      <td>...</td>\n",
              "      <td>...</td>\n",
              "      <td>...</td>\n",
              "      <td>...</td>\n",
              "      <td>...</td>\n",
              "      <td>...</td>\n",
              "      <td>...</td>\n",
              "      <td>...</td>\n",
              "      <td>...</td>\n",
              "    </tr>\n",
              "    <tr>\n",
              "      <th>230</th>\n",
              "      <td>231</td>\n",
              "      <td>Jordan</td>\n",
              "      <td>10203134</td>\n",
              "      <td>1.00 %</td>\n",
              "      <td>101440</td>\n",
              "      <td>115</td>\n",
              "      <td>88780</td>\n",
              "      <td>10220.0</td>\n",
              "      <td>2.8</td>\n",
              "      <td>24</td>\n",
              "      <td>91 %</td>\n",
              "      <td>0.13 %</td>\n",
              "    </tr>\n",
              "    <tr>\n",
              "      <th>231</th>\n",
              "      <td>232</td>\n",
              "      <td>Portugal</td>\n",
              "      <td>10196709</td>\n",
              "      <td>-0.29 %</td>\n",
              "      <td>-29478</td>\n",
              "      <td>111</td>\n",
              "      <td>91590</td>\n",
              "      <td>-6000.0</td>\n",
              "      <td>1.3</td>\n",
              "      <td>46</td>\n",
              "      <td>66 %</td>\n",
              "      <td>0.13 %</td>\n",
              "    </tr>\n",
              "    <tr>\n",
              "      <th>232</th>\n",
              "      <td>233</td>\n",
              "      <td>Azerbaijan</td>\n",
              "      <td>10139177</td>\n",
              "      <td>0.91 %</td>\n",
              "      <td>91459</td>\n",
              "      <td>123</td>\n",
              "      <td>82658</td>\n",
              "      <td>1200.0</td>\n",
              "      <td>2.1</td>\n",
              "      <td>32</td>\n",
              "      <td>56 %</td>\n",
              "      <td>0.13 %</td>\n",
              "    </tr>\n",
              "    <tr>\n",
              "      <th>233</th>\n",
              "      <td>234</td>\n",
              "      <td>Sweden</td>\n",
              "      <td>10099265</td>\n",
              "      <td>0.63 %</td>\n",
              "      <td>62886</td>\n",
              "      <td>25</td>\n",
              "      <td>410340</td>\n",
              "      <td>40000.0</td>\n",
              "      <td>1.9</td>\n",
              "      <td>41</td>\n",
              "      <td>88 %</td>\n",
              "      <td>0.13 %</td>\n",
              "    </tr>\n",
              "    <tr>\n",
              "      <th>234</th>\n",
              "      <td>235</td>\n",
              "      <td>India</td>\n",
              "      <td>0</td>\n",
              "      <td>-100.00 %</td>\n",
              "      <td>-1366417754</td>\n",
              "      <td>0</td>\n",
              "      <td>2973190</td>\n",
              "      <td>-532687.0</td>\n",
              "      <td>2.2</td>\n",
              "      <td>28</td>\n",
              "      <td>N.A.</td>\n",
              "      <td>0.00 %</td>\n",
              "    </tr>\n",
              "  </tbody>\n",
              "</table>\n",
              "<p>235 rows × 12 columns</p>\n",
              "</div>\n",
              "      <button class=\"colab-df-convert\" onclick=\"convertToInteractive('df-fe6b9d3d-fd65-4865-a21d-9f48f1bc80c8')\"\n",
              "              title=\"Convert this dataframe to an interactive table.\"\n",
              "              style=\"display:none;\">\n",
              "        \n",
              "  <svg xmlns=\"http://www.w3.org/2000/svg\" height=\"24px\"viewBox=\"0 0 24 24\"\n",
              "       width=\"24px\">\n",
              "    <path d=\"M0 0h24v24H0V0z\" fill=\"none\"/>\n",
              "    <path d=\"M18.56 5.44l.94 2.06.94-2.06 2.06-.94-2.06-.94-.94-2.06-.94 2.06-2.06.94zm-11 1L8.5 8.5l.94-2.06 2.06-.94-2.06-.94L8.5 2.5l-.94 2.06-2.06.94zm10 10l.94 2.06.94-2.06 2.06-.94-2.06-.94-.94-2.06-.94 2.06-2.06.94z\"/><path d=\"M17.41 7.96l-1.37-1.37c-.4-.4-.92-.59-1.43-.59-.52 0-1.04.2-1.43.59L10.3 9.45l-7.72 7.72c-.78.78-.78 2.05 0 2.83L4 21.41c.39.39.9.59 1.41.59.51 0 1.02-.2 1.41-.59l7.78-7.78 2.81-2.81c.8-.78.8-2.07 0-2.86zM5.41 20L4 18.59l7.72-7.72 1.47 1.35L5.41 20z\"/>\n",
              "  </svg>\n",
              "      </button>\n",
              "      \n",
              "  <style>\n",
              "    .colab-df-container {\n",
              "      display:flex;\n",
              "      flex-wrap:wrap;\n",
              "      gap: 12px;\n",
              "    }\n",
              "\n",
              "    .colab-df-convert {\n",
              "      background-color: #E8F0FE;\n",
              "      border: none;\n",
              "      border-radius: 50%;\n",
              "      cursor: pointer;\n",
              "      display: none;\n",
              "      fill: #1967D2;\n",
              "      height: 32px;\n",
              "      padding: 0 0 0 0;\n",
              "      width: 32px;\n",
              "    }\n",
              "\n",
              "    .colab-df-convert:hover {\n",
              "      background-color: #E2EBFA;\n",
              "      box-shadow: 0px 1px 2px rgba(60, 64, 67, 0.3), 0px 1px 3px 1px rgba(60, 64, 67, 0.15);\n",
              "      fill: #174EA6;\n",
              "    }\n",
              "\n",
              "    [theme=dark] .colab-df-convert {\n",
              "      background-color: #3B4455;\n",
              "      fill: #D2E3FC;\n",
              "    }\n",
              "\n",
              "    [theme=dark] .colab-df-convert:hover {\n",
              "      background-color: #434B5C;\n",
              "      box-shadow: 0px 1px 3px 1px rgba(0, 0, 0, 0.15);\n",
              "      filter: drop-shadow(0px 1px 2px rgba(0, 0, 0, 0.3));\n",
              "      fill: #FFFFFF;\n",
              "    }\n",
              "  </style>\n",
              "\n",
              "      <script>\n",
              "        const buttonEl =\n",
              "          document.querySelector('#df-fe6b9d3d-fd65-4865-a21d-9f48f1bc80c8 button.colab-df-convert');\n",
              "        buttonEl.style.display =\n",
              "          google.colab.kernel.accessAllowed ? 'block' : 'none';\n",
              "\n",
              "        async function convertToInteractive(key) {\n",
              "          const element = document.querySelector('#df-fe6b9d3d-fd65-4865-a21d-9f48f1bc80c8');\n",
              "          const dataTable =\n",
              "            await google.colab.kernel.invokeFunction('convertToInteractive',\n",
              "                                                     [key], {});\n",
              "          if (!dataTable) return;\n",
              "\n",
              "          const docLinkHtml = 'Like what you see? Visit the ' +\n",
              "            '<a target=\"_blank\" href=https://colab.research.google.com/notebooks/data_table.ipynb>data table notebook</a>'\n",
              "            + ' to learn more about interactive tables.';\n",
              "          element.innerHTML = '';\n",
              "          dataTable['output_type'] = 'display_data';\n",
              "          await google.colab.output.renderOutput(dataTable, element);\n",
              "          const docLink = document.createElement('div');\n",
              "          docLink.innerHTML = docLinkHtml;\n",
              "          element.appendChild(docLink);\n",
              "        }\n",
              "      </script>\n",
              "    </div>\n",
              "  </div>\n",
              "  "
            ]
          },
          "metadata": {},
          "execution_count": 5
        }
      ]
    },
    {
      "cell_type": "code",
      "source": [
        "df.shape"
      ],
      "metadata": {
        "colab": {
          "base_uri": "https://localhost:8080/"
        },
        "id": "fgFl6hrWk127",
        "outputId": "a26bc5eb-0d50-498e-bcc6-69068e1ef460"
      },
      "execution_count": null,
      "outputs": [
        {
          "output_type": "execute_result",
          "data": {
            "text/plain": [
              "(235, 12)"
            ]
          },
          "metadata": {},
          "execution_count": 76
        }
      ]
    },
    {
      "cell_type": "code",
      "source": [
        "df.columns"
      ],
      "metadata": {
        "colab": {
          "base_uri": "https://localhost:8080/"
        },
        "id": "MNiO9YxLnVUs",
        "outputId": "681b8ef4-37e3-4558-bda1-0a37723c4162"
      },
      "execution_count": null,
      "outputs": [
        {
          "output_type": "execute_result",
          "data": {
            "text/plain": [
              "Index(['#', 'Country (or dependency)', 'Population (2020)', 'Yearly Change',\n",
              "       'Net Change', 'Density (P/Km²)', 'Land Area (Km²)', 'Migrants (net)',\n",
              "       'Fert. Rate', 'Med. Age', 'Urban Pop %', 'World Share'],\n",
              "      dtype='object')"
            ]
          },
          "metadata": {},
          "execution_count": 77
        }
      ]
    },
    {
      "cell_type": "code",
      "source": [
        "df.head()"
      ],
      "metadata": {
        "id": "wB0144vsn6vy"
      },
      "execution_count": null,
      "outputs": []
    },
    {
      "cell_type": "code",
      "source": [
        "df.tail()\n"
      ],
      "metadata": {
        "id": "VQBDJzO3ohZR"
      },
      "execution_count": null,
      "outputs": []
    },
    {
      "cell_type": "code",
      "source": [
        "df=df.replace('N.A.',np.nan) # there are values like N.A. which we are corverting to NA"
      ],
      "metadata": {
        "id": "UCGzkPna0RRi"
      },
      "execution_count": 6,
      "outputs": []
    },
    {
      "cell_type": "code",
      "source": [
        "def conv(num):\n",
        "  return float(num.strip('%')) # function remove % charecter from table"
      ],
      "metadata": {
        "id": "MElEv64Kv7sF"
      },
      "execution_count": 7,
      "outputs": []
    },
    {
      "cell_type": "code",
      "source": [
        "df['Yearly Change']=df['Yearly Change'].apply(conv)\n"
      ],
      "metadata": {
        "id": "-LBg9bvcwKvf"
      },
      "execution_count": 8,
      "outputs": []
    },
    {
      "cell_type": "code",
      "source": [
        "df['World Share'] = df['World Share'].apply(conv)"
      ],
      "metadata": {
        "id": "dyscW9hUyeK-"
      },
      "execution_count": 10,
      "outputs": []
    },
    {
      "cell_type": "code",
      "source": [
        "df['Urban_pop_in_Percentage'] = df['Urban_pop_in_Percentage'].replace(\"%\",\"\",regex = True).astype(\"float\")\n"
      ],
      "metadata": {
        "id": "GImnMSjwqSbK"
      },
      "execution_count": null,
      "outputs": []
    },
    {
      "cell_type": "code",
      "source": [
        "df = df.astype({'fertility_Rate': float}) # changing data type to float"
      ],
      "metadata": {
        "id": "cxnLlaS5db5e"
      },
      "execution_count": null,
      "outputs": []
    },
    {
      "cell_type": "code",
      "source": [
        "df = df.astype({'Median_age': float}) # changing data type to float"
      ],
      "metadata": {
        "id": "ZCDLpnF9d1Wl"
      },
      "execution_count": null,
      "outputs": []
    },
    {
      "cell_type": "code",
      "source": [
        "df"
      ],
      "metadata": {
        "colab": {
          "base_uri": "https://localhost:8080/",
          "height": 424
        },
        "id": "PpMyH3Bpwcli",
        "outputId": "c51db312-a796-40db-a4f3-41ed4dcf94b0"
      },
      "execution_count": 17,
      "outputs": [
        {
          "output_type": "execute_result",
          "data": {
            "text/plain": [
              "     SL_No               Country  Population  Percentage of Yearly change  \\\n",
              "0        1              Honduras     9904607                         1.63   \n",
              "1        2  United Arab Emirates     9890402                         1.23   \n",
              "2        3              Djibouti      988000                         1.48   \n",
              "3        4      Saint Barthelemy        9877                         0.30   \n",
              "4        5            Seychelles       98347                         0.62   \n",
              "..     ...                   ...         ...                          ...   \n",
              "230    231                Jordan    10203134                         1.00   \n",
              "231    232              Portugal    10196709                        -0.29   \n",
              "232    233            Azerbaijan    10139177                         0.91   \n",
              "233    234                Sweden    10099265                         0.63   \n",
              "234    235                 India           0                      -100.00   \n",
              "\n",
              "     Net Change  Density     Area  Migrants fertility_Rate Median_age  \\\n",
              "0        158490       89   111890   -6800.0            2.5         24   \n",
              "1        119873      118    83600   40000.0            1.4         33   \n",
              "2         14440       43    23180     900.0            2.8         27   \n",
              "3            30      470       21       NaN            NaN        NaN   \n",
              "4           608      214      460    -200.0            2.5         34   \n",
              "..          ...      ...      ...       ...            ...        ...   \n",
              "230      101440      115    88780   10220.0            2.8         24   \n",
              "231      -29478      111    91590   -6000.0            1.3         46   \n",
              "232       91459      123    82658    1200.0            2.1         32   \n",
              "233       62886       25   410340   40000.0            1.9         41   \n",
              "234 -1366417754        0  2973190 -532687.0            2.2         28   \n",
              "\n",
              "     Urban_pop_in_Percentage  World Share  \n",
              "0                       57.0         0.13  \n",
              "1                       86.0         0.13  \n",
              "2                       79.0         0.01  \n",
              "3                        0.0         0.00  \n",
              "4                       56.0         0.00  \n",
              "..                       ...          ...  \n",
              "230                     91.0         0.13  \n",
              "231                     66.0         0.13  \n",
              "232                     56.0         0.13  \n",
              "233                     88.0         0.13  \n",
              "234                      NaN         0.00  \n",
              "\n",
              "[235 rows x 12 columns]"
            ],
            "text/html": [
              "\n",
              "  <div id=\"df-25edd388-8116-45dc-a6d2-e21fe1307973\">\n",
              "    <div class=\"colab-df-container\">\n",
              "      <div>\n",
              "<style scoped>\n",
              "    .dataframe tbody tr th:only-of-type {\n",
              "        vertical-align: middle;\n",
              "    }\n",
              "\n",
              "    .dataframe tbody tr th {\n",
              "        vertical-align: top;\n",
              "    }\n",
              "\n",
              "    .dataframe thead th {\n",
              "        text-align: right;\n",
              "    }\n",
              "</style>\n",
              "<table border=\"1\" class=\"dataframe\">\n",
              "  <thead>\n",
              "    <tr style=\"text-align: right;\">\n",
              "      <th></th>\n",
              "      <th>SL_No</th>\n",
              "      <th>Country</th>\n",
              "      <th>Population</th>\n",
              "      <th>Percentage of Yearly change</th>\n",
              "      <th>Net Change</th>\n",
              "      <th>Density</th>\n",
              "      <th>Area</th>\n",
              "      <th>Migrants</th>\n",
              "      <th>fertility_Rate</th>\n",
              "      <th>Median_age</th>\n",
              "      <th>Urban_pop_in_Percentage</th>\n",
              "      <th>World Share</th>\n",
              "    </tr>\n",
              "  </thead>\n",
              "  <tbody>\n",
              "    <tr>\n",
              "      <th>0</th>\n",
              "      <td>1</td>\n",
              "      <td>Honduras</td>\n",
              "      <td>9904607</td>\n",
              "      <td>1.63</td>\n",
              "      <td>158490</td>\n",
              "      <td>89</td>\n",
              "      <td>111890</td>\n",
              "      <td>-6800.0</td>\n",
              "      <td>2.5</td>\n",
              "      <td>24</td>\n",
              "      <td>57.0</td>\n",
              "      <td>0.13</td>\n",
              "    </tr>\n",
              "    <tr>\n",
              "      <th>1</th>\n",
              "      <td>2</td>\n",
              "      <td>United Arab Emirates</td>\n",
              "      <td>9890402</td>\n",
              "      <td>1.23</td>\n",
              "      <td>119873</td>\n",
              "      <td>118</td>\n",
              "      <td>83600</td>\n",
              "      <td>40000.0</td>\n",
              "      <td>1.4</td>\n",
              "      <td>33</td>\n",
              "      <td>86.0</td>\n",
              "      <td>0.13</td>\n",
              "    </tr>\n",
              "    <tr>\n",
              "      <th>2</th>\n",
              "      <td>3</td>\n",
              "      <td>Djibouti</td>\n",
              "      <td>988000</td>\n",
              "      <td>1.48</td>\n",
              "      <td>14440</td>\n",
              "      <td>43</td>\n",
              "      <td>23180</td>\n",
              "      <td>900.0</td>\n",
              "      <td>2.8</td>\n",
              "      <td>27</td>\n",
              "      <td>79.0</td>\n",
              "      <td>0.01</td>\n",
              "    </tr>\n",
              "    <tr>\n",
              "      <th>3</th>\n",
              "      <td>4</td>\n",
              "      <td>Saint Barthelemy</td>\n",
              "      <td>9877</td>\n",
              "      <td>0.30</td>\n",
              "      <td>30</td>\n",
              "      <td>470</td>\n",
              "      <td>21</td>\n",
              "      <td>NaN</td>\n",
              "      <td>NaN</td>\n",
              "      <td>NaN</td>\n",
              "      <td>0.0</td>\n",
              "      <td>0.00</td>\n",
              "    </tr>\n",
              "    <tr>\n",
              "      <th>4</th>\n",
              "      <td>5</td>\n",
              "      <td>Seychelles</td>\n",
              "      <td>98347</td>\n",
              "      <td>0.62</td>\n",
              "      <td>608</td>\n",
              "      <td>214</td>\n",
              "      <td>460</td>\n",
              "      <td>-200.0</td>\n",
              "      <td>2.5</td>\n",
              "      <td>34</td>\n",
              "      <td>56.0</td>\n",
              "      <td>0.00</td>\n",
              "    </tr>\n",
              "    <tr>\n",
              "      <th>...</th>\n",
              "      <td>...</td>\n",
              "      <td>...</td>\n",
              "      <td>...</td>\n",
              "      <td>...</td>\n",
              "      <td>...</td>\n",
              "      <td>...</td>\n",
              "      <td>...</td>\n",
              "      <td>...</td>\n",
              "      <td>...</td>\n",
              "      <td>...</td>\n",
              "      <td>...</td>\n",
              "      <td>...</td>\n",
              "    </tr>\n",
              "    <tr>\n",
              "      <th>230</th>\n",
              "      <td>231</td>\n",
              "      <td>Jordan</td>\n",
              "      <td>10203134</td>\n",
              "      <td>1.00</td>\n",
              "      <td>101440</td>\n",
              "      <td>115</td>\n",
              "      <td>88780</td>\n",
              "      <td>10220.0</td>\n",
              "      <td>2.8</td>\n",
              "      <td>24</td>\n",
              "      <td>91.0</td>\n",
              "      <td>0.13</td>\n",
              "    </tr>\n",
              "    <tr>\n",
              "      <th>231</th>\n",
              "      <td>232</td>\n",
              "      <td>Portugal</td>\n",
              "      <td>10196709</td>\n",
              "      <td>-0.29</td>\n",
              "      <td>-29478</td>\n",
              "      <td>111</td>\n",
              "      <td>91590</td>\n",
              "      <td>-6000.0</td>\n",
              "      <td>1.3</td>\n",
              "      <td>46</td>\n",
              "      <td>66.0</td>\n",
              "      <td>0.13</td>\n",
              "    </tr>\n",
              "    <tr>\n",
              "      <th>232</th>\n",
              "      <td>233</td>\n",
              "      <td>Azerbaijan</td>\n",
              "      <td>10139177</td>\n",
              "      <td>0.91</td>\n",
              "      <td>91459</td>\n",
              "      <td>123</td>\n",
              "      <td>82658</td>\n",
              "      <td>1200.0</td>\n",
              "      <td>2.1</td>\n",
              "      <td>32</td>\n",
              "      <td>56.0</td>\n",
              "      <td>0.13</td>\n",
              "    </tr>\n",
              "    <tr>\n",
              "      <th>233</th>\n",
              "      <td>234</td>\n",
              "      <td>Sweden</td>\n",
              "      <td>10099265</td>\n",
              "      <td>0.63</td>\n",
              "      <td>62886</td>\n",
              "      <td>25</td>\n",
              "      <td>410340</td>\n",
              "      <td>40000.0</td>\n",
              "      <td>1.9</td>\n",
              "      <td>41</td>\n",
              "      <td>88.0</td>\n",
              "      <td>0.13</td>\n",
              "    </tr>\n",
              "    <tr>\n",
              "      <th>234</th>\n",
              "      <td>235</td>\n",
              "      <td>India</td>\n",
              "      <td>0</td>\n",
              "      <td>-100.00</td>\n",
              "      <td>-1366417754</td>\n",
              "      <td>0</td>\n",
              "      <td>2973190</td>\n",
              "      <td>-532687.0</td>\n",
              "      <td>2.2</td>\n",
              "      <td>28</td>\n",
              "      <td>NaN</td>\n",
              "      <td>0.00</td>\n",
              "    </tr>\n",
              "  </tbody>\n",
              "</table>\n",
              "<p>235 rows × 12 columns</p>\n",
              "</div>\n",
              "      <button class=\"colab-df-convert\" onclick=\"convertToInteractive('df-25edd388-8116-45dc-a6d2-e21fe1307973')\"\n",
              "              title=\"Convert this dataframe to an interactive table.\"\n",
              "              style=\"display:none;\">\n",
              "        \n",
              "  <svg xmlns=\"http://www.w3.org/2000/svg\" height=\"24px\"viewBox=\"0 0 24 24\"\n",
              "       width=\"24px\">\n",
              "    <path d=\"M0 0h24v24H0V0z\" fill=\"none\"/>\n",
              "    <path d=\"M18.56 5.44l.94 2.06.94-2.06 2.06-.94-2.06-.94-.94-2.06-.94 2.06-2.06.94zm-11 1L8.5 8.5l.94-2.06 2.06-.94-2.06-.94L8.5 2.5l-.94 2.06-2.06.94zm10 10l.94 2.06.94-2.06 2.06-.94-2.06-.94-.94-2.06-.94 2.06-2.06.94z\"/><path d=\"M17.41 7.96l-1.37-1.37c-.4-.4-.92-.59-1.43-.59-.52 0-1.04.2-1.43.59L10.3 9.45l-7.72 7.72c-.78.78-.78 2.05 0 2.83L4 21.41c.39.39.9.59 1.41.59.51 0 1.02-.2 1.41-.59l7.78-7.78 2.81-2.81c.8-.78.8-2.07 0-2.86zM5.41 20L4 18.59l7.72-7.72 1.47 1.35L5.41 20z\"/>\n",
              "  </svg>\n",
              "      </button>\n",
              "      \n",
              "  <style>\n",
              "    .colab-df-container {\n",
              "      display:flex;\n",
              "      flex-wrap:wrap;\n",
              "      gap: 12px;\n",
              "    }\n",
              "\n",
              "    .colab-df-convert {\n",
              "      background-color: #E8F0FE;\n",
              "      border: none;\n",
              "      border-radius: 50%;\n",
              "      cursor: pointer;\n",
              "      display: none;\n",
              "      fill: #1967D2;\n",
              "      height: 32px;\n",
              "      padding: 0 0 0 0;\n",
              "      width: 32px;\n",
              "    }\n",
              "\n",
              "    .colab-df-convert:hover {\n",
              "      background-color: #E2EBFA;\n",
              "      box-shadow: 0px 1px 2px rgba(60, 64, 67, 0.3), 0px 1px 3px 1px rgba(60, 64, 67, 0.15);\n",
              "      fill: #174EA6;\n",
              "    }\n",
              "\n",
              "    [theme=dark] .colab-df-convert {\n",
              "      background-color: #3B4455;\n",
              "      fill: #D2E3FC;\n",
              "    }\n",
              "\n",
              "    [theme=dark] .colab-df-convert:hover {\n",
              "      background-color: #434B5C;\n",
              "      box-shadow: 0px 1px 3px 1px rgba(0, 0, 0, 0.15);\n",
              "      filter: drop-shadow(0px 1px 2px rgba(0, 0, 0, 0.3));\n",
              "      fill: #FFFFFF;\n",
              "    }\n",
              "  </style>\n",
              "\n",
              "      <script>\n",
              "        const buttonEl =\n",
              "          document.querySelector('#df-25edd388-8116-45dc-a6d2-e21fe1307973 button.colab-df-convert');\n",
              "        buttonEl.style.display =\n",
              "          google.colab.kernel.accessAllowed ? 'block' : 'none';\n",
              "\n",
              "        async function convertToInteractive(key) {\n",
              "          const element = document.querySelector('#df-25edd388-8116-45dc-a6d2-e21fe1307973');\n",
              "          const dataTable =\n",
              "            await google.colab.kernel.invokeFunction('convertToInteractive',\n",
              "                                                     [key], {});\n",
              "          if (!dataTable) return;\n",
              "\n",
              "          const docLinkHtml = 'Like what you see? Visit the ' +\n",
              "            '<a target=\"_blank\" href=https://colab.research.google.com/notebooks/data_table.ipynb>data table notebook</a>'\n",
              "            + ' to learn more about interactive tables.';\n",
              "          element.innerHTML = '';\n",
              "          dataTable['output_type'] = 'display_data';\n",
              "          await google.colab.output.renderOutput(dataTable, element);\n",
              "          const docLink = document.createElement('div');\n",
              "          docLink.innerHTML = docLinkHtml;\n",
              "          element.appendChild(docLink);\n",
              "        }\n",
              "      </script>\n",
              "    </div>\n",
              "  </div>\n",
              "  "
            ]
          },
          "metadata": {},
          "execution_count": 17
        }
      ]
    },
    {
      "cell_type": "code",
      "source": [
        ""
      ],
      "metadata": {
        "id": "-qYvfM7ky3la"
      },
      "execution_count": null,
      "outputs": []
    },
    {
      "cell_type": "code",
      "source": [
        "df.info()"
      ],
      "metadata": {
        "colab": {
          "base_uri": "https://localhost:8080/"
        },
        "id": "stWIsO8Yr5fp",
        "outputId": "f7c493b8-46b4-49b5-fb2d-10679a75b50f"
      },
      "execution_count": 20,
      "outputs": [
        {
          "output_type": "stream",
          "name": "stdout",
          "text": [
            "<class 'pandas.core.frame.DataFrame'>\n",
            "RangeIndex: 235 entries, 0 to 234\n",
            "Data columns (total 12 columns):\n",
            " #   Column                       Non-Null Count  Dtype  \n",
            "---  ------                       --------------  -----  \n",
            " 0   SL_No                        235 non-null    int64  \n",
            " 1   Country                      235 non-null    object \n",
            " 2   Population                   235 non-null    int64  \n",
            " 3   Percentage of Yearly change  235 non-null    float64\n",
            " 4   Net Change                   235 non-null    int64  \n",
            " 5   Density                      235 non-null    int64  \n",
            " 6   Area                         235 non-null    int64  \n",
            " 7   Migrants                     201 non-null    float64\n",
            " 8   fertility_Rate               201 non-null    object \n",
            " 9   Median_age                   201 non-null    object \n",
            " 10  Urban_pop_in_Percentage      221 non-null    float64\n",
            " 11  World Share                  235 non-null    float64\n",
            "dtypes: float64(4), int64(5), object(3)\n",
            "memory usage: 22.2+ KB\n"
          ]
        }
      ]
    },
    {
      "cell_type": "code",
      "source": [
        "df.describe()\n"
      ],
      "metadata": {
        "colab": {
          "base_uri": "https://localhost:8080/",
          "height": 300
        },
        "id": "bgVKEavGou0O",
        "outputId": "6d76819a-3d5b-4c37-cd6f-5477057328c2"
      },
      "execution_count": null,
      "outputs": [
        {
          "output_type": "execute_result",
          "data": {
            "text/plain": [
              "                #  Population (2020)    Net Change  Density (P/Km²)  \\\n",
              "count  235.000000       2.350000e+02  2.350000e+02       235.000000   \n",
              "mean   118.000000       2.729884e+07 -5.526253e+06       476.434043   \n",
              "std     67.982841       1.023724e+08  8.915707e+07      2331.491161   \n",
              "min      1.000000       0.000000e+00 -1.366418e+09         0.000000   \n",
              "25%     59.500000       3.988760e+05  3.875000e+02        35.500000   \n",
              "50%    118.000000       5.421241e+06  3.774200e+04        94.000000   \n",
              "75%    176.500000       1.974426e+07  2.288515e+05       239.500000   \n",
              "max    235.000000       1.439324e+09  5.540090e+06     26337.000000   \n",
              "\n",
              "       Land Area (Km²)  Migrants (net)  \n",
              "count     2.350000e+02      201.000000  \n",
              "mean      5.535918e+05       -5.442786  \n",
              "std       1.687796e+06   123292.057588  \n",
              "min       0.000000e+00  -653249.000000  \n",
              "25%       2.545000e+03   -10047.000000  \n",
              "50%       7.724000e+04     -960.000000  \n",
              "75%       4.038200e+05     9741.000000  \n",
              "max       1.637687e+07   954806.000000  "
            ],
            "text/html": [
              "\n",
              "  <div id=\"df-643c7b45-0fa6-4c93-a3f8-918f587ba2fa\">\n",
              "    <div class=\"colab-df-container\">\n",
              "      <div>\n",
              "<style scoped>\n",
              "    .dataframe tbody tr th:only-of-type {\n",
              "        vertical-align: middle;\n",
              "    }\n",
              "\n",
              "    .dataframe tbody tr th {\n",
              "        vertical-align: top;\n",
              "    }\n",
              "\n",
              "    .dataframe thead th {\n",
              "        text-align: right;\n",
              "    }\n",
              "</style>\n",
              "<table border=\"1\" class=\"dataframe\">\n",
              "  <thead>\n",
              "    <tr style=\"text-align: right;\">\n",
              "      <th></th>\n",
              "      <th>#</th>\n",
              "      <th>Population (2020)</th>\n",
              "      <th>Net Change</th>\n",
              "      <th>Density (P/Km²)</th>\n",
              "      <th>Land Area (Km²)</th>\n",
              "      <th>Migrants (net)</th>\n",
              "    </tr>\n",
              "  </thead>\n",
              "  <tbody>\n",
              "    <tr>\n",
              "      <th>count</th>\n",
              "      <td>235.000000</td>\n",
              "      <td>2.350000e+02</td>\n",
              "      <td>2.350000e+02</td>\n",
              "      <td>235.000000</td>\n",
              "      <td>2.350000e+02</td>\n",
              "      <td>201.000000</td>\n",
              "    </tr>\n",
              "    <tr>\n",
              "      <th>mean</th>\n",
              "      <td>118.000000</td>\n",
              "      <td>2.729884e+07</td>\n",
              "      <td>-5.526253e+06</td>\n",
              "      <td>476.434043</td>\n",
              "      <td>5.535918e+05</td>\n",
              "      <td>-5.442786</td>\n",
              "    </tr>\n",
              "    <tr>\n",
              "      <th>std</th>\n",
              "      <td>67.982841</td>\n",
              "      <td>1.023724e+08</td>\n",
              "      <td>8.915707e+07</td>\n",
              "      <td>2331.491161</td>\n",
              "      <td>1.687796e+06</td>\n",
              "      <td>123292.057588</td>\n",
              "    </tr>\n",
              "    <tr>\n",
              "      <th>min</th>\n",
              "      <td>1.000000</td>\n",
              "      <td>0.000000e+00</td>\n",
              "      <td>-1.366418e+09</td>\n",
              "      <td>0.000000</td>\n",
              "      <td>0.000000e+00</td>\n",
              "      <td>-653249.000000</td>\n",
              "    </tr>\n",
              "    <tr>\n",
              "      <th>25%</th>\n",
              "      <td>59.500000</td>\n",
              "      <td>3.988760e+05</td>\n",
              "      <td>3.875000e+02</td>\n",
              "      <td>35.500000</td>\n",
              "      <td>2.545000e+03</td>\n",
              "      <td>-10047.000000</td>\n",
              "    </tr>\n",
              "    <tr>\n",
              "      <th>50%</th>\n",
              "      <td>118.000000</td>\n",
              "      <td>5.421241e+06</td>\n",
              "      <td>3.774200e+04</td>\n",
              "      <td>94.000000</td>\n",
              "      <td>7.724000e+04</td>\n",
              "      <td>-960.000000</td>\n",
              "    </tr>\n",
              "    <tr>\n",
              "      <th>75%</th>\n",
              "      <td>176.500000</td>\n",
              "      <td>1.974426e+07</td>\n",
              "      <td>2.288515e+05</td>\n",
              "      <td>239.500000</td>\n",
              "      <td>4.038200e+05</td>\n",
              "      <td>9741.000000</td>\n",
              "    </tr>\n",
              "    <tr>\n",
              "      <th>max</th>\n",
              "      <td>235.000000</td>\n",
              "      <td>1.439324e+09</td>\n",
              "      <td>5.540090e+06</td>\n",
              "      <td>26337.000000</td>\n",
              "      <td>1.637687e+07</td>\n",
              "      <td>954806.000000</td>\n",
              "    </tr>\n",
              "  </tbody>\n",
              "</table>\n",
              "</div>\n",
              "      <button class=\"colab-df-convert\" onclick=\"convertToInteractive('df-643c7b45-0fa6-4c93-a3f8-918f587ba2fa')\"\n",
              "              title=\"Convert this dataframe to an interactive table.\"\n",
              "              style=\"display:none;\">\n",
              "        \n",
              "  <svg xmlns=\"http://www.w3.org/2000/svg\" height=\"24px\"viewBox=\"0 0 24 24\"\n",
              "       width=\"24px\">\n",
              "    <path d=\"M0 0h24v24H0V0z\" fill=\"none\"/>\n",
              "    <path d=\"M18.56 5.44l.94 2.06.94-2.06 2.06-.94-2.06-.94-.94-2.06-.94 2.06-2.06.94zm-11 1L8.5 8.5l.94-2.06 2.06-.94-2.06-.94L8.5 2.5l-.94 2.06-2.06.94zm10 10l.94 2.06.94-2.06 2.06-.94-2.06-.94-.94-2.06-.94 2.06-2.06.94z\"/><path d=\"M17.41 7.96l-1.37-1.37c-.4-.4-.92-.59-1.43-.59-.52 0-1.04.2-1.43.59L10.3 9.45l-7.72 7.72c-.78.78-.78 2.05 0 2.83L4 21.41c.39.39.9.59 1.41.59.51 0 1.02-.2 1.41-.59l7.78-7.78 2.81-2.81c.8-.78.8-2.07 0-2.86zM5.41 20L4 18.59l7.72-7.72 1.47 1.35L5.41 20z\"/>\n",
              "  </svg>\n",
              "      </button>\n",
              "      \n",
              "  <style>\n",
              "    .colab-df-container {\n",
              "      display:flex;\n",
              "      flex-wrap:wrap;\n",
              "      gap: 12px;\n",
              "    }\n",
              "\n",
              "    .colab-df-convert {\n",
              "      background-color: #E8F0FE;\n",
              "      border: none;\n",
              "      border-radius: 50%;\n",
              "      cursor: pointer;\n",
              "      display: none;\n",
              "      fill: #1967D2;\n",
              "      height: 32px;\n",
              "      padding: 0 0 0 0;\n",
              "      width: 32px;\n",
              "    }\n",
              "\n",
              "    .colab-df-convert:hover {\n",
              "      background-color: #E2EBFA;\n",
              "      box-shadow: 0px 1px 2px rgba(60, 64, 67, 0.3), 0px 1px 3px 1px rgba(60, 64, 67, 0.15);\n",
              "      fill: #174EA6;\n",
              "    }\n",
              "\n",
              "    [theme=dark] .colab-df-convert {\n",
              "      background-color: #3B4455;\n",
              "      fill: #D2E3FC;\n",
              "    }\n",
              "\n",
              "    [theme=dark] .colab-df-convert:hover {\n",
              "      background-color: #434B5C;\n",
              "      box-shadow: 0px 1px 3px 1px rgba(0, 0, 0, 0.15);\n",
              "      filter: drop-shadow(0px 1px 2px rgba(0, 0, 0, 0.3));\n",
              "      fill: #FFFFFF;\n",
              "    }\n",
              "  </style>\n",
              "\n",
              "      <script>\n",
              "        const buttonEl =\n",
              "          document.querySelector('#df-643c7b45-0fa6-4c93-a3f8-918f587ba2fa button.colab-df-convert');\n",
              "        buttonEl.style.display =\n",
              "          google.colab.kernel.accessAllowed ? 'block' : 'none';\n",
              "\n",
              "        async function convertToInteractive(key) {\n",
              "          const element = document.querySelector('#df-643c7b45-0fa6-4c93-a3f8-918f587ba2fa');\n",
              "          const dataTable =\n",
              "            await google.colab.kernel.invokeFunction('convertToInteractive',\n",
              "                                                     [key], {});\n",
              "          if (!dataTable) return;\n",
              "\n",
              "          const docLinkHtml = 'Like what you see? Visit the ' +\n",
              "            '<a target=\"_blank\" href=https://colab.research.google.com/notebooks/data_table.ipynb>data table notebook</a>'\n",
              "            + ' to learn more about interactive tables.';\n",
              "          element.innerHTML = '';\n",
              "          dataTable['output_type'] = 'display_data';\n",
              "          await google.colab.output.renderOutput(dataTable, element);\n",
              "          const docLink = document.createElement('div');\n",
              "          docLink.innerHTML = docLinkHtml;\n",
              "          element.appendChild(docLink);\n",
              "        }\n",
              "      </script>\n",
              "    </div>\n",
              "  </div>\n",
              "  "
            ]
          },
          "metadata": {},
          "execution_count": 34
        }
      ]
    },
    {
      "cell_type": "markdown",
      "source": [
        "##Please report number of rows and columns"
      ],
      "metadata": {
        "id": "kh4Lu9Z_pGgo"
      }
    },
    {
      "cell_type": "code",
      "source": [
        "df.shape # using shpe function to find no of rows and columns"
      ],
      "metadata": {
        "colab": {
          "base_uri": "https://localhost:8080/"
        },
        "id": "5iMnadlcpNul",
        "outputId": "0c8375b1-448c-408f-f764-0fe95286d388"
      },
      "execution_count": null,
      "outputs": [
        {
          "output_type": "execute_result",
          "data": {
            "text/plain": [
              "(235, 12)"
            ]
          },
          "metadata": {},
          "execution_count": 23
        }
      ]
    },
    {
      "cell_type": "markdown",
      "source": [
        "**there are 235 row and 12 columns are present in given data frame**"
      ],
      "metadata": {
        "id": "DHZlkoKDpSWs"
      }
    },
    {
      "cell_type": "markdown",
      "source": [
        "##Please report if there is any missing value in the dataset. (Do not remove or fill it)"
      ],
      "metadata": {
        "id": "bxmkve_Ippky"
      }
    },
    {
      "cell_type": "code",
      "source": [
        "df.isna().sum() # Counting number of missing values\n"
      ],
      "metadata": {
        "colab": {
          "base_uri": "https://localhost:8080/"
        },
        "id": "Tk-gUvqipikH",
        "outputId": "c005369b-3222-4184-930e-30e69f76d761"
      },
      "execution_count": null,
      "outputs": [
        {
          "output_type": "execute_result",
          "data": {
            "text/plain": [
              "#                           0\n",
              "Country (or dependency)     0\n",
              "Population (2020)           0\n",
              "Yearly Change               0\n",
              "Net Change                  0\n",
              "Density (P/Km²)             0\n",
              "Land Area (Km²)             0\n",
              "Migrants (net)             34\n",
              "Fert. Rate                 34\n",
              "Med. Age                   34\n",
              "Urban Pop %                14\n",
              "World Share                 0\n",
              "dtype: int64"
            ]
          },
          "metadata": {},
          "execution_count": 116
        }
      ]
    },
    {
      "cell_type": "markdown",
      "source": [
        "there are 34 missing values in column Migrant\n",
        "\n",
        "34 missing values in fert. rate\n",
        "\n",
        "34 missing values in column med.Age\n",
        "\n",
        "34 missing values in column world share"
      ],
      "metadata": {
        "id": "zRteJDDa-8Ee"
      }
    },
    {
      "cell_type": "markdown",
      "source": [
        "##Please rename the columns appropriately"
      ],
      "metadata": {
        "id": "oSzVDz1KACKy"
      }
    },
    {
      "cell_type": "code",
      "source": [
        "df.columns # Old column name"
      ],
      "metadata": {
        "colab": {
          "base_uri": "https://localhost:8080/"
        },
        "id": "14vtQKyLALPS",
        "outputId": "0702fd38-c1b0-4814-f750-5231fcb0ec67"
      },
      "execution_count": 12,
      "outputs": [
        {
          "output_type": "execute_result",
          "data": {
            "text/plain": [
              "Index(['#', 'Country (or dependency)', 'Population (2020)', 'Yearly Change',\n",
              "       'Net Change', 'Density (P/Km²)', 'Land Area (Km²)', 'Migrants (net)',\n",
              "       'Fert. Rate', 'Med. Age', 'Urban Pop %', 'World Share'],\n",
              "      dtype='object')"
            ]
          },
          "metadata": {},
          "execution_count": 12
        }
      ]
    },
    {
      "cell_type": "code",
      "source": [
        "df = df.rename(columns={'#': 'SL_No', 'Country (or dependency)': 'Country','Population (2020)':'Population','Yearly Change':'Percentage of Yearly change','Density (P/Km²)':'Density','Land Area (Km²)':'Area','Migrants (net)':'Migrants','Fert. Rate':'fertility_Rate','Med. Age':'Median_age','Urban Pop %':'Urban_pop_in_Percentage'})"
      ],
      "metadata": {
        "id": "HSO2gDir_aOA"
      },
      "execution_count": 13,
      "outputs": []
    },
    {
      "cell_type": "code",
      "source": [
        "df.columns # Changed column name"
      ],
      "metadata": {
        "colab": {
          "base_uri": "https://localhost:8080/"
        },
        "id": "89KGaPemCVFJ",
        "outputId": "e7bc4bed-8cc4-4aaf-ce85-97f25a318310"
      },
      "execution_count": 14,
      "outputs": [
        {
          "output_type": "execute_result",
          "data": {
            "text/plain": [
              "Index(['SL_No', 'Country', 'Population', 'Percentage of Yearly change',\n",
              "       'Net Change', 'Density', 'Area', 'Migrants', 'fertility_Rate',\n",
              "       'Median_age', 'Urban_pop_in_Percentage', 'World Share'],\n",
              "      dtype='object')"
            ]
          },
          "metadata": {},
          "execution_count": 14
        }
      ]
    },
    {
      "cell_type": "markdown",
      "source": [
        "##Please report the top ten and bottom ten countries based on the density column."
      ],
      "metadata": {
        "id": "rMFJS4vjre8a"
      }
    },
    {
      "cell_type": "code",
      "source": [
        ""
      ],
      "metadata": {
        "id": "nU6hKeZx2nnv"
      },
      "execution_count": 28,
      "outputs": []
    },
    {
      "cell_type": "code",
      "source": [
        "fig = plt.figure(figsize=(10,7))\n",
        "plt.title(\"Top Ten countries based on density\")\n",
        "\n",
        "sns.barplot(\n",
        "    x='Country',\n",
        "    y='Density',\n",
        "    data=df.nlargest(10, 'Density')\n",
        ")\n",
        "plt.show()"
      ],
      "metadata": {
        "colab": {
          "base_uri": "https://localhost:8080/",
          "height": 458
        },
        "id": "ZXhUkdRr22vk",
        "outputId": "b60f0bf6-541c-4202-f299-ce4d13d2a394"
      },
      "execution_count": 46,
      "outputs": [
        {
          "output_type": "display_data",
          "data": {
            "text/plain": [
              "<Figure size 720x504 with 1 Axes>"
            ],
            "image/png": "[encoded data removed]"
          },
          "metadata": {
            "needs_background": "light"
          }
        }
      ]
    },
    {
      "cell_type": "code",
      "source": [
        "fig = plt.figure(figsize=(15,7))\n",
        "plt.title(\"Bottom Ten countries based on density\")\n",
        "\n",
        "sns.barplot(\n",
        "    x='Country',\n",
        "    y='Density',\n",
        "    data=df.nsmallest(10, 'Density')\n",
        ")\n",
        "plt.show()"
      ],
      "metadata": {
        "colab": {
          "base_uri": "https://localhost:8080/",
          "height": 458
        },
        "id": "Wofs_muN41_j",
        "outputId": "ca57aa63-99e4-4090-f725-d554b7aab84a"
      },
      "execution_count": 45,
      "outputs": [
        {
          "output_type": "display_data",
          "data": {
            "text/plain": [
              "<Figure size 1080x504 with 1 Axes>"
            ],
            "image/png": "[encoded data removed]"
          },
          "metadata": {
            "needs_background": "light"
          }
        }
      ]
    },
    {
      "cell_type": "markdown",
      "source": [
        "**From the above graph, top 10 contries based on density are:- monaco, macao, singapore, hong kong, gibraltar, behrain, holy see, maldives, malta, bangladesh**\n",
        "\n",
        "**Bottom 10 countries are Greenland, Falkland islands, india, western sahara, mangolia, ice land, australia, nambia, guyana, libya**"
      ],
      "metadata": {
        "id": "9ooCHLFa6hnO"
      }
    },
    {
      "cell_type": "markdown",
      "source": [
        "##Which country has the highest fertility rate and which country has the lowest fertility rate? Please report the top 10 countries and bottom 10 countries."
      ],
      "metadata": {
        "id": "Ii_NG98q8Rcj"
      }
    },
    {
      "cell_type": "code",
      "source": [
        ""
      ],
      "metadata": {
        "id": "8osGkpA-90WS"
      },
      "execution_count": 48,
      "outputs": []
    },
    {
      "cell_type": "code",
      "source": [
        "fig = plt.figure(figsize=(10,7))\n",
        "plt.title(\"Top Ten countries based on fertility rate \")\n",
        "\n",
        "sns.barplot(\n",
        "    x='Country',\n",
        "    y='fertility_Rate',\n",
        "    data=df.nlargest(10, 'fertility_Rate')\n",
        ")\n",
        "plt.show()"
      ],
      "metadata": {
        "colab": {
          "base_uri": "https://localhost:8080/",
          "height": 458
        },
        "id": "zCGS9lgp8cXB",
        "outputId": "a896e297-7692-42dc-b455-c88124145d41"
      },
      "execution_count": 50,
      "outputs": [
        {
          "output_type": "display_data",
          "data": {
            "text/plain": [
              "<Figure size 720x504 with 1 Axes>"
            ],
            "image/png": "[encoded data removed]"
          },
          "metadata": {
            "needs_background": "light"
          }
        }
      ]
    },
    {
      "cell_type": "code",
      "source": [
        "fig = plt.figure(figsize=(15,7))\n",
        "plt.title(\"Bottom Ten countries based on 'fertility Rate'\")\n",
        "\n",
        "sns.barplot(\n",
        "    x='Country',\n",
        "    y='fertility_Rate',\n",
        "    data=df.nsmallest(10, 'fertility_Rate')\n",
        ")\n",
        "plt.show()"
      ],
      "metadata": {
        "colab": {
          "base_uri": "https://localhost:8080/",
          "height": 458
        },
        "id": "iwmdh2-G-Ymp",
        "outputId": "36bdf610-bcf1-4a32-b306-17f72d963893"
      },
      "execution_count": 51,
      "outputs": [
        {
          "output_type": "display_data",
          "data": {
            "text/plain": [
              "<Figure size 1080x504 with 1 Axes>"
            ],
            "image/png": "[encoded data removed]"
          },
          "metadata": {
            "needs_background": "light"
          }
        }
      ]
    },
    {
      "cell_type": "markdown",
      "source": [
        "From above plot, highest fertility rate country is **Niger**\n",
        "\n",
        "Lowest rate country is **south korea**"
      ],
      "metadata": {
        "id": "dK7i0GcdAr3F"
      }
    },
    {
      "cell_type": "markdown",
      "source": [
        "##Report top 5 largest countries in this word based on land area"
      ],
      "metadata": {
        "id": "-9130UOnBI_k"
      }
    },
    {
      "cell_type": "code",
      "source": [
        "fig = plt.figure(figsize=(10,7))\n",
        "plt.title(\"Top Ten countries based on land Area \")\n",
        "\n",
        "sns.barplot(\n",
        "    x='Country',\n",
        "    y='Area',\n",
        "    data=df.nlargest(5, 'Area')\n",
        ")\n",
        "plt.show()"
      ],
      "metadata": {
        "colab": {
          "base_uri": "https://localhost:8080/",
          "height": 458
        },
        "id": "b7BFCkXzBOX8",
        "outputId": "24cbbb64-a8de-4e12-ff78-0b1c5db3ccb2"
      },
      "execution_count": 55,
      "outputs": [
        {
          "output_type": "display_data",
          "data": {
            "text/plain": [
              "<Figure size 720x504 with 1 Axes>"
            ],
            "image/png": "[encoded data removed]"
          },
          "metadata": {
            "needs_background": "light"
          }
        }
      ]
    },
    {
      "cell_type": "markdown",
      "source": [
        "**Top 5 countries based on Land area are :- Russia, China, United states, Canada, Brazil**"
      ],
      "metadata": {
        "id": "mVYuATSGBxEU"
      }
    },
    {
      "cell_type": "markdown",
      "source": [
        "##Report top 5 countries in this word based on median value"
      ],
      "metadata": {
        "id": "B5JBf4Z3Ca_s"
      }
    },
    {
      "cell_type": "code",
      "source": [
        ""
      ],
      "metadata": {
        "id": "rkb7DlQUDA2v"
      },
      "execution_count": 57,
      "outputs": []
    },
    {
      "cell_type": "code",
      "source": [
        "fig = plt.figure(figsize=(10,7))\n",
        "plt.title(\"Top Ten countries based on Median value \")\n",
        "\n",
        "ax=sns.barplot( x='Country', y='Median_age',data=df.nlargest(5, 'Median_age'), ci = None)\n",
        "plt.show()"
      ],
      "metadata": {
        "colab": {
          "base_uri": "https://localhost:8080/",
          "height": 458
        },
        "id": "PSo6IrhZCdyc",
        "outputId": "238acd8a-11f1-4c2c-ffb7-06cec2fa1b68"
      },
      "execution_count": 71,
      "outputs": [
        {
          "output_type": "display_data",
          "data": {
            "text/plain": [
              "<Figure size 720x504 with 1 Axes>"
            ],
            "image/png": "[encoded data removed]"
          },
          "metadata": {
            "needs_background": "light"
          }
        }
      ]
    },
    {
      "cell_type": "markdown",
      "source": [
        "**Top Five countries based on median values are Japan, Italy, martinique, Germany, Greece**"
      ],
      "metadata": {
        "id": "pE6X9fvXK_Fu"
      }
    },
    {
      "cell_type": "markdown",
      "source": [
        "##Create appropriate graphs to examine the distribution of Population, median age and Urban population and Yearly change"
      ],
      "metadata": {
        "id": "ppVrLQaXLaQ2"
      }
    },
    {
      "cell_type": "code",
      "source": [
        "fig = plt.figure(figsize=(30,7))\n",
        "plt.title(\"Distrubution of Population \")\n",
        "sns.histplot(data=df, x='Population', kde=True, color=\"brown\")\n",
        "plt.show()"
      ],
      "metadata": {
        "colab": {
          "base_uri": "https://localhost:8080/",
          "height": 478
        },
        "id": "ytQsWsVdMQLX",
        "outputId": "2435bcec-7030-4f4a-de95-d9fceecd24c9"
      },
      "execution_count": 82,
      "outputs": [
        {
          "output_type": "display_data",
          "data": {
            "text/plain": [
              "<Figure size 2160x504 with 1 Axes>"
            ],
            "image/png": "[encoded data removed]"
          },
          "metadata": {
            "needs_background": "light"
          }
        }
      ]
    },
    {
      "cell_type": "markdown",
      "source": [
        "**population data is Right skewed**"
      ],
      "metadata": {
        "id": "GAVssLxzRdu-"
      }
    },
    {
      "cell_type": "code",
      "source": [
        "fig = plt.figure(figsize=(10,7))\n",
        "plt.title(\"Distrubution of Median age \")\n",
        "sns.histplot(data=df, x='Median_age', kde=True, color=\"brown\",bins =15)\n",
        "plt.show()"
      ],
      "metadata": {
        "colab": {
          "base_uri": "https://localhost:8080/",
          "height": 459
        },
        "id": "8yZ8iA_SODYb",
        "outputId": "45bb10de-74f3-4f3a-ff1c-baff8c6404a2"
      },
      "execution_count": 97,
      "outputs": [
        {
          "output_type": "display_data",
          "data": {
            "text/plain": [
              "<Figure size 720x504 with 1 Axes>"
            ],
            "image/png": "[encoded data removed]"
          },
          "metadata": {
            "needs_background": "light"
          }
        }
      ]
    },
    {
      "cell_type": "code",
      "source": [
        "fig = plt.figure(figsize=(15,7))\n",
        "plt.title(\"distrubution of urban Population in percentage \")\n",
        "sns.histplot(data=df, x='Urban_pop_in_Percentage', kde=True, color=\"brown\",bins =15)\n",
        "plt.show()"
      ],
      "metadata": {
        "colab": {
          "base_uri": "https://localhost:8080/",
          "height": 459
        },
        "id": "MNEsB5X4PZPV",
        "outputId": "6febb0c7-9f25-4afa-a194-89ab115af057"
      },
      "execution_count": 99,
      "outputs": [
        {
          "output_type": "display_data",
          "data": {
            "text/plain": [
              "<Figure size 1080x504 with 1 Axes>"
            ],
            "image/png": "[encoded data removed]"
          },
          "metadata": {
            "needs_background": "light"
          }
        }
      ]
    },
    {
      "cell_type": "markdown",
      "source": [
        "**Ditrubution of urban population is left skewed data**"
      ],
      "metadata": {
        "id": "Ek4nsDieStZ6"
      }
    },
    {
      "cell_type": "code",
      "source": [
        "fig = plt.figure(figsize=(15,7))\n",
        "plt.title(\"distrubution of Yearly Change in percentage \")\n",
        "sns.histplot(data=df, x='Percentage of Yearly change', kde=True, color=\"brown\",bins =15)\n",
        "plt.show()"
      ],
      "metadata": {
        "colab": {
          "base_uri": "https://localhost:8080/",
          "height": 458
        },
        "id": "E_ib3atbQbfc",
        "outputId": "7ec44df1-be2d-4dcc-eb74-99388c97b6a9"
      },
      "execution_count": 100,
      "outputs": [
        {
          "output_type": "display_data",
          "data": {
            "text/plain": [
              "<Figure size 1080x504 with 1 Axes>"
            ],
            "image/png": "[encoded data removed]"
          },
          "metadata": {
            "needs_background": "light"
          }
        }
      ]
    },
    {
      "cell_type": "markdown",
      "source": [
        "**Ditrubution of yearly change is left skewed data**"
      ],
      "metadata": {
        "id": "8AeRUPd9S7J0"
      }
    },
    {
      "cell_type": "markdown",
      "source": [
        "##Please sort the population column based on lowest populated countries and report bottom 10 countries as well as top 10 countries."
      ],
      "metadata": {
        "id": "PreYRKwBTkN0"
      }
    },
    {
      "cell_type": "code",
      "source": [
        "df_sort = df.sort_values('Population', ascending= True)\n"
      ],
      "metadata": {
        "id": "5UOtn41iTi-a"
      },
      "execution_count": null,
      "outputs": []
    },
    {
      "cell_type": "code",
      "source": [
        "df_sort"
      ],
      "metadata": {
        "id": "XNLdyZdXVmLE"
      },
      "execution_count": null,
      "outputs": []
    },
    {
      "cell_type": "code",
      "source": [
        "df_sort.head(10)"
      ],
      "metadata": {
        "colab": {
          "base_uri": "https://localhost:8080/",
          "height": 407
        },
        "id": "jqCvlrlkV2Zq",
        "outputId": "e9d43c1c-6672-4a60-a199-925779072650"
      },
      "execution_count": 105,
      "outputs": [
        {
          "output_type": "execute_result",
          "data": {
            "text/plain": [
              "     SL_No                  Country  Population  Percentage of Yearly change  \\\n",
              "234    235                    India           0                      -100.00   \n",
              "24      25                 Holy See         801                         0.25   \n",
              "197    198                  Tokelau        1357                         1.27   \n",
              "189    190                     Niue        1626                         0.68   \n",
              "113    114         Falkland Islands        3480                         3.05   \n",
              "78      79               Montserrat        4992                         0.06   \n",
              "57      58  Saint Pierre & Miquelon        5794                        -0.48   \n",
              "48      49             Saint Helena        6077                         0.30   \n",
              "3        4         Saint Barthelemy        9877                         0.30   \n",
              "223    224                    Nauru       10824                         0.63   \n",
              "\n",
              "     Net Change  Density     Area  Migrants  fertility_Rate  Median_age  \\\n",
              "234 -1366417754        0  2973190 -532687.0             2.2        28.0   \n",
              "24            2     2003        0       NaN             NaN         NaN   \n",
              "197          17      136       10       NaN             NaN         NaN   \n",
              "189          11        6      260       NaN             NaN         NaN   \n",
              "113         103        0    12170       NaN             NaN         NaN   \n",
              "78            3       50      100       NaN             NaN         NaN   \n",
              "57          -28       25      230       NaN             NaN         NaN   \n",
              "48           18       16      390       NaN             NaN         NaN   \n",
              "3            30      470       21       NaN             NaN         NaN   \n",
              "223          68      541       20       NaN             NaN         NaN   \n",
              "\n",
              "     Urban_pop_in_Percentage  World Share  \n",
              "234                      NaN          0.0  \n",
              "24                       NaN          0.0  \n",
              "197                      0.0          0.0  \n",
              "189                     46.0          0.0  \n",
              "113                     66.0          0.0  \n",
              "78                      10.0          0.0  \n",
              "57                     100.0          0.0  \n",
              "48                      27.0          0.0  \n",
              "3                        0.0          0.0  \n",
              "223                      NaN          0.0  "
            ],
            "text/html": [
              "\n",
              "  <div id=\"df-d8e3bda7-4853-495e-a25b-60e4b714f26b\">\n",
              "    <div class=\"colab-df-container\">\n",
              "      <div>\n",
              "<style scoped>\n",
              "    .dataframe tbody tr th:only-of-type {\n",
              "        vertical-align: middle;\n",
              "    }\n",
              "\n",
              "    .dataframe tbody tr th {\n",
              "        vertical-align: top;\n",
              "    }\n",
              "\n",
              "    .dataframe thead th {\n",
              "        text-align: right;\n",
              "    }\n",
              "</style>\n",
              "<table border=\"1\" class=\"dataframe\">\n",
              "  <thead>\n",
              "    <tr style=\"text-align: right;\">\n",
              "      <th></th>\n",
              "      <th>SL_No</th>\n",
              "      <th>Country</th>\n",
              "      <th>Population</th>\n",
              "      <th>Percentage of Yearly change</th>\n",
              "      <th>Net Change</th>\n",
              "      <th>Density</th>\n",
              "      <th>Area</th>\n",
              "      <th>Migrants</th>\n",
              "      <th>fertility_Rate</th>\n",
              "      <th>Median_age</th>\n",
              "      <th>Urban_pop_in_Percentage</th>\n",
              "      <th>World Share</th>\n",
              "    </tr>\n",
              "  </thead>\n",
              "  <tbody>\n",
              "    <tr>\n",
              "      <th>234</th>\n",
              "      <td>235</td>\n",
              "      <td>India</td>\n",
              "      <td>0</td>\n",
              "      <td>-100.00</td>\n",
              "      <td>-1366417754</td>\n",
              "      <td>0</td>\n",
              "      <td>2973190</td>\n",
              "      <td>-532687.0</td>\n",
              "      <td>2.2</td>\n",
              "      <td>28.0</td>\n",
              "      <td>NaN</td>\n",
              "      <td>0.0</td>\n",
              "    </tr>\n",
              "    <tr>\n",
              "      <th>24</th>\n",
              "      <td>25</td>\n",
              "      <td>Holy See</td>\n",
              "      <td>801</td>\n",
              "      <td>0.25</td>\n",
              "      <td>2</td>\n",
              "      <td>2003</td>\n",
              "      <td>0</td>\n",
              "      <td>NaN</td>\n",
              "      <td>NaN</td>\n",
              "      <td>NaN</td>\n",
              "      <td>NaN</td>\n",
              "      <td>0.0</td>\n",
              "    </tr>\n",
              "    <tr>\n",
              "      <th>197</th>\n",
              "      <td>198</td>\n",
              "      <td>Tokelau</td>\n",
              "      <td>1357</td>\n",
              "      <td>1.27</td>\n",
              "      <td>17</td>\n",
              "      <td>136</td>\n",
              "      <td>10</td>\n",
              "      <td>NaN</td>\n",
              "      <td>NaN</td>\n",
              "      <td>NaN</td>\n",
              "      <td>0.0</td>\n",
              "      <td>0.0</td>\n",
              "    </tr>\n",
              "    <tr>\n",
              "      <th>189</th>\n",
              "      <td>190</td>\n",
              "      <td>Niue</td>\n",
              "      <td>1626</td>\n",
              "      <td>0.68</td>\n",
              "      <td>11</td>\n",
              "      <td>6</td>\n",
              "      <td>260</td>\n",
              "      <td>NaN</td>\n",
              "      <td>NaN</td>\n",
              "      <td>NaN</td>\n",
              "      <td>46.0</td>\n",
              "      <td>0.0</td>\n",
              "    </tr>\n",
              "    <tr>\n",
              "      <th>113</th>\n",
              "      <td>114</td>\n",
              "      <td>Falkland Islands</td>\n",
              "      <td>3480</td>\n",
              "      <td>3.05</td>\n",
              "      <td>103</td>\n",
              "      <td>0</td>\n",
              "      <td>12170</td>\n",
              "      <td>NaN</td>\n",
              "      <td>NaN</td>\n",
              "      <td>NaN</td>\n",
              "      <td>66.0</td>\n",
              "      <td>0.0</td>\n",
              "    </tr>\n",
              "    <tr>\n",
              "      <th>78</th>\n",
              "      <td>79</td>\n",
              "      <td>Montserrat</td>\n",
              "      <td>4992</td>\n",
              "      <td>0.06</td>\n",
              "      <td>3</td>\n",
              "      <td>50</td>\n",
              "      <td>100</td>\n",
              "      <td>NaN</td>\n",
              "      <td>NaN</td>\n",
              "      <td>NaN</td>\n",
              "      <td>10.0</td>\n",
              "      <td>0.0</td>\n",
              "    </tr>\n",
              "    <tr>\n",
              "      <th>57</th>\n",
              "      <td>58</td>\n",
              "      <td>Saint Pierre &amp; Miquelon</td>\n",
              "      <td>5794</td>\n",
              "      <td>-0.48</td>\n",
              "      <td>-28</td>\n",
              "      <td>25</td>\n",
              "      <td>230</td>\n",
              "      <td>NaN</td>\n",
              "      <td>NaN</td>\n",
              "      <td>NaN</td>\n",
              "      <td>100.0</td>\n",
              "      <td>0.0</td>\n",
              "    </tr>\n",
              "    <tr>\n",
              "      <th>48</th>\n",
              "      <td>49</td>\n",
              "      <td>Saint Helena</td>\n",
              "      <td>6077</td>\n",
              "      <td>0.30</td>\n",
              "      <td>18</td>\n",
              "      <td>16</td>\n",
              "      <td>390</td>\n",
              "      <td>NaN</td>\n",
              "      <td>NaN</td>\n",
              "      <td>NaN</td>\n",
              "      <td>27.0</td>\n",
              "      <td>0.0</td>\n",
              "    </tr>\n",
              "    <tr>\n",
              "      <th>3</th>\n",
              "      <td>4</td>\n",
              "      <td>Saint Barthelemy</td>\n",
              "      <td>9877</td>\n",
              "      <td>0.30</td>\n",
              "      <td>30</td>\n",
              "      <td>470</td>\n",
              "      <td>21</td>\n",
              "      <td>NaN</td>\n",
              "      <td>NaN</td>\n",
              "      <td>NaN</td>\n",
              "      <td>0.0</td>\n",
              "      <td>0.0</td>\n",
              "    </tr>\n",
              "    <tr>\n",
              "      <th>223</th>\n",
              "      <td>224</td>\n",
              "      <td>Nauru</td>\n",
              "      <td>10824</td>\n",
              "      <td>0.63</td>\n",
              "      <td>68</td>\n",
              "      <td>541</td>\n",
              "      <td>20</td>\n",
              "      <td>NaN</td>\n",
              "      <td>NaN</td>\n",
              "      <td>NaN</td>\n",
              "      <td>NaN</td>\n",
              "      <td>0.0</td>\n",
              "    </tr>\n",
              "  </tbody>\n",
              "</table>\n",
              "</div>\n",
              "      <button class=\"colab-df-convert\" onclick=\"convertToInteractive('df-d8e3bda7-4853-495e-a25b-60e4b714f26b')\"\n",
              "              title=\"Convert this dataframe to an interactive table.\"\n",
              "              style=\"display:none;\">\n",
              "        \n",
              "  <svg xmlns=\"http://www.w3.org/2000/svg\" height=\"24px\"viewBox=\"0 0 24 24\"\n",
              "       width=\"24px\">\n",
              "    <path d=\"M0 0h24v24H0V0z\" fill=\"none\"/>\n",
              "    <path d=\"M18.56 5.44l.94 2.06.94-2.06 2.06-.94-2.06-.94-.94-2.06-.94 2.06-2.06.94zm-11 1L8.5 8.5l.94-2.06 2.06-.94-2.06-.94L8.5 2.5l-.94 2.06-2.06.94zm10 10l.94 2.06.94-2.06 2.06-.94-2.06-.94-.94-2.06-.94 2.06-2.06.94z\"/><path d=\"M17.41 7.96l-1.37-1.37c-.4-.4-.92-.59-1.43-.59-.52 0-1.04.2-1.43.59L10.3 9.45l-7.72 7.72c-.78.78-.78 2.05 0 2.83L4 21.41c.39.39.9.59 1.41.59.51 0 1.02-.2 1.41-.59l7.78-7.78 2.81-2.81c.8-.78.8-2.07 0-2.86zM5.41 20L4 18.59l7.72-7.72 1.47 1.35L5.41 20z\"/>\n",
              "  </svg>\n",
              "      </button>\n",
              "      \n",
              "  <style>\n",
              "    .colab-df-container {\n",
              "      display:flex;\n",
              "      flex-wrap:wrap;\n",
              "      gap: 12px;\n",
              "    }\n",
              "\n",
              "    .colab-df-convert {\n",
              "      background-color: #E8F0FE;\n",
              "      border: none;\n",
              "      border-radius: 50%;\n",
              "      cursor: pointer;\n",
              "      display: none;\n",
              "      fill: #1967D2;\n",
              "      height: 32px;\n",
              "      padding: 0 0 0 0;\n",
              "      width: 32px;\n",
              "    }\n",
              "\n",
              "    .colab-df-convert:hover {\n",
              "      background-color: #E2EBFA;\n",
              "      box-shadow: 0px 1px 2px rgba(60, 64, 67, 0.3), 0px 1px 3px 1px rgba(60, 64, 67, 0.15);\n",
              "      fill: #174EA6;\n",
              "    }\n",
              "\n",
              "    [theme=dark] .colab-df-convert {\n",
              "      background-color: #3B4455;\n",
              "      fill: #D2E3FC;\n",
              "    }\n",
              "\n",
              "    [theme=dark] .colab-df-convert:hover {\n",
              "      background-color: #434B5C;\n",
              "      box-shadow: 0px 1px 3px 1px rgba(0, 0, 0, 0.15);\n",
              "      filter: drop-shadow(0px 1px 2px rgba(0, 0, 0, 0.3));\n",
              "      fill: #FFFFFF;\n",
              "    }\n",
              "  </style>\n",
              "\n",
              "      <script>\n",
              "        const buttonEl =\n",
              "          document.querySelector('#df-d8e3bda7-4853-495e-a25b-60e4b714f26b button.colab-df-convert');\n",
              "        buttonEl.style.display =\n",
              "          google.colab.kernel.accessAllowed ? 'block' : 'none';\n",
              "\n",
              "        async function convertToInteractive(key) {\n",
              "          const element = document.querySelector('#df-d8e3bda7-4853-495e-a25b-60e4b714f26b');\n",
              "          const dataTable =\n",
              "            await google.colab.kernel.invokeFunction('convertToInteractive',\n",
              "                                                     [key], {});\n",
              "          if (!dataTable) return;\n",
              "\n",
              "          const docLinkHtml = 'Like what you see? Visit the ' +\n",
              "            '<a target=\"_blank\" href=https://colab.research.google.com/notebooks/data_table.ipynb>data table notebook</a>'\n",
              "            + ' to learn more about interactive tables.';\n",
              "          element.innerHTML = '';\n",
              "          dataTable['output_type'] = 'display_data';\n",
              "          await google.colab.output.renderOutput(dataTable, element);\n",
              "          const docLink = document.createElement('div');\n",
              "          docLink.innerHTML = docLinkHtml;\n",
              "          element.appendChild(docLink);\n",
              "        }\n",
              "      </script>\n",
              "    </div>\n",
              "  </div>\n",
              "  "
            ]
          },
          "metadata": {},
          "execution_count": 105
        }
      ]
    },
    {
      "cell_type": "code",
      "source": [
        "df_sort.tail(10)"
      ],
      "metadata": {
        "colab": {
          "base_uri": "https://localhost:8080/",
          "height": 363
        },
        "id": "w-UuIfZEWJ3X",
        "outputId": "c482f60e-862c-4214-b152-f492e26e661e"
      },
      "execution_count": 106,
      "outputs": [
        {
          "output_type": "execute_result",
          "data": {
            "text/plain": [
              "     SL_No        Country  Population  Percentage of Yearly change  \\\n",
              "204    205          Japan   126476461                        -0.30   \n",
              "202    203         Mexico   128932753                         1.06   \n",
              "193    194         Russia   145934462                         0.04   \n",
              "186    187     Bangladesh   164689383                         1.01   \n",
              "164    165        Nigeria   206139589                         2.58   \n",
              "160    161         Brazil   212559417                         0.72   \n",
              "156    157       Pakistan   220892340                         2.00   \n",
              "142    143      Indonesia   273523615                         1.07   \n",
              "119    120  United States   331002651                         0.59   \n",
              "194    195          China  1439323776                         0.39   \n",
              "\n",
              "     Net Change  Density      Area  Migrants  fertility_Rate  Median_age  \\\n",
              "204     -383840      347    364555   71560.0             1.4        48.0   \n",
              "202     1357224       66   1943950  -60000.0             2.1        29.0   \n",
              "193       62206        9  16376870  182456.0             1.8        40.0   \n",
              "186     1643222     1265    130170 -369501.0             2.1        28.0   \n",
              "164     5175990      226    910770  -60000.0             5.4        18.0   \n",
              "160     1509890       25   8358140   21200.0             1.7        33.0   \n",
              "156     4327022      287    770880 -233379.0             3.6        23.0   \n",
              "142     2898047      151   1811570  -98955.0             2.3        30.0   \n",
              "119     1937734       36   9147420  954806.0             1.8        38.0   \n",
              "194     5540090      153   9388211 -348399.0             1.7        38.0   \n",
              "\n",
              "     Urban_pop_in_Percentage  World Share  \n",
              "204                     92.0         1.62  \n",
              "202                     84.0         1.65  \n",
              "193                     74.0         1.87  \n",
              "186                     39.0         2.11  \n",
              "164                     52.0         2.64  \n",
              "160                     88.0         2.73  \n",
              "156                     35.0         2.83  \n",
              "142                     56.0         3.51  \n",
              "119                     83.0         4.25  \n",
              "194                     61.0        18.47  "
            ],
            "text/html": [
              "\n",
              "  <div id=\"df-129c6485-3545-4227-ba1d-8c894a3a57a3\">\n",
              "    <div class=\"colab-df-container\">\n",
              "      <div>\n",
              "<style scoped>\n",
              "    .dataframe tbody tr th:only-of-type {\n",
              "        vertical-align: middle;\n",
              "    }\n",
              "\n",
              "    .dataframe tbody tr th {\n",
              "        vertical-align: top;\n",
              "    }\n",
              "\n",
              "    .dataframe thead th {\n",
              "        text-align: right;\n",
              "    }\n",
              "</style>\n",
              "<table border=\"1\" class=\"dataframe\">\n",
              "  <thead>\n",
              "    <tr style=\"text-align: right;\">\n",
              "      <th></th>\n",
              "      <th>SL_No</th>\n",
              "      <th>Country</th>\n",
              "      <th>Population</th>\n",
              "      <th>Percentage of Yearly change</th>\n",
              "      <th>Net Change</th>\n",
              "      <th>Density</th>\n",
              "      <th>Area</th>\n",
              "      <th>Migrants</th>\n",
              "      <th>fertility_Rate</th>\n",
              "      <th>Median_age</th>\n",
              "      <th>Urban_pop_in_Percentage</th>\n",
              "      <th>World Share</th>\n",
              "    </tr>\n",
              "  </thead>\n",
              "  <tbody>\n",
              "    <tr>\n",
              "      <th>204</th>\n",
              "      <td>205</td>\n",
              "      <td>Japan</td>\n",
              "      <td>126476461</td>\n",
              "      <td>-0.30</td>\n",
              "      <td>-383840</td>\n",
              "      <td>347</td>\n",
              "      <td>364555</td>\n",
              "      <td>71560.0</td>\n",
              "      <td>1.4</td>\n",
              "      <td>48.0</td>\n",
              "      <td>92.0</td>\n",
              "      <td>1.62</td>\n",
              "    </tr>\n",
              "    <tr>\n",
              "      <th>202</th>\n",
              "      <td>203</td>\n",
              "      <td>Mexico</td>\n",
              "      <td>128932753</td>\n",
              "      <td>1.06</td>\n",
              "      <td>1357224</td>\n",
              "      <td>66</td>\n",
              "      <td>1943950</td>\n",
              "      <td>-60000.0</td>\n",
              "      <td>2.1</td>\n",
              "      <td>29.0</td>\n",
              "      <td>84.0</td>\n",
              "      <td>1.65</td>\n",
              "    </tr>\n",
              "    <tr>\n",
              "      <th>193</th>\n",
              "      <td>194</td>\n",
              "      <td>Russia</td>\n",
              "      <td>145934462</td>\n",
              "      <td>0.04</td>\n",
              "      <td>62206</td>\n",
              "      <td>9</td>\n",
              "      <td>16376870</td>\n",
              "      <td>182456.0</td>\n",
              "      <td>1.8</td>\n",
              "      <td>40.0</td>\n",
              "      <td>74.0</td>\n",
              "      <td>1.87</td>\n",
              "    </tr>\n",
              "    <tr>\n",
              "      <th>186</th>\n",
              "      <td>187</td>\n",
              "      <td>Bangladesh</td>\n",
              "      <td>164689383</td>\n",
              "      <td>1.01</td>\n",
              "      <td>1643222</td>\n",
              "      <td>1265</td>\n",
              "      <td>130170</td>\n",
              "      <td>-369501.0</td>\n",
              "      <td>2.1</td>\n",
              "      <td>28.0</td>\n",
              "      <td>39.0</td>\n",
              "      <td>2.11</td>\n",
              "    </tr>\n",
              "    <tr>\n",
              "      <th>164</th>\n",
              "      <td>165</td>\n",
              "      <td>Nigeria</td>\n",
              "      <td>206139589</td>\n",
              "      <td>2.58</td>\n",
              "      <td>5175990</td>\n",
              "      <td>226</td>\n",
              "      <td>910770</td>\n",
              "      <td>-60000.0</td>\n",
              "      <td>5.4</td>\n",
              "      <td>18.0</td>\n",
              "      <td>52.0</td>\n",
              "      <td>2.64</td>\n",
              "    </tr>\n",
              "    <tr>\n",
              "      <th>160</th>\n",
              "      <td>161</td>\n",
              "      <td>Brazil</td>\n",
              "      <td>212559417</td>\n",
              "      <td>0.72</td>\n",
              "      <td>1509890</td>\n",
              "      <td>25</td>\n",
              "      <td>8358140</td>\n",
              "      <td>21200.0</td>\n",
              "      <td>1.7</td>\n",
              "      <td>33.0</td>\n",
              "      <td>88.0</td>\n",
              "      <td>2.73</td>\n",
              "    </tr>\n",
              "    <tr>\n",
              "      <th>156</th>\n",
              "      <td>157</td>\n",
              "      <td>Pakistan</td>\n",
              "      <td>220892340</td>\n",
              "      <td>2.00</td>\n",
              "      <td>4327022</td>\n",
              "      <td>287</td>\n",
              "      <td>770880</td>\n",
              "      <td>-233379.0</td>\n",
              "      <td>3.6</td>\n",
              "      <td>23.0</td>\n",
              "      <td>35.0</td>\n",
              "      <td>2.83</td>\n",
              "    </tr>\n",
              "    <tr>\n",
              "      <th>142</th>\n",
              "      <td>143</td>\n",
              "      <td>Indonesia</td>\n",
              "      <td>273523615</td>\n",
              "      <td>1.07</td>\n",
              "      <td>2898047</td>\n",
              "      <td>151</td>\n",
              "      <td>1811570</td>\n",
              "      <td>-98955.0</td>\n",
              "      <td>2.3</td>\n",
              "      <td>30.0</td>\n",
              "      <td>56.0</td>\n",
              "      <td>3.51</td>\n",
              "    </tr>\n",
              "    <tr>\n",
              "      <th>119</th>\n",
              "      <td>120</td>\n",
              "      <td>United States</td>\n",
              "      <td>331002651</td>\n",
              "      <td>0.59</td>\n",
              "      <td>1937734</td>\n",
              "      <td>36</td>\n",
              "      <td>9147420</td>\n",
              "      <td>954806.0</td>\n",
              "      <td>1.8</td>\n",
              "      <td>38.0</td>\n",
              "      <td>83.0</td>\n",
              "      <td>4.25</td>\n",
              "    </tr>\n",
              "    <tr>\n",
              "      <th>194</th>\n",
              "      <td>195</td>\n",
              "      <td>China</td>\n",
              "      <td>1439323776</td>\n",
              "      <td>0.39</td>\n",
              "      <td>5540090</td>\n",
              "      <td>153</td>\n",
              "      <td>9388211</td>\n",
              "      <td>-348399.0</td>\n",
              "      <td>1.7</td>\n",
              "      <td>38.0</td>\n",
              "      <td>61.0</td>\n",
              "      <td>18.47</td>\n",
              "    </tr>\n",
              "  </tbody>\n",
              "</table>\n",
              "</div>\n",
              "      <button class=\"colab-df-convert\" onclick=\"convertToInteractive('df-129c6485-3545-4227-ba1d-8c894a3a57a3')\"\n",
              "              title=\"Convert this dataframe to an interactive table.\"\n",
              "              style=\"display:none;\">\n",
              "        \n",
              "  <svg xmlns=\"http://www.w3.org/2000/svg\" height=\"24px\"viewBox=\"0 0 24 24\"\n",
              "       width=\"24px\">\n",
              "    <path d=\"M0 0h24v24H0V0z\" fill=\"none\"/>\n",
              "    <path d=\"M18.56 5.44l.94 2.06.94-2.06 2.06-.94-2.06-.94-.94-2.06-.94 2.06-2.06.94zm-11 1L8.5 8.5l.94-2.06 2.06-.94-2.06-.94L8.5 2.5l-.94 2.06-2.06.94zm10 10l.94 2.06.94-2.06 2.06-.94-2.06-.94-.94-2.06-.94 2.06-2.06.94z\"/><path d=\"M17.41 7.96l-1.37-1.37c-.4-.4-.92-.59-1.43-.59-.52 0-1.04.2-1.43.59L10.3 9.45l-7.72 7.72c-.78.78-.78 2.05 0 2.83L4 21.41c.39.39.9.59 1.41.59.51 0 1.02-.2 1.41-.59l7.78-7.78 2.81-2.81c.8-.78.8-2.07 0-2.86zM5.41 20L4 18.59l7.72-7.72 1.47 1.35L5.41 20z\"/>\n",
              "  </svg>\n",
              "      </button>\n",
              "      \n",
              "  <style>\n",
              "    .colab-df-container {\n",
              "      display:flex;\n",
              "      flex-wrap:wrap;\n",
              "      gap: 12px;\n",
              "    }\n",
              "\n",
              "    .colab-df-convert {\n",
              "      background-color: #E8F0FE;\n",
              "      border: none;\n",
              "      border-radius: 50%;\n",
              "      cursor: pointer;\n",
              "      display: none;\n",
              "      fill: #1967D2;\n",
              "      height: 32px;\n",
              "      padding: 0 0 0 0;\n",
              "      width: 32px;\n",
              "    }\n",
              "\n",
              "    .colab-df-convert:hover {\n",
              "      background-color: #E2EBFA;\n",
              "      box-shadow: 0px 1px 2px rgba(60, 64, 67, 0.3), 0px 1px 3px 1px rgba(60, 64, 67, 0.15);\n",
              "      fill: #174EA6;\n",
              "    }\n",
              "\n",
              "    [theme=dark] .colab-df-convert {\n",
              "      background-color: #3B4455;\n",
              "      fill: #D2E3FC;\n",
              "    }\n",
              "\n",
              "    [theme=dark] .colab-df-convert:hover {\n",
              "      background-color: #434B5C;\n",
              "      box-shadow: 0px 1px 3px 1px rgba(0, 0, 0, 0.15);\n",
              "      filter: drop-shadow(0px 1px 2px rgba(0, 0, 0, 0.3));\n",
              "      fill: #FFFFFF;\n",
              "    }\n",
              "  </style>\n",
              "\n",
              "      <script>\n",
              "        const buttonEl =\n",
              "          document.querySelector('#df-129c6485-3545-4227-ba1d-8c894a3a57a3 button.colab-df-convert');\n",
              "        buttonEl.style.display =\n",
              "          google.colab.kernel.accessAllowed ? 'block' : 'none';\n",
              "\n",
              "        async function convertToInteractive(key) {\n",
              "          const element = document.querySelector('#df-129c6485-3545-4227-ba1d-8c894a3a57a3');\n",
              "          const dataTable =\n",
              "            await google.colab.kernel.invokeFunction('convertToInteractive',\n",
              "                                                     [key], {});\n",
              "          if (!dataTable) return;\n",
              "\n",
              "          const docLinkHtml = 'Like what you see? Visit the ' +\n",
              "            '<a target=\"_blank\" href=https://colab.research.google.com/notebooks/data_table.ipynb>data table notebook</a>'\n",
              "            + ' to learn more about interactive tables.';\n",
              "          element.innerHTML = '';\n",
              "          dataTable['output_type'] = 'display_data';\n",
              "          await google.colab.output.renderOutput(dataTable, element);\n",
              "          const docLink = document.createElement('div');\n",
              "          docLink.innerHTML = docLinkHtml;\n",
              "          element.appendChild(docLink);\n",
              "        }\n",
              "      </script>\n",
              "    </div>\n",
              "  </div>\n",
              "  "
            ]
          },
          "metadata": {},
          "execution_count": 106
        }
      ]
    },
    {
      "cell_type": "code",
      "source": [
        "fig = plt.figure(figsize=(15,7))\n",
        "plt.title(\"Top Ten countries based on Population \")\n",
        "\n",
        "sns.barplot(\n",
        "    x='Country',\n",
        "    y='Population',\n",
        "    data=df.nlargest(10, 'Population')\n",
        ")\n",
        "plt.show()"
      ],
      "metadata": {
        "colab": {
          "base_uri": "https://localhost:8080/",
          "height": 458
        },
        "id": "4BXIkyWxWYuf",
        "outputId": "238453ed-b034-4a0c-bba6-6f4cf0896828"
      },
      "execution_count": 108,
      "outputs": [
        {
          "output_type": "display_data",
          "data": {
            "text/plain": [
              "<Figure size 1080x504 with 1 Axes>"
            ],
            "image/png": "[encoded data removed]"
          },
          "metadata": {
            "needs_background": "light"
          }
        }
      ]
    },
    {
      "cell_type": "code",
      "source": [
        "fig = plt.figure(figsize=(15,7))\n",
        "plt.title(\"Bottom Ten countries based on Population \")\n",
        "\n",
        "sns.barplot(\n",
        "    x='Country',\n",
        "    y='Population',\n",
        "    data=df.nsmallest(10, 'Population')\n",
        ")\n",
        "plt.show()"
      ],
      "metadata": {
        "colab": {
          "base_uri": "https://localhost:8080/",
          "height": 458
        },
        "id": "fn19M5sOW2bs",
        "outputId": "1c5d740b-1150-4b8d-e376-a3a0484596ed"
      },
      "execution_count": 110,
      "outputs": [
        {
          "output_type": "display_data",
          "data": {
            "text/plain": [
              "<Figure size 1080x504 with 1 Axes>"
            ],
            "image/png": "[encoded data removed]"
          },
          "metadata": {
            "needs_background": "light"
          }
        }
      ]
    },
    {
      "cell_type": "markdown",
      "source": [
        "##                                                                          **PART-2**"
      ],
      "metadata": {
        "id": "G1p8IOXdfWeV"
      }
    },
    {
      "cell_type": "code",
      "source": [
        "class standard:\n",
        "    def __init__(self,a,b,c):\n",
        "     self.Std_name = a\n",
        "     self.enrolled_students = b\n",
        "     self.Overall_GPA = c\n",
        "\n",
        "    def getStd(self):\n",
        "      print(\"Name of standard is \",self.Std_name)\n",
        "\n",
        "    def getEnrolled(self):\n",
        "      print(\"Number of enrolled students are \",self.enrolled_students)\n",
        "\n",
        "    def  getOGPA(self):\n",
        "      print(\"Over all GPA is  \",self.Overall_GPA )\n",
        "\n"
      ],
      "metadata": {
        "id": "toctl9vBgF_a"
      },
      "execution_count": 119,
      "outputs": []
    },
    {
      "cell_type": "code",
      "source": [
        "class student:\n",
        "    def __init__(self,a,b,c,d,e,f,g):\n",
        "     self.Name = a\n",
        "     self.Roll_No = b\n",
        "     self.Standard = c\n",
        "     self.Math_marks = d\n",
        "     self.English_Marks = e\n",
        "     self.Science_Marks = f\n",
        "     self.Social_Marks = g\n",
        "\n",
        "\n",
        "    def getName(self):\n",
        "      print(\"Name of standard is \",self.Name)\n",
        "\n",
        "    def getRollNo(self):\n",
        "      print(\"Number of enrolled students are \",self.Roll_No)\n",
        "\n",
        "    def  getStd(self):\n",
        "      print(\"Over all GPA is  \",self.Standard )\n",
        "       "
      ],
      "metadata": {
        "id": "6t3yOJhMoKBU"
      },
      "execution_count": null,
      "outputs": []
    },
    {
      "cell_type": "code",
      "source": [
        "a = standard(\"10.00\",\"12.00\",\"58\")\n",
        "a.getStd()\n",
        "a.getEnrolled()\n",
        "a.getOGPA()"
      ],
      "metadata": {
        "colab": {
          "base_uri": "https://localhost:8080/"
        },
        "id": "5vvYnl1JnsRm",
        "outputId": "17d861ad-5476-456f-dc92-efc5866d97b3"
      },
      "execution_count": 120,
      "outputs": [
        {
          "output_type": "stream",
          "name": "stdout",
          "text": [
            "Name of standard is  10.00\n",
            "Number of enrolled students are  12.00\n",
            "Over all GPA is   58\n"
          ]
        }
      ]
    }
  ]
}