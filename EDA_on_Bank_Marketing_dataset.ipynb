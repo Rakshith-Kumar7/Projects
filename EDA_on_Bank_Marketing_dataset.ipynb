{
  "nbformat": 4,
  "nbformat_minor": 0,
  "metadata": {
    "colab": {
      "provenance": [],
      "collapsed_sections": []
    },
    "kernelspec": {
      "name": "python3",
      "display_name": "Python 3"
    },
    "language_info": {
      "name": "python"
    }
  },
  "cells": [
    {
      "cell_type": "markdown",
      "source": [
        "#**Bank Marketing Dataset-Capstone project**\n"
      ],
      "metadata": {
        "id": "mB8ETk2NCWSu"
      }
    },
    {
      "cell_type": "markdown",
      "source": [
        "#**Introduction**\n",
        "\n",
        "\n",
        "**In today’s world, where huge amount of data is generated in every field of day** **to day activities. Banking sector is one of them. As an outcome of work,** **various machine learning concept are studied with respect to Bank**\n",
        "**marketing data classification Banking is a provision of the services by bank to an individual customer.** "
      ],
      "metadata": {
        "id": "BXDUMwqaCfHx"
      }
    },
    {
      "cell_type": "markdown",
      "source": [
        "#**Context**\n",
        "\n",
        "**A Bank is a financial institution, which provide various service to the customer which perform deposit and providing a loan at an interest rate to the various customer. Banks store massive amount of information about their customer to improve the banking strategies and to maintain good relationship between the customers. Customer are the main asset of the bank. Usually, the selected customer are contacted directly through mail, email, personal contact, telephone cellular or any other contact to advertise the new service this kind of marketing called direct marketing**"
      ],
      "metadata": {
        "id": "q1uZIIsmj7vd"
      }
    },
    {
      "cell_type": "markdown",
      "source": [
        "#**Dataset:**\n",
        "\n",
        "**The data is related with direct marketing campaigns of a Portuguese banking institution. The marketing campaigns were based on phone calls.It contains information about the marketing campaign impact of a bank specifically through telemarketing. It includes 17 independent variables.**"
      ],
      "metadata": {
        "id": "Zu7Fhrkjkqvq"
      }
    },
    {
      "cell_type": "markdown",
      "source": [
        "#**Aim**\n",
        "\n",
        "*  **Analysing the results of the previous  marketing campaign and clarification of factors which affected the campaign results.**\n",
        "*  **Identifying the target customer profile to make marketing campaigns more efficient.**"
      ],
      "metadata": {
        "id": "nz1P31gbmyzL"
      }
    },
    {
      "cell_type": "markdown",
      "source": [
        "#**Attribute Information:**\n",
        "\n",
        "*  **age** \n",
        "\n",
        "*  **job** : type of job admin.\",\"blue-collar\",\"entrepreneur\",\"housemaid\",\"management\",\"retired\",\"self-employed\",\"services\",\"student\",\"technician\",\"unemployed\",\"unknown\")\n",
        "\n",
        "*  **marital** : marital status (\"divorced\",\"married\",\"single\",\"unknown\"; note: \"divorced\" means divorced or widowed)\n",
        "\n",
        "*  **education** (\"basic.4y\",\"basic.6y\",\"basic.9y\",\"high.school\",\"illiterate\",\"professional.course\",\"university.degree\",\"unknown\")\n",
        "\n",
        "*  **default:** Does the customer have credit in default? ( \"no\",\"yes\",\"unknown\")\n",
        "\n",
        "*  **Balance:** balance of the customer\n",
        "\n",
        "*  **housing:** Does the customer have a housing loan? (\"no\",\"yes\",\"unknown\")\n",
        "\n",
        "*   **loan:** Does the customer have a personal loan? \"no\",\"yes\",\"unknown\")\n",
        "\n",
        "*  **Contact:** contact communication type (\"cellular\",\"telephone\") \n",
        "\n",
        "*   **Month:** last contact month of year (\"jan\", \"feb\", \"mar\", ..., \"nov\", \"dec\")\n",
        "\n",
        "*  **day_of_week:** last contact day of the week (\"mon\",\"tue\",\"wed\",\"thu\",\"fri\")\n",
        "\n",
        "*  **Duration:** last contact duration, in seconds. Important note:  this attribute highly affects the output target (e.g., if duration=0 then y=\"no\"). Yet, the duration is not known before a call is performed. Also, after the end of the call ‘y’ is obviously known. Thus, this input should only be included for benchmark purposes and should be discarded if the intention is to have a realistic predictive model.\n",
        "\n",
        "*  **Campaign:** Number of contacts performed during this campaign and for this client includes last contact\n",
        "\n",
        "*  **pdays:** Number of days that passed by after the client was last contacted from a previous campaign (999 means client was not previously contacted)\n",
        "\n",
        "*  **Previous:** number of contacts performed before this campaign and for this client\n",
        "\n",
        "*  **poutcome:** outcome of the previous marketing campaign (categorical: \"failure\",\"nonexistent\",\"success\")\n",
        "\n",
        "*  **y** - has the client subscribed to a term deposit? (\"yes\",\"no\")"
      ],
      "metadata": {
        "id": "hf6vozAQlgHC"
      }
    },
    {
      "cell_type": "code",
      "execution_count": null,
      "metadata": {
        "id": "gkannO7HotA9"
      },
      "outputs": [],
      "source": [
        "#Importing Required Librery\n",
        "import pandas as pd\n",
        "import pandas as pd\n",
        "import numpy as np\n",
        "import matplotlib.pyplot as plt\n",
        "import seaborn as sns\n",
        "from scipy import stats\n",
        "import datetime"
      ]
    },
    {
      "cell_type": "code",
      "source": [
        "#Reading given 2 csv files and saving to veriable Df1 And Df2 accordingly\n",
        "df1 = pd.read_csv('bank-full.csv', sep = ';', header = 0) # with all examples, ordered by date (from May 2008 to November 2010).\n",
        "                                                                   # Also sep is used to separate columns at ; and header 0 will takes the first row as column name\n",
        "df2 = pd.read_csv(\"bank.csv\", sep = ';', header = 0) # with 10% of the examples (4521), randomly selected from bank-full.csv.\n",
        "                                                              # # Also sep is used to separate columns at ; and header 0 will takes the first row as column name"
      ],
      "metadata": {
        "id": "2MHm2VjUo7N3"
      },
      "execution_count": null,
      "outputs": []
    },
    {
      "cell_type": "markdown",
      "source": [
        "**Here given data set df2 containes 10% of obsevation randomly selected from df1. that means merging them will duplicates those values.**\n",
        "\n",
        "**As per project instruction we will proceed with merging the given two data frame**"
      ],
      "metadata": {
        "id": "E1-oQPltE6Td"
      }
    },
    {
      "cell_type": "code",
      "source": [
        "df1.head() # checking the first 5 rows for df1\n"
      ],
      "metadata": {
        "colab": {
          "base_uri": "https://localhost:8080/",
          "height": 206
        },
        "id": "rWNanFIyy1nH",
        "outputId": "7d86cc28-26fc-41a1-f36a-0c473ffae988"
      },
      "execution_count": null,
      "outputs": [
        {
          "output_type": "execute_result",
          "data": {
            "text/plain": [
              "   age           job  marital  education default  balance housing loan  \\\n",
              "0   58    management  married   tertiary      no     2143     yes   no   \n",
              "1   44    technician   single  secondary      no       29     yes   no   \n",
              "2   33  entrepreneur  married  secondary      no        2     yes  yes   \n",
              "3   47   blue-collar  married    unknown      no     1506     yes   no   \n",
              "4   33       unknown   single    unknown      no        1      no   no   \n",
              "\n",
              "   contact  day month  duration  campaign  pdays  previous poutcome   y  \n",
              "0  unknown    5   may       261         1     -1         0  unknown  no  \n",
              "1  unknown    5   may       151         1     -1         0  unknown  no  \n",
              "2  unknown    5   may        76         1     -1         0  unknown  no  \n",
              "3  unknown    5   may        92         1     -1         0  unknown  no  \n",
              "4  unknown    5   may       198         1     -1         0  unknown  no  "
            ],
            "text/html": [
              "\n",
              "  <div id=\"df-61b0b078-9886-45e2-bdc9-9bfb838a8c9a\">\n",
              "    <div class=\"colab-df-container\">\n",
              "      <div>\n",
              "<style scoped>\n",
              "    .dataframe tbody tr th:only-of-type {\n",
              "        vertical-align: middle;\n",
              "    }\n",
              "\n",
              "    .dataframe tbody tr th {\n",
              "        vertical-align: top;\n",
              "    }\n",
              "\n",
              "    .dataframe thead th {\n",
              "        text-align: right;\n",
              "    }\n",
              "</style>\n",
              "<table border=\"1\" class=\"dataframe\">\n",
              "  <thead>\n",
              "    <tr style=\"text-align: right;\">\n",
              "      <th></th>\n",
              "      <th>age</th>\n",
              "      <th>job</th>\n",
              "      <th>marital</th>\n",
              "      <th>education</th>\n",
              "      <th>default</th>\n",
              "      <th>balance</th>\n",
              "      <th>housing</th>\n",
              "      <th>loan</th>\n",
              "      <th>contact</th>\n",
              "      <th>day</th>\n",
              "      <th>month</th>\n",
              "      <th>duration</th>\n",
              "      <th>campaign</th>\n",
              "      <th>pdays</th>\n",
              "      <th>previous</th>\n",
              "      <th>poutcome</th>\n",
              "      <th>y</th>\n",
              "    </tr>\n",
              "  </thead>\n",
              "  <tbody>\n",
              "    <tr>\n",
              "      <th>0</th>\n",
              "      <td>58</td>\n",
              "      <td>management</td>\n",
              "      <td>married</td>\n",
              "      <td>tertiary</td>\n",
              "      <td>no</td>\n",
              "      <td>2143</td>\n",
              "      <td>yes</td>\n",
              "      <td>no</td>\n",
              "      <td>unknown</td>\n",
              "      <td>5</td>\n",
              "      <td>may</td>\n",
              "      <td>261</td>\n",
              "      <td>1</td>\n",
              "      <td>-1</td>\n",
              "      <td>0</td>\n",
              "      <td>unknown</td>\n",
              "      <td>no</td>\n",
              "    </tr>\n",
              "    <tr>\n",
              "      <th>1</th>\n",
              "      <td>44</td>\n",
              "      <td>technician</td>\n",
              "      <td>single</td>\n",
              "      <td>secondary</td>\n",
              "      <td>no</td>\n",
              "      <td>29</td>\n",
              "      <td>yes</td>\n",
              "      <td>no</td>\n",
              "      <td>unknown</td>\n",
              "      <td>5</td>\n",
              "      <td>may</td>\n",
              "      <td>151</td>\n",
              "      <td>1</td>\n",
              "      <td>-1</td>\n",
              "      <td>0</td>\n",
              "      <td>unknown</td>\n",
              "      <td>no</td>\n",
              "    </tr>\n",
              "    <tr>\n",
              "      <th>2</th>\n",
              "      <td>33</td>\n",
              "      <td>entrepreneur</td>\n",
              "      <td>married</td>\n",
              "      <td>secondary</td>\n",
              "      <td>no</td>\n",
              "      <td>2</td>\n",
              "      <td>yes</td>\n",
              "      <td>yes</td>\n",
              "      <td>unknown</td>\n",
              "      <td>5</td>\n",
              "      <td>may</td>\n",
              "      <td>76</td>\n",
              "      <td>1</td>\n",
              "      <td>-1</td>\n",
              "      <td>0</td>\n",
              "      <td>unknown</td>\n",
              "      <td>no</td>\n",
              "    </tr>\n",
              "    <tr>\n",
              "      <th>3</th>\n",
              "      <td>47</td>\n",
              "      <td>blue-collar</td>\n",
              "      <td>married</td>\n",
              "      <td>unknown</td>\n",
              "      <td>no</td>\n",
              "      <td>1506</td>\n",
              "      <td>yes</td>\n",
              "      <td>no</td>\n",
              "      <td>unknown</td>\n",
              "      <td>5</td>\n",
              "      <td>may</td>\n",
              "      <td>92</td>\n",
              "      <td>1</td>\n",
              "      <td>-1</td>\n",
              "      <td>0</td>\n",
              "      <td>unknown</td>\n",
              "      <td>no</td>\n",
              "    </tr>\n",
              "    <tr>\n",
              "      <th>4</th>\n",
              "      <td>33</td>\n",
              "      <td>unknown</td>\n",
              "      <td>single</td>\n",
              "      <td>unknown</td>\n",
              "      <td>no</td>\n",
              "      <td>1</td>\n",
              "      <td>no</td>\n",
              "      <td>no</td>\n",
              "      <td>unknown</td>\n",
              "      <td>5</td>\n",
              "      <td>may</td>\n",
              "      <td>198</td>\n",
              "      <td>1</td>\n",
              "      <td>-1</td>\n",
              "      <td>0</td>\n",
              "      <td>unknown</td>\n",
              "      <td>no</td>\n",
              "    </tr>\n",
              "  </tbody>\n",
              "</table>\n",
              "</div>\n",
              "      <button class=\"colab-df-convert\" onclick=\"convertToInteractive('df-61b0b078-9886-45e2-bdc9-9bfb838a8c9a')\"\n",
              "              title=\"Convert this dataframe to an interactive table.\"\n",
              "              style=\"display:none;\">\n",
              "        \n",
              "  <svg xmlns=\"http://www.w3.org/2000/svg\" height=\"24px\"viewBox=\"0 0 24 24\"\n",
              "       width=\"24px\">\n",
              "    <path d=\"M0 0h24v24H0V0z\" fill=\"none\"/>\n",
              "    <path d=\"M18.56 5.44l.94 2.06.94-2.06 2.06-.94-2.06-.94-.94-2.06-.94 2.06-2.06.94zm-11 1L8.5 8.5l.94-2.06 2.06-.94-2.06-.94L8.5 2.5l-.94 2.06-2.06.94zm10 10l.94 2.06.94-2.06 2.06-.94-2.06-.94-.94-2.06-.94 2.06-2.06.94z\"/><path d=\"M17.41 7.96l-1.37-1.37c-.4-.4-.92-.59-1.43-.59-.52 0-1.04.2-1.43.59L10.3 9.45l-7.72 7.72c-.78.78-.78 2.05 0 2.83L4 21.41c.39.39.9.59 1.41.59.51 0 1.02-.2 1.41-.59l7.78-7.78 2.81-2.81c.8-.78.8-2.07 0-2.86zM5.41 20L4 18.59l7.72-7.72 1.47 1.35L5.41 20z\"/>\n",
              "  </svg>\n",
              "      </button>\n",
              "      \n",
              "  <style>\n",
              "    .colab-df-container {\n",
              "      display:flex;\n",
              "      flex-wrap:wrap;\n",
              "      gap: 12px;\n",
              "    }\n",
              "\n",
              "    .colab-df-convert {\n",
              "      background-color: #E8F0FE;\n",
              "      border: none;\n",
              "      border-radius: 50%;\n",
              "      cursor: pointer;\n",
              "      display: none;\n",
              "      fill: #1967D2;\n",
              "      height: 32px;\n",
              "      padding: 0 0 0 0;\n",
              "      width: 32px;\n",
              "    }\n",
              "\n",
              "    .colab-df-convert:hover {\n",
              "      background-color: #E2EBFA;\n",
              "      box-shadow: 0px 1px 2px rgba(60, 64, 67, 0.3), 0px 1px 3px 1px rgba(60, 64, 67, 0.15);\n",
              "      fill: #174EA6;\n",
              "    }\n",
              "\n",
              "    [theme=dark] .colab-df-convert {\n",
              "      background-color: #3B4455;\n",
              "      fill: #D2E3FC;\n",
              "    }\n",
              "\n",
              "    [theme=dark] .colab-df-convert:hover {\n",
              "      background-color: #434B5C;\n",
              "      box-shadow: 0px 1px 3px 1px rgba(0, 0, 0, 0.15);\n",
              "      filter: drop-shadow(0px 1px 2px rgba(0, 0, 0, 0.3));\n",
              "      fill: #FFFFFF;\n",
              "    }\n",
              "  </style>\n",
              "\n",
              "      <script>\n",
              "        const buttonEl =\n",
              "          document.querySelector('#df-61b0b078-9886-45e2-bdc9-9bfb838a8c9a button.colab-df-convert');\n",
              "        buttonEl.style.display =\n",
              "          google.colab.kernel.accessAllowed ? 'block' : 'none';\n",
              "\n",
              "        async function convertToInteractive(key) {\n",
              "          const element = document.querySelector('#df-61b0b078-9886-45e2-bdc9-9bfb838a8c9a');\n",
              "          const dataTable =\n",
              "            await google.colab.kernel.invokeFunction('convertToInteractive',\n",
              "                                                     [key], {});\n",
              "          if (!dataTable) return;\n",
              "\n",
              "          const docLinkHtml = 'Like what you see? Visit the ' +\n",
              "            '<a target=\"_blank\" href=https://colab.research.google.com/notebooks/data_table.ipynb>data table notebook</a>'\n",
              "            + ' to learn more about interactive tables.';\n",
              "          element.innerHTML = '';\n",
              "          dataTable['output_type'] = 'display_data';\n",
              "          await google.colab.output.renderOutput(dataTable, element);\n",
              "          const docLink = document.createElement('div');\n",
              "          docLink.innerHTML = docLinkHtml;\n",
              "          element.appendChild(docLink);\n",
              "        }\n",
              "      </script>\n",
              "    </div>\n",
              "  </div>\n",
              "  "
            ]
          },
          "metadata": {},
          "execution_count": 114
        }
      ]
    },
    {
      "cell_type": "code",
      "source": [
        "df1.shape# Checking the shape of df1"
      ],
      "metadata": {
        "colab": {
          "base_uri": "https://localhost:8080/"
        },
        "id": "i3GEVZgrDYVM",
        "outputId": "7baf7a9d-14a9-4483-bb07-b96f16f2d296"
      },
      "execution_count": null,
      "outputs": [
        {
          "output_type": "execute_result",
          "data": {
            "text/plain": [
              "(45211, 17)"
            ]
          },
          "metadata": {},
          "execution_count": 115
        }
      ]
    },
    {
      "cell_type": "code",
      "source": [
        "print(\"data frame df1 containes number of rows \", df1.shape[0])\n",
        "print(\"data frame df1 containes number of columns \", df1.shape[1])"
      ],
      "metadata": {
        "colab": {
          "base_uri": "https://localhost:8080/"
        },
        "id": "HAkDi15JH0Gu",
        "outputId": "bd355cb6-bbfd-410a-d03a-03d74efc7686"
      },
      "execution_count": null,
      "outputs": [
        {
          "output_type": "stream",
          "name": "stdout",
          "text": [
            "data frame df1 containes number of rows  45211\n",
            "data frame df1 containes number of columns  17\n"
          ]
        }
      ]
    },
    {
      "cell_type": "code",
      "source": [
        "df2.head() # checking the first 5 rows for df2 "
      ],
      "metadata": {
        "colab": {
          "base_uri": "https://localhost:8080/",
          "height": 206
        },
        "id": "K6FFGO1OC7_O",
        "outputId": "6f3a1b49-fd94-4e68-ed5c-62ab450fc2bc"
      },
      "execution_count": null,
      "outputs": [
        {
          "output_type": "execute_result",
          "data": {
            "text/plain": [
              "   age          job  marital  education default  balance housing loan  \\\n",
              "0   30   unemployed  married    primary      no     1787      no   no   \n",
              "1   33     services  married  secondary      no     4789     yes  yes   \n",
              "2   35   management   single   tertiary      no     1350     yes   no   \n",
              "3   30   management  married   tertiary      no     1476     yes  yes   \n",
              "4   59  blue-collar  married  secondary      no        0     yes   no   \n",
              "\n",
              "    contact  day month  duration  campaign  pdays  previous poutcome   y  \n",
              "0  cellular   19   oct        79         1     -1         0  unknown  no  \n",
              "1  cellular   11   may       220         1    339         4  failure  no  \n",
              "2  cellular   16   apr       185         1    330         1  failure  no  \n",
              "3   unknown    3   jun       199         4     -1         0  unknown  no  \n",
              "4   unknown    5   may       226         1     -1         0  unknown  no  "
            ],
            "text/html": [
              "\n",
              "  <div id=\"df-a52e06a1-8310-4476-8a4b-1bfcfe5a802f\">\n",
              "    <div class=\"colab-df-container\">\n",
              "      <div>\n",
              "<style scoped>\n",
              "    .dataframe tbody tr th:only-of-type {\n",
              "        vertical-align: middle;\n",
              "    }\n",
              "\n",
              "    .dataframe tbody tr th {\n",
              "        vertical-align: top;\n",
              "    }\n",
              "\n",
              "    .dataframe thead th {\n",
              "        text-align: right;\n",
              "    }\n",
              "</style>\n",
              "<table border=\"1\" class=\"dataframe\">\n",
              "  <thead>\n",
              "    <tr style=\"text-align: right;\">\n",
              "      <th></th>\n",
              "      <th>age</th>\n",
              "      <th>job</th>\n",
              "      <th>marital</th>\n",
              "      <th>education</th>\n",
              "      <th>default</th>\n",
              "      <th>balance</th>\n",
              "      <th>housing</th>\n",
              "      <th>loan</th>\n",
              "      <th>contact</th>\n",
              "      <th>day</th>\n",
              "      <th>month</th>\n",
              "      <th>duration</th>\n",
              "      <th>campaign</th>\n",
              "      <th>pdays</th>\n",
              "      <th>previous</th>\n",
              "      <th>poutcome</th>\n",
              "      <th>y</th>\n",
              "    </tr>\n",
              "  </thead>\n",
              "  <tbody>\n",
              "    <tr>\n",
              "      <th>0</th>\n",
              "      <td>30</td>\n",
              "      <td>unemployed</td>\n",
              "      <td>married</td>\n",
              "      <td>primary</td>\n",
              "      <td>no</td>\n",
              "      <td>1787</td>\n",
              "      <td>no</td>\n",
              "      <td>no</td>\n",
              "      <td>cellular</td>\n",
              "      <td>19</td>\n",
              "      <td>oct</td>\n",
              "      <td>79</td>\n",
              "      <td>1</td>\n",
              "      <td>-1</td>\n",
              "      <td>0</td>\n",
              "      <td>unknown</td>\n",
              "      <td>no</td>\n",
              "    </tr>\n",
              "    <tr>\n",
              "      <th>1</th>\n",
              "      <td>33</td>\n",
              "      <td>services</td>\n",
              "      <td>married</td>\n",
              "      <td>secondary</td>\n",
              "      <td>no</td>\n",
              "      <td>4789</td>\n",
              "      <td>yes</td>\n",
              "      <td>yes</td>\n",
              "      <td>cellular</td>\n",
              "      <td>11</td>\n",
              "      <td>may</td>\n",
              "      <td>220</td>\n",
              "      <td>1</td>\n",
              "      <td>339</td>\n",
              "      <td>4</td>\n",
              "      <td>failure</td>\n",
              "      <td>no</td>\n",
              "    </tr>\n",
              "    <tr>\n",
              "      <th>2</th>\n",
              "      <td>35</td>\n",
              "      <td>management</td>\n",
              "      <td>single</td>\n",
              "      <td>tertiary</td>\n",
              "      <td>no</td>\n",
              "      <td>1350</td>\n",
              "      <td>yes</td>\n",
              "      <td>no</td>\n",
              "      <td>cellular</td>\n",
              "      <td>16</td>\n",
              "      <td>apr</td>\n",
              "      <td>185</td>\n",
              "      <td>1</td>\n",
              "      <td>330</td>\n",
              "      <td>1</td>\n",
              "      <td>failure</td>\n",
              "      <td>no</td>\n",
              "    </tr>\n",
              "    <tr>\n",
              "      <th>3</th>\n",
              "      <td>30</td>\n",
              "      <td>management</td>\n",
              "      <td>married</td>\n",
              "      <td>tertiary</td>\n",
              "      <td>no</td>\n",
              "      <td>1476</td>\n",
              "      <td>yes</td>\n",
              "      <td>yes</td>\n",
              "      <td>unknown</td>\n",
              "      <td>3</td>\n",
              "      <td>jun</td>\n",
              "      <td>199</td>\n",
              "      <td>4</td>\n",
              "      <td>-1</td>\n",
              "      <td>0</td>\n",
              "      <td>unknown</td>\n",
              "      <td>no</td>\n",
              "    </tr>\n",
              "    <tr>\n",
              "      <th>4</th>\n",
              "      <td>59</td>\n",
              "      <td>blue-collar</td>\n",
              "      <td>married</td>\n",
              "      <td>secondary</td>\n",
              "      <td>no</td>\n",
              "      <td>0</td>\n",
              "      <td>yes</td>\n",
              "      <td>no</td>\n",
              "      <td>unknown</td>\n",
              "      <td>5</td>\n",
              "      <td>may</td>\n",
              "      <td>226</td>\n",
              "      <td>1</td>\n",
              "      <td>-1</td>\n",
              "      <td>0</td>\n",
              "      <td>unknown</td>\n",
              "      <td>no</td>\n",
              "    </tr>\n",
              "  </tbody>\n",
              "</table>\n",
              "</div>\n",
              "      <button class=\"colab-df-convert\" onclick=\"convertToInteractive('df-a52e06a1-8310-4476-8a4b-1bfcfe5a802f')\"\n",
              "              title=\"Convert this dataframe to an interactive table.\"\n",
              "              style=\"display:none;\">\n",
              "        \n",
              "  <svg xmlns=\"http://www.w3.org/2000/svg\" height=\"24px\"viewBox=\"0 0 24 24\"\n",
              "       width=\"24px\">\n",
              "    <path d=\"M0 0h24v24H0V0z\" fill=\"none\"/>\n",
              "    <path d=\"M18.56 5.44l.94 2.06.94-2.06 2.06-.94-2.06-.94-.94-2.06-.94 2.06-2.06.94zm-11 1L8.5 8.5l.94-2.06 2.06-.94-2.06-.94L8.5 2.5l-.94 2.06-2.06.94zm10 10l.94 2.06.94-2.06 2.06-.94-2.06-.94-.94-2.06-.94 2.06-2.06.94z\"/><path d=\"M17.41 7.96l-1.37-1.37c-.4-.4-.92-.59-1.43-.59-.52 0-1.04.2-1.43.59L10.3 9.45l-7.72 7.72c-.78.78-.78 2.05 0 2.83L4 21.41c.39.39.9.59 1.41.59.51 0 1.02-.2 1.41-.59l7.78-7.78 2.81-2.81c.8-.78.8-2.07 0-2.86zM5.41 20L4 18.59l7.72-7.72 1.47 1.35L5.41 20z\"/>\n",
              "  </svg>\n",
              "      </button>\n",
              "      \n",
              "  <style>\n",
              "    .colab-df-container {\n",
              "      display:flex;\n",
              "      flex-wrap:wrap;\n",
              "      gap: 12px;\n",
              "    }\n",
              "\n",
              "    .colab-df-convert {\n",
              "      background-color: #E8F0FE;\n",
              "      border: none;\n",
              "      border-radius: 50%;\n",
              "      cursor: pointer;\n",
              "      display: none;\n",
              "      fill: #1967D2;\n",
              "      height: 32px;\n",
              "      padding: 0 0 0 0;\n",
              "      width: 32px;\n",
              "    }\n",
              "\n",
              "    .colab-df-convert:hover {\n",
              "      background-color: #E2EBFA;\n",
              "      box-shadow: 0px 1px 2px rgba(60, 64, 67, 0.3), 0px 1px 3px 1px rgba(60, 64, 67, 0.15);\n",
              "      fill: #174EA6;\n",
              "    }\n",
              "\n",
              "    [theme=dark] .colab-df-convert {\n",
              "      background-color: #3B4455;\n",
              "      fill: #D2E3FC;\n",
              "    }\n",
              "\n",
              "    [theme=dark] .colab-df-convert:hover {\n",
              "      background-color: #434B5C;\n",
              "      box-shadow: 0px 1px 3px 1px rgba(0, 0, 0, 0.15);\n",
              "      filter: drop-shadow(0px 1px 2px rgba(0, 0, 0, 0.3));\n",
              "      fill: #FFFFFF;\n",
              "    }\n",
              "  </style>\n",
              "\n",
              "      <script>\n",
              "        const buttonEl =\n",
              "          document.querySelector('#df-a52e06a1-8310-4476-8a4b-1bfcfe5a802f button.colab-df-convert');\n",
              "        buttonEl.style.display =\n",
              "          google.colab.kernel.accessAllowed ? 'block' : 'none';\n",
              "\n",
              "        async function convertToInteractive(key) {\n",
              "          const element = document.querySelector('#df-a52e06a1-8310-4476-8a4b-1bfcfe5a802f');\n",
              "          const dataTable =\n",
              "            await google.colab.kernel.invokeFunction('convertToInteractive',\n",
              "                                                     [key], {});\n",
              "          if (!dataTable) return;\n",
              "\n",
              "          const docLinkHtml = 'Like what you see? Visit the ' +\n",
              "            '<a target=\"_blank\" href=https://colab.research.google.com/notebooks/data_table.ipynb>data table notebook</a>'\n",
              "            + ' to learn more about interactive tables.';\n",
              "          element.innerHTML = '';\n",
              "          dataTable['output_type'] = 'display_data';\n",
              "          await google.colab.output.renderOutput(dataTable, element);\n",
              "          const docLink = document.createElement('div');\n",
              "          docLink.innerHTML = docLinkHtml;\n",
              "          element.appendChild(docLink);\n",
              "        }\n",
              "      </script>\n",
              "    </div>\n",
              "  </div>\n",
              "  "
            ]
          },
          "metadata": {},
          "execution_count": 117
        }
      ]
    },
    {
      "cell_type": "code",
      "source": [
        "df2.shape# Checking the shape of df2"
      ],
      "metadata": {
        "colab": {
          "base_uri": "https://localhost:8080/"
        },
        "outputId": "c39062be-a6ec-45b9-882d-f113283d0784",
        "id": "y3BIDrnwIXMp"
      },
      "execution_count": null,
      "outputs": [
        {
          "output_type": "execute_result",
          "data": {
            "text/plain": [
              "(4521, 17)"
            ]
          },
          "metadata": {},
          "execution_count": 118
        }
      ]
    },
    {
      "cell_type": "code",
      "source": [],
      "metadata": {
        "id": "qiVw0DxrGCHq"
      },
      "execution_count": null,
      "outputs": []
    },
    {
      "cell_type": "code",
      "source": [
        "print(\"data frame df1 containes number of rows \", df2.shape[0])\n",
        "print(\"data frame df1 containes number of columns \", df2.shape[1])"
      ],
      "metadata": {
        "colab": {
          "base_uri": "https://localhost:8080/"
        },
        "outputId": "0e27bac3-a748-4ac4-9bc8-5a5a8ae8c907",
        "id": "jv5I8FjPIXM1"
      },
      "execution_count": null,
      "outputs": [
        {
          "output_type": "stream",
          "name": "stdout",
          "text": [
            "data frame df1 containes number of rows  4521\n",
            "data frame df1 containes number of columns  17\n"
          ]
        }
      ]
    },
    {
      "cell_type": "markdown",
      "source": [
        "##**Merging df1 and df2 to become one data frame df**"
      ],
      "metadata": {
        "id": "w8VimkygDgzD"
      }
    },
    {
      "cell_type": "code",
      "source": [
        "  \n",
        "df = pd.concat([df1,df2],ignore_index=True) # Combining df1 and df2 to df"
      ],
      "metadata": {
        "id": "kL6WoQOQJzV0"
      },
      "execution_count": null,
      "outputs": []
    },
    {
      "cell_type": "markdown",
      "source": [
        "##**Basic exploration of data**"
      ],
      "metadata": {
        "id": "fTfVuWV6Lefh"
      }
    },
    {
      "cell_type": "code",
      "source": [
        "df.shape# Checking the shape of df1"
      ],
      "metadata": {
        "colab": {
          "base_uri": "https://localhost:8080/"
        },
        "outputId": "0bc451d5-98e5-47d4-e9fd-3d1fbb5c418a",
        "id": "837DaVavLGps"
      },
      "execution_count": null,
      "outputs": [
        {
          "output_type": "execute_result",
          "data": {
            "text/plain": [
              "(49732, 17)"
            ]
          },
          "metadata": {},
          "execution_count": 121
        }
      ]
    },
    {
      "cell_type": "code",
      "source": [
        "print(\"data frame df1 containes number of rows \", df.shape[0])\n",
        "print(\"data frame df1 containes number of columns \", df.shape[1])"
      ],
      "metadata": {
        "colab": {
          "base_uri": "https://localhost:8080/"
        },
        "outputId": "3b4ba8a2-a166-46b8-c89f-9c5002bb9ba8",
        "id": "v0kwuxD3LGpt"
      },
      "execution_count": null,
      "outputs": [
        {
          "output_type": "stream",
          "name": "stdout",
          "text": [
            "data frame df1 containes number of rows  49732\n",
            "data frame df1 containes number of columns  17\n"
          ]
        }
      ]
    },
    {
      "cell_type": "code",
      "source": [
        "df.head() # Checking for first 5 rows for the df"
      ],
      "metadata": {
        "colab": {
          "base_uri": "https://localhost:8080/",
          "height": 206
        },
        "id": "PgFlwuKaLcSZ",
        "outputId": "8fb7ef6a-81f2-4013-cf57-1faf7276f07a"
      },
      "execution_count": null,
      "outputs": [
        {
          "output_type": "execute_result",
          "data": {
            "text/plain": [
              "   age           job  marital  education default  balance housing loan  \\\n",
              "0   58    management  married   tertiary      no     2143     yes   no   \n",
              "1   44    technician   single  secondary      no       29     yes   no   \n",
              "2   33  entrepreneur  married  secondary      no        2     yes  yes   \n",
              "3   47   blue-collar  married    unknown      no     1506     yes   no   \n",
              "4   33       unknown   single    unknown      no        1      no   no   \n",
              "\n",
              "   contact  day month  duration  campaign  pdays  previous poutcome   y  \n",
              "0  unknown    5   may       261         1     -1         0  unknown  no  \n",
              "1  unknown    5   may       151         1     -1         0  unknown  no  \n",
              "2  unknown    5   may        76         1     -1         0  unknown  no  \n",
              "3  unknown    5   may        92         1     -1         0  unknown  no  \n",
              "4  unknown    5   may       198         1     -1         0  unknown  no  "
            ],
            "text/html": [
              "\n",
              "  <div id=\"df-1569452f-6068-41c9-b427-1e1e27e0f8bc\">\n",
              "    <div class=\"colab-df-container\">\n",
              "      <div>\n",
              "<style scoped>\n",
              "    .dataframe tbody tr th:only-of-type {\n",
              "        vertical-align: middle;\n",
              "    }\n",
              "\n",
              "    .dataframe tbody tr th {\n",
              "        vertical-align: top;\n",
              "    }\n",
              "\n",
              "    .dataframe thead th {\n",
              "        text-align: right;\n",
              "    }\n",
              "</style>\n",
              "<table border=\"1\" class=\"dataframe\">\n",
              "  <thead>\n",
              "    <tr style=\"text-align: right;\">\n",
              "      <th></th>\n",
              "      <th>age</th>\n",
              "      <th>job</th>\n",
              "      <th>marital</th>\n",
              "      <th>education</th>\n",
              "      <th>default</th>\n",
              "      <th>balance</th>\n",
              "      <th>housing</th>\n",
              "      <th>loan</th>\n",
              "      <th>contact</th>\n",
              "      <th>day</th>\n",
              "      <th>month</th>\n",
              "      <th>duration</th>\n",
              "      <th>campaign</th>\n",
              "      <th>pdays</th>\n",
              "      <th>previous</th>\n",
              "      <th>poutcome</th>\n",
              "      <th>y</th>\n",
              "    </tr>\n",
              "  </thead>\n",
              "  <tbody>\n",
              "    <tr>\n",
              "      <th>0</th>\n",
              "      <td>58</td>\n",
              "      <td>management</td>\n",
              "      <td>married</td>\n",
              "      <td>tertiary</td>\n",
              "      <td>no</td>\n",
              "      <td>2143</td>\n",
              "      <td>yes</td>\n",
              "      <td>no</td>\n",
              "      <td>unknown</td>\n",
              "      <td>5</td>\n",
              "      <td>may</td>\n",
              "      <td>261</td>\n",
              "      <td>1</td>\n",
              "      <td>-1</td>\n",
              "      <td>0</td>\n",
              "      <td>unknown</td>\n",
              "      <td>no</td>\n",
              "    </tr>\n",
              "    <tr>\n",
              "      <th>1</th>\n",
              "      <td>44</td>\n",
              "      <td>technician</td>\n",
              "      <td>single</td>\n",
              "      <td>secondary</td>\n",
              "      <td>no</td>\n",
              "      <td>29</td>\n",
              "      <td>yes</td>\n",
              "      <td>no</td>\n",
              "      <td>unknown</td>\n",
              "      <td>5</td>\n",
              "      <td>may</td>\n",
              "      <td>151</td>\n",
              "      <td>1</td>\n",
              "      <td>-1</td>\n",
              "      <td>0</td>\n",
              "      <td>unknown</td>\n",
              "      <td>no</td>\n",
              "    </tr>\n",
              "    <tr>\n",
              "      <th>2</th>\n",
              "      <td>33</td>\n",
              "      <td>entrepreneur</td>\n",
              "      <td>married</td>\n",
              "      <td>secondary</td>\n",
              "      <td>no</td>\n",
              "      <td>2</td>\n",
              "      <td>yes</td>\n",
              "      <td>yes</td>\n",
              "      <td>unknown</td>\n",
              "      <td>5</td>\n",
              "      <td>may</td>\n",
              "      <td>76</td>\n",
              "      <td>1</td>\n",
              "      <td>-1</td>\n",
              "      <td>0</td>\n",
              "      <td>unknown</td>\n",
              "      <td>no</td>\n",
              "    </tr>\n",
              "    <tr>\n",
              "      <th>3</th>\n",
              "      <td>47</td>\n",
              "      <td>blue-collar</td>\n",
              "      <td>married</td>\n",
              "      <td>unknown</td>\n",
              "      <td>no</td>\n",
              "      <td>1506</td>\n",
              "      <td>yes</td>\n",
              "      <td>no</td>\n",
              "      <td>unknown</td>\n",
              "      <td>5</td>\n",
              "      <td>may</td>\n",
              "      <td>92</td>\n",
              "      <td>1</td>\n",
              "      <td>-1</td>\n",
              "      <td>0</td>\n",
              "      <td>unknown</td>\n",
              "      <td>no</td>\n",
              "    </tr>\n",
              "    <tr>\n",
              "      <th>4</th>\n",
              "      <td>33</td>\n",
              "      <td>unknown</td>\n",
              "      <td>single</td>\n",
              "      <td>unknown</td>\n",
              "      <td>no</td>\n",
              "      <td>1</td>\n",
              "      <td>no</td>\n",
              "      <td>no</td>\n",
              "      <td>unknown</td>\n",
              "      <td>5</td>\n",
              "      <td>may</td>\n",
              "      <td>198</td>\n",
              "      <td>1</td>\n",
              "      <td>-1</td>\n",
              "      <td>0</td>\n",
              "      <td>unknown</td>\n",
              "      <td>no</td>\n",
              "    </tr>\n",
              "  </tbody>\n",
              "</table>\n",
              "</div>\n",
              "      <button class=\"colab-df-convert\" onclick=\"convertToInteractive('df-1569452f-6068-41c9-b427-1e1e27e0f8bc')\"\n",
              "              title=\"Convert this dataframe to an interactive table.\"\n",
              "              style=\"display:none;\">\n",
              "        \n",
              "  <svg xmlns=\"http://www.w3.org/2000/svg\" height=\"24px\"viewBox=\"0 0 24 24\"\n",
              "       width=\"24px\">\n",
              "    <path d=\"M0 0h24v24H0V0z\" fill=\"none\"/>\n",
              "    <path d=\"M18.56 5.44l.94 2.06.94-2.06 2.06-.94-2.06-.94-.94-2.06-.94 2.06-2.06.94zm-11 1L8.5 8.5l.94-2.06 2.06-.94-2.06-.94L8.5 2.5l-.94 2.06-2.06.94zm10 10l.94 2.06.94-2.06 2.06-.94-2.06-.94-.94-2.06-.94 2.06-2.06.94z\"/><path d=\"M17.41 7.96l-1.37-1.37c-.4-.4-.92-.59-1.43-.59-.52 0-1.04.2-1.43.59L10.3 9.45l-7.72 7.72c-.78.78-.78 2.05 0 2.83L4 21.41c.39.39.9.59 1.41.59.51 0 1.02-.2 1.41-.59l7.78-7.78 2.81-2.81c.8-.78.8-2.07 0-2.86zM5.41 20L4 18.59l7.72-7.72 1.47 1.35L5.41 20z\"/>\n",
              "  </svg>\n",
              "      </button>\n",
              "      \n",
              "  <style>\n",
              "    .colab-df-container {\n",
              "      display:flex;\n",
              "      flex-wrap:wrap;\n",
              "      gap: 12px;\n",
              "    }\n",
              "\n",
              "    .colab-df-convert {\n",
              "      background-color: #E8F0FE;\n",
              "      border: none;\n",
              "      border-radius: 50%;\n",
              "      cursor: pointer;\n",
              "      display: none;\n",
              "      fill: #1967D2;\n",
              "      height: 32px;\n",
              "      padding: 0 0 0 0;\n",
              "      width: 32px;\n",
              "    }\n",
              "\n",
              "    .colab-df-convert:hover {\n",
              "      background-color: #E2EBFA;\n",
              "      box-shadow: 0px 1px 2px rgba(60, 64, 67, 0.3), 0px 1px 3px 1px rgba(60, 64, 67, 0.15);\n",
              "      fill: #174EA6;\n",
              "    }\n",
              "\n",
              "    [theme=dark] .colab-df-convert {\n",
              "      background-color: #3B4455;\n",
              "      fill: #D2E3FC;\n",
              "    }\n",
              "\n",
              "    [theme=dark] .colab-df-convert:hover {\n",
              "      background-color: #434B5C;\n",
              "      box-shadow: 0px 1px 3px 1px rgba(0, 0, 0, 0.15);\n",
              "      filter: drop-shadow(0px 1px 2px rgba(0, 0, 0, 0.3));\n",
              "      fill: #FFFFFF;\n",
              "    }\n",
              "  </style>\n",
              "\n",
              "      <script>\n",
              "        const buttonEl =\n",
              "          document.querySelector('#df-1569452f-6068-41c9-b427-1e1e27e0f8bc button.colab-df-convert');\n",
              "        buttonEl.style.display =\n",
              "          google.colab.kernel.accessAllowed ? 'block' : 'none';\n",
              "\n",
              "        async function convertToInteractive(key) {\n",
              "          const element = document.querySelector('#df-1569452f-6068-41c9-b427-1e1e27e0f8bc');\n",
              "          const dataTable =\n",
              "            await google.colab.kernel.invokeFunction('convertToInteractive',\n",
              "                                                     [key], {});\n",
              "          if (!dataTable) return;\n",
              "\n",
              "          const docLinkHtml = 'Like what you see? Visit the ' +\n",
              "            '<a target=\"_blank\" href=https://colab.research.google.com/notebooks/data_table.ipynb>data table notebook</a>'\n",
              "            + ' to learn more about interactive tables.';\n",
              "          element.innerHTML = '';\n",
              "          dataTable['output_type'] = 'display_data';\n",
              "          await google.colab.output.renderOutput(dataTable, element);\n",
              "          const docLink = document.createElement('div');\n",
              "          docLink.innerHTML = docLinkHtml;\n",
              "          element.appendChild(docLink);\n",
              "        }\n",
              "      </script>\n",
              "    </div>\n",
              "  </div>\n",
              "  "
            ]
          },
          "metadata": {},
          "execution_count": 123
        }
      ]
    },
    {
      "cell_type": "code",
      "source": [
        "df.tail()"
      ],
      "metadata": {
        "colab": {
          "base_uri": "https://localhost:8080/",
          "height": 206
        },
        "id": "GSEb6_TcMDD1",
        "outputId": "fe81d38f-b1de-4157-fc1d-541c581b37d1"
      },
      "execution_count": null,
      "outputs": [
        {
          "output_type": "execute_result",
          "data": {
            "text/plain": [
              "       age            job  marital  education default  balance housing loan  \\\n",
              "49727   33       services  married  secondary      no     -333     yes   no   \n",
              "49728   57  self-employed  married   tertiary     yes    -3313     yes  yes   \n",
              "49729   57     technician  married  secondary      no      295      no   no   \n",
              "49730   28    blue-collar  married  secondary      no     1137      no   no   \n",
              "49731   44   entrepreneur   single   tertiary      no     1136     yes  yes   \n",
              "\n",
              "        contact  day month  duration  campaign  pdays  previous poutcome   y  \n",
              "49727  cellular   30   jul       329         5     -1         0  unknown  no  \n",
              "49728   unknown    9   may       153         1     -1         0  unknown  no  \n",
              "49729  cellular   19   aug       151        11     -1         0  unknown  no  \n",
              "49730  cellular    6   feb       129         4    211         3    other  no  \n",
              "49731  cellular    3   apr       345         2    249         7    other  no  "
            ],
            "text/html": [
              "\n",
              "  <div id=\"df-1ad0fca9-ba6a-4547-b09b-a66c3cc7a287\">\n",
              "    <div class=\"colab-df-container\">\n",
              "      <div>\n",
              "<style scoped>\n",
              "    .dataframe tbody tr th:only-of-type {\n",
              "        vertical-align: middle;\n",
              "    }\n",
              "\n",
              "    .dataframe tbody tr th {\n",
              "        vertical-align: top;\n",
              "    }\n",
              "\n",
              "    .dataframe thead th {\n",
              "        text-align: right;\n",
              "    }\n",
              "</style>\n",
              "<table border=\"1\" class=\"dataframe\">\n",
              "  <thead>\n",
              "    <tr style=\"text-align: right;\">\n",
              "      <th></th>\n",
              "      <th>age</th>\n",
              "      <th>job</th>\n",
              "      <th>marital</th>\n",
              "      <th>education</th>\n",
              "      <th>default</th>\n",
              "      <th>balance</th>\n",
              "      <th>housing</th>\n",
              "      <th>loan</th>\n",
              "      <th>contact</th>\n",
              "      <th>day</th>\n",
              "      <th>month</th>\n",
              "      <th>duration</th>\n",
              "      <th>campaign</th>\n",
              "      <th>pdays</th>\n",
              "      <th>previous</th>\n",
              "      <th>poutcome</th>\n",
              "      <th>y</th>\n",
              "    </tr>\n",
              "  </thead>\n",
              "  <tbody>\n",
              "    <tr>\n",
              "      <th>49727</th>\n",
              "      <td>33</td>\n",
              "      <td>services</td>\n",
              "      <td>married</td>\n",
              "      <td>secondary</td>\n",
              "      <td>no</td>\n",
              "      <td>-333</td>\n",
              "      <td>yes</td>\n",
              "      <td>no</td>\n",
              "      <td>cellular</td>\n",
              "      <td>30</td>\n",
              "      <td>jul</td>\n",
              "      <td>329</td>\n",
              "      <td>5</td>\n",
              "      <td>-1</td>\n",
              "      <td>0</td>\n",
              "      <td>unknown</td>\n",
              "      <td>no</td>\n",
              "    </tr>\n",
              "    <tr>\n",
              "      <th>49728</th>\n",
              "      <td>57</td>\n",
              "      <td>self-employed</td>\n",
              "      <td>married</td>\n",
              "      <td>tertiary</td>\n",
              "      <td>yes</td>\n",
              "      <td>-3313</td>\n",
              "      <td>yes</td>\n",
              "      <td>yes</td>\n",
              "      <td>unknown</td>\n",
              "      <td>9</td>\n",
              "      <td>may</td>\n",
              "      <td>153</td>\n",
              "      <td>1</td>\n",
              "      <td>-1</td>\n",
              "      <td>0</td>\n",
              "      <td>unknown</td>\n",
              "      <td>no</td>\n",
              "    </tr>\n",
              "    <tr>\n",
              "      <th>49729</th>\n",
              "      <td>57</td>\n",
              "      <td>technician</td>\n",
              "      <td>married</td>\n",
              "      <td>secondary</td>\n",
              "      <td>no</td>\n",
              "      <td>295</td>\n",
              "      <td>no</td>\n",
              "      <td>no</td>\n",
              "      <td>cellular</td>\n",
              "      <td>19</td>\n",
              "      <td>aug</td>\n",
              "      <td>151</td>\n",
              "      <td>11</td>\n",
              "      <td>-1</td>\n",
              "      <td>0</td>\n",
              "      <td>unknown</td>\n",
              "      <td>no</td>\n",
              "    </tr>\n",
              "    <tr>\n",
              "      <th>49730</th>\n",
              "      <td>28</td>\n",
              "      <td>blue-collar</td>\n",
              "      <td>married</td>\n",
              "      <td>secondary</td>\n",
              "      <td>no</td>\n",
              "      <td>1137</td>\n",
              "      <td>no</td>\n",
              "      <td>no</td>\n",
              "      <td>cellular</td>\n",
              "      <td>6</td>\n",
              "      <td>feb</td>\n",
              "      <td>129</td>\n",
              "      <td>4</td>\n",
              "      <td>211</td>\n",
              "      <td>3</td>\n",
              "      <td>other</td>\n",
              "      <td>no</td>\n",
              "    </tr>\n",
              "    <tr>\n",
              "      <th>49731</th>\n",
              "      <td>44</td>\n",
              "      <td>entrepreneur</td>\n",
              "      <td>single</td>\n",
              "      <td>tertiary</td>\n",
              "      <td>no</td>\n",
              "      <td>1136</td>\n",
              "      <td>yes</td>\n",
              "      <td>yes</td>\n",
              "      <td>cellular</td>\n",
              "      <td>3</td>\n",
              "      <td>apr</td>\n",
              "      <td>345</td>\n",
              "      <td>2</td>\n",
              "      <td>249</td>\n",
              "      <td>7</td>\n",
              "      <td>other</td>\n",
              "      <td>no</td>\n",
              "    </tr>\n",
              "  </tbody>\n",
              "</table>\n",
              "</div>\n",
              "      <button class=\"colab-df-convert\" onclick=\"convertToInteractive('df-1ad0fca9-ba6a-4547-b09b-a66c3cc7a287')\"\n",
              "              title=\"Convert this dataframe to an interactive table.\"\n",
              "              style=\"display:none;\">\n",
              "        \n",
              "  <svg xmlns=\"http://www.w3.org/2000/svg\" height=\"24px\"viewBox=\"0 0 24 24\"\n",
              "       width=\"24px\">\n",
              "    <path d=\"M0 0h24v24H0V0z\" fill=\"none\"/>\n",
              "    <path d=\"M18.56 5.44l.94 2.06.94-2.06 2.06-.94-2.06-.94-.94-2.06-.94 2.06-2.06.94zm-11 1L8.5 8.5l.94-2.06 2.06-.94-2.06-.94L8.5 2.5l-.94 2.06-2.06.94zm10 10l.94 2.06.94-2.06 2.06-.94-2.06-.94-.94-2.06-.94 2.06-2.06.94z\"/><path d=\"M17.41 7.96l-1.37-1.37c-.4-.4-.92-.59-1.43-.59-.52 0-1.04.2-1.43.59L10.3 9.45l-7.72 7.72c-.78.78-.78 2.05 0 2.83L4 21.41c.39.39.9.59 1.41.59.51 0 1.02-.2 1.41-.59l7.78-7.78 2.81-2.81c.8-.78.8-2.07 0-2.86zM5.41 20L4 18.59l7.72-7.72 1.47 1.35L5.41 20z\"/>\n",
              "  </svg>\n",
              "      </button>\n",
              "      \n",
              "  <style>\n",
              "    .colab-df-container {\n",
              "      display:flex;\n",
              "      flex-wrap:wrap;\n",
              "      gap: 12px;\n",
              "    }\n",
              "\n",
              "    .colab-df-convert {\n",
              "      background-color: #E8F0FE;\n",
              "      border: none;\n",
              "      border-radius: 50%;\n",
              "      cursor: pointer;\n",
              "      display: none;\n",
              "      fill: #1967D2;\n",
              "      height: 32px;\n",
              "      padding: 0 0 0 0;\n",
              "      width: 32px;\n",
              "    }\n",
              "\n",
              "    .colab-df-convert:hover {\n",
              "      background-color: #E2EBFA;\n",
              "      box-shadow: 0px 1px 2px rgba(60, 64, 67, 0.3), 0px 1px 3px 1px rgba(60, 64, 67, 0.15);\n",
              "      fill: #174EA6;\n",
              "    }\n",
              "\n",
              "    [theme=dark] .colab-df-convert {\n",
              "      background-color: #3B4455;\n",
              "      fill: #D2E3FC;\n",
              "    }\n",
              "\n",
              "    [theme=dark] .colab-df-convert:hover {\n",
              "      background-color: #434B5C;\n",
              "      box-shadow: 0px 1px 3px 1px rgba(0, 0, 0, 0.15);\n",
              "      filter: drop-shadow(0px 1px 2px rgba(0, 0, 0, 0.3));\n",
              "      fill: #FFFFFF;\n",
              "    }\n",
              "  </style>\n",
              "\n",
              "      <script>\n",
              "        const buttonEl =\n",
              "          document.querySelector('#df-1ad0fca9-ba6a-4547-b09b-a66c3cc7a287 button.colab-df-convert');\n",
              "        buttonEl.style.display =\n",
              "          google.colab.kernel.accessAllowed ? 'block' : 'none';\n",
              "\n",
              "        async function convertToInteractive(key) {\n",
              "          const element = document.querySelector('#df-1ad0fca9-ba6a-4547-b09b-a66c3cc7a287');\n",
              "          const dataTable =\n",
              "            await google.colab.kernel.invokeFunction('convertToInteractive',\n",
              "                                                     [key], {});\n",
              "          if (!dataTable) return;\n",
              "\n",
              "          const docLinkHtml = 'Like what you see? Visit the ' +\n",
              "            '<a target=\"_blank\" href=https://colab.research.google.com/notebooks/data_table.ipynb>data table notebook</a>'\n",
              "            + ' to learn more about interactive tables.';\n",
              "          element.innerHTML = '';\n",
              "          dataTable['output_type'] = 'display_data';\n",
              "          await google.colab.output.renderOutput(dataTable, element);\n",
              "          const docLink = document.createElement('div');\n",
              "          docLink.innerHTML = docLinkHtml;\n",
              "          element.appendChild(docLink);\n",
              "        }\n",
              "      </script>\n",
              "    </div>\n",
              "  </div>\n",
              "  "
            ]
          },
          "metadata": {},
          "execution_count": 124
        }
      ]
    },
    {
      "cell_type": "code",
      "source": [
        "#checking basic information about data frame df\n",
        "df.info()"
      ],
      "metadata": {
        "colab": {
          "base_uri": "https://localhost:8080/"
        },
        "id": "48y4Ofy7Nwir",
        "outputId": "3b538a35-f48d-42dd-9860-11b48bb2bc8f"
      },
      "execution_count": null,
      "outputs": [
        {
          "output_type": "stream",
          "name": "stdout",
          "text": [
            "<class 'pandas.core.frame.DataFrame'>\n",
            "RangeIndex: 49732 entries, 0 to 49731\n",
            "Data columns (total 17 columns):\n",
            " #   Column     Non-Null Count  Dtype \n",
            "---  ------     --------------  ----- \n",
            " 0   age        49732 non-null  int64 \n",
            " 1   job        49732 non-null  object\n",
            " 2   marital    49732 non-null  object\n",
            " 3   education  49732 non-null  object\n",
            " 4   default    49732 non-null  object\n",
            " 5   balance    49732 non-null  int64 \n",
            " 6   housing    49732 non-null  object\n",
            " 7   loan       49732 non-null  object\n",
            " 8   contact    49732 non-null  object\n",
            " 9   day        49732 non-null  int64 \n",
            " 10  month      49732 non-null  object\n",
            " 11  duration   49732 non-null  int64 \n",
            " 12  campaign   49732 non-null  int64 \n",
            " 13  pdays      49732 non-null  int64 \n",
            " 14  previous   49732 non-null  int64 \n",
            " 15  poutcome   49732 non-null  object\n",
            " 16  y          49732 non-null  object\n",
            "dtypes: int64(7), object(10)\n",
            "memory usage: 6.5+ MB\n"
          ]
        }
      ]
    },
    {
      "cell_type": "code",
      "source": [],
      "metadata": {
        "id": "A4aE_MkJhx5J"
      },
      "execution_count": null,
      "outputs": []
    },
    {
      "cell_type": "markdown",
      "source": [
        "**from above information we can observe that, all column as no null values of 49732 number, which is equal to size of data frame** \n",
        "\n",
        "**following are categorical data**\n",
        "\n",
        "*   job\n",
        "*   marital\n",
        "*  education \n",
        "*  default\n",
        "*  housing\n",
        "*  loan\n",
        "*  contact\n",
        "*  month\n",
        "*  poutcome\n",
        "*  y\n",
        "\n",
        "\n",
        "**Folowing are numerical data**\n",
        "*  age\n",
        "*  balance\n",
        "*  day\n",
        "*  duration\n",
        "*  campaign\n",
        "*  pdays\n",
        "*  previous"
      ],
      "metadata": {
        "id": "TCUvJE1MQOwf"
      }
    },
    {
      "cell_type": "markdown",
      "source": [
        "##**Checking column name and changing if required for better understanding**"
      ],
      "metadata": {
        "id": "0PsOYpQjULl3"
      }
    },
    {
      "cell_type": "code",
      "source": [
        "## Checking all column names \n",
        "df.columns"
      ],
      "metadata": {
        "colab": {
          "base_uri": "https://localhost:8080/"
        },
        "id": "P--2hddTQTko",
        "outputId": "f04c0ee9-0d4f-4562-93d3-8fabcbddad36"
      },
      "execution_count": null,
      "outputs": [
        {
          "output_type": "execute_result",
          "data": {
            "text/plain": [
              "Index(['age', 'job', 'marital', 'education', 'default', 'balance', 'housing',\n",
              "       'loan', 'contact', 'day', 'month', 'duration', 'campaign', 'pdays',\n",
              "       'previous', 'poutcome', 'y'],\n",
              "      dtype='object')"
            ]
          },
          "metadata": {},
          "execution_count": 126
        }
      ]
    },
    {
      "cell_type": "code",
      "source": [
        "df = df.rename(columns = {'default':'default_credit', 'housing':'housing_loan','loan':'personal_loan','contact':'contact_type','day':'day_lastcontact','month':'month_lastcontact','y':'outcome'\n",
        "                        })"
      ],
      "metadata": {
        "id": "tfNIP2bWUJ-O"
      },
      "execution_count": null,
      "outputs": []
    },
    {
      "cell_type": "code",
      "source": [
        "df.columns"
      ],
      "metadata": {
        "colab": {
          "base_uri": "https://localhost:8080/"
        },
        "id": "pSU6f5KtWX8W",
        "outputId": "267f472d-7264-47ff-ecb4-2657ccc17adb"
      },
      "execution_count": null,
      "outputs": [
        {
          "output_type": "execute_result",
          "data": {
            "text/plain": [
              "Index(['age', 'job', 'marital', 'education', 'default_credit', 'balance',\n",
              "       'housing_loan', 'personal_loan', 'contact_type', 'day_lastcontact',\n",
              "       'month_lastcontact', 'duration', 'campaign', 'pdays', 'previous',\n",
              "       'poutcome', 'outcome'],\n",
              "      dtype='object')"
            ]
          },
          "metadata": {},
          "execution_count": 128
        }
      ]
    },
    {
      "cell_type": "markdown",
      "source": [
        "##**checking for dublicates in the data frame**"
      ],
      "metadata": {
        "id": "Mr0QIympOjQs"
      }
    },
    {
      "cell_type": "code",
      "source": [
        "# sum of dublicate entries in the data frame is :\n",
        "df.duplicated().sum()"
      ],
      "metadata": {
        "colab": {
          "base_uri": "https://localhost:8080/"
        },
        "id": "NUay_79HOuWQ",
        "outputId": "37c8fac9-566c-48a0-8ac0-8ce51cb7e575"
      },
      "execution_count": null,
      "outputs": [
        {
          "output_type": "execute_result",
          "data": {
            "text/plain": [
              "4521"
            ]
          },
          "metadata": {},
          "execution_count": 129
        }
      ]
    },
    {
      "cell_type": "markdown",
      "source": [
        "4521 dublicates are found in the data frame. let us dropthe duplicate values from the dataframe"
      ],
      "metadata": {
        "id": "YIt3-bmJPa9C"
      }
    },
    {
      "cell_type": "code",
      "source": [
        "#Droping duplicates from the data frame\n",
        "df.drop_duplicates()"
      ],
      "metadata": {
        "colab": {
          "base_uri": "https://localhost:8080/",
          "height": 488
        },
        "id": "xCO74_qIPoWO",
        "outputId": "ce68b05e-7592-4d89-d1ea-ed0f99b2a476"
      },
      "execution_count": null,
      "outputs": [
        {
          "output_type": "execute_result",
          "data": {
            "text/plain": [
              "       age           job   marital  education default_credit  balance  \\\n",
              "0       58    management   married   tertiary             no     2143   \n",
              "1       44    technician    single  secondary             no       29   \n",
              "2       33  entrepreneur   married  secondary             no        2   \n",
              "3       47   blue-collar   married    unknown             no     1506   \n",
              "4       33       unknown    single    unknown             no        1   \n",
              "...    ...           ...       ...        ...            ...      ...   \n",
              "45206   51    technician   married   tertiary             no      825   \n",
              "45207   71       retired  divorced    primary             no     1729   \n",
              "45208   72       retired   married  secondary             no     5715   \n",
              "45209   57   blue-collar   married  secondary             no      668   \n",
              "45210   37  entrepreneur   married  secondary             no     2971   \n",
              "\n",
              "      housing_loan personal_loan contact_type  day_lastcontact  \\\n",
              "0              yes            no      unknown                5   \n",
              "1              yes            no      unknown                5   \n",
              "2              yes           yes      unknown                5   \n",
              "3              yes            no      unknown                5   \n",
              "4               no            no      unknown                5   \n",
              "...            ...           ...          ...              ...   \n",
              "45206           no            no     cellular               17   \n",
              "45207           no            no     cellular               17   \n",
              "45208           no            no     cellular               17   \n",
              "45209           no            no    telephone               17   \n",
              "45210           no            no     cellular               17   \n",
              "\n",
              "      month_lastcontact  duration  campaign  pdays  previous poutcome outcome  \n",
              "0                   may       261         1     -1         0  unknown      no  \n",
              "1                   may       151         1     -1         0  unknown      no  \n",
              "2                   may        76         1     -1         0  unknown      no  \n",
              "3                   may        92         1     -1         0  unknown      no  \n",
              "4                   may       198         1     -1         0  unknown      no  \n",
              "...                 ...       ...       ...    ...       ...      ...     ...  \n",
              "45206               nov       977         3     -1         0  unknown     yes  \n",
              "45207               nov       456         2     -1         0  unknown     yes  \n",
              "45208               nov      1127         5    184         3  success     yes  \n",
              "45209               nov       508         4     -1         0  unknown      no  \n",
              "45210               nov       361         2    188        11    other      no  \n",
              "\n",
              "[45211 rows x 17 columns]"
            ],
            "text/html": [
              "\n",
              "  <div id=\"df-d521a4ef-56e5-4813-9d4a-8770d1a01662\">\n",
              "    <div class=\"colab-df-container\">\n",
              "      <div>\n",
              "<style scoped>\n",
              "    .dataframe tbody tr th:only-of-type {\n",
              "        vertical-align: middle;\n",
              "    }\n",
              "\n",
              "    .dataframe tbody tr th {\n",
              "        vertical-align: top;\n",
              "    }\n",
              "\n",
              "    .dataframe thead th {\n",
              "        text-align: right;\n",
              "    }\n",
              "</style>\n",
              "<table border=\"1\" class=\"dataframe\">\n",
              "  <thead>\n",
              "    <tr style=\"text-align: right;\">\n",
              "      <th></th>\n",
              "      <th>age</th>\n",
              "      <th>job</th>\n",
              "      <th>marital</th>\n",
              "      <th>education</th>\n",
              "      <th>default_credit</th>\n",
              "      <th>balance</th>\n",
              "      <th>housing_loan</th>\n",
              "      <th>personal_loan</th>\n",
              "      <th>contact_type</th>\n",
              "      <th>day_lastcontact</th>\n",
              "      <th>month_lastcontact</th>\n",
              "      <th>duration</th>\n",
              "      <th>campaign</th>\n",
              "      <th>pdays</th>\n",
              "      <th>previous</th>\n",
              "      <th>poutcome</th>\n",
              "      <th>outcome</th>\n",
              "    </tr>\n",
              "  </thead>\n",
              "  <tbody>\n",
              "    <tr>\n",
              "      <th>0</th>\n",
              "      <td>58</td>\n",
              "      <td>management</td>\n",
              "      <td>married</td>\n",
              "      <td>tertiary</td>\n",
              "      <td>no</td>\n",
              "      <td>2143</td>\n",
              "      <td>yes</td>\n",
              "      <td>no</td>\n",
              "      <td>unknown</td>\n",
              "      <td>5</td>\n",
              "      <td>may</td>\n",
              "      <td>261</td>\n",
              "      <td>1</td>\n",
              "      <td>-1</td>\n",
              "      <td>0</td>\n",
              "      <td>unknown</td>\n",
              "      <td>no</td>\n",
              "    </tr>\n",
              "    <tr>\n",
              "      <th>1</th>\n",
              "      <td>44</td>\n",
              "      <td>technician</td>\n",
              "      <td>single</td>\n",
              "      <td>secondary</td>\n",
              "      <td>no</td>\n",
              "      <td>29</td>\n",
              "      <td>yes</td>\n",
              "      <td>no</td>\n",
              "      <td>unknown</td>\n",
              "      <td>5</td>\n",
              "      <td>may</td>\n",
              "      <td>151</td>\n",
              "      <td>1</td>\n",
              "      <td>-1</td>\n",
              "      <td>0</td>\n",
              "      <td>unknown</td>\n",
              "      <td>no</td>\n",
              "    </tr>\n",
              "    <tr>\n",
              "      <th>2</th>\n",
              "      <td>33</td>\n",
              "      <td>entrepreneur</td>\n",
              "      <td>married</td>\n",
              "      <td>secondary</td>\n",
              "      <td>no</td>\n",
              "      <td>2</td>\n",
              "      <td>yes</td>\n",
              "      <td>yes</td>\n",
              "      <td>unknown</td>\n",
              "      <td>5</td>\n",
              "      <td>may</td>\n",
              "      <td>76</td>\n",
              "      <td>1</td>\n",
              "      <td>-1</td>\n",
              "      <td>0</td>\n",
              "      <td>unknown</td>\n",
              "      <td>no</td>\n",
              "    </tr>\n",
              "    <tr>\n",
              "      <th>3</th>\n",
              "      <td>47</td>\n",
              "      <td>blue-collar</td>\n",
              "      <td>married</td>\n",
              "      <td>unknown</td>\n",
              "      <td>no</td>\n",
              "      <td>1506</td>\n",
              "      <td>yes</td>\n",
              "      <td>no</td>\n",
              "      <td>unknown</td>\n",
              "      <td>5</td>\n",
              "      <td>may</td>\n",
              "      <td>92</td>\n",
              "      <td>1</td>\n",
              "      <td>-1</td>\n",
              "      <td>0</td>\n",
              "      <td>unknown</td>\n",
              "      <td>no</td>\n",
              "    </tr>\n",
              "    <tr>\n",
              "      <th>4</th>\n",
              "      <td>33</td>\n",
              "      <td>unknown</td>\n",
              "      <td>single</td>\n",
              "      <td>unknown</td>\n",
              "      <td>no</td>\n",
              "      <td>1</td>\n",
              "      <td>no</td>\n",
              "      <td>no</td>\n",
              "      <td>unknown</td>\n",
              "      <td>5</td>\n",
              "      <td>may</td>\n",
              "      <td>198</td>\n",
              "      <td>1</td>\n",
              "      <td>-1</td>\n",
              "      <td>0</td>\n",
              "      <td>unknown</td>\n",
              "      <td>no</td>\n",
              "    </tr>\n",
              "    <tr>\n",
              "      <th>...</th>\n",
              "      <td>...</td>\n",
              "      <td>...</td>\n",
              "      <td>...</td>\n",
              "      <td>...</td>\n",
              "      <td>...</td>\n",
              "      <td>...</td>\n",
              "      <td>...</td>\n",
              "      <td>...</td>\n",
              "      <td>...</td>\n",
              "      <td>...</td>\n",
              "      <td>...</td>\n",
              "      <td>...</td>\n",
              "      <td>...</td>\n",
              "      <td>...</td>\n",
              "      <td>...</td>\n",
              "      <td>...</td>\n",
              "      <td>...</td>\n",
              "    </tr>\n",
              "    <tr>\n",
              "      <th>45206</th>\n",
              "      <td>51</td>\n",
              "      <td>technician</td>\n",
              "      <td>married</td>\n",
              "      <td>tertiary</td>\n",
              "      <td>no</td>\n",
              "      <td>825</td>\n",
              "      <td>no</td>\n",
              "      <td>no</td>\n",
              "      <td>cellular</td>\n",
              "      <td>17</td>\n",
              "      <td>nov</td>\n",
              "      <td>977</td>\n",
              "      <td>3</td>\n",
              "      <td>-1</td>\n",
              "      <td>0</td>\n",
              "      <td>unknown</td>\n",
              "      <td>yes</td>\n",
              "    </tr>\n",
              "    <tr>\n",
              "      <th>45207</th>\n",
              "      <td>71</td>\n",
              "      <td>retired</td>\n",
              "      <td>divorced</td>\n",
              "      <td>primary</td>\n",
              "      <td>no</td>\n",
              "      <td>1729</td>\n",
              "      <td>no</td>\n",
              "      <td>no</td>\n",
              "      <td>cellular</td>\n",
              "      <td>17</td>\n",
              "      <td>nov</td>\n",
              "      <td>456</td>\n",
              "      <td>2</td>\n",
              "      <td>-1</td>\n",
              "      <td>0</td>\n",
              "      <td>unknown</td>\n",
              "      <td>yes</td>\n",
              "    </tr>\n",
              "    <tr>\n",
              "      <th>45208</th>\n",
              "      <td>72</td>\n",
              "      <td>retired</td>\n",
              "      <td>married</td>\n",
              "      <td>secondary</td>\n",
              "      <td>no</td>\n",
              "      <td>5715</td>\n",
              "      <td>no</td>\n",
              "      <td>no</td>\n",
              "      <td>cellular</td>\n",
              "      <td>17</td>\n",
              "      <td>nov</td>\n",
              "      <td>1127</td>\n",
              "      <td>5</td>\n",
              "      <td>184</td>\n",
              "      <td>3</td>\n",
              "      <td>success</td>\n",
              "      <td>yes</td>\n",
              "    </tr>\n",
              "    <tr>\n",
              "      <th>45209</th>\n",
              "      <td>57</td>\n",
              "      <td>blue-collar</td>\n",
              "      <td>married</td>\n",
              "      <td>secondary</td>\n",
              "      <td>no</td>\n",
              "      <td>668</td>\n",
              "      <td>no</td>\n",
              "      <td>no</td>\n",
              "      <td>telephone</td>\n",
              "      <td>17</td>\n",
              "      <td>nov</td>\n",
              "      <td>508</td>\n",
              "      <td>4</td>\n",
              "      <td>-1</td>\n",
              "      <td>0</td>\n",
              "      <td>unknown</td>\n",
              "      <td>no</td>\n",
              "    </tr>\n",
              "    <tr>\n",
              "      <th>45210</th>\n",
              "      <td>37</td>\n",
              "      <td>entrepreneur</td>\n",
              "      <td>married</td>\n",
              "      <td>secondary</td>\n",
              "      <td>no</td>\n",
              "      <td>2971</td>\n",
              "      <td>no</td>\n",
              "      <td>no</td>\n",
              "      <td>cellular</td>\n",
              "      <td>17</td>\n",
              "      <td>nov</td>\n",
              "      <td>361</td>\n",
              "      <td>2</td>\n",
              "      <td>188</td>\n",
              "      <td>11</td>\n",
              "      <td>other</td>\n",
              "      <td>no</td>\n",
              "    </tr>\n",
              "  </tbody>\n",
              "</table>\n",
              "<p>45211 rows × 17 columns</p>\n",
              "</div>\n",
              "      <button class=\"colab-df-convert\" onclick=\"convertToInteractive('df-d521a4ef-56e5-4813-9d4a-8770d1a01662')\"\n",
              "              title=\"Convert this dataframe to an interactive table.\"\n",
              "              style=\"display:none;\">\n",
              "        \n",
              "  <svg xmlns=\"http://www.w3.org/2000/svg\" height=\"24px\"viewBox=\"0 0 24 24\"\n",
              "       width=\"24px\">\n",
              "    <path d=\"M0 0h24v24H0V0z\" fill=\"none\"/>\n",
              "    <path d=\"M18.56 5.44l.94 2.06.94-2.06 2.06-.94-2.06-.94-.94-2.06-.94 2.06-2.06.94zm-11 1L8.5 8.5l.94-2.06 2.06-.94-2.06-.94L8.5 2.5l-.94 2.06-2.06.94zm10 10l.94 2.06.94-2.06 2.06-.94-2.06-.94-.94-2.06-.94 2.06-2.06.94z\"/><path d=\"M17.41 7.96l-1.37-1.37c-.4-.4-.92-.59-1.43-.59-.52 0-1.04.2-1.43.59L10.3 9.45l-7.72 7.72c-.78.78-.78 2.05 0 2.83L4 21.41c.39.39.9.59 1.41.59.51 0 1.02-.2 1.41-.59l7.78-7.78 2.81-2.81c.8-.78.8-2.07 0-2.86zM5.41 20L4 18.59l7.72-7.72 1.47 1.35L5.41 20z\"/>\n",
              "  </svg>\n",
              "      </button>\n",
              "      \n",
              "  <style>\n",
              "    .colab-df-container {\n",
              "      display:flex;\n",
              "      flex-wrap:wrap;\n",
              "      gap: 12px;\n",
              "    }\n",
              "\n",
              "    .colab-df-convert {\n",
              "      background-color: #E8F0FE;\n",
              "      border: none;\n",
              "      border-radius: 50%;\n",
              "      cursor: pointer;\n",
              "      display: none;\n",
              "      fill: #1967D2;\n",
              "      height: 32px;\n",
              "      padding: 0 0 0 0;\n",
              "      width: 32px;\n",
              "    }\n",
              "\n",
              "    .colab-df-convert:hover {\n",
              "      background-color: #E2EBFA;\n",
              "      box-shadow: 0px 1px 2px rgba(60, 64, 67, 0.3), 0px 1px 3px 1px rgba(60, 64, 67, 0.15);\n",
              "      fill: #174EA6;\n",
              "    }\n",
              "\n",
              "    [theme=dark] .colab-df-convert {\n",
              "      background-color: #3B4455;\n",
              "      fill: #D2E3FC;\n",
              "    }\n",
              "\n",
              "    [theme=dark] .colab-df-convert:hover {\n",
              "      background-color: #434B5C;\n",
              "      box-shadow: 0px 1px 3px 1px rgba(0, 0, 0, 0.15);\n",
              "      filter: drop-shadow(0px 1px 2px rgba(0, 0, 0, 0.3));\n",
              "      fill: #FFFFFF;\n",
              "    }\n",
              "  </style>\n",
              "\n",
              "      <script>\n",
              "        const buttonEl =\n",
              "          document.querySelector('#df-d521a4ef-56e5-4813-9d4a-8770d1a01662 button.colab-df-convert');\n",
              "        buttonEl.style.display =\n",
              "          google.colab.kernel.accessAllowed ? 'block' : 'none';\n",
              "\n",
              "        async function convertToInteractive(key) {\n",
              "          const element = document.querySelector('#df-d521a4ef-56e5-4813-9d4a-8770d1a01662');\n",
              "          const dataTable =\n",
              "            await google.colab.kernel.invokeFunction('convertToInteractive',\n",
              "                                                     [key], {});\n",
              "          if (!dataTable) return;\n",
              "\n",
              "          const docLinkHtml = 'Like what you see? Visit the ' +\n",
              "            '<a target=\"_blank\" href=https://colab.research.google.com/notebooks/data_table.ipynb>data table notebook</a>'\n",
              "            + ' to learn more about interactive tables.';\n",
              "          element.innerHTML = '';\n",
              "          dataTable['output_type'] = 'display_data';\n",
              "          await google.colab.output.renderOutput(dataTable, element);\n",
              "          const docLink = document.createElement('div');\n",
              "          docLink.innerHTML = docLinkHtml;\n",
              "          element.appendChild(docLink);\n",
              "        }\n",
              "      </script>\n",
              "    </div>\n",
              "  </div>\n",
              "  "
            ]
          },
          "metadata": {},
          "execution_count": 130
        }
      ]
    },
    {
      "cell_type": "markdown",
      "source": [
        "##**Checking for unique values in the categorical data**"
      ],
      "metadata": {
        "id": "DTIUqWQRQCCx"
      }
    },
    {
      "cell_type": "code",
      "source": [
        "#Count of unique values in column job\n",
        "df.job.value_counts()"
      ],
      "metadata": {
        "colab": {
          "base_uri": "https://localhost:8080/"
        },
        "id": "2pKp1It1P_xt",
        "outputId": "a35f1f54-a10a-4783-fef4-59c43ccee4f4"
      },
      "execution_count": null,
      "outputs": [
        {
          "output_type": "execute_result",
          "data": {
            "text/plain": [
              "blue-collar      10678\n",
              "management       10427\n",
              "technician        8365\n",
              "admin.            5649\n",
              "services          4571\n",
              "retired           2494\n",
              "self-employed     1762\n",
              "entrepreneur      1655\n",
              "unemployed        1431\n",
              "housemaid         1352\n",
              "student           1022\n",
              "unknown            326\n",
              "Name: job, dtype: int64"
            ]
          },
          "metadata": {},
          "execution_count": 131
        }
      ]
    },
    {
      "cell_type": "code",
      "source": [
        "#Count of unique values in column marital\n",
        "df.marital.value_counts()"
      ],
      "metadata": {
        "colab": {
          "base_uri": "https://localhost:8080/"
        },
        "id": "t9qVb4d2S4Xa",
        "outputId": "378b26b6-6cad-486c-81ae-1ff13be7da1c"
      },
      "execution_count": null,
      "outputs": [
        {
          "output_type": "execute_result",
          "data": {
            "text/plain": [
              "married     30011\n",
              "single      13986\n",
              "divorced     5735\n",
              "Name: marital, dtype: int64"
            ]
          },
          "metadata": {},
          "execution_count": 132
        }
      ]
    },
    {
      "cell_type": "code",
      "source": [
        "#Count of unique values in column education\n",
        "df.education.value_counts()"
      ],
      "metadata": {
        "colab": {
          "base_uri": "https://localhost:8080/"
        },
        "id": "da-X7vi2TKFP",
        "outputId": "3c5c2d12-a864-46c6-d3ec-4bea4902abdd"
      },
      "execution_count": null,
      "outputs": [
        {
          "output_type": "execute_result",
          "data": {
            "text/plain": [
              "secondary    25508\n",
              "tertiary     14651\n",
              "primary       7529\n",
              "unknown       2044\n",
              "Name: education, dtype: int64"
            ]
          },
          "metadata": {},
          "execution_count": 133
        }
      ]
    },
    {
      "cell_type": "code",
      "source": [
        "#Count of unique values in column default_credit\n",
        "df.default_credit.value_counts()"
      ],
      "metadata": {
        "colab": {
          "base_uri": "https://localhost:8080/"
        },
        "id": "YLwXAO-6TXoY",
        "outputId": "f4f210fe-1129-4a54-e412-954aa04b4f42"
      },
      "execution_count": null,
      "outputs": [
        {
          "output_type": "execute_result",
          "data": {
            "text/plain": [
              "no     48841\n",
              "yes      891\n",
              "Name: default_credit, dtype: int64"
            ]
          },
          "metadata": {},
          "execution_count": 134
        }
      ]
    },
    {
      "cell_type": "code",
      "source": [
        "#Count of unique values in column housing_loan\n",
        "df.housing_loan.value_counts()"
      ],
      "metadata": {
        "colab": {
          "base_uri": "https://localhost:8080/"
        },
        "id": "74B6xndhTmZR",
        "outputId": "3b2bab41-d455-4abb-ea6f-6411d3d94a71"
      },
      "execution_count": null,
      "outputs": [
        {
          "output_type": "execute_result",
          "data": {
            "text/plain": [
              "yes    27689\n",
              "no     22043\n",
              "Name: housing_loan, dtype: int64"
            ]
          },
          "metadata": {},
          "execution_count": 135
        }
      ]
    },
    {
      "cell_type": "code",
      "source": [
        "#Count of unique values in column personal\n",
        "df.personal_loan.value_counts()"
      ],
      "metadata": {
        "colab": {
          "base_uri": "https://localhost:8080/"
        },
        "id": "v7fZ5A4nTtlw",
        "outputId": "7288706d-ee53-46e5-8395-3c9e51042f65"
      },
      "execution_count": null,
      "outputs": [
        {
          "output_type": "execute_result",
          "data": {
            "text/plain": [
              "no     41797\n",
              "yes     7935\n",
              "Name: personal_loan, dtype: int64"
            ]
          },
          "metadata": {},
          "execution_count": 136
        }
      ]
    },
    {
      "cell_type": "code",
      "source": [
        "#Count of unique values in column contact_type\n",
        "df.contact_type.value_counts()"
      ],
      "metadata": {
        "colab": {
          "base_uri": "https://localhost:8080/"
        },
        "id": "2zPhneLZXO6l",
        "outputId": "a2e309c3-9146-4eeb-eeab-840cbf07a6bf"
      },
      "execution_count": null,
      "outputs": [
        {
          "output_type": "execute_result",
          "data": {
            "text/plain": [
              "cellular     32181\n",
              "unknown      14344\n",
              "telephone     3207\n",
              "Name: contact_type, dtype: int64"
            ]
          },
          "metadata": {},
          "execution_count": 137
        }
      ]
    },
    {
      "cell_type": "code",
      "source": [
        "#Count of unique values in column month_lastconatct\n",
        "df.month_lastcontact.value_counts()"
      ],
      "metadata": {
        "colab": {
          "base_uri": "https://localhost:8080/"
        },
        "id": "zLJ3u0-OXb_P",
        "outputId": "4c6739bb-9086-4ef3-f9f1-b24891ba7e7f"
      },
      "execution_count": null,
      "outputs": [
        {
          "output_type": "execute_result",
          "data": {
            "text/plain": [
              "may    15164\n",
              "jul     7601\n",
              "aug     6880\n",
              "jun     5872\n",
              "nov     4359\n",
              "apr     3225\n",
              "feb     2871\n",
              "jan     1551\n",
              "oct      818\n",
              "sep      631\n",
              "mar      526\n",
              "dec      234\n",
              "Name: month_lastcontact, dtype: int64"
            ]
          },
          "metadata": {},
          "execution_count": 138
        }
      ]
    },
    {
      "cell_type": "code",
      "source": [
        "#Count of unique values in column poutcome\n",
        "df.poutcome.value_counts()"
      ],
      "metadata": {
        "colab": {
          "base_uri": "https://localhost:8080/"
        },
        "id": "wsF13K-5YmCy",
        "outputId": "44532148-b6f8-43e3-8385-101f4549b47d"
      },
      "execution_count": null,
      "outputs": [
        {
          "output_type": "execute_result",
          "data": {
            "text/plain": [
              "unknown    40664\n",
              "failure     5391\n",
              "other       2037\n",
              "success     1640\n",
              "Name: poutcome, dtype: int64"
            ]
          },
          "metadata": {},
          "execution_count": 139
        }
      ]
    },
    {
      "cell_type": "code",
      "source": [
        "#Count of unique values in column outcome\n",
        "df.outcome.value_counts()"
      ],
      "metadata": {
        "colab": {
          "base_uri": "https://localhost:8080/"
        },
        "id": "lhpaWggTYu3t",
        "outputId": "33316b02-1be7-4fc4-b453-83cdb12ab7b9"
      },
      "execution_count": null,
      "outputs": [
        {
          "output_type": "execute_result",
          "data": {
            "text/plain": [
              "no     43922\n",
              "yes     5810\n",
              "Name: outcome, dtype: int64"
            ]
          },
          "metadata": {},
          "execution_count": 140
        }
      ]
    },
    {
      "cell_type": "markdown",
      "source": [
        "##**Checking for basic statistical details for dataframe**"
      ],
      "metadata": {
        "id": "dLBaxuI0ZsQn"
      }
    },
    {
      "cell_type": "code",
      "source": [
        "#Basic details of given data frame\n",
        "df.describe(include = 'all')"
      ],
      "metadata": {
        "colab": {
          "base_uri": "https://localhost:8080/",
          "height": 476
        },
        "id": "p-_BfQqjZ38W",
        "outputId": "5cedeb19-5138-4486-a1e3-2aca0003174d"
      },
      "execution_count": null,
      "outputs": [
        {
          "output_type": "execute_result",
          "data": {
            "text/plain": [
              "                 age          job  marital  education default_credit  \\\n",
              "count   49732.000000        49732    49732      49732          49732   \n",
              "unique           NaN           12        3          4              2   \n",
              "top              NaN  blue-collar  married  secondary             no   \n",
              "freq             NaN        10678    30011      25508          48841   \n",
              "mean       40.957472          NaN      NaN        NaN            NaN   \n",
              "std        10.615008          NaN      NaN        NaN            NaN   \n",
              "min        18.000000          NaN      NaN        NaN            NaN   \n",
              "25%        33.000000          NaN      NaN        NaN            NaN   \n",
              "50%        39.000000          NaN      NaN        NaN            NaN   \n",
              "75%        48.000000          NaN      NaN        NaN            NaN   \n",
              "max        95.000000          NaN      NaN        NaN            NaN   \n",
              "\n",
              "              balance housing_loan personal_loan contact_type  \\\n",
              "count    49732.000000        49732         49732        49732   \n",
              "unique            NaN            2             2            3   \n",
              "top               NaN          yes            no     cellular   \n",
              "freq              NaN        27689         41797        32181   \n",
              "mean      1367.761562          NaN           NaN          NaN   \n",
              "std       3041.608766          NaN           NaN          NaN   \n",
              "min      -8019.000000          NaN           NaN          NaN   \n",
              "25%         72.000000          NaN           NaN          NaN   \n",
              "50%        448.000000          NaN           NaN          NaN   \n",
              "75%       1431.000000          NaN           NaN          NaN   \n",
              "max     102127.000000          NaN           NaN          NaN   \n",
              "\n",
              "        day_lastcontact month_lastcontact      duration      campaign  \\\n",
              "count      49732.000000             49732  49732.000000  49732.000000   \n",
              "unique              NaN                12           NaN           NaN   \n",
              "top                 NaN               may           NaN           NaN   \n",
              "freq                NaN             15164           NaN           NaN   \n",
              "mean          15.816315               NaN    258.690179      2.766549   \n",
              "std            8.315680               NaN    257.743149      3.099075   \n",
              "min            1.000000               NaN      0.000000      1.000000   \n",
              "25%            8.000000               NaN    103.000000      1.000000   \n",
              "50%           16.000000               NaN    180.000000      2.000000   \n",
              "75%           21.000000               NaN    320.000000      3.000000   \n",
              "max           31.000000               NaN   4918.000000     63.000000   \n",
              "\n",
              "               pdays      previous poutcome outcome  \n",
              "count   49732.000000  49732.000000    49732   49732  \n",
              "unique           NaN           NaN        4       2  \n",
              "top              NaN           NaN  unknown      no  \n",
              "freq             NaN           NaN    40664   43922  \n",
              "mean       40.158630      0.576892      NaN     NaN  \n",
              "std       100.127123      2.254838      NaN     NaN  \n",
              "min        -1.000000      0.000000      NaN     NaN  \n",
              "25%        -1.000000      0.000000      NaN     NaN  \n",
              "50%        -1.000000      0.000000      NaN     NaN  \n",
              "75%        -1.000000      0.000000      NaN     NaN  \n",
              "max       871.000000    275.000000      NaN     NaN  "
            ],
            "text/html": [
              "\n",
              "  <div id=\"df-dfdbfb5f-fa3a-49fb-a096-93b19fa58b40\">\n",
              "    <div class=\"colab-df-container\">\n",
              "      <div>\n",
              "<style scoped>\n",
              "    .dataframe tbody tr th:only-of-type {\n",
              "        vertical-align: middle;\n",
              "    }\n",
              "\n",
              "    .dataframe tbody tr th {\n",
              "        vertical-align: top;\n",
              "    }\n",
              "\n",
              "    .dataframe thead th {\n",
              "        text-align: right;\n",
              "    }\n",
              "</style>\n",
              "<table border=\"1\" class=\"dataframe\">\n",
              "  <thead>\n",
              "    <tr style=\"text-align: right;\">\n",
              "      <th></th>\n",
              "      <th>age</th>\n",
              "      <th>job</th>\n",
              "      <th>marital</th>\n",
              "      <th>education</th>\n",
              "      <th>default_credit</th>\n",
              "      <th>balance</th>\n",
              "      <th>housing_loan</th>\n",
              "      <th>personal_loan</th>\n",
              "      <th>contact_type</th>\n",
              "      <th>day_lastcontact</th>\n",
              "      <th>month_lastcontact</th>\n",
              "      <th>duration</th>\n",
              "      <th>campaign</th>\n",
              "      <th>pdays</th>\n",
              "      <th>previous</th>\n",
              "      <th>poutcome</th>\n",
              "      <th>outcome</th>\n",
              "    </tr>\n",
              "  </thead>\n",
              "  <tbody>\n",
              "    <tr>\n",
              "      <th>count</th>\n",
              "      <td>49732.000000</td>\n",
              "      <td>49732</td>\n",
              "      <td>49732</td>\n",
              "      <td>49732</td>\n",
              "      <td>49732</td>\n",
              "      <td>49732.000000</td>\n",
              "      <td>49732</td>\n",
              "      <td>49732</td>\n",
              "      <td>49732</td>\n",
              "      <td>49732.000000</td>\n",
              "      <td>49732</td>\n",
              "      <td>49732.000000</td>\n",
              "      <td>49732.000000</td>\n",
              "      <td>49732.000000</td>\n",
              "      <td>49732.000000</td>\n",
              "      <td>49732</td>\n",
              "      <td>49732</td>\n",
              "    </tr>\n",
              "    <tr>\n",
              "      <th>unique</th>\n",
              "      <td>NaN</td>\n",
              "      <td>12</td>\n",
              "      <td>3</td>\n",
              "      <td>4</td>\n",
              "      <td>2</td>\n",
              "      <td>NaN</td>\n",
              "      <td>2</td>\n",
              "      <td>2</td>\n",
              "      <td>3</td>\n",
              "      <td>NaN</td>\n",
              "      <td>12</td>\n",
              "      <td>NaN</td>\n",
              "      <td>NaN</td>\n",
              "      <td>NaN</td>\n",
              "      <td>NaN</td>\n",
              "      <td>4</td>\n",
              "      <td>2</td>\n",
              "    </tr>\n",
              "    <tr>\n",
              "      <th>top</th>\n",
              "      <td>NaN</td>\n",
              "      <td>blue-collar</td>\n",
              "      <td>married</td>\n",
              "      <td>secondary</td>\n",
              "      <td>no</td>\n",
              "      <td>NaN</td>\n",
              "      <td>yes</td>\n",
              "      <td>no</td>\n",
              "      <td>cellular</td>\n",
              "      <td>NaN</td>\n",
              "      <td>may</td>\n",
              "      <td>NaN</td>\n",
              "      <td>NaN</td>\n",
              "      <td>NaN</td>\n",
              "      <td>NaN</td>\n",
              "      <td>unknown</td>\n",
              "      <td>no</td>\n",
              "    </tr>\n",
              "    <tr>\n",
              "      <th>freq</th>\n",
              "      <td>NaN</td>\n",
              "      <td>10678</td>\n",
              "      <td>30011</td>\n",
              "      <td>25508</td>\n",
              "      <td>48841</td>\n",
              "      <td>NaN</td>\n",
              "      <td>27689</td>\n",
              "      <td>41797</td>\n",
              "      <td>32181</td>\n",
              "      <td>NaN</td>\n",
              "      <td>15164</td>\n",
              "      <td>NaN</td>\n",
              "      <td>NaN</td>\n",
              "      <td>NaN</td>\n",
              "      <td>NaN</td>\n",
              "      <td>40664</td>\n",
              "      <td>43922</td>\n",
              "    </tr>\n",
              "    <tr>\n",
              "      <th>mean</th>\n",
              "      <td>40.957472</td>\n",
              "      <td>NaN</td>\n",
              "      <td>NaN</td>\n",
              "      <td>NaN</td>\n",
              "      <td>NaN</td>\n",
              "      <td>1367.761562</td>\n",
              "      <td>NaN</td>\n",
              "      <td>NaN</td>\n",
              "      <td>NaN</td>\n",
              "      <td>15.816315</td>\n",
              "      <td>NaN</td>\n",
              "      <td>258.690179</td>\n",
              "      <td>2.766549</td>\n",
              "      <td>40.158630</td>\n",
              "      <td>0.576892</td>\n",
              "      <td>NaN</td>\n",
              "      <td>NaN</td>\n",
              "    </tr>\n",
              "    <tr>\n",
              "      <th>std</th>\n",
              "      <td>10.615008</td>\n",
              "      <td>NaN</td>\n",
              "      <td>NaN</td>\n",
              "      <td>NaN</td>\n",
              "      <td>NaN</td>\n",
              "      <td>3041.608766</td>\n",
              "      <td>NaN</td>\n",
              "      <td>NaN</td>\n",
              "      <td>NaN</td>\n",
              "      <td>8.315680</td>\n",
              "      <td>NaN</td>\n",
              "      <td>257.743149</td>\n",
              "      <td>3.099075</td>\n",
              "      <td>100.127123</td>\n",
              "      <td>2.254838</td>\n",
              "      <td>NaN</td>\n",
              "      <td>NaN</td>\n",
              "    </tr>\n",
              "    <tr>\n",
              "      <th>min</th>\n",
              "      <td>18.000000</td>\n",
              "      <td>NaN</td>\n",
              "      <td>NaN</td>\n",
              "      <td>NaN</td>\n",
              "      <td>NaN</td>\n",
              "      <td>-8019.000000</td>\n",
              "      <td>NaN</td>\n",
              "      <td>NaN</td>\n",
              "      <td>NaN</td>\n",
              "      <td>1.000000</td>\n",
              "      <td>NaN</td>\n",
              "      <td>0.000000</td>\n",
              "      <td>1.000000</td>\n",
              "      <td>-1.000000</td>\n",
              "      <td>0.000000</td>\n",
              "      <td>NaN</td>\n",
              "      <td>NaN</td>\n",
              "    </tr>\n",
              "    <tr>\n",
              "      <th>25%</th>\n",
              "      <td>33.000000</td>\n",
              "      <td>NaN</td>\n",
              "      <td>NaN</td>\n",
              "      <td>NaN</td>\n",
              "      <td>NaN</td>\n",
              "      <td>72.000000</td>\n",
              "      <td>NaN</td>\n",
              "      <td>NaN</td>\n",
              "      <td>NaN</td>\n",
              "      <td>8.000000</td>\n",
              "      <td>NaN</td>\n",
              "      <td>103.000000</td>\n",
              "      <td>1.000000</td>\n",
              "      <td>-1.000000</td>\n",
              "      <td>0.000000</td>\n",
              "      <td>NaN</td>\n",
              "      <td>NaN</td>\n",
              "    </tr>\n",
              "    <tr>\n",
              "      <th>50%</th>\n",
              "      <td>39.000000</td>\n",
              "      <td>NaN</td>\n",
              "      <td>NaN</td>\n",
              "      <td>NaN</td>\n",
              "      <td>NaN</td>\n",
              "      <td>448.000000</td>\n",
              "      <td>NaN</td>\n",
              "      <td>NaN</td>\n",
              "      <td>NaN</td>\n",
              "      <td>16.000000</td>\n",
              "      <td>NaN</td>\n",
              "      <td>180.000000</td>\n",
              "      <td>2.000000</td>\n",
              "      <td>-1.000000</td>\n",
              "      <td>0.000000</td>\n",
              "      <td>NaN</td>\n",
              "      <td>NaN</td>\n",
              "    </tr>\n",
              "    <tr>\n",
              "      <th>75%</th>\n",
              "      <td>48.000000</td>\n",
              "      <td>NaN</td>\n",
              "      <td>NaN</td>\n",
              "      <td>NaN</td>\n",
              "      <td>NaN</td>\n",
              "      <td>1431.000000</td>\n",
              "      <td>NaN</td>\n",
              "      <td>NaN</td>\n",
              "      <td>NaN</td>\n",
              "      <td>21.000000</td>\n",
              "      <td>NaN</td>\n",
              "      <td>320.000000</td>\n",
              "      <td>3.000000</td>\n",
              "      <td>-1.000000</td>\n",
              "      <td>0.000000</td>\n",
              "      <td>NaN</td>\n",
              "      <td>NaN</td>\n",
              "    </tr>\n",
              "    <tr>\n",
              "      <th>max</th>\n",
              "      <td>95.000000</td>\n",
              "      <td>NaN</td>\n",
              "      <td>NaN</td>\n",
              "      <td>NaN</td>\n",
              "      <td>NaN</td>\n",
              "      <td>102127.000000</td>\n",
              "      <td>NaN</td>\n",
              "      <td>NaN</td>\n",
              "      <td>NaN</td>\n",
              "      <td>31.000000</td>\n",
              "      <td>NaN</td>\n",
              "      <td>4918.000000</td>\n",
              "      <td>63.000000</td>\n",
              "      <td>871.000000</td>\n",
              "      <td>275.000000</td>\n",
              "      <td>NaN</td>\n",
              "      <td>NaN</td>\n",
              "    </tr>\n",
              "  </tbody>\n",
              "</table>\n",
              "</div>\n",
              "      <button class=\"colab-df-convert\" onclick=\"convertToInteractive('df-dfdbfb5f-fa3a-49fb-a096-93b19fa58b40')\"\n",
              "              title=\"Convert this dataframe to an interactive table.\"\n",
              "              style=\"display:none;\">\n",
              "        \n",
              "  <svg xmlns=\"http://www.w3.org/2000/svg\" height=\"24px\"viewBox=\"0 0 24 24\"\n",
              "       width=\"24px\">\n",
              "    <path d=\"M0 0h24v24H0V0z\" fill=\"none\"/>\n",
              "    <path d=\"M18.56 5.44l.94 2.06.94-2.06 2.06-.94-2.06-.94-.94-2.06-.94 2.06-2.06.94zm-11 1L8.5 8.5l.94-2.06 2.06-.94-2.06-.94L8.5 2.5l-.94 2.06-2.06.94zm10 10l.94 2.06.94-2.06 2.06-.94-2.06-.94-.94-2.06-.94 2.06-2.06.94z\"/><path d=\"M17.41 7.96l-1.37-1.37c-.4-.4-.92-.59-1.43-.59-.52 0-1.04.2-1.43.59L10.3 9.45l-7.72 7.72c-.78.78-.78 2.05 0 2.83L4 21.41c.39.39.9.59 1.41.59.51 0 1.02-.2 1.41-.59l7.78-7.78 2.81-2.81c.8-.78.8-2.07 0-2.86zM5.41 20L4 18.59l7.72-7.72 1.47 1.35L5.41 20z\"/>\n",
              "  </svg>\n",
              "      </button>\n",
              "      \n",
              "  <style>\n",
              "    .colab-df-container {\n",
              "      display:flex;\n",
              "      flex-wrap:wrap;\n",
              "      gap: 12px;\n",
              "    }\n",
              "\n",
              "    .colab-df-convert {\n",
              "      background-color: #E8F0FE;\n",
              "      border: none;\n",
              "      border-radius: 50%;\n",
              "      cursor: pointer;\n",
              "      display: none;\n",
              "      fill: #1967D2;\n",
              "      height: 32px;\n",
              "      padding: 0 0 0 0;\n",
              "      width: 32px;\n",
              "    }\n",
              "\n",
              "    .colab-df-convert:hover {\n",
              "      background-color: #E2EBFA;\n",
              "      box-shadow: 0px 1px 2px rgba(60, 64, 67, 0.3), 0px 1px 3px 1px rgba(60, 64, 67, 0.15);\n",
              "      fill: #174EA6;\n",
              "    }\n",
              "\n",
              "    [theme=dark] .colab-df-convert {\n",
              "      background-color: #3B4455;\n",
              "      fill: #D2E3FC;\n",
              "    }\n",
              "\n",
              "    [theme=dark] .colab-df-convert:hover {\n",
              "      background-color: #434B5C;\n",
              "      box-shadow: 0px 1px 3px 1px rgba(0, 0, 0, 0.15);\n",
              "      filter: drop-shadow(0px 1px 2px rgba(0, 0, 0, 0.3));\n",
              "      fill: #FFFFFF;\n",
              "    }\n",
              "  </style>\n",
              "\n",
              "      <script>\n",
              "        const buttonEl =\n",
              "          document.querySelector('#df-dfdbfb5f-fa3a-49fb-a096-93b19fa58b40 button.colab-df-convert');\n",
              "        buttonEl.style.display =\n",
              "          google.colab.kernel.accessAllowed ? 'block' : 'none';\n",
              "\n",
              "        async function convertToInteractive(key) {\n",
              "          const element = document.querySelector('#df-dfdbfb5f-fa3a-49fb-a096-93b19fa58b40');\n",
              "          const dataTable =\n",
              "            await google.colab.kernel.invokeFunction('convertToInteractive',\n",
              "                                                     [key], {});\n",
              "          if (!dataTable) return;\n",
              "\n",
              "          const docLinkHtml = 'Like what you see? Visit the ' +\n",
              "            '<a target=\"_blank\" href=https://colab.research.google.com/notebooks/data_table.ipynb>data table notebook</a>'\n",
              "            + ' to learn more about interactive tables.';\n",
              "          element.innerHTML = '';\n",
              "          dataTable['output_type'] = 'display_data';\n",
              "          await google.colab.output.renderOutput(dataTable, element);\n",
              "          const docLink = document.createElement('div');\n",
              "          docLink.innerHTML = docLinkHtml;\n",
              "          element.appendChild(docLink);\n",
              "        }\n",
              "      </script>\n",
              "    </div>\n",
              "  </div>\n",
              "  "
            ]
          },
          "metadata": {},
          "execution_count": 141
        }
      ]
    },
    {
      "cell_type": "markdown",
      "source": [
        "**From above details, we can observe that,**\n",
        "*  **Client age starts from 18 to 95 years are paticipetted in this campaign**\n",
        "*  **lowest balance amount of -8019 and heighest balance amount is 102127** \n",
        "*  **minimum contact duration is 0 seconds and maximum contact duration is 4918 seconds**\n",
        "*  **minimum days that passed by after the client was last contacted from a previous campaign is -1(no previous contact) and maximum days passed is 871 days**\n",
        "\n",
        "*  **balance column has minimum value of -8019, -ve, which means due amount.**\n",
        "*  **Also we can see that  column previous number of contact performed has 75% of value 0. that means 75% of client has no previous campaign contact**\n",
        "\n"
      ],
      "metadata": {
        "id": "N-B4uqZ2ayFc"
      }
    },
    {
      "cell_type": "markdown",
      "source": [
        "##**Replacing -1 with in pdays column as 999. its represents no previous contact**"
      ],
      "metadata": {
        "id": "dwgD9raVx9vI"
      }
    },
    {
      "cell_type": "code",
      "source": [
        "# Replacing -1 withh 999\n",
        "df.pdays = df.pdays.replace(-1,999)"
      ],
      "metadata": {
        "id": "RlZOV6qZ93Kt"
      },
      "execution_count": null,
      "outputs": []
    },
    {
      "cell_type": "code",
      "source": [
        "df"
      ],
      "metadata": {
        "colab": {
          "base_uri": "https://localhost:8080/",
          "height": 505
        },
        "id": "arUuPuTJ-JxM",
        "outputId": "c8456875-bf30-43f6-f966-18dccf91f6d2"
      },
      "execution_count": null,
      "outputs": [
        {
          "output_type": "execute_result",
          "data": {
            "text/plain": [
              "       age            job  marital  education default_credit  balance  \\\n",
              "0       58     management  married   tertiary             no     2143   \n",
              "1       44     technician   single  secondary             no       29   \n",
              "2       33   entrepreneur  married  secondary             no        2   \n",
              "3       47    blue-collar  married    unknown             no     1506   \n",
              "4       33        unknown   single    unknown             no        1   \n",
              "...    ...            ...      ...        ...            ...      ...   \n",
              "49727   33       services  married  secondary             no     -333   \n",
              "49728   57  self-employed  married   tertiary            yes    -3313   \n",
              "49729   57     technician  married  secondary             no      295   \n",
              "49730   28    blue-collar  married  secondary             no     1137   \n",
              "49731   44   entrepreneur   single   tertiary             no     1136   \n",
              "\n",
              "      housing_loan personal_loan contact_type  day_lastcontact  \\\n",
              "0              yes            no      unknown                5   \n",
              "1              yes            no      unknown                5   \n",
              "2              yes           yes      unknown                5   \n",
              "3              yes            no      unknown                5   \n",
              "4               no            no      unknown                5   \n",
              "...            ...           ...          ...              ...   \n",
              "49727          yes            no     cellular               30   \n",
              "49728          yes           yes      unknown                9   \n",
              "49729           no            no     cellular               19   \n",
              "49730           no            no     cellular                6   \n",
              "49731          yes           yes     cellular                3   \n",
              "\n",
              "      month_lastcontact  duration  campaign  pdays  previous poutcome outcome  \n",
              "0                   may       261         1    999         0  unknown      no  \n",
              "1                   may       151         1    999         0  unknown      no  \n",
              "2                   may        76         1    999         0  unknown      no  \n",
              "3                   may        92         1    999         0  unknown      no  \n",
              "4                   may       198         1    999         0  unknown      no  \n",
              "...                 ...       ...       ...    ...       ...      ...     ...  \n",
              "49727               jul       329         5    999         0  unknown      no  \n",
              "49728               may       153         1    999         0  unknown      no  \n",
              "49729               aug       151        11    999         0  unknown      no  \n",
              "49730               feb       129         4    211         3    other      no  \n",
              "49731               apr       345         2    249         7    other      no  \n",
              "\n",
              "[49732 rows x 17 columns]"
            ],
            "text/html": [
              "\n",
              "  <div id=\"df-017f54a2-4930-4017-b4dc-982d05e8b43c\">\n",
              "    <div class=\"colab-df-container\">\n",
              "      <div>\n",
              "<style scoped>\n",
              "    .dataframe tbody tr th:only-of-type {\n",
              "        vertical-align: middle;\n",
              "    }\n",
              "\n",
              "    .dataframe tbody tr th {\n",
              "        vertical-align: top;\n",
              "    }\n",
              "\n",
              "    .dataframe thead th {\n",
              "        text-align: right;\n",
              "    }\n",
              "</style>\n",
              "<table border=\"1\" class=\"dataframe\">\n",
              "  <thead>\n",
              "    <tr style=\"text-align: right;\">\n",
              "      <th></th>\n",
              "      <th>age</th>\n",
              "      <th>job</th>\n",
              "      <th>marital</th>\n",
              "      <th>education</th>\n",
              "      <th>default_credit</th>\n",
              "      <th>balance</th>\n",
              "      <th>housing_loan</th>\n",
              "      <th>personal_loan</th>\n",
              "      <th>contact_type</th>\n",
              "      <th>day_lastcontact</th>\n",
              "      <th>month_lastcontact</th>\n",
              "      <th>duration</th>\n",
              "      <th>campaign</th>\n",
              "      <th>pdays</th>\n",
              "      <th>previous</th>\n",
              "      <th>poutcome</th>\n",
              "      <th>outcome</th>\n",
              "    </tr>\n",
              "  </thead>\n",
              "  <tbody>\n",
              "    <tr>\n",
              "      <th>0</th>\n",
              "      <td>58</td>\n",
              "      <td>management</td>\n",
              "      <td>married</td>\n",
              "      <td>tertiary</td>\n",
              "      <td>no</td>\n",
              "      <td>2143</td>\n",
              "      <td>yes</td>\n",
              "      <td>no</td>\n",
              "      <td>unknown</td>\n",
              "      <td>5</td>\n",
              "      <td>may</td>\n",
              "      <td>261</td>\n",
              "      <td>1</td>\n",
              "      <td>999</td>\n",
              "      <td>0</td>\n",
              "      <td>unknown</td>\n",
              "      <td>no</td>\n",
              "    </tr>\n",
              "    <tr>\n",
              "      <th>1</th>\n",
              "      <td>44</td>\n",
              "      <td>technician</td>\n",
              "      <td>single</td>\n",
              "      <td>secondary</td>\n",
              "      <td>no</td>\n",
              "      <td>29</td>\n",
              "      <td>yes</td>\n",
              "      <td>no</td>\n",
              "      <td>unknown</td>\n",
              "      <td>5</td>\n",
              "      <td>may</td>\n",
              "      <td>151</td>\n",
              "      <td>1</td>\n",
              "      <td>999</td>\n",
              "      <td>0</td>\n",
              "      <td>unknown</td>\n",
              "      <td>no</td>\n",
              "    </tr>\n",
              "    <tr>\n",
              "      <th>2</th>\n",
              "      <td>33</td>\n",
              "      <td>entrepreneur</td>\n",
              "      <td>married</td>\n",
              "      <td>secondary</td>\n",
              "      <td>no</td>\n",
              "      <td>2</td>\n",
              "      <td>yes</td>\n",
              "      <td>yes</td>\n",
              "      <td>unknown</td>\n",
              "      <td>5</td>\n",
              "      <td>may</td>\n",
              "      <td>76</td>\n",
              "      <td>1</td>\n",
              "      <td>999</td>\n",
              "      <td>0</td>\n",
              "      <td>unknown</td>\n",
              "      <td>no</td>\n",
              "    </tr>\n",
              "    <tr>\n",
              "      <th>3</th>\n",
              "      <td>47</td>\n",
              "      <td>blue-collar</td>\n",
              "      <td>married</td>\n",
              "      <td>unknown</td>\n",
              "      <td>no</td>\n",
              "      <td>1506</td>\n",
              "      <td>yes</td>\n",
              "      <td>no</td>\n",
              "      <td>unknown</td>\n",
              "      <td>5</td>\n",
              "      <td>may</td>\n",
              "      <td>92</td>\n",
              "      <td>1</td>\n",
              "      <td>999</td>\n",
              "      <td>0</td>\n",
              "      <td>unknown</td>\n",
              "      <td>no</td>\n",
              "    </tr>\n",
              "    <tr>\n",
              "      <th>4</th>\n",
              "      <td>33</td>\n",
              "      <td>unknown</td>\n",
              "      <td>single</td>\n",
              "      <td>unknown</td>\n",
              "      <td>no</td>\n",
              "      <td>1</td>\n",
              "      <td>no</td>\n",
              "      <td>no</td>\n",
              "      <td>unknown</td>\n",
              "      <td>5</td>\n",
              "      <td>may</td>\n",
              "      <td>198</td>\n",
              "      <td>1</td>\n",
              "      <td>999</td>\n",
              "      <td>0</td>\n",
              "      <td>unknown</td>\n",
              "      <td>no</td>\n",
              "    </tr>\n",
              "    <tr>\n",
              "      <th>...</th>\n",
              "      <td>...</td>\n",
              "      <td>...</td>\n",
              "      <td>...</td>\n",
              "      <td>...</td>\n",
              "      <td>...</td>\n",
              "      <td>...</td>\n",
              "      <td>...</td>\n",
              "      <td>...</td>\n",
              "      <td>...</td>\n",
              "      <td>...</td>\n",
              "      <td>...</td>\n",
              "      <td>...</td>\n",
              "      <td>...</td>\n",
              "      <td>...</td>\n",
              "      <td>...</td>\n",
              "      <td>...</td>\n",
              "      <td>...</td>\n",
              "    </tr>\n",
              "    <tr>\n",
              "      <th>49727</th>\n",
              "      <td>33</td>\n",
              "      <td>services</td>\n",
              "      <td>married</td>\n",
              "      <td>secondary</td>\n",
              "      <td>no</td>\n",
              "      <td>-333</td>\n",
              "      <td>yes</td>\n",
              "      <td>no</td>\n",
              "      <td>cellular</td>\n",
              "      <td>30</td>\n",
              "      <td>jul</td>\n",
              "      <td>329</td>\n",
              "      <td>5</td>\n",
              "      <td>999</td>\n",
              "      <td>0</td>\n",
              "      <td>unknown</td>\n",
              "      <td>no</td>\n",
              "    </tr>\n",
              "    <tr>\n",
              "      <th>49728</th>\n",
              "      <td>57</td>\n",
              "      <td>self-employed</td>\n",
              "      <td>married</td>\n",
              "      <td>tertiary</td>\n",
              "      <td>yes</td>\n",
              "      <td>-3313</td>\n",
              "      <td>yes</td>\n",
              "      <td>yes</td>\n",
              "      <td>unknown</td>\n",
              "      <td>9</td>\n",
              "      <td>may</td>\n",
              "      <td>153</td>\n",
              "      <td>1</td>\n",
              "      <td>999</td>\n",
              "      <td>0</td>\n",
              "      <td>unknown</td>\n",
              "      <td>no</td>\n",
              "    </tr>\n",
              "    <tr>\n",
              "      <th>49729</th>\n",
              "      <td>57</td>\n",
              "      <td>technician</td>\n",
              "      <td>married</td>\n",
              "      <td>secondary</td>\n",
              "      <td>no</td>\n",
              "      <td>295</td>\n",
              "      <td>no</td>\n",
              "      <td>no</td>\n",
              "      <td>cellular</td>\n",
              "      <td>19</td>\n",
              "      <td>aug</td>\n",
              "      <td>151</td>\n",
              "      <td>11</td>\n",
              "      <td>999</td>\n",
              "      <td>0</td>\n",
              "      <td>unknown</td>\n",
              "      <td>no</td>\n",
              "    </tr>\n",
              "    <tr>\n",
              "      <th>49730</th>\n",
              "      <td>28</td>\n",
              "      <td>blue-collar</td>\n",
              "      <td>married</td>\n",
              "      <td>secondary</td>\n",
              "      <td>no</td>\n",
              "      <td>1137</td>\n",
              "      <td>no</td>\n",
              "      <td>no</td>\n",
              "      <td>cellular</td>\n",
              "      <td>6</td>\n",
              "      <td>feb</td>\n",
              "      <td>129</td>\n",
              "      <td>4</td>\n",
              "      <td>211</td>\n",
              "      <td>3</td>\n",
              "      <td>other</td>\n",
              "      <td>no</td>\n",
              "    </tr>\n",
              "    <tr>\n",
              "      <th>49731</th>\n",
              "      <td>44</td>\n",
              "      <td>entrepreneur</td>\n",
              "      <td>single</td>\n",
              "      <td>tertiary</td>\n",
              "      <td>no</td>\n",
              "      <td>1136</td>\n",
              "      <td>yes</td>\n",
              "      <td>yes</td>\n",
              "      <td>cellular</td>\n",
              "      <td>3</td>\n",
              "      <td>apr</td>\n",
              "      <td>345</td>\n",
              "      <td>2</td>\n",
              "      <td>249</td>\n",
              "      <td>7</td>\n",
              "      <td>other</td>\n",
              "      <td>no</td>\n",
              "    </tr>\n",
              "  </tbody>\n",
              "</table>\n",
              "<p>49732 rows × 17 columns</p>\n",
              "</div>\n",
              "      <button class=\"colab-df-convert\" onclick=\"convertToInteractive('df-017f54a2-4930-4017-b4dc-982d05e8b43c')\"\n",
              "              title=\"Convert this dataframe to an interactive table.\"\n",
              "              style=\"display:none;\">\n",
              "        \n",
              "  <svg xmlns=\"http://www.w3.org/2000/svg\" height=\"24px\"viewBox=\"0 0 24 24\"\n",
              "       width=\"24px\">\n",
              "    <path d=\"M0 0h24v24H0V0z\" fill=\"none\"/>\n",
              "    <path d=\"M18.56 5.44l.94 2.06.94-2.06 2.06-.94-2.06-.94-.94-2.06-.94 2.06-2.06.94zm-11 1L8.5 8.5l.94-2.06 2.06-.94-2.06-.94L8.5 2.5l-.94 2.06-2.06.94zm10 10l.94 2.06.94-2.06 2.06-.94-2.06-.94-.94-2.06-.94 2.06-2.06.94z\"/><path d=\"M17.41 7.96l-1.37-1.37c-.4-.4-.92-.59-1.43-.59-.52 0-1.04.2-1.43.59L10.3 9.45l-7.72 7.72c-.78.78-.78 2.05 0 2.83L4 21.41c.39.39.9.59 1.41.59.51 0 1.02-.2 1.41-.59l7.78-7.78 2.81-2.81c.8-.78.8-2.07 0-2.86zM5.41 20L4 18.59l7.72-7.72 1.47 1.35L5.41 20z\"/>\n",
              "  </svg>\n",
              "      </button>\n",
              "      \n",
              "  <style>\n",
              "    .colab-df-container {\n",
              "      display:flex;\n",
              "      flex-wrap:wrap;\n",
              "      gap: 12px;\n",
              "    }\n",
              "\n",
              "    .colab-df-convert {\n",
              "      background-color: #E8F0FE;\n",
              "      border: none;\n",
              "      border-radius: 50%;\n",
              "      cursor: pointer;\n",
              "      display: none;\n",
              "      fill: #1967D2;\n",
              "      height: 32px;\n",
              "      padding: 0 0 0 0;\n",
              "      width: 32px;\n",
              "    }\n",
              "\n",
              "    .colab-df-convert:hover {\n",
              "      background-color: #E2EBFA;\n",
              "      box-shadow: 0px 1px 2px rgba(60, 64, 67, 0.3), 0px 1px 3px 1px rgba(60, 64, 67, 0.15);\n",
              "      fill: #174EA6;\n",
              "    }\n",
              "\n",
              "    [theme=dark] .colab-df-convert {\n",
              "      background-color: #3B4455;\n",
              "      fill: #D2E3FC;\n",
              "    }\n",
              "\n",
              "    [theme=dark] .colab-df-convert:hover {\n",
              "      background-color: #434B5C;\n",
              "      box-shadow: 0px 1px 3px 1px rgba(0, 0, 0, 0.15);\n",
              "      filter: drop-shadow(0px 1px 2px rgba(0, 0, 0, 0.3));\n",
              "      fill: #FFFFFF;\n",
              "    }\n",
              "  </style>\n",
              "\n",
              "      <script>\n",
              "        const buttonEl =\n",
              "          document.querySelector('#df-017f54a2-4930-4017-b4dc-982d05e8b43c button.colab-df-convert');\n",
              "        buttonEl.style.display =\n",
              "          google.colab.kernel.accessAllowed ? 'block' : 'none';\n",
              "\n",
              "        async function convertToInteractive(key) {\n",
              "          const element = document.querySelector('#df-017f54a2-4930-4017-b4dc-982d05e8b43c');\n",
              "          const dataTable =\n",
              "            await google.colab.kernel.invokeFunction('convertToInteractive',\n",
              "                                                     [key], {});\n",
              "          if (!dataTable) return;\n",
              "\n",
              "          const docLinkHtml = 'Like what you see? Visit the ' +\n",
              "            '<a target=\"_blank\" href=https://colab.research.google.com/notebooks/data_table.ipynb>data table notebook</a>'\n",
              "            + ' to learn more about interactive tables.';\n",
              "          element.innerHTML = '';\n",
              "          dataTable['output_type'] = 'display_data';\n",
              "          await google.colab.output.renderOutput(dataTable, element);\n",
              "          const docLink = document.createElement('div');\n",
              "          docLink.innerHTML = docLinkHtml;\n",
              "          element.appendChild(docLink);\n",
              "        }\n",
              "      </script>\n",
              "    </div>\n",
              "  </div>\n",
              "  "
            ]
          },
          "metadata": {},
          "execution_count": 143
        }
      ]
    },
    {
      "cell_type": "markdown",
      "source": [
        "##**Visualization of categorical data**"
      ],
      "metadata": {
        "id": "8Pkip0u4N2lH"
      }
    },
    {
      "cell_type": "code",
      "source": [
        "#Count plot is used to see the distributon of categorical data \n",
        "fig,axes = plt.subplots(nrows = 5, ncols = 2, figsize = (30,30))  \n",
        "sns.countplot(x =\"job\", data = df,ax=axes[0,0]).set(title = \"Distribution of job\")\n",
        "sns.countplot(x =\"marital\", data = df,ax=axes[0,1]).set(title = \"Distribution of marital\")\n",
        "sns.countplot(x =\"education\", data = df,ax=axes[1,0]).set(title = \"Distribution of education\")\n",
        "sns.countplot(x =\"default_credit\", data = df,ax=axes[1,1]).set(title = \"Distribution of default credit\")\n",
        "sns.countplot(x =\"housing_loan\", data = df,ax=axes[2,0]).set(title = \"Distribution of housing loan\")\n",
        "sns.countplot(x =\"personal_loan\", data = df,ax=axes[2,1]).set(title = \"Distribution of personal loan\")\n",
        "sns.countplot(x =\"contact_type\", data = df,ax=axes[3,0]).set(title = \"Distribution of Contact type\")\n",
        "sns.countplot(x =\"month_lastcontact\", data = df,ax=axes[3,1]).set(title = \"Distribution of month of last contact\")\n",
        "sns.countplot(x =\"poutcome\", data = df,ax=axes[4,0]).set(title = \"Distribution of previous out come\")\n",
        "sns.countplot(x =\"outcome\", data = df,ax=axes[4,1]).set(title = \"Distribution of out come\")"
      ],
      "metadata": {
        "colab": {
          "base_uri": "https://localhost:8080/",
          "height": 1000
        },
        "id": "oGmsTzpEPWph",
        "outputId": "dabf3388-ac03-4190-c0eb-ea5ab63b74a8"
      },
      "execution_count": null,
      "outputs": [
        {
          "output_type": "execute_result",
          "data": {
            "text/plain": [
              "[Text(0.5, 1.0, 'Distribution of out come')]"
            ]
          },
          "metadata": {},
          "execution_count": 144
        },
        {
          "output_type": "display_data",
          "data": {
            "text/plain": [
              "<Figure size 2160x2160 with 10 Axes>"
            ],
            "image/png": "[encoded data removed]"
          },
          "metadata": {
            "needs_background": "light"
          }
        }
      ]
    },
    {
      "cell_type": "markdown",
      "source": [
        "**Above Graph shows the distribution of categorical data**\n",
        "*  **the column jobs shows that, Blue collar and managment job people are patcipated more in Campaign.**\n",
        "*  **Marital column shows that more number of married people are participated in this campaign**\n",
        "* **people who are completed secondary education are participated in more number**\n",
        "*  **People who are  without  default credits are participated in high number in this campaign**\n",
        "*  **People who are having home loan are participated higher number in this campaign**\n",
        "*  **people without personal loan are participated more number in campaign***\n",
        "*  **Highest number of contact with client happned through cellular type**\n",
        "*  **In may month maximum number of people participated, and in december very low people are participated in this campaign**\n",
        "*  **Previous campaign out come shows most of are unknows, so no clear data availble about previous campaign**\n",
        "*  **Out come of this campaign is most of the clients are not  subscribed to a term deposit**"
      ],
      "metadata": {
        "id": "DmHyZz90miyp"
      }
    },
    {
      "cell_type": "markdown",
      "source": [
        "##**Visualization of numerical data**"
      ],
      "metadata": {
        "id": "zOTO1RgktrNP"
      }
    },
    {
      "cell_type": "code",
      "source": [
        "# Histogram plot, with sub plot\n",
        "fig,axes = plt.subplots(nrows = 4, ncols = 2, figsize = (30,40) )\n",
        "sns.histplot(x =\"age\",kde = True, data = df,ax=axes[0,0]).set(title = \"Distribution of age\")\n",
        "sns.histplot(x =\"balance\",kde = True, data = df,ax=axes[0,1]).set(title = \"Distribution of balance\")\n",
        "sns.histplot(x =\"day_lastcontact\",kde = True, data = df,ax=axes[1,0]).set(title = \"Distribution of day_lastcontact\")\n",
        "sns.histplot(x =\"duration\",kde = True, data = df,ax=axes[1,1]).set(title = \"Distribution of duration\")\n",
        "sns.histplot(x =\"campaign\",kde = True, data = df,ax=axes[2,0]).set(title = \"Distribution of campaign\")\n",
        "sns.histplot(x =\"pdays\",kde = True, data = df,ax=axes[2,1]).set(title = \"Distribution of pdays\")\n",
        "sns.histplot(x =\"previous\",kde = True, data = df,ax=axes[3,0]).set(title = \"Distribution of previous\")"
      ],
      "metadata": {
        "colab": {
          "base_uri": "https://localhost:8080/",
          "height": 1000
        },
        "id": "CSgwsbR7hjGW",
        "outputId": "bbff73d9-9574-4df6-a83c-4648debadf7a"
      },
      "execution_count": null,
      "outputs": [
        {
          "output_type": "execute_result",
          "data": {
            "text/plain": [
              "[Text(0.5, 1.0, 'Distribution of previous')]"
            ]
          },
          "metadata": {},
          "execution_count": 145
        },
        {
          "output_type": "display_data",
          "data": {
            "text/plain": [
              "<Figure size 2160x2880 with 8 Axes>"
            ],
            "image/png": "[encoded data removed]"
          },
          "metadata": {
            "needs_background": "light"
          }
        }
      ]
    },
    {
      "cell_type": "code",
      "source": [
        "#Checking for skwness for numerical column\n",
        "print (\"Skewness of aged column is : \", df.age.skew().round(2))\n",
        "print (\"Skewness of balance column is : \", df.balance.skew().round(2))\n",
        "print (\"Skewness of day_lastcontact column is : \", df.day_lastcontact.skew().round(2))\n",
        "print (\"Skewness of duration column is : \", df.duration.skew().round(2))\n",
        "print (\"Skewness of campaign column is : \", df.campaign.skew().round(2))\n",
        "print (\"Skewness of pdays column is : \", df.pdays.skew().round(2))\n",
        "print (\"Skewness of previous column is : \", df.previous.skew().round(2))"
      ],
      "metadata": {
        "colab": {
          "base_uri": "https://localhost:8080/"
        },
        "id": "nNqrROhdJjSs",
        "outputId": "d41eab80-b2f8-4fbd-da3f-1a41bd9b2671"
      },
      "execution_count": null,
      "outputs": [
        {
          "output_type": "stream",
          "name": "stdout",
          "text": [
            "Skewness of aged column is :  0.69\n",
            "Skewness of balance column is :  8.2\n",
            "Skewness of day_lastcontact column is :  0.09\n",
            "Skewness of duration column is :  3.11\n",
            "Skewness of campaign column is :  4.88\n",
            "Skewness of pdays column is :  -1.74\n",
            "Skewness of previous column is :  40.78\n"
          ]
        }
      ]
    },
    {
      "cell_type": "markdown",
      "source": [
        "##**From above histogram distribution of numerical data as follows**\n",
        "*  **Age data is right skewd data, Client aged between 30 to 40 years are participated higher number in campaign**\n",
        "*  **Balance data shows that most of the people with zero and low balance ammount are approched to campaign**\n",
        "*  **day column shows that on 20th day, higher number of clients are participated in the campaign**\n",
        "*  **duration of contact shows that data is right skewed, maximum contact has happened for the duration of 500sec, that is 8 minutes**\n",
        "*  **Campaign colmnn shows that majority of clients as contacts of 1 to 2 number of conatacts**\n",
        "*  **Ditribution of Pday shows that maximum clients are new to this campaign, they didn't paticipated in previous campaign**\n",
        "*  **previous column shows that, number of contact in previous campaign are higher in zeros** "
      ],
      "metadata": {
        "id": "YkOp0nwaxcAv"
      }
    },
    {
      "cell_type": "markdown",
      "source": [
        "##**Finding Outlier**"
      ],
      "metadata": {
        "id": "96fIICIL-NJY"
      }
    },
    {
      "cell_type": "markdown",
      "source": [
        "**To find the outlier we use Box plot**"
      ],
      "metadata": {
        "id": "SN8tOGwO-WQg"
      }
    },
    {
      "cell_type": "code",
      "source": [
        "# Box plot with sub plot\n",
        "fig,axes = plt.subplots(nrows = 4, ncols = 2, figsize = (25,25) )\n",
        "sns.boxplot(x =\"age\", data = df,ax=axes[0,0]).set(title = \"Distribution of age\")\n",
        "sns.boxplot(x =\"balance\", data = df,ax=axes[0,1]).set(title = \"Distribution of balance\")\n",
        "sns.boxplot(x =\"day_lastcontact\", data = df,ax=axes[1,0]).set(title = \"Distribution of day_lastcontact\")\n",
        "sns.boxplot(x =\"duration\", data = df,ax=axes[1,1]).set(title = \"Distribution of duration\")\n",
        "sns.boxplot(x =\"campaign\", data = df,ax=axes[2,0]).set(title = \"Distribution of campaign\")\n",
        "sns.boxplot(x =\"pdays\", data = df,ax=axes[2,1]).set(title = \"Distribution of pdays\")\n",
        "sns.boxplot(x =\"previous\", data = df,ax=axes[3,0]).set(title = \"Distribution of previous\")"
      ],
      "metadata": {
        "colab": {
          "base_uri": "https://localhost:8080/",
          "height": 1000
        },
        "id": "0nhEaeEP_LQo",
        "outputId": "0826ca4e-b1fe-46b3-8b92-0875b9fd3058"
      },
      "execution_count": null,
      "outputs": [
        {
          "output_type": "execute_result",
          "data": {
            "text/plain": [
              "[Text(0.5, 1.0, 'Distribution of previous')]"
            ]
          },
          "metadata": {},
          "execution_count": 147
        },
        {
          "output_type": "display_data",
          "data": {
            "text/plain": [
              "<Figure size 1800x1800 with 8 Axes>"
            ],
            "image/png": "[encoded data removed]"
          },
          "metadata": {
            "needs_background": "light"
          }
        }
      ]
    },
    {
      "cell_type": "markdown",
      "source": [
        "**Information from box plot**\n",
        "* **Ditribution of Age column has minimum value from 20 to maximum of 70, with median of 40,also we can see some oulier**\n",
        "*  **In balance column 50% of data lies near zero, and ouliers are observed**\n",
        "*  **Column day of contact has no outlier, and 50% of data 8th to 22nd**\n",
        "*  **Distribution of duration of contact shows that some, maximum duration of conatact is around 250sec, and also we can observe that outlier in the column**\n",
        "*   **Distribution of campaign shows that maximum number of contact lies between 1 to 3 number of contact, also we can observe outlier**\n",
        "*  **Column Pdays shows that majority of clients are new to this campaign. also we  can see outlier in this column**\n",
        "*  **Previous column shows that maximum of zero number of contact in previous campaign, also we can see some outlier**\n"
      ],
      "metadata": {
        "id": "DTPs37tkCHd2"
      }
    },
    {
      "cell_type": "markdown",
      "source": [
        "##**Method :-1, using Log Transformation for outlier**"
      ],
      "metadata": {
        "id": "AuJer9DkWzOl"
      }
    },
    {
      "cell_type": "code",
      "source": [
        "#Copping original data file to df_l\n",
        "df_l = df.copy( deep = True)"
      ],
      "metadata": {
        "id": "YY-qrnObNHA-"
      },
      "execution_count": null,
      "outputs": []
    },
    {
      "cell_type": "code",
      "source": [
        "#Using for loop for for numerical columns & taking log of values\n",
        "for i in df_l.columns:\n",
        " if df_l[i].dtype=='int64':\n",
        "   df_l[i] = np.log(df_l[i])"
      ],
      "metadata": {
        "colab": {
          "base_uri": "https://localhost:8080/"
        },
        "id": "ofdtJWoiM5yY",
        "outputId": "ded74736-3e50-4d66-9729-413d488ed7b7"
      },
      "execution_count": null,
      "outputs": [
        {
          "output_type": "stream",
          "name": "stderr",
          "text": [
            "/usr/local/lib/python3.7/dist-packages/pandas/core/arraylike.py:364: RuntimeWarning: divide by zero encountered in log\n",
            "  result = getattr(ufunc, method)(*inputs, **kwargs)\n",
            "/usr/local/lib/python3.7/dist-packages/pandas/core/arraylike.py:364: RuntimeWarning: invalid value encountered in log\n",
            "  result = getattr(ufunc, method)(*inputs, **kwargs)\n"
          ]
        }
      ]
    },
    {
      "cell_type": "code",
      "source": [
        "#Checking for reslut of log transformation \n",
        "fig,axes = plt.subplots(nrows = 4, ncols = 2, figsize = (10,10) )\n",
        "sns.boxplot(x =\"age\", data = df_l,ax=axes[0,0]).set(title = \"Distribution of age\")\n",
        "sns.boxplot(x =\"balance\", data = df_l,ax=axes[0,1]).set(title = \"Distribution of balance\")\n",
        "sns.boxplot(x =\"day_lastcontact\", data = df_l,ax=axes[1,0]).set(title = \"Distribution of day_lastcontact\")\n",
        "sns.boxplot(x =\"duration\", data = df_l,ax=axes[1,1]).set(title = \"Distribution of duration\")\n",
        "sns.boxplot(x =\"campaign\", data = df_l,ax=axes[2,0]).set(title = \"Distribution of campaign\")\n",
        "sns.boxplot(x =\"pdays\", data = df_l,ax=axes[2,1]).set(title = \"Distribution of pdays\")\n",
        "sns.boxplot(x =\"previous\", data = df_l,ax=axes[3,0]).set(title = \"Distribution of previous\")"
      ],
      "metadata": {
        "colab": {
          "base_uri": "https://localhost:8080/",
          "height": 674
        },
        "id": "D4GUTSQWOdjK",
        "outputId": "58998342-75e5-4844-a2a4-b1c4ed0dc38b"
      },
      "execution_count": null,
      "outputs": [
        {
          "output_type": "stream",
          "name": "stderr",
          "text": [
            "/usr/local/lib/python3.7/dist-packages/numpy/lib/function_base.py:4009: RuntimeWarning: invalid value encountered in subtract\n",
            "  diff_b_a = subtract(b, a)\n"
          ]
        },
        {
          "output_type": "execute_result",
          "data": {
            "text/plain": [
              "[Text(0.5, 1.0, 'Distribution of previous')]"
            ]
          },
          "metadata": {},
          "execution_count": 150
        },
        {
          "output_type": "display_data",
          "data": {
            "text/plain": [
              "<Figure size 720x720 with 8 Axes>"
            ],
            "image/png": "[encoded data removed]"
          },
          "metadata": {
            "needs_background": "light"
          }
        }
      ]
    },
    {
      "cell_type": "markdown",
      "source": [
        "##**Method 2: Using IQR Method**"
      ],
      "metadata": {
        "id": "eqbtMJjZX0dD"
      }
    },
    {
      "cell_type": "markdown",
      "source": [
        "**Here IQR Method is used to identify the Oulier, and outliers are replaced with median value**"
      ],
      "metadata": {
        "id": "xL4F6GiLYChj"
      }
    },
    {
      "cell_type": "code",
      "source": [
        "# creating copy of data frame to df_i\n",
        "df_i = df.copy( deep = True)"
      ],
      "metadata": {
        "id": "OU5UFPlBPb9x"
      },
      "execution_count": null,
      "outputs": []
    },
    {
      "cell_type": "code",
      "source": [
        "#Function to replace outlier with median value\n",
        "def rep(num):\n",
        "  if num>high or num<low:\n",
        "    return df_i[i].median()\n",
        "  else:\n",
        "    return num"
      ],
      "metadata": {
        "id": "w8gCq3l1QhPf"
      },
      "execution_count": null,
      "outputs": []
    },
    {
      "cell_type": "code",
      "source": [
        "#Inding Iqr for all numerical columns\n",
        "for i in df_i.columns:\n",
        " if df_i[i].dtype=='int64':\n",
        "   Q1=np.percentile(df_i[i],25) \n",
        "   Q2=np.percentile(df_i[i],50)\n",
        "   Q3=np.percentile(df_i[i],75)\n",
        "   IQR=Q3-Q1\n",
        "   low= Q1-1.5*IQR\n",
        "   high=Q3+1.5*IQR\n",
        "   df_i[i]=df_i[i].apply(rep)\n",
        " "
      ],
      "metadata": {
        "id": "XX75mwAmPWi_"
      },
      "execution_count": null,
      "outputs": []
    },
    {
      "cell_type": "code",
      "source": [
        "#checking the result with box plot\n",
        "dfig,axes = plt.subplots(nrows = 4, ncols = 2, figsize = (10,10) )\n",
        "sns.boxplot(x =\"age\", data = df_i,ax=axes[0,0]).set(title = \"Distribution of age\")\n",
        "sns.boxplot(x =\"balance\", data = df_i,ax=axes[0,1]).set(title = \"Distribution of balance\")\n",
        "sns.boxplot(x =\"day_lastcontact\", data = df_i,ax=axes[1,0]).set(title = \"Distribution of day_lastcontact\")\n",
        "sns.boxplot(x =\"duration\", data = df_i,ax=axes[1,1]).set(title = \"Distribution of duration\")\n",
        "sns.boxplot(x =\"campaign\", data = df_i,ax=axes[2,0]).set(title = \"Distribution of campaign\")\n",
        "sns.boxplot(x =\"pdays\", data = df_i,ax=axes[2,1]).set(title = \"Distribution of pdays\")\n",
        "sns.boxplot(x =\"previous\", data = df_i,ax=axes[3,0]).set(title = \"Distribution of previous\")"
      ],
      "metadata": {
        "colab": {
          "base_uri": "https://localhost:8080/",
          "height": 639
        },
        "id": "B7ZYdrSYRsM6",
        "outputId": "3acd279a-8a99-4143-b3d8-d6137bb77cd4"
      },
      "execution_count": null,
      "outputs": [
        {
          "output_type": "execute_result",
          "data": {
            "text/plain": [
              "[Text(0.5, 1.0, 'Distribution of previous')]"
            ]
          },
          "metadata": {},
          "execution_count": 154
        },
        {
          "output_type": "display_data",
          "data": {
            "text/plain": [
              "<Figure size 720x720 with 8 Axes>"
            ],
            "image/png": "[encoded data removed]"
          },
          "metadata": {
            "needs_background": "light"
          }
        }
      ]
    },
    {
      "cell_type": "markdown",
      "source": [
        "**From above two methods, observing result box plot, we can see that IQR method fits good**\n",
        "\n",
        "*  **Also we can observe that column pdays, and prevous has low significant data, so we can drop those columns**"
      ],
      "metadata": {
        "id": "i0Q_ZETiDrur"
      }
    },
    {
      "cell_type": "code",
      "source": [
        "#droping pdays and previous column\n",
        "df_i = df_i.drop(['pdays', 'previous'], axis=1)"
      ],
      "metadata": {
        "id": "xDmG49t0-LiH"
      },
      "execution_count": null,
      "outputs": []
    },
    {
      "cell_type": "markdown",
      "source": [
        "##**EDA**"
      ],
      "metadata": {
        "id": "2Uw8-0q6ZaEp"
      }
    },
    {
      "cell_type": "markdown",
      "source": [
        "**For better understanding, age  colmn can be binned to age category which contains defferent age group**\n",
        "\n",
        "*  **0 ~ 25 are young**\n",
        "*  **25 ~ 35 as adult**\n",
        "*  **35 ~ 50 as mid age**\n",
        "*  **50 ~100 as old** "
      ],
      "metadata": {
        "id": "8g37SuzcfVom"
      }
    },
    {
      "cell_type": "code",
      "source": [
        "cut_labels_4 = ['young', 'adult', 'mid aged', 'old']\n",
        "cut_bins = [0,25, 35, 50, 100]\n",
        "df_i['Age_bin'] = pd.cut(df_i['age'], \n",
        "                       bins=cut_bins, labels=cut_labels_4)\n",
        "df_i[['Age_bin','age']]"
      ],
      "metadata": {
        "id": "UzEL95ix-bNq",
        "colab": {
          "base_uri": "https://localhost:8080/",
          "height": 424
        },
        "outputId": "091e5394-bae7-4141-a3a1-6e931ec27450"
      },
      "execution_count": null,
      "outputs": [
        {
          "output_type": "execute_result",
          "data": {
            "text/plain": [
              "        Age_bin   age\n",
              "0           old  58.0\n",
              "1      mid aged  44.0\n",
              "2         adult  33.0\n",
              "3      mid aged  47.0\n",
              "4         adult  33.0\n",
              "...         ...   ...\n",
              "49727     adult  33.0\n",
              "49728       old  57.0\n",
              "49729       old  57.0\n",
              "49730     adult  28.0\n",
              "49731  mid aged  44.0\n",
              "\n",
              "[49732 rows x 2 columns]"
            ],
            "text/html": [
              "\n",
              "  <div id=\"df-ba83a03f-5470-47ae-be6a-ec1d5a127e04\">\n",
              "    <div class=\"colab-df-container\">\n",
              "      <div>\n",
              "<style scoped>\n",
              "    .dataframe tbody tr th:only-of-type {\n",
              "        vertical-align: middle;\n",
              "    }\n",
              "\n",
              "    .dataframe tbody tr th {\n",
              "        vertical-align: top;\n",
              "    }\n",
              "\n",
              "    .dataframe thead th {\n",
              "        text-align: right;\n",
              "    }\n",
              "</style>\n",
              "<table border=\"1\" class=\"dataframe\">\n",
              "  <thead>\n",
              "    <tr style=\"text-align: right;\">\n",
              "      <th></th>\n",
              "      <th>Age_bin</th>\n",
              "      <th>age</th>\n",
              "    </tr>\n",
              "  </thead>\n",
              "  <tbody>\n",
              "    <tr>\n",
              "      <th>0</th>\n",
              "      <td>old</td>\n",
              "      <td>58.0</td>\n",
              "    </tr>\n",
              "    <tr>\n",
              "      <th>1</th>\n",
              "      <td>mid aged</td>\n",
              "      <td>44.0</td>\n",
              "    </tr>\n",
              "    <tr>\n",
              "      <th>2</th>\n",
              "      <td>adult</td>\n",
              "      <td>33.0</td>\n",
              "    </tr>\n",
              "    <tr>\n",
              "      <th>3</th>\n",
              "      <td>mid aged</td>\n",
              "      <td>47.0</td>\n",
              "    </tr>\n",
              "    <tr>\n",
              "      <th>4</th>\n",
              "      <td>adult</td>\n",
              "      <td>33.0</td>\n",
              "    </tr>\n",
              "    <tr>\n",
              "      <th>...</th>\n",
              "      <td>...</td>\n",
              "      <td>...</td>\n",
              "    </tr>\n",
              "    <tr>\n",
              "      <th>49727</th>\n",
              "      <td>adult</td>\n",
              "      <td>33.0</td>\n",
              "    </tr>\n",
              "    <tr>\n",
              "      <th>49728</th>\n",
              "      <td>old</td>\n",
              "      <td>57.0</td>\n",
              "    </tr>\n",
              "    <tr>\n",
              "      <th>49729</th>\n",
              "      <td>old</td>\n",
              "      <td>57.0</td>\n",
              "    </tr>\n",
              "    <tr>\n",
              "      <th>49730</th>\n",
              "      <td>adult</td>\n",
              "      <td>28.0</td>\n",
              "    </tr>\n",
              "    <tr>\n",
              "      <th>49731</th>\n",
              "      <td>mid aged</td>\n",
              "      <td>44.0</td>\n",
              "    </tr>\n",
              "  </tbody>\n",
              "</table>\n",
              "<p>49732 rows × 2 columns</p>\n",
              "</div>\n",
              "      <button class=\"colab-df-convert\" onclick=\"convertToInteractive('df-ba83a03f-5470-47ae-be6a-ec1d5a127e04')\"\n",
              "              title=\"Convert this dataframe to an interactive table.\"\n",
              "              style=\"display:none;\">\n",
              "        \n",
              "  <svg xmlns=\"http://www.w3.org/2000/svg\" height=\"24px\"viewBox=\"0 0 24 24\"\n",
              "       width=\"24px\">\n",
              "    <path d=\"M0 0h24v24H0V0z\" fill=\"none\"/>\n",
              "    <path d=\"M18.56 5.44l.94 2.06.94-2.06 2.06-.94-2.06-.94-.94-2.06-.94 2.06-2.06.94zm-11 1L8.5 8.5l.94-2.06 2.06-.94-2.06-.94L8.5 2.5l-.94 2.06-2.06.94zm10 10l.94 2.06.94-2.06 2.06-.94-2.06-.94-.94-2.06-.94 2.06-2.06.94z\"/><path d=\"M17.41 7.96l-1.37-1.37c-.4-.4-.92-.59-1.43-.59-.52 0-1.04.2-1.43.59L10.3 9.45l-7.72 7.72c-.78.78-.78 2.05 0 2.83L4 21.41c.39.39.9.59 1.41.59.51 0 1.02-.2 1.41-.59l7.78-7.78 2.81-2.81c.8-.78.8-2.07 0-2.86zM5.41 20L4 18.59l7.72-7.72 1.47 1.35L5.41 20z\"/>\n",
              "  </svg>\n",
              "      </button>\n",
              "      \n",
              "  <style>\n",
              "    .colab-df-container {\n",
              "      display:flex;\n",
              "      flex-wrap:wrap;\n",
              "      gap: 12px;\n",
              "    }\n",
              "\n",
              "    .colab-df-convert {\n",
              "      background-color: #E8F0FE;\n",
              "      border: none;\n",
              "      border-radius: 50%;\n",
              "      cursor: pointer;\n",
              "      display: none;\n",
              "      fill: #1967D2;\n",
              "      height: 32px;\n",
              "      padding: 0 0 0 0;\n",
              "      width: 32px;\n",
              "    }\n",
              "\n",
              "    .colab-df-convert:hover {\n",
              "      background-color: #E2EBFA;\n",
              "      box-shadow: 0px 1px 2px rgba(60, 64, 67, 0.3), 0px 1px 3px 1px rgba(60, 64, 67, 0.15);\n",
              "      fill: #174EA6;\n",
              "    }\n",
              "\n",
              "    [theme=dark] .colab-df-convert {\n",
              "      background-color: #3B4455;\n",
              "      fill: #D2E3FC;\n",
              "    }\n",
              "\n",
              "    [theme=dark] .colab-df-convert:hover {\n",
              "      background-color: #434B5C;\n",
              "      box-shadow: 0px 1px 3px 1px rgba(0, 0, 0, 0.15);\n",
              "      filter: drop-shadow(0px 1px 2px rgba(0, 0, 0, 0.3));\n",
              "      fill: #FFFFFF;\n",
              "    }\n",
              "  </style>\n",
              "\n",
              "      <script>\n",
              "        const buttonEl =\n",
              "          document.querySelector('#df-ba83a03f-5470-47ae-be6a-ec1d5a127e04 button.colab-df-convert');\n",
              "        buttonEl.style.display =\n",
              "          google.colab.kernel.accessAllowed ? 'block' : 'none';\n",
              "\n",
              "        async function convertToInteractive(key) {\n",
              "          const element = document.querySelector('#df-ba83a03f-5470-47ae-be6a-ec1d5a127e04');\n",
              "          const dataTable =\n",
              "            await google.colab.kernel.invokeFunction('convertToInteractive',\n",
              "                                                     [key], {});\n",
              "          if (!dataTable) return;\n",
              "\n",
              "          const docLinkHtml = 'Like what you see? Visit the ' +\n",
              "            '<a target=\"_blank\" href=https://colab.research.google.com/notebooks/data_table.ipynb>data table notebook</a>'\n",
              "            + ' to learn more about interactive tables.';\n",
              "          element.innerHTML = '';\n",
              "          dataTable['output_type'] = 'display_data';\n",
              "          await google.colab.output.renderOutput(dataTable, element);\n",
              "          const docLink = document.createElement('div');\n",
              "          docLink.innerHTML = docLinkHtml;\n",
              "          element.appendChild(docLink);\n",
              "        }\n",
              "      </script>\n",
              "    </div>\n",
              "  </div>\n",
              "  "
            ]
          },
          "metadata": {},
          "execution_count": 156
        }
      ]
    },
    {
      "cell_type": "markdown",
      "source": [
        "##**comparing age of client on outcome result**"
      ],
      "metadata": {
        "id": "d04EzwCTokvl"
      }
    },
    {
      "cell_type": "code",
      "source": [
        "#Box plot is used to plot numerical vs categorical column\n",
        "fig = plt.figure(figsize = (10,7))\n",
        "sns. boxplot(x= 'age', y= \"outcome\", data = df_i).set(title = \"comparission of age on outcome result\")"
      ],
      "metadata": {
        "colab": {
          "base_uri": "https://localhost:8080/",
          "height": 475
        },
        "id": "A3TtLzkHjLTk",
        "outputId": "516fadcb-4232-4fe4-c380-dd4f017d4687"
      },
      "execution_count": null,
      "outputs": [
        {
          "output_type": "execute_result",
          "data": {
            "text/plain": [
              "[Text(0.5, 1.0, 'comparission of age on outcome result')]"
            ]
          },
          "metadata": {},
          "execution_count": 157
        },
        {
          "output_type": "display_data",
          "data": {
            "text/plain": [
              "<Figure size 720x504 with 1 Axes>"
            ],
            "image/png": "[encoded data removed]"
          },
          "metadata": {
            "needs_background": "light"
          }
        }
      ]
    },
    {
      "cell_type": "markdown",
      "source": [
        "**Above Graph shows the comparission  Client age on outcome result**\n",
        "*  **Median age for subscribed clients is lower than that of non subscribed client**\n",
        "*  **also 25% of subscribed clients are lower age than non subscribed**\n",
        "*  **Which indicates that cients with lower age grup are more intersted in subscribion of banking marked**  "
      ],
      "metadata": {
        "id": "y8kO7ndpo8cX"
      }
    },
    {
      "cell_type": "code",
      "source": [
        "#Count plot is used to count categorical data\n",
        "fig = plt.figure(figsize = (10,7))\n",
        "sns. countplot(x= 'Age_bin', hue = \"outcome\", data = df_i).set(title = \"comparission of age group on outcome result\")"
      ],
      "metadata": {
        "colab": {
          "base_uri": "https://localhost:8080/",
          "height": 476
        },
        "id": "kd1i0dxBqTj4",
        "outputId": "7b9eebe1-898c-4c9c-ff38-d29425ad05fe"
      },
      "execution_count": null,
      "outputs": [
        {
          "output_type": "execute_result",
          "data": {
            "text/plain": [
              "[Text(0.5, 1.0, 'comparission of age group on outcome result')]"
            ]
          },
          "metadata": {},
          "execution_count": 158
        },
        {
          "output_type": "display_data",
          "data": {
            "text/plain": [
              "<Figure size 720x504 with 1 Axes>"
            ],
            "image/png": "[encoded data removed]"
          },
          "metadata": {
            "needs_background": "light"
          }
        }
      ]
    },
    {
      "cell_type": "markdown",
      "source": [
        "**Above plot shows that**\n",
        "*  **In this campaign, most of the clients are of adult or midle aged**\n",
        "*  **Most subscribption recieved from  adult and mid age grouped people**\n",
        "*  **Aso we can obseve that,ration of no subscripation to subscription is lower in young aged people, so we can keep young aged clients as target customer**"
      ],
      "metadata": {
        "id": "uou7fzdjrKo0"
      }
    },
    {
      "cell_type": "markdown",
      "source": [
        "##**Comparing Occupation(job) of Clients on outcome result**"
      ],
      "metadata": {
        "id": "_2jGHRp7snU-"
      }
    },
    {
      "cell_type": "code",
      "source": [
        "#Count plot is used to count categorical data\n",
        "fig = plt.figure(figsize = (15,7))\n",
        "sns. countplot(x= 'job', hue = \"outcome\", data = df_i).set(title = \"comparission of Job on outcome result\")"
      ],
      "metadata": {
        "colab": {
          "base_uri": "https://localhost:8080/",
          "height": 475
        },
        "id": "r4yyjaJ2tENQ",
        "outputId": "f2294e80-d775-4947-897e-7ff047724ad8"
      },
      "execution_count": null,
      "outputs": [
        {
          "output_type": "execute_result",
          "data": {
            "text/plain": [
              "[Text(0.5, 1.0, 'comparission of Job on outcome result')]"
            ]
          },
          "metadata": {},
          "execution_count": 159
        },
        {
          "output_type": "display_data",
          "data": {
            "text/plain": [
              "<Figure size 1080x504 with 1 Axes>"
            ],
            "image/png": "[encoded data removed]"
          },
          "metadata": {
            "needs_background": "light"
          }
        }
      ]
    },
    {
      "cell_type": "markdown",
      "source": [
        "**From above graph we can observe that**\n",
        "*  **blue collar job clients are participated more numer in campaingn**\n",
        "*  **But clients from managment backgrounds are subscribed in higher number in this campaign**\n",
        "*  **also we can observe that ratio of non subscription to subscription os low in students, which means students more likely to be subscribed so we can keep students also our target clients for next campaign**"
      ],
      "metadata": {
        "id": "D0BfS8hQvNRl"
      }
    },
    {
      "cell_type": "markdown",
      "source": [
        "##**Comparing Marital status of Clients on outcome result**"
      ],
      "metadata": {
        "id": "nqxfCF1Zuriy"
      }
    },
    {
      "cell_type": "code",
      "source": [
        "#Count plot is used to count categorical data\n",
        "fig = plt.figure(figsize = (15,7))\n",
        "sns. countplot(x= 'marital', hue = \"outcome\", data = df_i).set(title = \"comparission of marital status on outcome result\")"
      ],
      "metadata": {
        "colab": {
          "base_uri": "https://localhost:8080/",
          "height": 475
        },
        "id": "GE1jXR3awk0o",
        "outputId": "0c894738-4e15-4c5d-96e3-57666498f9e3"
      },
      "execution_count": null,
      "outputs": [
        {
          "output_type": "execute_result",
          "data": {
            "text/plain": [
              "[Text(0.5, 1.0, 'comparission of marital status on outcome result')]"
            ]
          },
          "metadata": {},
          "execution_count": 160
        },
        {
          "output_type": "display_data",
          "data": {
            "text/plain": [
              "<Figure size 1080x504 with 1 Axes>"
            ],
            "image/png": "[encoded data removed]"
          },
          "metadata": {
            "needs_background": "light"
          }
        }
      ]
    },
    {
      "cell_type": "markdown",
      "source": [
        "**Above Graph shows the compasition of marital status on outcome result**\n",
        "*  **In this campaign more number of married claients are participated, and higher number of subscription recived from married client**\n",
        "*  **Also we can observe that ratio of non subsription to subscription is low compared to other category, So in next campaign we can keep singles as target customer to get higher number of subscription**"
      ],
      "metadata": {
        "id": "YYxmid28xJQi"
      }
    },
    {
      "cell_type": "markdown",
      "source": [
        "##**Comparing Education status of Clients on outcome result**"
      ],
      "metadata": {
        "id": "VjhNnkLQy_l4"
      }
    },
    {
      "cell_type": "code",
      "source": [
        "#Count plot is used to count categorical data\n",
        "fig = plt.figure(figsize = (15,7))\n",
        "sns. countplot(x= 'education', hue = \"outcome\", data = df_i).set(title = \"comparission of Education status on outcome result\")"
      ],
      "metadata": {
        "colab": {
          "base_uri": "https://localhost:8080/",
          "height": 475
        },
        "id": "0FkfeVYhzGR0",
        "outputId": "b71a5b1f-69a8-4aca-80ed-35426651c336"
      },
      "execution_count": null,
      "outputs": [
        {
          "output_type": "execute_result",
          "data": {
            "text/plain": [
              "[Text(0.5, 1.0, 'comparission of Education status on outcome result')]"
            ]
          },
          "metadata": {},
          "execution_count": 161
        },
        {
          "output_type": "display_data",
          "data": {
            "text/plain": [
              "<Figure size 1080x504 with 1 Axes>"
            ],
            "image/png": "[encoded data removed]"
          },
          "metadata": {
            "needs_background": "light"
          }
        }
      ]
    },
    {
      "cell_type": "markdown",
      "source": [
        "**Aboveabove Graph we can observe that**\n",
        "*  **Secondary educated clients are participated more number in this campaign**\n",
        "*  **But Ratio od non subscription to subscription is low in tertiary educated clients, so we can keep tertiary educated clients as our target customer**"
      ],
      "metadata": {
        "id": "zwri78GDzf8b"
      }
    },
    {
      "cell_type": "markdown",
      "source": [
        "##**Comparing Default Credit status of Clients on outcome result**"
      ],
      "metadata": {
        "id": "LvVW2XDk0lKB"
      }
    },
    {
      "cell_type": "code",
      "source": [
        "#Count plot is used to count categorical data\n",
        "fig = plt.figure(figsize = (15,7))\n",
        "sns. countplot(x= 'default_credit', hue = \"outcome\", data = df_i).set(title = \"comparission of Default credit status on outcome result\")"
      ],
      "metadata": {
        "colab": {
          "base_uri": "https://localhost:8080/",
          "height": 476
        },
        "id": "KcdkRHyE07sw",
        "outputId": "022a9579-0431-44fb-925b-efb5e4211774"
      },
      "execution_count": null,
      "outputs": [
        {
          "output_type": "execute_result",
          "data": {
            "text/plain": [
              "[Text(0.5, 1.0, 'comparission of Default credit status on outcome result')]"
            ]
          },
          "metadata": {},
          "execution_count": 162
        },
        {
          "output_type": "display_data",
          "data": {
            "text/plain": [
              "<Figure size 1080x504 with 1 Axes>"
            ],
            "image/png": "[encoded data removed]"
          },
          "metadata": {
            "needs_background": "light"
          }
        }
      ]
    },
    {
      "cell_type": "markdown",
      "source": [
        "**Above Graph Shows that clients, Without default credit  are participated more nuber in this campaign**\n",
        "\n",
        "**Here Data is imbalanced** "
      ],
      "metadata": {
        "id": "rPsVDym31Uss"
      }
    },
    {
      "cell_type": "markdown",
      "source": [
        "##**Comparing Housing loan status of Clients on outcome result**"
      ],
      "metadata": {
        "id": "EQ-jM9ac2Q0j"
      }
    },
    {
      "cell_type": "code",
      "source": [
        "#Count plot is used to count categorical data\n",
        "fig = plt.figure(figsize = (15,7))\n",
        "sns. countplot(x= 'housing_loan', hue = \"outcome\", data = df_i).set(title = \"comparission of housing_loan status on outcome result\")"
      ],
      "metadata": {
        "colab": {
          "base_uri": "https://localhost:8080/",
          "height": 476
        },
        "id": "15w4_e1Y2ZL5",
        "outputId": "d942f1ec-72e4-475b-f2ca-ad8b7c243bf5"
      },
      "execution_count": null,
      "outputs": [
        {
          "output_type": "execute_result",
          "data": {
            "text/plain": [
              "[Text(0.5, 1.0, 'comparission of housing_loan status on outcome result')]"
            ]
          },
          "metadata": {},
          "execution_count": 163
        },
        {
          "output_type": "display_data",
          "data": {
            "text/plain": [
              "<Figure size 1080x504 with 1 Axes>"
            ],
            "image/png": "[encoded data removed]"
          },
          "metadata": {
            "needs_background": "light"
          }
        }
      ]
    },
    {
      "cell_type": "markdown",
      "source": [
        "**Above Graph shows that**\n",
        "*  **Higher number of subscription recieved from the clients who were not having home lone**\n",
        "*  **We can make clients without home loans as target customer to achive more nummber of subsription**"
      ],
      "metadata": {
        "id": "C6ZROFjj3DTW"
      }
    },
    {
      "cell_type": "markdown",
      "source": [
        "##**Comparing Personal loan status of Clients on outcome result**"
      ],
      "metadata": {
        "id": "bxTZ7Dfa4dA_"
      }
    },
    {
      "cell_type": "code",
      "source": [
        "#Count plot is used to count categorical data\n",
        "fig = plt.figure(figsize = (15,7))\n",
        "sns. countplot(x= 'personal_loan', hue = \"outcome\", data = df_i).set(title = \"comparission of personal_loan status on outcome result\")"
      ],
      "metadata": {
        "colab": {
          "base_uri": "https://localhost:8080/",
          "height": 476
        },
        "id": "4RH9niPx4vCa",
        "outputId": "4afcda46-079f-41aa-f8d4-c4dff0ba8daa"
      },
      "execution_count": null,
      "outputs": [
        {
          "output_type": "execute_result",
          "data": {
            "text/plain": [
              "[Text(0.5, 1.0, 'comparission of personal_loan status on outcome result')]"
            ]
          },
          "metadata": {},
          "execution_count": 164
        },
        {
          "output_type": "display_data",
          "data": {
            "text/plain": [
              "<Figure size 1080x504 with 1 Axes>"
            ],
            "image/png": "[encoded data removed]"
          },
          "metadata": {
            "needs_background": "light"
          }
        }
      ]
    },
    {
      "cell_type": "markdown",
      "source": [
        "**Above graph shows that**\n",
        "*  **Clients without personal loan participated in higher number in this campaign, and most of subscripation done by clients without personal loan**\n",
        "*  **we can see here data is imbalaced** "
      ],
      "metadata": {
        "id": "jrgR7DjX5CYO"
      }
    },
    {
      "cell_type": "markdown",
      "source": [
        "##**Comparing Type of contact with Clients on outcome result**"
      ],
      "metadata": {
        "id": "aq0A2lZl5keA"
      }
    },
    {
      "cell_type": "code",
      "source": [
        "#Count plot is used to count categorical data\n",
        "fig = plt.figure(figsize = (15,7))\n",
        "sns. countplot(x= 'contact_type', hue = \"outcome\", data = df_i).set(title = \"comparission ofType of contact on outcome result\")"
      ],
      "metadata": {
        "colab": {
          "base_uri": "https://localhost:8080/",
          "height": 476
        },
        "id": "HUPWtKf45_pM",
        "outputId": "8b5eab11-110b-4833-8de3-d79f774a886e"
      },
      "execution_count": null,
      "outputs": [
        {
          "output_type": "execute_result",
          "data": {
            "text/plain": [
              "[Text(0.5, 1.0, 'comparission ofType of contact on outcome result')]"
            ]
          },
          "metadata": {},
          "execution_count": 165
        },
        {
          "output_type": "display_data",
          "data": {
            "text/plain": [
              "<Figure size 1080x504 with 1 Axes>"
            ],
            "image/png": "[encoded data removed]"
          },
          "metadata": {
            "needs_background": "light"
          }
        }
      ]
    },
    {
      "cell_type": "markdown",
      "source": [
        "**Above graphwe can observe that**\n",
        "*  **in current campaign, Most of the contact happend through cellular, also Higher subscripation recieved from the clients who contacted thruogh cellular type**"
      ],
      "metadata": {
        "id": "7D2BIZ2P6u4o"
      }
    },
    {
      "cell_type": "markdown",
      "source": [
        "##**Comparing Month of contact with Clients on outcome result**"
      ],
      "metadata": {
        "id": "1nwXUDsX7iXj"
      }
    },
    {
      "cell_type": "code",
      "source": [
        "#Count plot is used to count categorical data\n",
        "fig = plt.figure(figsize = (20,10))\n",
        "sns. countplot(x= 'month_lastcontact', hue = \"outcome\", data = df_i).set(title = \"comparission of month of last contact on outcome result\")"
      ],
      "metadata": {
        "colab": {
          "base_uri": "https://localhost:8080/",
          "height": 639
        },
        "id": "H99TenKP7d9O",
        "outputId": "23d199ae-33a9-4473-b6d7-ae3a1b468327"
      },
      "execution_count": null,
      "outputs": [
        {
          "output_type": "execute_result",
          "data": {
            "text/plain": [
              "[Text(0.5, 1.0, 'comparission of month of last contact on outcome result')]"
            ]
          },
          "metadata": {},
          "execution_count": 166
        },
        {
          "output_type": "display_data",
          "data": {
            "text/plain": [
              "<Figure size 1440x720 with 1 Axes>"
            ],
            "image/png": "[encoded data removed]"
          },
          "metadata": {
            "needs_background": "light"
          }
        }
      ]
    },
    {
      "cell_type": "markdown",
      "source": [
        "**Above graph we can observe that**\n",
        "*  **Hiher number of participation happend on may month, also higher number of subscription happened on may month**\n",
        "*  **we can also observe thatin march month the ratio between non suscription to subscripation is zero. So we can take march month as target month, to get higher subscription**"
      ],
      "metadata": {
        "id": "lKoeHQUPAnVr"
      }
    },
    {
      "cell_type": "markdown",
      "source": [
        "##**Comparing Day of last contact with Clients on outcome result**"
      ],
      "metadata": {
        "id": "TlMlSK33JP8L"
      }
    },
    {
      "cell_type": "code",
      "source": [
        "#Count plot is used to count categorical data\n",
        "fig,axes = plt.subplots(nrows =2, ncols = 1, figsize = (20,12))  \n",
        "sns. boxplot(x= 'day_lastcontact',y = \"outcome\", data = df_i, ax = axes[0]).set(title = \"comparission of day of last contact on outcome result\")\n",
        "sns. countplot(x= 'day_lastcontact',hue = \"outcome\", data = df_i, ax = axes[1]).set(title = \"comparission of day of last contact on outcome result\")"
      ],
      "metadata": {
        "colab": {
          "base_uri": "https://localhost:8080/",
          "height": 748
        },
        "id": "5Xk_iMy0B35J",
        "outputId": "a0cddc8c-16f3-486b-a634-b7aa6fa54545"
      },
      "execution_count": null,
      "outputs": [
        {
          "output_type": "execute_result",
          "data": {
            "text/plain": [
              "[Text(0.5, 1.0, 'comparission of day of last contact on outcome result')]"
            ]
          },
          "metadata": {},
          "execution_count": 188
        },
        {
          "output_type": "display_data",
          "data": {
            "text/plain": [
              "<Figure size 1440x864 with 2 Axes>"
            ],
            "image/png": "[encoded data removed]"
          },
          "metadata": {
            "needs_background": "light"
          }
        }
      ]
    },
    {
      "cell_type": "markdown",
      "source": [
        "**Above Graph shows that,**\n",
        "*  **In mid of the month maximum number of last contact happenend, and also majority of sebscription happened in mid of the month**\n",
        "*  **percticulerly on 30th of month higer subscription happened comapred to other day**"
      ],
      "metadata": {
        "id": "AeowywOdEBOF"
      }
    },
    {
      "cell_type": "markdown",
      "source": [
        "##**Comparing Duration contact with Clients on outcome result**"
      ],
      "metadata": {
        "id": "aqGEjbVkKOTx"
      }
    },
    {
      "cell_type": "code",
      "source": [
        "#Boxplot is used to compare numerical with categorical\n",
        "fig,axes = plt.subplots(nrows =2, ncols = 1, figsize = (20,12))  # \n",
        "sns. boxplot(x= 'duration',y = \"outcome\", data = df_i, ax = axes[0]).set(title = \"comparission of duration of contact on outcome result\")#Box plot\n",
        "sns. histplot(x= 'duration',hue = \"outcome\",kde = True, data = df_l,ax = axes[1] ).set(title = \"comparission of duration of contact on outcome result\", xlabel = \"Log of Duration\")#Hist plot"
      ],
      "metadata": {
        "colab": {
          "base_uri": "https://localhost:8080/",
          "height": 765
        },
        "id": "jy-7WYhIKh7V",
        "outputId": "571a3163-67dc-48f8-b477-119e6f8d547b"
      },
      "execution_count": null,
      "outputs": [
        {
          "output_type": "execute_result",
          "data": {
            "text/plain": [
              "[Text(0.5, 0, 'Log of Duration'),\n",
              " Text(0.5, 1.0, 'comparission of duration of contact on outcome result')]"
            ]
          },
          "metadata": {},
          "execution_count": 193
        },
        {
          "output_type": "display_data",
          "data": {
            "text/plain": [
              "<Figure size 1440x864 with 2 Axes>"
            ],
            "image/png": "[encoded data removed]"
          },
          "metadata": {
            "needs_background": "light"
          }
        }
      ]
    },
    {
      "cell_type": "markdown",
      "source": [
        "**Abve Graph shows the effect of contact duration on Subscription**\n",
        "\n",
        "*  **here we can see that as contact duration increases there is high chance of getting subscription**\n",
        "*  **Also lower the contact duration lesser the suscription**\n",
        "*  **Contact duration playds major role in subscription**"
      ],
      "metadata": {
        "id": "Psy9aKz2PKQs"
      }
    },
    {
      "cell_type": "markdown",
      "source": [
        "##**Comparing Previous contact with Clients on outcome result**"
      ],
      "metadata": {
        "id": "5BQGwGHDR7i1"
      }
    },
    {
      "cell_type": "code",
      "source": [
        "#Boxplot is used to compare numerical with categorical\n",
        "fig = plt.figure(figsize = (15,10))\n",
        "sns. boxplot(x= 'campaign',y = \"outcome\", data = df_i).set(title = \"comparission of number of contact during campaign on outcome result\")"
      ],
      "metadata": {
        "colab": {
          "base_uri": "https://localhost:8080/",
          "height": 638
        },
        "id": "40ziF__hSC6H",
        "outputId": "e5c655b0-de0f-4c9e-fd15-6188b2654172"
      },
      "execution_count": null,
      "outputs": [
        {
          "output_type": "execute_result",
          "data": {
            "text/plain": [
              "[Text(0.5, 1.0, 'comparission of number of contact during campaign on outcome result')]"
            ]
          },
          "metadata": {},
          "execution_count": 200
        },
        {
          "output_type": "display_data",
          "data": {
            "text/plain": [
              "<Figure size 1080x720 with 1 Axes>"
            ],
            "image/png": "[encoded data removed]"
          },
          "metadata": {
            "needs_background": "light"
          }
        }
      ]
    },
    {
      "cell_type": "markdown",
      "source": [
        "**Above Graph dhows that**\n",
        "*  **Number of Contact in a campaign should be low as possible**\n",
        "*  **As number of contact increase, client subscription reducess**"
      ],
      "metadata": {
        "id": "-us5h1A9VFsY"
      }
    },
    {
      "cell_type": "markdown",
      "source": [
        "##**Comparing balance of Clients on outcome result**"
      ],
      "metadata": {
        "id": "QssL7MiKaNjz"
      }
    },
    {
      "cell_type": "code",
      "source": [
        "#Boxplot is used to compare numerical with categorical\n",
        "fig = plt.figure(figsize = (15,10))\n",
        "sns. boxplot(x= 'balance',y = \"outcome\", data = df_i).set(title = \"comparission of balance on outcome result\")"
      ],
      "metadata": {
        "colab": {
          "base_uri": "https://localhost:8080/",
          "height": 638
        },
        "id": "0Zc7p0SaZ92p",
        "outputId": "6c65674d-3dca-4977-b0ed-45e4a42af2d5"
      },
      "execution_count": null,
      "outputs": [
        {
          "output_type": "execute_result",
          "data": {
            "text/plain": [
              "[Text(0.5, 1.0, 'comparission of number of contact during campaign on outcome result')]"
            ]
          },
          "metadata": {},
          "execution_count": 215
        },
        {
          "output_type": "display_data",
          "data": {
            "text/plain": [
              "<Figure size 1080x720 with 1 Axes>"
            ],
            "image/png": "[encoded data removed]"
          },
          "metadata": {
            "needs_background": "light"
          }
        }
      ]
    },
    {
      "cell_type": "markdown",
      "source": [
        "**Above graph shows that**\n",
        "*  **clients wih higher bank balance are taking suscription**"
      ],
      "metadata": {
        "id": "4xjE2NBiavAE"
      }
    },
    {
      "cell_type": "markdown",
      "source": [
        "##**Comparing Previous outcome and current outcome result**"
      ],
      "metadata": {
        "id": "XSGIIpJoWCk6"
      }
    },
    {
      "cell_type": "code",
      "source": [
        "#Count plot is used to count categorical data\n",
        "fig,axes = plt.subplots(nrows =1, ncols = 2, figsize = (20,7))  # Comparing Glucose level of diabetic and aged people\n",
        "sns. countplot(x= 'poutcome', data = df_i, ax = axes[0]).set(title = \"Outcome of previous campaign\")\n",
        "sns. countplot(x= 'outcome', data = df_i, ax = axes[1]).set(title = \"present campaign out come\")"
      ],
      "metadata": {
        "colab": {
          "base_uri": "https://localhost:8080/",
          "height": 475
        },
        "id": "ivr_7f9HWPHS",
        "outputId": "d5e05680-fa9d-419e-84c0-9cf58a53bae5"
      },
      "execution_count": null,
      "outputs": [
        {
          "output_type": "execute_result",
          "data": {
            "text/plain": [
              "[Text(0.5, 1.0, 'present campaign out come')]"
            ]
          },
          "metadata": {},
          "execution_count": 210
        },
        {
          "output_type": "display_data",
          "data": {
            "text/plain": [
              "<Figure size 1440x504 with 2 Axes>"
            ],
            "image/png": "[encoded data removed]"
          },
          "metadata": {
            "needs_background": "light"
          }
        }
      ]
    },
    {
      "cell_type": "markdown",
      "source": [
        "**Above Graph shows that,** \n",
        "*  **Comparing with previous camapaign, curent campaign is successful.** \n",
        "*  **Success rate comparatively increased** "
      ],
      "metadata": {
        "id": "f7ynO9auXY-Z"
      }
    },
    {
      "cell_type": "markdown",
      "source": [
        "#**Conclusion**\n",
        "\n",
        "**Following steps can be taken to increase bank subscription**\n",
        "*  **younger aged clients can  target customer, because success rate is more**\n",
        "*  **Students can be targeted in next campaign**\n",
        "*  **single (marital status) of the clients can be targeted in next camapign, because  ratio of non subscription  to subscription rate is low, i.e success rate is high**\n",
        "*   **tertiary educated clients can be targeted in next campaign since  success rate is high**\n",
        "*   **Clients without home loan can be targeted in next campaign**\n",
        "*  **we can concentrate on march camapign month to increase the subscription**\n",
        "*  **Contact duration on cellular will increase the posibility of suscription**\n",
        "*  **Number Contact should be maintained low, to increasesubscription**\n",
        "*  **Clients with higher bank balance can be targeted to get higher subscription**"
      ],
      "metadata": {
        "id": "38Yx88weZVu8"
      }
    },
    {
      "cell_type": "code",
      "source": [
        "df_i.to_csv(\"data_cleaned.csv\", index = False , header = True)"
      ],
      "metadata": {
        "id": "yXITsl2bfY9s"
      },
      "execution_count": null,
      "outputs": []
    },
    {
      "cell_type": "code",
      "source": [
        "df_i.columns"
      ],
      "metadata": {
        "colab": {
          "base_uri": "https://localhost:8080/"
        },
        "id": "544-Lfwkw-Fw",
        "outputId": "b16ca454-54bb-4668-f917-738e1ede397c"
      },
      "execution_count": null,
      "outputs": [
        {
          "output_type": "execute_result",
          "data": {
            "text/plain": [
              "Index(['age', 'job', 'marital', 'education', 'default_credit', 'balance',\n",
              "       'housing_loan', 'personal_loan', 'contact_type', 'day_lastcontact',\n",
              "       'month_lastcontact', 'duration', 'campaign', 'poutcome', 'outcome',\n",
              "       'Age_bin'],\n",
              "      dtype='object')"
            ]
          },
          "metadata": {},
          "execution_count": 220
        }
      ]
    },
    {
      "cell_type": "code",
      "source": [
        "df_i.info()"
      ],
      "metadata": {
        "id": "NhVFeLBsxCMr",
        "outputId": "5ee0b663-efb3-49f9-f3d0-20cb4858d466",
        "colab": {
          "base_uri": "https://localhost:8080/"
        }
      },
      "execution_count": null,
      "outputs": [
        {
          "output_type": "stream",
          "name": "stdout",
          "text": [
            "<class 'pandas.core.frame.DataFrame'>\n",
            "RangeIndex: 49732 entries, 0 to 49731\n",
            "Data columns (total 16 columns):\n",
            " #   Column             Non-Null Count  Dtype   \n",
            "---  ------             --------------  -----   \n",
            " 0   age                49732 non-null  float64 \n",
            " 1   job                49732 non-null  object  \n",
            " 2   marital            49732 non-null  object  \n",
            " 3   education          49732 non-null  object  \n",
            " 4   default_credit     49732 non-null  object  \n",
            " 5   balance            49732 non-null  float64 \n",
            " 6   housing_loan       49732 non-null  object  \n",
            " 7   personal_loan      49732 non-null  object  \n",
            " 8   contact_type       49732 non-null  object  \n",
            " 9   day_lastcontact    49732 non-null  int64   \n",
            " 10  month_lastcontact  49732 non-null  object  \n",
            " 11  duration           49732 non-null  float64 \n",
            " 12  campaign           49732 non-null  float64 \n",
            " 13  poutcome           49732 non-null  object  \n",
            " 14  outcome            49732 non-null  object  \n",
            " 15  Age_bin            49732 non-null  category\n",
            "dtypes: category(1), float64(4), int64(1), object(10)\n",
            "memory usage: 5.7+ MB\n"
          ]
        }
      ]
    }
  ]
}